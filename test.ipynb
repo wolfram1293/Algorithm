{
 "cells": [
  {
   "cell_type": "code",
   "execution_count": 3,
   "metadata": {},
   "outputs": [],
   "source": [
    "import requests\n",
    "import json\n",
    "endpoint = 'https://api.github.com/graphql'\n",
    "token = ''\n",
    "\n",
    "def post(query):\n",
    "    headers = {\"Authorization\": \"bearer \" + token}\n",
    "    res = requests.post(endpoint, json=query, headers=headers)\n",
    "    if res.status_code != 200:\n",
    "      raise Exception(\"failed : {}\".format(res.status_code))\n",
    "    return res.json()"
   ]
  },
  {
   "cell_type": "code",
   "execution_count": 4,
   "metadata": {},
   "outputs": [
    {
     "name": "stdout",
     "output_type": "stream",
     "text": [
      "4\n"
     ]
    }
   ],
   "source": [
    "# query\n",
    "query0 = {\n",
    "  'query' : \"\"\"\n",
    "    query {\n",
    "      search(query: \"language:python stars:>=1000 sort:stars\", type: REPOSITORY, first: 10) {\n",
    "        edges {\n",
    "          node {\n",
    "            ... on Repository {\n",
    "              nameWithOwner\n",
    "              url\n",
    "              createdAt\n",
    "              description\n",
    "              stargazers{\n",
    "                totalCount\n",
    "              }\n",
    "            }\n",
    "          }\n",
    "        }\n",
    "      }\n",
    "    }\n",
    "  \"\"\"\n",
    "}\n",
    "\n",
    "query = {\n",
    "  'query' : \"\"\"\n",
    "    query userInfo($username: String!) {\n",
    "      user(login: $username) {\n",
    "        createdAt\n",
    "        contributionsCollection {\n",
    "          totalCommitContributions\n",
    "          restrictedContributionsCount\n",
    "        }\n",
    "        organizations(first: 1) {\n",
    "          totalCount\n",
    "        }\n",
    "        followers(first: 1) {\n",
    "          totalCount\n",
    "        }\n",
    "      }\n",
    "    }\n",
    "  \"\"\", \n",
    "  'variables' : {'username' : 'wolfram1293'}\n",
    "}\n",
    "\n",
    "# post\n",
    "res = post(query)\n",
    "#print('{}'.format(json.dumps(res)))\n",
    "print(res['data']['user']['organizations']['totalCount'])"
   ]
  },
  {
   "cell_type": "code",
   "execution_count": null,
   "metadata": {},
   "outputs": [],
   "source": []
  }
 ],
 "metadata": {
  "kernelspec": {
   "display_name": "Python 3.9.6 64-bit",
   "language": "python",
   "name": "python3"
  },
  "language_info": {
   "codemirror_mode": {
    "name": "ipython",
    "version": 3
   },
   "file_extension": ".py",
   "mimetype": "text/x-python",
   "name": "python",
   "nbconvert_exporter": "python",
   "pygments_lexer": "ipython3",
   "version": "3.9.6"
  },
  "orig_nbformat": 4,
  "vscode": {
   "interpreter": {
    "hash": "c25d132bfeda13c792bd644cbdde41cb6ec68286705ba4c27ace6b2206316a98"
   }
  }
 },
 "nbformat": 4,
 "nbformat_minor": 2
}
