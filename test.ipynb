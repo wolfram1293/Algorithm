{
 "cells": [
  {
   "cell_type": "code",
   "execution_count": 2,
   "metadata": {},
   "outputs": [
    {
     "name": "stdout",
     "output_type": "stream",
     "text": [
      "[[6, 7], [2, 3], [1, 3], [2, 4], [0, 2], [3, 7], [1, 5]]\n"
     ]
    }
   ],
   "source": [
    "# 全域⽊（spanning tree）グラフにおいて，すべての頂点がつながっている⽊（閉路を持たない連結グラフ）\n",
    "# 最⼩全域⽊（minimum spanning tree）全域⽊の中で辺の距離（コスト）の総和が最⼩になるもの\n",
    "\n",
    "# 各ノードからの行き先、距離\n",
    "edges = [[[1, 5], [2, 4]], #ノードA0\n",
    "[[0, 5], [3, 3], [5, 9]], #ノードB1\n",
    "[[0, 4], [3, 2], [4, 3]], #ノードC2\n",
    "[[1, 3], [2, 2], [6, 7], [7, 5]], #ノードD3\n",
    "[[2, 3], [6, 8]], #ノードE4\n",
    "[[1, 9]], #ノードF5\n",
    "[[3, 7], [4, 8], [7, 1]], #ノードG6\n",
    "[[3, 5], [6, 1]]] #ノードH7\n",
    "\n",
    "N=len(edges)\n",
    "edges2 = [] # from,to,distance\n",
    "for i in range(len(edges)):\n",
    "    for node in edges[i]:\n",
    "        edges2.append([i,node[0],node[1]])\n",
    "\n",
    "# 辺ベースのアプローチ：クラスカル法\n",
    "# 存在する辺を距離の短い順に並べて順に⼊れていき，閉路が出来ないことが確認できた場合は追加し，全部の辺をチェックしたら終了．\n",
    "# 隣接リストの場合，辺の数をEとして，辺のソートにE log Eかかる\n",
    "# 各辺を⼊れるかどうかの判断はUnion-Find⽊を使うとα(V)となり，これをE回やるので，E α(V)\n",
    "# よって，アルゴリズム全体ではO(E log E)\n",
    "\n",
    "class UnionFind: #UF木の実装\n",
    "    def __init__(self, n):\n",
    "        self.parent = [i for i in range(n)]\n",
    "        self.height = [0 for i in range(n)] # 各⽊の⾼さ\n",
    "\n",
    "    def get_root(self, i):\n",
    "        if self.parent[i] == i: # ⾃分が根ノードの場合\n",
    "            return i\n",
    "        else: # 経路圧縮しながら根ノードを探す\n",
    "            self.parent[i] = self.get_root(self.parent[i])\n",
    "            return self.parent[i]\n",
    "    \n",
    "    def unite(self, i, j):\n",
    "        ri = self.get_root(i)\n",
    "        rj = self.get_root(j)\n",
    "        if ri != rj: # より⾼い⽅にマージ\n",
    "            if self.height[ri] < self.height[rj]:\n",
    "                self.parent[ri] = rj\n",
    "            else:\n",
    "                self.parent[rj] = ri\n",
    "                if self.height[ri] == self.height[rj]:\n",
    "                    self.height[ri] += 1\n",
    "    \n",
    "    def is_in_group(self, i, j):\n",
    "        if self.get_root(i) == self.get_root(j):\n",
    "            return True\n",
    "        else:\n",
    "            return False\n",
    "\n",
    "def Kruskal(V, edges): #クラスカル法の実装\n",
    "    e_sorted = [] # 距離で整列された辺\n",
    "    for e in edges:\n",
    "        e_sorted.append([e[2], e[0], e[1]]) # ソートのために先頭の要素を距離にする\n",
    "    e_sorted.sort()\n",
    "    uf_tree = UnionFind(V) # Union-Find⽊を使う\n",
    "    mst = [] # 最⼩全域⽊の辺を保持するリスト\n",
    "    min_d = 0\n",
    "    for e in e_sorted:\n",
    "        if uf_tree.is_in_group(e[1], e[2]) == False:\n",
    "            uf_tree.unite(e[1], e[2]) # e[1]，e[2]を同じグループにする\n",
    "            mst.append([e[1], e[2]]) # 最⼩全域⽊に追加\n",
    "            min_d += e[0]\n",
    "\n",
    "    #print(min_d)\n",
    "    print(mst)\n",
    "    \n",
    "Kruskal(N, edges2)"
   ]
  },
  {
   "cell_type": "code",
   "execution_count": 3,
   "metadata": {},
   "outputs": [
    {
     "name": "stdout",
     "output_type": "stream",
     "text": [
      "[[0, 2], [2, 3], [2, 4], [3, 1], [3, 7], [7, 6], [1, 5]]\n"
     ]
    }
   ],
   "source": [
    "# ノードベースのアプローチ：プリム法\n",
    "# すでに到達した頂点の集合からまだ到達していない頂点の集合への辺のうち，距離が最短のものを追加し，全ノードつながったら終了\n",
    "# この実装では，ヒープに⼊る要素の数は辺の総数になるので，E．よって，追加，削除にかかる計算量はlog E．\n",
    "# ヒープへの追加も取り出しもE回あるので，全体ではO(E log E)となる\n",
    "import heapq\n",
    "\n",
    "def Prim(V, edges): #プリム法の実装\n",
    "    edges2 = [[] for i in range(V)] # ノードiからのすべての辺を格納\n",
    "    for e in edges:\n",
    "        edges2[e[0]].append([e[2], e[0], e[1]]) # ヒープでソートされるために距離を最初の要素にする\n",
    "    heap = [] # ヒープ\n",
    "    mst = [] # 最⼩全域⽊の辺を保持するリスト\n",
    "    done = [False]*V # ノードが最⼩全域⽊に⼊ったかどうかのフラグ\n",
    "    start=0\n",
    "    done[start] = True # ノードを1つ選ぶ．何でも良いがこの実装ではノード0を選ぶことにする\n",
    "    for i in range(len(edges2[start])): # ノード0に接続する辺を全てヒープに⼊れる\n",
    "        heapq.heappush(heap,edges2[start][i])\n",
    "    min_d = 0\n",
    "    while heap:\n",
    "        e = heapq.heappop(heap) # 距離が最短のものを取り出す\n",
    "        if done[e[2]] == False: # その辺の到達先（ノードj）が未訪問なら追加\n",
    "            done[e[2]] = True\n",
    "            mst.append([e[1], e[2]])\n",
    "            for i in range(len(edges2[e[2]])): #ノードjから伸びる辺をe_heapqに⼊れる\n",
    "                heapq.heappush(heap,edges2[e[2]][i])\n",
    "            min_d += e[0]\n",
    "\n",
    "    #print(min_d)\n",
    "    print(mst)\n",
    "\n",
    "Prim(N,edges2)"
   ]
  },
  {
   "cell_type": "code",
   "execution_count": 4,
   "metadata": {},
   "outputs": [
    {
     "ename": "KeyboardInterrupt",
     "evalue": "",
     "output_type": "error",
     "traceback": [
      "\u001b[1;31m---------------------------------------------------------------------------\u001b[0m",
      "\u001b[1;31mKeyboardInterrupt\u001b[0m                         Traceback (most recent call last)",
      "\u001b[1;32m<ipython-input-4-4736e0d69820>\u001b[0m in \u001b[0;36m<module>\u001b[1;34m\u001b[0m\n\u001b[0;32m      4\u001b[0m     \u001b[1;32melse\u001b[0m\u001b[1;33m:\u001b[0m \u001b[1;32mreturn\u001b[0m \u001b[0mFibonacci\u001b[0m\u001b[1;33m(\u001b[0m\u001b[0mn\u001b[0m\u001b[1;33m-\u001b[0m\u001b[1;36m1\u001b[0m\u001b[1;33m)\u001b[0m \u001b[1;33m+\u001b[0m \u001b[0mFibonacci\u001b[0m\u001b[1;33m(\u001b[0m\u001b[0mn\u001b[0m\u001b[1;33m-\u001b[0m\u001b[1;36m2\u001b[0m\u001b[1;33m)\u001b[0m\u001b[1;33m\u001b[0m\u001b[1;33m\u001b[0m\u001b[0m\n\u001b[0;32m      5\u001b[0m \u001b[1;33m\u001b[0m\u001b[0m\n\u001b[1;32m----> 6\u001b[1;33m \u001b[0mFibonacci\u001b[0m\u001b[1;33m(\u001b[0m\u001b[1;36m40\u001b[0m\u001b[1;33m)\u001b[0m\u001b[1;33m\u001b[0m\u001b[1;33m\u001b[0m\u001b[0m\n\u001b[0m",
      "\u001b[1;32m<ipython-input-4-4736e0d69820>\u001b[0m in \u001b[0;36mFibonacci\u001b[1;34m(n)\u001b[0m\n\u001b[0;32m      2\u001b[0m     \u001b[1;32mif\u001b[0m \u001b[0mn\u001b[0m \u001b[1;33m==\u001b[0m \u001b[1;36m0\u001b[0m\u001b[1;33m:\u001b[0m \u001b[1;32mreturn\u001b[0m \u001b[1;36m0\u001b[0m\u001b[1;33m\u001b[0m\u001b[1;33m\u001b[0m\u001b[0m\n\u001b[0;32m      3\u001b[0m     \u001b[1;32melif\u001b[0m \u001b[0mn\u001b[0m \u001b[1;33m==\u001b[0m \u001b[1;36m1\u001b[0m\u001b[1;33m:\u001b[0m \u001b[1;32mreturn\u001b[0m \u001b[1;36m1\u001b[0m\u001b[1;33m\u001b[0m\u001b[1;33m\u001b[0m\u001b[0m\n\u001b[1;32m----> 4\u001b[1;33m     \u001b[1;32melse\u001b[0m\u001b[1;33m:\u001b[0m \u001b[1;32mreturn\u001b[0m \u001b[0mFibonacci\u001b[0m\u001b[1;33m(\u001b[0m\u001b[0mn\u001b[0m\u001b[1;33m-\u001b[0m\u001b[1;36m1\u001b[0m\u001b[1;33m)\u001b[0m \u001b[1;33m+\u001b[0m \u001b[0mFibonacci\u001b[0m\u001b[1;33m(\u001b[0m\u001b[0mn\u001b[0m\u001b[1;33m-\u001b[0m\u001b[1;36m2\u001b[0m\u001b[1;33m)\u001b[0m\u001b[1;33m\u001b[0m\u001b[1;33m\u001b[0m\u001b[0m\n\u001b[0m\u001b[0;32m      5\u001b[0m \u001b[1;33m\u001b[0m\u001b[0m\n\u001b[0;32m      6\u001b[0m \u001b[0mFibonacci\u001b[0m\u001b[1;33m(\u001b[0m\u001b[1;36m40\u001b[0m\u001b[1;33m)\u001b[0m\u001b[1;33m\u001b[0m\u001b[1;33m\u001b[0m\u001b[0m\n",
      "\u001b[1;32m<ipython-input-4-4736e0d69820>\u001b[0m in \u001b[0;36mFibonacci\u001b[1;34m(n)\u001b[0m\n\u001b[0;32m      2\u001b[0m     \u001b[1;32mif\u001b[0m \u001b[0mn\u001b[0m \u001b[1;33m==\u001b[0m \u001b[1;36m0\u001b[0m\u001b[1;33m:\u001b[0m \u001b[1;32mreturn\u001b[0m \u001b[1;36m0\u001b[0m\u001b[1;33m\u001b[0m\u001b[1;33m\u001b[0m\u001b[0m\n\u001b[0;32m      3\u001b[0m     \u001b[1;32melif\u001b[0m \u001b[0mn\u001b[0m \u001b[1;33m==\u001b[0m \u001b[1;36m1\u001b[0m\u001b[1;33m:\u001b[0m \u001b[1;32mreturn\u001b[0m \u001b[1;36m1\u001b[0m\u001b[1;33m\u001b[0m\u001b[1;33m\u001b[0m\u001b[0m\n\u001b[1;32m----> 4\u001b[1;33m     \u001b[1;32melse\u001b[0m\u001b[1;33m:\u001b[0m \u001b[1;32mreturn\u001b[0m \u001b[0mFibonacci\u001b[0m\u001b[1;33m(\u001b[0m\u001b[0mn\u001b[0m\u001b[1;33m-\u001b[0m\u001b[1;36m1\u001b[0m\u001b[1;33m)\u001b[0m \u001b[1;33m+\u001b[0m \u001b[0mFibonacci\u001b[0m\u001b[1;33m(\u001b[0m\u001b[0mn\u001b[0m\u001b[1;33m-\u001b[0m\u001b[1;36m2\u001b[0m\u001b[1;33m)\u001b[0m\u001b[1;33m\u001b[0m\u001b[1;33m\u001b[0m\u001b[0m\n\u001b[0m\u001b[0;32m      5\u001b[0m \u001b[1;33m\u001b[0m\u001b[0m\n\u001b[0;32m      6\u001b[0m \u001b[0mFibonacci\u001b[0m\u001b[1;33m(\u001b[0m\u001b[1;36m40\u001b[0m\u001b[1;33m)\u001b[0m\u001b[1;33m\u001b[0m\u001b[1;33m\u001b[0m\u001b[0m\n",
      "\u001b[1;32m<ipython-input-4-4736e0d69820>\u001b[0m in \u001b[0;36mFibonacci\u001b[1;34m(n)\u001b[0m\n\u001b[0;32m      2\u001b[0m     \u001b[1;32mif\u001b[0m \u001b[0mn\u001b[0m \u001b[1;33m==\u001b[0m \u001b[1;36m0\u001b[0m\u001b[1;33m:\u001b[0m \u001b[1;32mreturn\u001b[0m \u001b[1;36m0\u001b[0m\u001b[1;33m\u001b[0m\u001b[1;33m\u001b[0m\u001b[0m\n\u001b[0;32m      3\u001b[0m     \u001b[1;32melif\u001b[0m \u001b[0mn\u001b[0m \u001b[1;33m==\u001b[0m \u001b[1;36m1\u001b[0m\u001b[1;33m:\u001b[0m \u001b[1;32mreturn\u001b[0m \u001b[1;36m1\u001b[0m\u001b[1;33m\u001b[0m\u001b[1;33m\u001b[0m\u001b[0m\n\u001b[1;32m----> 4\u001b[1;33m     \u001b[1;32melse\u001b[0m\u001b[1;33m:\u001b[0m \u001b[1;32mreturn\u001b[0m \u001b[0mFibonacci\u001b[0m\u001b[1;33m(\u001b[0m\u001b[0mn\u001b[0m\u001b[1;33m-\u001b[0m\u001b[1;36m1\u001b[0m\u001b[1;33m)\u001b[0m \u001b[1;33m+\u001b[0m \u001b[0mFibonacci\u001b[0m\u001b[1;33m(\u001b[0m\u001b[0mn\u001b[0m\u001b[1;33m-\u001b[0m\u001b[1;36m2\u001b[0m\u001b[1;33m)\u001b[0m\u001b[1;33m\u001b[0m\u001b[1;33m\u001b[0m\u001b[0m\n\u001b[0m\u001b[0;32m      5\u001b[0m \u001b[1;33m\u001b[0m\u001b[0m\n\u001b[0;32m      6\u001b[0m \u001b[0mFibonacci\u001b[0m\u001b[1;33m(\u001b[0m\u001b[1;36m40\u001b[0m\u001b[1;33m)\u001b[0m\u001b[1;33m\u001b[0m\u001b[1;33m\u001b[0m\u001b[0m\n",
      "\u001b[1;32m<ipython-input-4-4736e0d69820>\u001b[0m in \u001b[0;36mFibonacci\u001b[1;34m(n)\u001b[0m\n\u001b[0;32m      2\u001b[0m     \u001b[1;32mif\u001b[0m \u001b[0mn\u001b[0m \u001b[1;33m==\u001b[0m \u001b[1;36m0\u001b[0m\u001b[1;33m:\u001b[0m \u001b[1;32mreturn\u001b[0m \u001b[1;36m0\u001b[0m\u001b[1;33m\u001b[0m\u001b[1;33m\u001b[0m\u001b[0m\n\u001b[0;32m      3\u001b[0m     \u001b[1;32melif\u001b[0m \u001b[0mn\u001b[0m \u001b[1;33m==\u001b[0m \u001b[1;36m1\u001b[0m\u001b[1;33m:\u001b[0m \u001b[1;32mreturn\u001b[0m \u001b[1;36m1\u001b[0m\u001b[1;33m\u001b[0m\u001b[1;33m\u001b[0m\u001b[0m\n\u001b[1;32m----> 4\u001b[1;33m     \u001b[1;32melse\u001b[0m\u001b[1;33m:\u001b[0m \u001b[1;32mreturn\u001b[0m \u001b[0mFibonacci\u001b[0m\u001b[1;33m(\u001b[0m\u001b[0mn\u001b[0m\u001b[1;33m-\u001b[0m\u001b[1;36m1\u001b[0m\u001b[1;33m)\u001b[0m \u001b[1;33m+\u001b[0m \u001b[0mFibonacci\u001b[0m\u001b[1;33m(\u001b[0m\u001b[0mn\u001b[0m\u001b[1;33m-\u001b[0m\u001b[1;36m2\u001b[0m\u001b[1;33m)\u001b[0m\u001b[1;33m\u001b[0m\u001b[1;33m\u001b[0m\u001b[0m\n\u001b[0m\u001b[0;32m      5\u001b[0m \u001b[1;33m\u001b[0m\u001b[0m\n\u001b[0;32m      6\u001b[0m \u001b[0mFibonacci\u001b[0m\u001b[1;33m(\u001b[0m\u001b[1;36m40\u001b[0m\u001b[1;33m)\u001b[0m\u001b[1;33m\u001b[0m\u001b[1;33m\u001b[0m\u001b[0m\n",
      "\u001b[1;32m<ipython-input-4-4736e0d69820>\u001b[0m in \u001b[0;36mFibonacci\u001b[1;34m(n)\u001b[0m\n\u001b[0;32m      2\u001b[0m     \u001b[1;32mif\u001b[0m \u001b[0mn\u001b[0m \u001b[1;33m==\u001b[0m \u001b[1;36m0\u001b[0m\u001b[1;33m:\u001b[0m \u001b[1;32mreturn\u001b[0m \u001b[1;36m0\u001b[0m\u001b[1;33m\u001b[0m\u001b[1;33m\u001b[0m\u001b[0m\n\u001b[0;32m      3\u001b[0m     \u001b[1;32melif\u001b[0m \u001b[0mn\u001b[0m \u001b[1;33m==\u001b[0m \u001b[1;36m1\u001b[0m\u001b[1;33m:\u001b[0m \u001b[1;32mreturn\u001b[0m \u001b[1;36m1\u001b[0m\u001b[1;33m\u001b[0m\u001b[1;33m\u001b[0m\u001b[0m\n\u001b[1;32m----> 4\u001b[1;33m     \u001b[1;32melse\u001b[0m\u001b[1;33m:\u001b[0m \u001b[1;32mreturn\u001b[0m \u001b[0mFibonacci\u001b[0m\u001b[1;33m(\u001b[0m\u001b[0mn\u001b[0m\u001b[1;33m-\u001b[0m\u001b[1;36m1\u001b[0m\u001b[1;33m)\u001b[0m \u001b[1;33m+\u001b[0m \u001b[0mFibonacci\u001b[0m\u001b[1;33m(\u001b[0m\u001b[0mn\u001b[0m\u001b[1;33m-\u001b[0m\u001b[1;36m2\u001b[0m\u001b[1;33m)\u001b[0m\u001b[1;33m\u001b[0m\u001b[1;33m\u001b[0m\u001b[0m\n\u001b[0m\u001b[0;32m      5\u001b[0m \u001b[1;33m\u001b[0m\u001b[0m\n\u001b[0;32m      6\u001b[0m \u001b[0mFibonacci\u001b[0m\u001b[1;33m(\u001b[0m\u001b[1;36m40\u001b[0m\u001b[1;33m)\u001b[0m\u001b[1;33m\u001b[0m\u001b[1;33m\u001b[0m\u001b[0m\n",
      "\u001b[1;32m<ipython-input-4-4736e0d69820>\u001b[0m in \u001b[0;36mFibonacci\u001b[1;34m(n)\u001b[0m\n\u001b[0;32m      2\u001b[0m     \u001b[1;32mif\u001b[0m \u001b[0mn\u001b[0m \u001b[1;33m==\u001b[0m \u001b[1;36m0\u001b[0m\u001b[1;33m:\u001b[0m \u001b[1;32mreturn\u001b[0m \u001b[1;36m0\u001b[0m\u001b[1;33m\u001b[0m\u001b[1;33m\u001b[0m\u001b[0m\n\u001b[0;32m      3\u001b[0m     \u001b[1;32melif\u001b[0m \u001b[0mn\u001b[0m \u001b[1;33m==\u001b[0m \u001b[1;36m1\u001b[0m\u001b[1;33m:\u001b[0m \u001b[1;32mreturn\u001b[0m \u001b[1;36m1\u001b[0m\u001b[1;33m\u001b[0m\u001b[1;33m\u001b[0m\u001b[0m\n\u001b[1;32m----> 4\u001b[1;33m     \u001b[1;32melse\u001b[0m\u001b[1;33m:\u001b[0m \u001b[1;32mreturn\u001b[0m \u001b[0mFibonacci\u001b[0m\u001b[1;33m(\u001b[0m\u001b[0mn\u001b[0m\u001b[1;33m-\u001b[0m\u001b[1;36m1\u001b[0m\u001b[1;33m)\u001b[0m \u001b[1;33m+\u001b[0m \u001b[0mFibonacci\u001b[0m\u001b[1;33m(\u001b[0m\u001b[0mn\u001b[0m\u001b[1;33m-\u001b[0m\u001b[1;36m2\u001b[0m\u001b[1;33m)\u001b[0m\u001b[1;33m\u001b[0m\u001b[1;33m\u001b[0m\u001b[0m\n\u001b[0m\u001b[0;32m      5\u001b[0m \u001b[1;33m\u001b[0m\u001b[0m\n\u001b[0;32m      6\u001b[0m \u001b[0mFibonacci\u001b[0m\u001b[1;33m(\u001b[0m\u001b[1;36m40\u001b[0m\u001b[1;33m)\u001b[0m\u001b[1;33m\u001b[0m\u001b[1;33m\u001b[0m\u001b[0m\n",
      "\u001b[1;32m<ipython-input-4-4736e0d69820>\u001b[0m in \u001b[0;36mFibonacci\u001b[1;34m(n)\u001b[0m\n\u001b[0;32m      2\u001b[0m     \u001b[1;32mif\u001b[0m \u001b[0mn\u001b[0m \u001b[1;33m==\u001b[0m \u001b[1;36m0\u001b[0m\u001b[1;33m:\u001b[0m \u001b[1;32mreturn\u001b[0m \u001b[1;36m0\u001b[0m\u001b[1;33m\u001b[0m\u001b[1;33m\u001b[0m\u001b[0m\n\u001b[0;32m      3\u001b[0m     \u001b[1;32melif\u001b[0m \u001b[0mn\u001b[0m \u001b[1;33m==\u001b[0m \u001b[1;36m1\u001b[0m\u001b[1;33m:\u001b[0m \u001b[1;32mreturn\u001b[0m \u001b[1;36m1\u001b[0m\u001b[1;33m\u001b[0m\u001b[1;33m\u001b[0m\u001b[0m\n\u001b[1;32m----> 4\u001b[1;33m     \u001b[1;32melse\u001b[0m\u001b[1;33m:\u001b[0m \u001b[1;32mreturn\u001b[0m \u001b[0mFibonacci\u001b[0m\u001b[1;33m(\u001b[0m\u001b[0mn\u001b[0m\u001b[1;33m-\u001b[0m\u001b[1;36m1\u001b[0m\u001b[1;33m)\u001b[0m \u001b[1;33m+\u001b[0m \u001b[0mFibonacci\u001b[0m\u001b[1;33m(\u001b[0m\u001b[0mn\u001b[0m\u001b[1;33m-\u001b[0m\u001b[1;36m2\u001b[0m\u001b[1;33m)\u001b[0m\u001b[1;33m\u001b[0m\u001b[1;33m\u001b[0m\u001b[0m\n\u001b[0m\u001b[0;32m      5\u001b[0m \u001b[1;33m\u001b[0m\u001b[0m\n\u001b[0;32m      6\u001b[0m \u001b[0mFibonacci\u001b[0m\u001b[1;33m(\u001b[0m\u001b[1;36m40\u001b[0m\u001b[1;33m)\u001b[0m\u001b[1;33m\u001b[0m\u001b[1;33m\u001b[0m\u001b[0m\n",
      "\u001b[1;32m<ipython-input-4-4736e0d69820>\u001b[0m in \u001b[0;36mFibonacci\u001b[1;34m(n)\u001b[0m\n\u001b[0;32m      2\u001b[0m     \u001b[1;32mif\u001b[0m \u001b[0mn\u001b[0m \u001b[1;33m==\u001b[0m \u001b[1;36m0\u001b[0m\u001b[1;33m:\u001b[0m \u001b[1;32mreturn\u001b[0m \u001b[1;36m0\u001b[0m\u001b[1;33m\u001b[0m\u001b[1;33m\u001b[0m\u001b[0m\n\u001b[0;32m      3\u001b[0m     \u001b[1;32melif\u001b[0m \u001b[0mn\u001b[0m \u001b[1;33m==\u001b[0m \u001b[1;36m1\u001b[0m\u001b[1;33m:\u001b[0m \u001b[1;32mreturn\u001b[0m \u001b[1;36m1\u001b[0m\u001b[1;33m\u001b[0m\u001b[1;33m\u001b[0m\u001b[0m\n\u001b[1;32m----> 4\u001b[1;33m     \u001b[1;32melse\u001b[0m\u001b[1;33m:\u001b[0m \u001b[1;32mreturn\u001b[0m \u001b[0mFibonacci\u001b[0m\u001b[1;33m(\u001b[0m\u001b[0mn\u001b[0m\u001b[1;33m-\u001b[0m\u001b[1;36m1\u001b[0m\u001b[1;33m)\u001b[0m \u001b[1;33m+\u001b[0m \u001b[0mFibonacci\u001b[0m\u001b[1;33m(\u001b[0m\u001b[0mn\u001b[0m\u001b[1;33m-\u001b[0m\u001b[1;36m2\u001b[0m\u001b[1;33m)\u001b[0m\u001b[1;33m\u001b[0m\u001b[1;33m\u001b[0m\u001b[0m\n\u001b[0m\u001b[0;32m      5\u001b[0m \u001b[1;33m\u001b[0m\u001b[0m\n\u001b[0;32m      6\u001b[0m \u001b[0mFibonacci\u001b[0m\u001b[1;33m(\u001b[0m\u001b[1;36m40\u001b[0m\u001b[1;33m)\u001b[0m\u001b[1;33m\u001b[0m\u001b[1;33m\u001b[0m\u001b[0m\n",
      "\u001b[1;32m<ipython-input-4-4736e0d69820>\u001b[0m in \u001b[0;36mFibonacci\u001b[1;34m(n)\u001b[0m\n\u001b[0;32m      2\u001b[0m     \u001b[1;32mif\u001b[0m \u001b[0mn\u001b[0m \u001b[1;33m==\u001b[0m \u001b[1;36m0\u001b[0m\u001b[1;33m:\u001b[0m \u001b[1;32mreturn\u001b[0m \u001b[1;36m0\u001b[0m\u001b[1;33m\u001b[0m\u001b[1;33m\u001b[0m\u001b[0m\n\u001b[0;32m      3\u001b[0m     \u001b[1;32melif\u001b[0m \u001b[0mn\u001b[0m \u001b[1;33m==\u001b[0m \u001b[1;36m1\u001b[0m\u001b[1;33m:\u001b[0m \u001b[1;32mreturn\u001b[0m \u001b[1;36m1\u001b[0m\u001b[1;33m\u001b[0m\u001b[1;33m\u001b[0m\u001b[0m\n\u001b[1;32m----> 4\u001b[1;33m     \u001b[1;32melse\u001b[0m\u001b[1;33m:\u001b[0m \u001b[1;32mreturn\u001b[0m \u001b[0mFibonacci\u001b[0m\u001b[1;33m(\u001b[0m\u001b[0mn\u001b[0m\u001b[1;33m-\u001b[0m\u001b[1;36m1\u001b[0m\u001b[1;33m)\u001b[0m \u001b[1;33m+\u001b[0m \u001b[0mFibonacci\u001b[0m\u001b[1;33m(\u001b[0m\u001b[0mn\u001b[0m\u001b[1;33m-\u001b[0m\u001b[1;36m2\u001b[0m\u001b[1;33m)\u001b[0m\u001b[1;33m\u001b[0m\u001b[1;33m\u001b[0m\u001b[0m\n\u001b[0m\u001b[0;32m      5\u001b[0m \u001b[1;33m\u001b[0m\u001b[0m\n\u001b[0;32m      6\u001b[0m \u001b[0mFibonacci\u001b[0m\u001b[1;33m(\u001b[0m\u001b[1;36m40\u001b[0m\u001b[1;33m)\u001b[0m\u001b[1;33m\u001b[0m\u001b[1;33m\u001b[0m\u001b[0m\n",
      "\u001b[1;32m<ipython-input-4-4736e0d69820>\u001b[0m in \u001b[0;36mFibonacci\u001b[1;34m(n)\u001b[0m\n\u001b[0;32m      2\u001b[0m     \u001b[1;32mif\u001b[0m \u001b[0mn\u001b[0m \u001b[1;33m==\u001b[0m \u001b[1;36m0\u001b[0m\u001b[1;33m:\u001b[0m \u001b[1;32mreturn\u001b[0m \u001b[1;36m0\u001b[0m\u001b[1;33m\u001b[0m\u001b[1;33m\u001b[0m\u001b[0m\n\u001b[0;32m      3\u001b[0m     \u001b[1;32melif\u001b[0m \u001b[0mn\u001b[0m \u001b[1;33m==\u001b[0m \u001b[1;36m1\u001b[0m\u001b[1;33m:\u001b[0m \u001b[1;32mreturn\u001b[0m \u001b[1;36m1\u001b[0m\u001b[1;33m\u001b[0m\u001b[1;33m\u001b[0m\u001b[0m\n\u001b[1;32m----> 4\u001b[1;33m     \u001b[1;32melse\u001b[0m\u001b[1;33m:\u001b[0m \u001b[1;32mreturn\u001b[0m \u001b[0mFibonacci\u001b[0m\u001b[1;33m(\u001b[0m\u001b[0mn\u001b[0m\u001b[1;33m-\u001b[0m\u001b[1;36m1\u001b[0m\u001b[1;33m)\u001b[0m \u001b[1;33m+\u001b[0m \u001b[0mFibonacci\u001b[0m\u001b[1;33m(\u001b[0m\u001b[0mn\u001b[0m\u001b[1;33m-\u001b[0m\u001b[1;36m2\u001b[0m\u001b[1;33m)\u001b[0m\u001b[1;33m\u001b[0m\u001b[1;33m\u001b[0m\u001b[0m\n\u001b[0m\u001b[0;32m      5\u001b[0m \u001b[1;33m\u001b[0m\u001b[0m\n\u001b[0;32m      6\u001b[0m \u001b[0mFibonacci\u001b[0m\u001b[1;33m(\u001b[0m\u001b[1;36m40\u001b[0m\u001b[1;33m)\u001b[0m\u001b[1;33m\u001b[0m\u001b[1;33m\u001b[0m\u001b[0m\n",
      "\u001b[1;32m<ipython-input-4-4736e0d69820>\u001b[0m in \u001b[0;36mFibonacci\u001b[1;34m(n)\u001b[0m\n\u001b[0;32m      2\u001b[0m     \u001b[1;32mif\u001b[0m \u001b[0mn\u001b[0m \u001b[1;33m==\u001b[0m \u001b[1;36m0\u001b[0m\u001b[1;33m:\u001b[0m \u001b[1;32mreturn\u001b[0m \u001b[1;36m0\u001b[0m\u001b[1;33m\u001b[0m\u001b[1;33m\u001b[0m\u001b[0m\n\u001b[0;32m      3\u001b[0m     \u001b[1;32melif\u001b[0m \u001b[0mn\u001b[0m \u001b[1;33m==\u001b[0m \u001b[1;36m1\u001b[0m\u001b[1;33m:\u001b[0m \u001b[1;32mreturn\u001b[0m \u001b[1;36m1\u001b[0m\u001b[1;33m\u001b[0m\u001b[1;33m\u001b[0m\u001b[0m\n\u001b[1;32m----> 4\u001b[1;33m     \u001b[1;32melse\u001b[0m\u001b[1;33m:\u001b[0m \u001b[1;32mreturn\u001b[0m \u001b[0mFibonacci\u001b[0m\u001b[1;33m(\u001b[0m\u001b[0mn\u001b[0m\u001b[1;33m-\u001b[0m\u001b[1;36m1\u001b[0m\u001b[1;33m)\u001b[0m \u001b[1;33m+\u001b[0m \u001b[0mFibonacci\u001b[0m\u001b[1;33m(\u001b[0m\u001b[0mn\u001b[0m\u001b[1;33m-\u001b[0m\u001b[1;36m2\u001b[0m\u001b[1;33m)\u001b[0m\u001b[1;33m\u001b[0m\u001b[1;33m\u001b[0m\u001b[0m\n\u001b[0m\u001b[0;32m      5\u001b[0m \u001b[1;33m\u001b[0m\u001b[0m\n\u001b[0;32m      6\u001b[0m \u001b[0mFibonacci\u001b[0m\u001b[1;33m(\u001b[0m\u001b[1;36m40\u001b[0m\u001b[1;33m)\u001b[0m\u001b[1;33m\u001b[0m\u001b[1;33m\u001b[0m\u001b[0m\n",
      "\u001b[1;32m<ipython-input-4-4736e0d69820>\u001b[0m in \u001b[0;36mFibonacci\u001b[1;34m(n)\u001b[0m\n\u001b[0;32m      2\u001b[0m     \u001b[1;32mif\u001b[0m \u001b[0mn\u001b[0m \u001b[1;33m==\u001b[0m \u001b[1;36m0\u001b[0m\u001b[1;33m:\u001b[0m \u001b[1;32mreturn\u001b[0m \u001b[1;36m0\u001b[0m\u001b[1;33m\u001b[0m\u001b[1;33m\u001b[0m\u001b[0m\n\u001b[0;32m      3\u001b[0m     \u001b[1;32melif\u001b[0m \u001b[0mn\u001b[0m \u001b[1;33m==\u001b[0m \u001b[1;36m1\u001b[0m\u001b[1;33m:\u001b[0m \u001b[1;32mreturn\u001b[0m \u001b[1;36m1\u001b[0m\u001b[1;33m\u001b[0m\u001b[1;33m\u001b[0m\u001b[0m\n\u001b[1;32m----> 4\u001b[1;33m     \u001b[1;32melse\u001b[0m\u001b[1;33m:\u001b[0m \u001b[1;32mreturn\u001b[0m \u001b[0mFibonacci\u001b[0m\u001b[1;33m(\u001b[0m\u001b[0mn\u001b[0m\u001b[1;33m-\u001b[0m\u001b[1;36m1\u001b[0m\u001b[1;33m)\u001b[0m \u001b[1;33m+\u001b[0m \u001b[0mFibonacci\u001b[0m\u001b[1;33m(\u001b[0m\u001b[0mn\u001b[0m\u001b[1;33m-\u001b[0m\u001b[1;36m2\u001b[0m\u001b[1;33m)\u001b[0m\u001b[1;33m\u001b[0m\u001b[1;33m\u001b[0m\u001b[0m\n\u001b[0m\u001b[0;32m      5\u001b[0m \u001b[1;33m\u001b[0m\u001b[0m\n\u001b[0;32m      6\u001b[0m \u001b[0mFibonacci\u001b[0m\u001b[1;33m(\u001b[0m\u001b[1;36m40\u001b[0m\u001b[1;33m)\u001b[0m\u001b[1;33m\u001b[0m\u001b[1;33m\u001b[0m\u001b[0m\n",
      "\u001b[1;32m<ipython-input-4-4736e0d69820>\u001b[0m in \u001b[0;36mFibonacci\u001b[1;34m(n)\u001b[0m\n\u001b[0;32m      2\u001b[0m     \u001b[1;32mif\u001b[0m \u001b[0mn\u001b[0m \u001b[1;33m==\u001b[0m \u001b[1;36m0\u001b[0m\u001b[1;33m:\u001b[0m \u001b[1;32mreturn\u001b[0m \u001b[1;36m0\u001b[0m\u001b[1;33m\u001b[0m\u001b[1;33m\u001b[0m\u001b[0m\n\u001b[0;32m      3\u001b[0m     \u001b[1;32melif\u001b[0m \u001b[0mn\u001b[0m \u001b[1;33m==\u001b[0m \u001b[1;36m1\u001b[0m\u001b[1;33m:\u001b[0m \u001b[1;32mreturn\u001b[0m \u001b[1;36m1\u001b[0m\u001b[1;33m\u001b[0m\u001b[1;33m\u001b[0m\u001b[0m\n\u001b[1;32m----> 4\u001b[1;33m     \u001b[1;32melse\u001b[0m\u001b[1;33m:\u001b[0m \u001b[1;32mreturn\u001b[0m \u001b[0mFibonacci\u001b[0m\u001b[1;33m(\u001b[0m\u001b[0mn\u001b[0m\u001b[1;33m-\u001b[0m\u001b[1;36m1\u001b[0m\u001b[1;33m)\u001b[0m \u001b[1;33m+\u001b[0m \u001b[0mFibonacci\u001b[0m\u001b[1;33m(\u001b[0m\u001b[0mn\u001b[0m\u001b[1;33m-\u001b[0m\u001b[1;36m2\u001b[0m\u001b[1;33m)\u001b[0m\u001b[1;33m\u001b[0m\u001b[1;33m\u001b[0m\u001b[0m\n\u001b[0m\u001b[0;32m      5\u001b[0m \u001b[1;33m\u001b[0m\u001b[0m\n\u001b[0;32m      6\u001b[0m \u001b[0mFibonacci\u001b[0m\u001b[1;33m(\u001b[0m\u001b[1;36m40\u001b[0m\u001b[1;33m)\u001b[0m\u001b[1;33m\u001b[0m\u001b[1;33m\u001b[0m\u001b[0m\n",
      "\u001b[1;32m<ipython-input-4-4736e0d69820>\u001b[0m in \u001b[0;36mFibonacci\u001b[1;34m(n)\u001b[0m\n\u001b[0;32m      2\u001b[0m     \u001b[1;32mif\u001b[0m \u001b[0mn\u001b[0m \u001b[1;33m==\u001b[0m \u001b[1;36m0\u001b[0m\u001b[1;33m:\u001b[0m \u001b[1;32mreturn\u001b[0m \u001b[1;36m0\u001b[0m\u001b[1;33m\u001b[0m\u001b[1;33m\u001b[0m\u001b[0m\n\u001b[0;32m      3\u001b[0m     \u001b[1;32melif\u001b[0m \u001b[0mn\u001b[0m \u001b[1;33m==\u001b[0m \u001b[1;36m1\u001b[0m\u001b[1;33m:\u001b[0m \u001b[1;32mreturn\u001b[0m \u001b[1;36m1\u001b[0m\u001b[1;33m\u001b[0m\u001b[1;33m\u001b[0m\u001b[0m\n\u001b[1;32m----> 4\u001b[1;33m     \u001b[1;32melse\u001b[0m\u001b[1;33m:\u001b[0m \u001b[1;32mreturn\u001b[0m \u001b[0mFibonacci\u001b[0m\u001b[1;33m(\u001b[0m\u001b[0mn\u001b[0m\u001b[1;33m-\u001b[0m\u001b[1;36m1\u001b[0m\u001b[1;33m)\u001b[0m \u001b[1;33m+\u001b[0m \u001b[0mFibonacci\u001b[0m\u001b[1;33m(\u001b[0m\u001b[0mn\u001b[0m\u001b[1;33m-\u001b[0m\u001b[1;36m2\u001b[0m\u001b[1;33m)\u001b[0m\u001b[1;33m\u001b[0m\u001b[1;33m\u001b[0m\u001b[0m\n\u001b[0m\u001b[0;32m      5\u001b[0m \u001b[1;33m\u001b[0m\u001b[0m\n\u001b[0;32m      6\u001b[0m \u001b[0mFibonacci\u001b[0m\u001b[1;33m(\u001b[0m\u001b[1;36m40\u001b[0m\u001b[1;33m)\u001b[0m\u001b[1;33m\u001b[0m\u001b[1;33m\u001b[0m\u001b[0m\n",
      "\u001b[1;32m<ipython-input-4-4736e0d69820>\u001b[0m in \u001b[0;36mFibonacci\u001b[1;34m(n)\u001b[0m\n\u001b[0;32m      2\u001b[0m     \u001b[1;32mif\u001b[0m \u001b[0mn\u001b[0m \u001b[1;33m==\u001b[0m \u001b[1;36m0\u001b[0m\u001b[1;33m:\u001b[0m \u001b[1;32mreturn\u001b[0m \u001b[1;36m0\u001b[0m\u001b[1;33m\u001b[0m\u001b[1;33m\u001b[0m\u001b[0m\n\u001b[0;32m      3\u001b[0m     \u001b[1;32melif\u001b[0m \u001b[0mn\u001b[0m \u001b[1;33m==\u001b[0m \u001b[1;36m1\u001b[0m\u001b[1;33m:\u001b[0m \u001b[1;32mreturn\u001b[0m \u001b[1;36m1\u001b[0m\u001b[1;33m\u001b[0m\u001b[1;33m\u001b[0m\u001b[0m\n\u001b[1;32m----> 4\u001b[1;33m     \u001b[1;32melse\u001b[0m\u001b[1;33m:\u001b[0m \u001b[1;32mreturn\u001b[0m \u001b[0mFibonacci\u001b[0m\u001b[1;33m(\u001b[0m\u001b[0mn\u001b[0m\u001b[1;33m-\u001b[0m\u001b[1;36m1\u001b[0m\u001b[1;33m)\u001b[0m \u001b[1;33m+\u001b[0m \u001b[0mFibonacci\u001b[0m\u001b[1;33m(\u001b[0m\u001b[0mn\u001b[0m\u001b[1;33m-\u001b[0m\u001b[1;36m2\u001b[0m\u001b[1;33m)\u001b[0m\u001b[1;33m\u001b[0m\u001b[1;33m\u001b[0m\u001b[0m\n\u001b[0m\u001b[0;32m      5\u001b[0m \u001b[1;33m\u001b[0m\u001b[0m\n\u001b[0;32m      6\u001b[0m \u001b[0mFibonacci\u001b[0m\u001b[1;33m(\u001b[0m\u001b[1;36m40\u001b[0m\u001b[1;33m)\u001b[0m\u001b[1;33m\u001b[0m\u001b[1;33m\u001b[0m\u001b[0m\n",
      "\u001b[1;32m<ipython-input-4-4736e0d69820>\u001b[0m in \u001b[0;36mFibonacci\u001b[1;34m(n)\u001b[0m\n\u001b[0;32m      2\u001b[0m     \u001b[1;32mif\u001b[0m \u001b[0mn\u001b[0m \u001b[1;33m==\u001b[0m \u001b[1;36m0\u001b[0m\u001b[1;33m:\u001b[0m \u001b[1;32mreturn\u001b[0m \u001b[1;36m0\u001b[0m\u001b[1;33m\u001b[0m\u001b[1;33m\u001b[0m\u001b[0m\n\u001b[0;32m      3\u001b[0m     \u001b[1;32melif\u001b[0m \u001b[0mn\u001b[0m \u001b[1;33m==\u001b[0m \u001b[1;36m1\u001b[0m\u001b[1;33m:\u001b[0m \u001b[1;32mreturn\u001b[0m \u001b[1;36m1\u001b[0m\u001b[1;33m\u001b[0m\u001b[1;33m\u001b[0m\u001b[0m\n\u001b[1;32m----> 4\u001b[1;33m     \u001b[1;32melse\u001b[0m\u001b[1;33m:\u001b[0m \u001b[1;32mreturn\u001b[0m \u001b[0mFibonacci\u001b[0m\u001b[1;33m(\u001b[0m\u001b[0mn\u001b[0m\u001b[1;33m-\u001b[0m\u001b[1;36m1\u001b[0m\u001b[1;33m)\u001b[0m \u001b[1;33m+\u001b[0m \u001b[0mFibonacci\u001b[0m\u001b[1;33m(\u001b[0m\u001b[0mn\u001b[0m\u001b[1;33m-\u001b[0m\u001b[1;36m2\u001b[0m\u001b[1;33m)\u001b[0m\u001b[1;33m\u001b[0m\u001b[1;33m\u001b[0m\u001b[0m\n\u001b[0m\u001b[0;32m      5\u001b[0m \u001b[1;33m\u001b[0m\u001b[0m\n\u001b[0;32m      6\u001b[0m \u001b[0mFibonacci\u001b[0m\u001b[1;33m(\u001b[0m\u001b[1;36m40\u001b[0m\u001b[1;33m)\u001b[0m\u001b[1;33m\u001b[0m\u001b[1;33m\u001b[0m\u001b[0m\n",
      "\u001b[1;32m<ipython-input-4-4736e0d69820>\u001b[0m in \u001b[0;36mFibonacci\u001b[1;34m(n)\u001b[0m\n\u001b[0;32m      2\u001b[0m     \u001b[1;32mif\u001b[0m \u001b[0mn\u001b[0m \u001b[1;33m==\u001b[0m \u001b[1;36m0\u001b[0m\u001b[1;33m:\u001b[0m \u001b[1;32mreturn\u001b[0m \u001b[1;36m0\u001b[0m\u001b[1;33m\u001b[0m\u001b[1;33m\u001b[0m\u001b[0m\n\u001b[0;32m      3\u001b[0m     \u001b[1;32melif\u001b[0m \u001b[0mn\u001b[0m \u001b[1;33m==\u001b[0m \u001b[1;36m1\u001b[0m\u001b[1;33m:\u001b[0m \u001b[1;32mreturn\u001b[0m \u001b[1;36m1\u001b[0m\u001b[1;33m\u001b[0m\u001b[1;33m\u001b[0m\u001b[0m\n\u001b[1;32m----> 4\u001b[1;33m     \u001b[1;32melse\u001b[0m\u001b[1;33m:\u001b[0m \u001b[1;32mreturn\u001b[0m \u001b[0mFibonacci\u001b[0m\u001b[1;33m(\u001b[0m\u001b[0mn\u001b[0m\u001b[1;33m-\u001b[0m\u001b[1;36m1\u001b[0m\u001b[1;33m)\u001b[0m \u001b[1;33m+\u001b[0m \u001b[0mFibonacci\u001b[0m\u001b[1;33m(\u001b[0m\u001b[0mn\u001b[0m\u001b[1;33m-\u001b[0m\u001b[1;36m2\u001b[0m\u001b[1;33m)\u001b[0m\u001b[1;33m\u001b[0m\u001b[1;33m\u001b[0m\u001b[0m\n\u001b[0m\u001b[0;32m      5\u001b[0m \u001b[1;33m\u001b[0m\u001b[0m\n\u001b[0;32m      6\u001b[0m \u001b[0mFibonacci\u001b[0m\u001b[1;33m(\u001b[0m\u001b[1;36m40\u001b[0m\u001b[1;33m)\u001b[0m\u001b[1;33m\u001b[0m\u001b[1;33m\u001b[0m\u001b[0m\n",
      "\u001b[1;32m<ipython-input-4-4736e0d69820>\u001b[0m in \u001b[0;36mFibonacci\u001b[1;34m(n)\u001b[0m\n\u001b[0;32m      2\u001b[0m     \u001b[1;32mif\u001b[0m \u001b[0mn\u001b[0m \u001b[1;33m==\u001b[0m \u001b[1;36m0\u001b[0m\u001b[1;33m:\u001b[0m \u001b[1;32mreturn\u001b[0m \u001b[1;36m0\u001b[0m\u001b[1;33m\u001b[0m\u001b[1;33m\u001b[0m\u001b[0m\n\u001b[0;32m      3\u001b[0m     \u001b[1;32melif\u001b[0m \u001b[0mn\u001b[0m \u001b[1;33m==\u001b[0m \u001b[1;36m1\u001b[0m\u001b[1;33m:\u001b[0m \u001b[1;32mreturn\u001b[0m \u001b[1;36m1\u001b[0m\u001b[1;33m\u001b[0m\u001b[1;33m\u001b[0m\u001b[0m\n\u001b[1;32m----> 4\u001b[1;33m     \u001b[1;32melse\u001b[0m\u001b[1;33m:\u001b[0m \u001b[1;32mreturn\u001b[0m \u001b[0mFibonacci\u001b[0m\u001b[1;33m(\u001b[0m\u001b[0mn\u001b[0m\u001b[1;33m-\u001b[0m\u001b[1;36m1\u001b[0m\u001b[1;33m)\u001b[0m \u001b[1;33m+\u001b[0m \u001b[0mFibonacci\u001b[0m\u001b[1;33m(\u001b[0m\u001b[0mn\u001b[0m\u001b[1;33m-\u001b[0m\u001b[1;36m2\u001b[0m\u001b[1;33m)\u001b[0m\u001b[1;33m\u001b[0m\u001b[1;33m\u001b[0m\u001b[0m\n\u001b[0m\u001b[0;32m      5\u001b[0m \u001b[1;33m\u001b[0m\u001b[0m\n\u001b[0;32m      6\u001b[0m \u001b[0mFibonacci\u001b[0m\u001b[1;33m(\u001b[0m\u001b[1;36m40\u001b[0m\u001b[1;33m)\u001b[0m\u001b[1;33m\u001b[0m\u001b[1;33m\u001b[0m\u001b[0m\n",
      "\u001b[1;32m<ipython-input-4-4736e0d69820>\u001b[0m in \u001b[0;36mFibonacci\u001b[1;34m(n)\u001b[0m\n\u001b[0;32m      2\u001b[0m     \u001b[1;32mif\u001b[0m \u001b[0mn\u001b[0m \u001b[1;33m==\u001b[0m \u001b[1;36m0\u001b[0m\u001b[1;33m:\u001b[0m \u001b[1;32mreturn\u001b[0m \u001b[1;36m0\u001b[0m\u001b[1;33m\u001b[0m\u001b[1;33m\u001b[0m\u001b[0m\n\u001b[0;32m      3\u001b[0m     \u001b[1;32melif\u001b[0m \u001b[0mn\u001b[0m \u001b[1;33m==\u001b[0m \u001b[1;36m1\u001b[0m\u001b[1;33m:\u001b[0m \u001b[1;32mreturn\u001b[0m \u001b[1;36m1\u001b[0m\u001b[1;33m\u001b[0m\u001b[1;33m\u001b[0m\u001b[0m\n\u001b[1;32m----> 4\u001b[1;33m     \u001b[1;32melse\u001b[0m\u001b[1;33m:\u001b[0m \u001b[1;32mreturn\u001b[0m \u001b[0mFibonacci\u001b[0m\u001b[1;33m(\u001b[0m\u001b[0mn\u001b[0m\u001b[1;33m-\u001b[0m\u001b[1;36m1\u001b[0m\u001b[1;33m)\u001b[0m \u001b[1;33m+\u001b[0m \u001b[0mFibonacci\u001b[0m\u001b[1;33m(\u001b[0m\u001b[0mn\u001b[0m\u001b[1;33m-\u001b[0m\u001b[1;36m2\u001b[0m\u001b[1;33m)\u001b[0m\u001b[1;33m\u001b[0m\u001b[1;33m\u001b[0m\u001b[0m\n\u001b[0m\u001b[0;32m      5\u001b[0m \u001b[1;33m\u001b[0m\u001b[0m\n\u001b[0;32m      6\u001b[0m \u001b[0mFibonacci\u001b[0m\u001b[1;33m(\u001b[0m\u001b[1;36m40\u001b[0m\u001b[1;33m)\u001b[0m\u001b[1;33m\u001b[0m\u001b[1;33m\u001b[0m\u001b[0m\n",
      "\u001b[1;32m<ipython-input-4-4736e0d69820>\u001b[0m in \u001b[0;36mFibonacci\u001b[1;34m(n)\u001b[0m\n\u001b[0;32m      2\u001b[0m     \u001b[1;32mif\u001b[0m \u001b[0mn\u001b[0m \u001b[1;33m==\u001b[0m \u001b[1;36m0\u001b[0m\u001b[1;33m:\u001b[0m \u001b[1;32mreturn\u001b[0m \u001b[1;36m0\u001b[0m\u001b[1;33m\u001b[0m\u001b[1;33m\u001b[0m\u001b[0m\n\u001b[0;32m      3\u001b[0m     \u001b[1;32melif\u001b[0m \u001b[0mn\u001b[0m \u001b[1;33m==\u001b[0m \u001b[1;36m1\u001b[0m\u001b[1;33m:\u001b[0m \u001b[1;32mreturn\u001b[0m \u001b[1;36m1\u001b[0m\u001b[1;33m\u001b[0m\u001b[1;33m\u001b[0m\u001b[0m\n\u001b[1;32m----> 4\u001b[1;33m     \u001b[1;32melse\u001b[0m\u001b[1;33m:\u001b[0m \u001b[1;32mreturn\u001b[0m \u001b[0mFibonacci\u001b[0m\u001b[1;33m(\u001b[0m\u001b[0mn\u001b[0m\u001b[1;33m-\u001b[0m\u001b[1;36m1\u001b[0m\u001b[1;33m)\u001b[0m \u001b[1;33m+\u001b[0m \u001b[0mFibonacci\u001b[0m\u001b[1;33m(\u001b[0m\u001b[0mn\u001b[0m\u001b[1;33m-\u001b[0m\u001b[1;36m2\u001b[0m\u001b[1;33m)\u001b[0m\u001b[1;33m\u001b[0m\u001b[1;33m\u001b[0m\u001b[0m\n\u001b[0m\u001b[0;32m      5\u001b[0m \u001b[1;33m\u001b[0m\u001b[0m\n\u001b[0;32m      6\u001b[0m \u001b[0mFibonacci\u001b[0m\u001b[1;33m(\u001b[0m\u001b[1;36m40\u001b[0m\u001b[1;33m)\u001b[0m\u001b[1;33m\u001b[0m\u001b[1;33m\u001b[0m\u001b[0m\n",
      "\u001b[1;32m<ipython-input-4-4736e0d69820>\u001b[0m in \u001b[0;36mFibonacci\u001b[1;34m(n)\u001b[0m\n\u001b[0;32m      2\u001b[0m     \u001b[1;32mif\u001b[0m \u001b[0mn\u001b[0m \u001b[1;33m==\u001b[0m \u001b[1;36m0\u001b[0m\u001b[1;33m:\u001b[0m \u001b[1;32mreturn\u001b[0m \u001b[1;36m0\u001b[0m\u001b[1;33m\u001b[0m\u001b[1;33m\u001b[0m\u001b[0m\n\u001b[0;32m      3\u001b[0m     \u001b[1;32melif\u001b[0m \u001b[0mn\u001b[0m \u001b[1;33m==\u001b[0m \u001b[1;36m1\u001b[0m\u001b[1;33m:\u001b[0m \u001b[1;32mreturn\u001b[0m \u001b[1;36m1\u001b[0m\u001b[1;33m\u001b[0m\u001b[1;33m\u001b[0m\u001b[0m\n\u001b[1;32m----> 4\u001b[1;33m     \u001b[1;32melse\u001b[0m\u001b[1;33m:\u001b[0m \u001b[1;32mreturn\u001b[0m \u001b[0mFibonacci\u001b[0m\u001b[1;33m(\u001b[0m\u001b[0mn\u001b[0m\u001b[1;33m-\u001b[0m\u001b[1;36m1\u001b[0m\u001b[1;33m)\u001b[0m \u001b[1;33m+\u001b[0m \u001b[0mFibonacci\u001b[0m\u001b[1;33m(\u001b[0m\u001b[0mn\u001b[0m\u001b[1;33m-\u001b[0m\u001b[1;36m2\u001b[0m\u001b[1;33m)\u001b[0m\u001b[1;33m\u001b[0m\u001b[1;33m\u001b[0m\u001b[0m\n\u001b[0m\u001b[0;32m      5\u001b[0m \u001b[1;33m\u001b[0m\u001b[0m\n\u001b[0;32m      6\u001b[0m \u001b[0mFibonacci\u001b[0m\u001b[1;33m(\u001b[0m\u001b[1;36m40\u001b[0m\u001b[1;33m)\u001b[0m\u001b[1;33m\u001b[0m\u001b[1;33m\u001b[0m\u001b[0m\n",
      "\u001b[1;32m<ipython-input-4-4736e0d69820>\u001b[0m in \u001b[0;36mFibonacci\u001b[1;34m(n)\u001b[0m\n\u001b[0;32m      2\u001b[0m     \u001b[1;32mif\u001b[0m \u001b[0mn\u001b[0m \u001b[1;33m==\u001b[0m \u001b[1;36m0\u001b[0m\u001b[1;33m:\u001b[0m \u001b[1;32mreturn\u001b[0m \u001b[1;36m0\u001b[0m\u001b[1;33m\u001b[0m\u001b[1;33m\u001b[0m\u001b[0m\n\u001b[0;32m      3\u001b[0m     \u001b[1;32melif\u001b[0m \u001b[0mn\u001b[0m \u001b[1;33m==\u001b[0m \u001b[1;36m1\u001b[0m\u001b[1;33m:\u001b[0m \u001b[1;32mreturn\u001b[0m \u001b[1;36m1\u001b[0m\u001b[1;33m\u001b[0m\u001b[1;33m\u001b[0m\u001b[0m\n\u001b[1;32m----> 4\u001b[1;33m     \u001b[1;32melse\u001b[0m\u001b[1;33m:\u001b[0m \u001b[1;32mreturn\u001b[0m \u001b[0mFibonacci\u001b[0m\u001b[1;33m(\u001b[0m\u001b[0mn\u001b[0m\u001b[1;33m-\u001b[0m\u001b[1;36m1\u001b[0m\u001b[1;33m)\u001b[0m \u001b[1;33m+\u001b[0m \u001b[0mFibonacci\u001b[0m\u001b[1;33m(\u001b[0m\u001b[0mn\u001b[0m\u001b[1;33m-\u001b[0m\u001b[1;36m2\u001b[0m\u001b[1;33m)\u001b[0m\u001b[1;33m\u001b[0m\u001b[1;33m\u001b[0m\u001b[0m\n\u001b[0m\u001b[0;32m      5\u001b[0m \u001b[1;33m\u001b[0m\u001b[0m\n\u001b[0;32m      6\u001b[0m \u001b[0mFibonacci\u001b[0m\u001b[1;33m(\u001b[0m\u001b[1;36m40\u001b[0m\u001b[1;33m)\u001b[0m\u001b[1;33m\u001b[0m\u001b[1;33m\u001b[0m\u001b[0m\n",
      "\u001b[1;32m<ipython-input-4-4736e0d69820>\u001b[0m in \u001b[0;36mFibonacci\u001b[1;34m(n)\u001b[0m\n\u001b[0;32m      2\u001b[0m     \u001b[1;32mif\u001b[0m \u001b[0mn\u001b[0m \u001b[1;33m==\u001b[0m \u001b[1;36m0\u001b[0m\u001b[1;33m:\u001b[0m \u001b[1;32mreturn\u001b[0m \u001b[1;36m0\u001b[0m\u001b[1;33m\u001b[0m\u001b[1;33m\u001b[0m\u001b[0m\n\u001b[0;32m      3\u001b[0m     \u001b[1;32melif\u001b[0m \u001b[0mn\u001b[0m \u001b[1;33m==\u001b[0m \u001b[1;36m1\u001b[0m\u001b[1;33m:\u001b[0m \u001b[1;32mreturn\u001b[0m \u001b[1;36m1\u001b[0m\u001b[1;33m\u001b[0m\u001b[1;33m\u001b[0m\u001b[0m\n\u001b[1;32m----> 4\u001b[1;33m     \u001b[1;32melse\u001b[0m\u001b[1;33m:\u001b[0m \u001b[1;32mreturn\u001b[0m \u001b[0mFibonacci\u001b[0m\u001b[1;33m(\u001b[0m\u001b[0mn\u001b[0m\u001b[1;33m-\u001b[0m\u001b[1;36m1\u001b[0m\u001b[1;33m)\u001b[0m \u001b[1;33m+\u001b[0m \u001b[0mFibonacci\u001b[0m\u001b[1;33m(\u001b[0m\u001b[0mn\u001b[0m\u001b[1;33m-\u001b[0m\u001b[1;36m2\u001b[0m\u001b[1;33m)\u001b[0m\u001b[1;33m\u001b[0m\u001b[1;33m\u001b[0m\u001b[0m\n\u001b[0m\u001b[0;32m      5\u001b[0m \u001b[1;33m\u001b[0m\u001b[0m\n\u001b[0;32m      6\u001b[0m \u001b[0mFibonacci\u001b[0m\u001b[1;33m(\u001b[0m\u001b[1;36m40\u001b[0m\u001b[1;33m)\u001b[0m\u001b[1;33m\u001b[0m\u001b[1;33m\u001b[0m\u001b[0m\n",
      "\u001b[1;32m<ipython-input-4-4736e0d69820>\u001b[0m in \u001b[0;36mFibonacci\u001b[1;34m(n)\u001b[0m\n\u001b[0;32m      2\u001b[0m     \u001b[1;32mif\u001b[0m \u001b[0mn\u001b[0m \u001b[1;33m==\u001b[0m \u001b[1;36m0\u001b[0m\u001b[1;33m:\u001b[0m \u001b[1;32mreturn\u001b[0m \u001b[1;36m0\u001b[0m\u001b[1;33m\u001b[0m\u001b[1;33m\u001b[0m\u001b[0m\n\u001b[0;32m      3\u001b[0m     \u001b[1;32melif\u001b[0m \u001b[0mn\u001b[0m \u001b[1;33m==\u001b[0m \u001b[1;36m1\u001b[0m\u001b[1;33m:\u001b[0m \u001b[1;32mreturn\u001b[0m \u001b[1;36m1\u001b[0m\u001b[1;33m\u001b[0m\u001b[1;33m\u001b[0m\u001b[0m\n\u001b[1;32m----> 4\u001b[1;33m     \u001b[1;32melse\u001b[0m\u001b[1;33m:\u001b[0m \u001b[1;32mreturn\u001b[0m \u001b[0mFibonacci\u001b[0m\u001b[1;33m(\u001b[0m\u001b[0mn\u001b[0m\u001b[1;33m-\u001b[0m\u001b[1;36m1\u001b[0m\u001b[1;33m)\u001b[0m \u001b[1;33m+\u001b[0m \u001b[0mFibonacci\u001b[0m\u001b[1;33m(\u001b[0m\u001b[0mn\u001b[0m\u001b[1;33m-\u001b[0m\u001b[1;36m2\u001b[0m\u001b[1;33m)\u001b[0m\u001b[1;33m\u001b[0m\u001b[1;33m\u001b[0m\u001b[0m\n\u001b[0m\u001b[0;32m      5\u001b[0m \u001b[1;33m\u001b[0m\u001b[0m\n\u001b[0;32m      6\u001b[0m \u001b[0mFibonacci\u001b[0m\u001b[1;33m(\u001b[0m\u001b[1;36m40\u001b[0m\u001b[1;33m)\u001b[0m\u001b[1;33m\u001b[0m\u001b[1;33m\u001b[0m\u001b[0m\n",
      "\u001b[1;32m<ipython-input-4-4736e0d69820>\u001b[0m in \u001b[0;36mFibonacci\u001b[1;34m(n)\u001b[0m\n\u001b[0;32m      2\u001b[0m     \u001b[1;32mif\u001b[0m \u001b[0mn\u001b[0m \u001b[1;33m==\u001b[0m \u001b[1;36m0\u001b[0m\u001b[1;33m:\u001b[0m \u001b[1;32mreturn\u001b[0m \u001b[1;36m0\u001b[0m\u001b[1;33m\u001b[0m\u001b[1;33m\u001b[0m\u001b[0m\n\u001b[0;32m      3\u001b[0m     \u001b[1;32melif\u001b[0m \u001b[0mn\u001b[0m \u001b[1;33m==\u001b[0m \u001b[1;36m1\u001b[0m\u001b[1;33m:\u001b[0m \u001b[1;32mreturn\u001b[0m \u001b[1;36m1\u001b[0m\u001b[1;33m\u001b[0m\u001b[1;33m\u001b[0m\u001b[0m\n\u001b[1;32m----> 4\u001b[1;33m     \u001b[1;32melse\u001b[0m\u001b[1;33m:\u001b[0m \u001b[1;32mreturn\u001b[0m \u001b[0mFibonacci\u001b[0m\u001b[1;33m(\u001b[0m\u001b[0mn\u001b[0m\u001b[1;33m-\u001b[0m\u001b[1;36m1\u001b[0m\u001b[1;33m)\u001b[0m \u001b[1;33m+\u001b[0m \u001b[0mFibonacci\u001b[0m\u001b[1;33m(\u001b[0m\u001b[0mn\u001b[0m\u001b[1;33m-\u001b[0m\u001b[1;36m2\u001b[0m\u001b[1;33m)\u001b[0m\u001b[1;33m\u001b[0m\u001b[1;33m\u001b[0m\u001b[0m\n\u001b[0m\u001b[0;32m      5\u001b[0m \u001b[1;33m\u001b[0m\u001b[0m\n\u001b[0;32m      6\u001b[0m \u001b[0mFibonacci\u001b[0m\u001b[1;33m(\u001b[0m\u001b[1;36m40\u001b[0m\u001b[1;33m)\u001b[0m\u001b[1;33m\u001b[0m\u001b[1;33m\u001b[0m\u001b[0m\n",
      "\u001b[1;32m<ipython-input-4-4736e0d69820>\u001b[0m in \u001b[0;36mFibonacci\u001b[1;34m(n)\u001b[0m\n\u001b[0;32m      2\u001b[0m     \u001b[1;32mif\u001b[0m \u001b[0mn\u001b[0m \u001b[1;33m==\u001b[0m \u001b[1;36m0\u001b[0m\u001b[1;33m:\u001b[0m \u001b[1;32mreturn\u001b[0m \u001b[1;36m0\u001b[0m\u001b[1;33m\u001b[0m\u001b[1;33m\u001b[0m\u001b[0m\n\u001b[0;32m      3\u001b[0m     \u001b[1;32melif\u001b[0m \u001b[0mn\u001b[0m \u001b[1;33m==\u001b[0m \u001b[1;36m1\u001b[0m\u001b[1;33m:\u001b[0m \u001b[1;32mreturn\u001b[0m \u001b[1;36m1\u001b[0m\u001b[1;33m\u001b[0m\u001b[1;33m\u001b[0m\u001b[0m\n\u001b[1;32m----> 4\u001b[1;33m     \u001b[1;32melse\u001b[0m\u001b[1;33m:\u001b[0m \u001b[1;32mreturn\u001b[0m \u001b[0mFibonacci\u001b[0m\u001b[1;33m(\u001b[0m\u001b[0mn\u001b[0m\u001b[1;33m-\u001b[0m\u001b[1;36m1\u001b[0m\u001b[1;33m)\u001b[0m \u001b[1;33m+\u001b[0m \u001b[0mFibonacci\u001b[0m\u001b[1;33m(\u001b[0m\u001b[0mn\u001b[0m\u001b[1;33m-\u001b[0m\u001b[1;36m2\u001b[0m\u001b[1;33m)\u001b[0m\u001b[1;33m\u001b[0m\u001b[1;33m\u001b[0m\u001b[0m\n\u001b[0m\u001b[0;32m      5\u001b[0m \u001b[1;33m\u001b[0m\u001b[0m\n\u001b[0;32m      6\u001b[0m \u001b[0mFibonacci\u001b[0m\u001b[1;33m(\u001b[0m\u001b[1;36m40\u001b[0m\u001b[1;33m)\u001b[0m\u001b[1;33m\u001b[0m\u001b[1;33m\u001b[0m\u001b[0m\n",
      "\u001b[1;32m<ipython-input-4-4736e0d69820>\u001b[0m in \u001b[0;36mFibonacci\u001b[1;34m(n)\u001b[0m\n\u001b[0;32m      2\u001b[0m     \u001b[1;32mif\u001b[0m \u001b[0mn\u001b[0m \u001b[1;33m==\u001b[0m \u001b[1;36m0\u001b[0m\u001b[1;33m:\u001b[0m \u001b[1;32mreturn\u001b[0m \u001b[1;36m0\u001b[0m\u001b[1;33m\u001b[0m\u001b[1;33m\u001b[0m\u001b[0m\n\u001b[0;32m      3\u001b[0m     \u001b[1;32melif\u001b[0m \u001b[0mn\u001b[0m \u001b[1;33m==\u001b[0m \u001b[1;36m1\u001b[0m\u001b[1;33m:\u001b[0m \u001b[1;32mreturn\u001b[0m \u001b[1;36m1\u001b[0m\u001b[1;33m\u001b[0m\u001b[1;33m\u001b[0m\u001b[0m\n\u001b[1;32m----> 4\u001b[1;33m     \u001b[1;32melse\u001b[0m\u001b[1;33m:\u001b[0m \u001b[1;32mreturn\u001b[0m \u001b[0mFibonacci\u001b[0m\u001b[1;33m(\u001b[0m\u001b[0mn\u001b[0m\u001b[1;33m-\u001b[0m\u001b[1;36m1\u001b[0m\u001b[1;33m)\u001b[0m \u001b[1;33m+\u001b[0m \u001b[0mFibonacci\u001b[0m\u001b[1;33m(\u001b[0m\u001b[0mn\u001b[0m\u001b[1;33m-\u001b[0m\u001b[1;36m2\u001b[0m\u001b[1;33m)\u001b[0m\u001b[1;33m\u001b[0m\u001b[1;33m\u001b[0m\u001b[0m\n\u001b[0m\u001b[0;32m      5\u001b[0m \u001b[1;33m\u001b[0m\u001b[0m\n\u001b[0;32m      6\u001b[0m \u001b[0mFibonacci\u001b[0m\u001b[1;33m(\u001b[0m\u001b[1;36m40\u001b[0m\u001b[1;33m)\u001b[0m\u001b[1;33m\u001b[0m\u001b[1;33m\u001b[0m\u001b[0m\n",
      "\u001b[1;32m<ipython-input-4-4736e0d69820>\u001b[0m in \u001b[0;36mFibonacci\u001b[1;34m(n)\u001b[0m\n\u001b[0;32m      2\u001b[0m     \u001b[1;32mif\u001b[0m \u001b[0mn\u001b[0m \u001b[1;33m==\u001b[0m \u001b[1;36m0\u001b[0m\u001b[1;33m:\u001b[0m \u001b[1;32mreturn\u001b[0m \u001b[1;36m0\u001b[0m\u001b[1;33m\u001b[0m\u001b[1;33m\u001b[0m\u001b[0m\n\u001b[0;32m      3\u001b[0m     \u001b[1;32melif\u001b[0m \u001b[0mn\u001b[0m \u001b[1;33m==\u001b[0m \u001b[1;36m1\u001b[0m\u001b[1;33m:\u001b[0m \u001b[1;32mreturn\u001b[0m \u001b[1;36m1\u001b[0m\u001b[1;33m\u001b[0m\u001b[1;33m\u001b[0m\u001b[0m\n\u001b[1;32m----> 4\u001b[1;33m     \u001b[1;32melse\u001b[0m\u001b[1;33m:\u001b[0m \u001b[1;32mreturn\u001b[0m \u001b[0mFibonacci\u001b[0m\u001b[1;33m(\u001b[0m\u001b[0mn\u001b[0m\u001b[1;33m-\u001b[0m\u001b[1;36m1\u001b[0m\u001b[1;33m)\u001b[0m \u001b[1;33m+\u001b[0m \u001b[0mFibonacci\u001b[0m\u001b[1;33m(\u001b[0m\u001b[0mn\u001b[0m\u001b[1;33m-\u001b[0m\u001b[1;36m2\u001b[0m\u001b[1;33m)\u001b[0m\u001b[1;33m\u001b[0m\u001b[1;33m\u001b[0m\u001b[0m\n\u001b[0m\u001b[0;32m      5\u001b[0m \u001b[1;33m\u001b[0m\u001b[0m\n\u001b[0;32m      6\u001b[0m \u001b[0mFibonacci\u001b[0m\u001b[1;33m(\u001b[0m\u001b[1;36m40\u001b[0m\u001b[1;33m)\u001b[0m\u001b[1;33m\u001b[0m\u001b[1;33m\u001b[0m\u001b[0m\n",
      "\u001b[1;32m<ipython-input-4-4736e0d69820>\u001b[0m in \u001b[0;36mFibonacci\u001b[1;34m(n)\u001b[0m\n\u001b[0;32m      2\u001b[0m     \u001b[1;32mif\u001b[0m \u001b[0mn\u001b[0m \u001b[1;33m==\u001b[0m \u001b[1;36m0\u001b[0m\u001b[1;33m:\u001b[0m \u001b[1;32mreturn\u001b[0m \u001b[1;36m0\u001b[0m\u001b[1;33m\u001b[0m\u001b[1;33m\u001b[0m\u001b[0m\n\u001b[0;32m      3\u001b[0m     \u001b[1;32melif\u001b[0m \u001b[0mn\u001b[0m \u001b[1;33m==\u001b[0m \u001b[1;36m1\u001b[0m\u001b[1;33m:\u001b[0m \u001b[1;32mreturn\u001b[0m \u001b[1;36m1\u001b[0m\u001b[1;33m\u001b[0m\u001b[1;33m\u001b[0m\u001b[0m\n\u001b[1;32m----> 4\u001b[1;33m     \u001b[1;32melse\u001b[0m\u001b[1;33m:\u001b[0m \u001b[1;32mreturn\u001b[0m \u001b[0mFibonacci\u001b[0m\u001b[1;33m(\u001b[0m\u001b[0mn\u001b[0m\u001b[1;33m-\u001b[0m\u001b[1;36m1\u001b[0m\u001b[1;33m)\u001b[0m \u001b[1;33m+\u001b[0m \u001b[0mFibonacci\u001b[0m\u001b[1;33m(\u001b[0m\u001b[0mn\u001b[0m\u001b[1;33m-\u001b[0m\u001b[1;36m2\u001b[0m\u001b[1;33m)\u001b[0m\u001b[1;33m\u001b[0m\u001b[1;33m\u001b[0m\u001b[0m\n\u001b[0m\u001b[0;32m      5\u001b[0m \u001b[1;33m\u001b[0m\u001b[0m\n\u001b[0;32m      6\u001b[0m \u001b[0mFibonacci\u001b[0m\u001b[1;33m(\u001b[0m\u001b[1;36m40\u001b[0m\u001b[1;33m)\u001b[0m\u001b[1;33m\u001b[0m\u001b[1;33m\u001b[0m\u001b[0m\n",
      "\u001b[1;32m<ipython-input-4-4736e0d69820>\u001b[0m in \u001b[0;36mFibonacci\u001b[1;34m(n)\u001b[0m\n\u001b[0;32m      2\u001b[0m     \u001b[1;32mif\u001b[0m \u001b[0mn\u001b[0m \u001b[1;33m==\u001b[0m \u001b[1;36m0\u001b[0m\u001b[1;33m:\u001b[0m \u001b[1;32mreturn\u001b[0m \u001b[1;36m0\u001b[0m\u001b[1;33m\u001b[0m\u001b[1;33m\u001b[0m\u001b[0m\n\u001b[0;32m      3\u001b[0m     \u001b[1;32melif\u001b[0m \u001b[0mn\u001b[0m \u001b[1;33m==\u001b[0m \u001b[1;36m1\u001b[0m\u001b[1;33m:\u001b[0m \u001b[1;32mreturn\u001b[0m \u001b[1;36m1\u001b[0m\u001b[1;33m\u001b[0m\u001b[1;33m\u001b[0m\u001b[0m\n\u001b[1;32m----> 4\u001b[1;33m     \u001b[1;32melse\u001b[0m\u001b[1;33m:\u001b[0m \u001b[1;32mreturn\u001b[0m \u001b[0mFibonacci\u001b[0m\u001b[1;33m(\u001b[0m\u001b[0mn\u001b[0m\u001b[1;33m-\u001b[0m\u001b[1;36m1\u001b[0m\u001b[1;33m)\u001b[0m \u001b[1;33m+\u001b[0m \u001b[0mFibonacci\u001b[0m\u001b[1;33m(\u001b[0m\u001b[0mn\u001b[0m\u001b[1;33m-\u001b[0m\u001b[1;36m2\u001b[0m\u001b[1;33m)\u001b[0m\u001b[1;33m\u001b[0m\u001b[1;33m\u001b[0m\u001b[0m\n\u001b[0m\u001b[0;32m      5\u001b[0m \u001b[1;33m\u001b[0m\u001b[0m\n\u001b[0;32m      6\u001b[0m \u001b[0mFibonacci\u001b[0m\u001b[1;33m(\u001b[0m\u001b[1;36m40\u001b[0m\u001b[1;33m)\u001b[0m\u001b[1;33m\u001b[0m\u001b[1;33m\u001b[0m\u001b[0m\n",
      "\u001b[1;32m<ipython-input-4-4736e0d69820>\u001b[0m in \u001b[0;36mFibonacci\u001b[1;34m(n)\u001b[0m\n\u001b[0;32m      2\u001b[0m     \u001b[1;32mif\u001b[0m \u001b[0mn\u001b[0m \u001b[1;33m==\u001b[0m \u001b[1;36m0\u001b[0m\u001b[1;33m:\u001b[0m \u001b[1;32mreturn\u001b[0m \u001b[1;36m0\u001b[0m\u001b[1;33m\u001b[0m\u001b[1;33m\u001b[0m\u001b[0m\n\u001b[0;32m      3\u001b[0m     \u001b[1;32melif\u001b[0m \u001b[0mn\u001b[0m \u001b[1;33m==\u001b[0m \u001b[1;36m1\u001b[0m\u001b[1;33m:\u001b[0m \u001b[1;32mreturn\u001b[0m \u001b[1;36m1\u001b[0m\u001b[1;33m\u001b[0m\u001b[1;33m\u001b[0m\u001b[0m\n\u001b[1;32m----> 4\u001b[1;33m     \u001b[1;32melse\u001b[0m\u001b[1;33m:\u001b[0m \u001b[1;32mreturn\u001b[0m \u001b[0mFibonacci\u001b[0m\u001b[1;33m(\u001b[0m\u001b[0mn\u001b[0m\u001b[1;33m-\u001b[0m\u001b[1;36m1\u001b[0m\u001b[1;33m)\u001b[0m \u001b[1;33m+\u001b[0m \u001b[0mFibonacci\u001b[0m\u001b[1;33m(\u001b[0m\u001b[0mn\u001b[0m\u001b[1;33m-\u001b[0m\u001b[1;36m2\u001b[0m\u001b[1;33m)\u001b[0m\u001b[1;33m\u001b[0m\u001b[1;33m\u001b[0m\u001b[0m\n\u001b[0m\u001b[0;32m      5\u001b[0m \u001b[1;33m\u001b[0m\u001b[0m\n\u001b[0;32m      6\u001b[0m \u001b[0mFibonacci\u001b[0m\u001b[1;33m(\u001b[0m\u001b[1;36m40\u001b[0m\u001b[1;33m)\u001b[0m\u001b[1;33m\u001b[0m\u001b[1;33m\u001b[0m\u001b[0m\n",
      "\u001b[1;32m<ipython-input-4-4736e0d69820>\u001b[0m in \u001b[0;36mFibonacci\u001b[1;34m(n)\u001b[0m\n\u001b[0;32m      2\u001b[0m     \u001b[1;32mif\u001b[0m \u001b[0mn\u001b[0m \u001b[1;33m==\u001b[0m \u001b[1;36m0\u001b[0m\u001b[1;33m:\u001b[0m \u001b[1;32mreturn\u001b[0m \u001b[1;36m0\u001b[0m\u001b[1;33m\u001b[0m\u001b[1;33m\u001b[0m\u001b[0m\n\u001b[0;32m      3\u001b[0m     \u001b[1;32melif\u001b[0m \u001b[0mn\u001b[0m \u001b[1;33m==\u001b[0m \u001b[1;36m1\u001b[0m\u001b[1;33m:\u001b[0m \u001b[1;32mreturn\u001b[0m \u001b[1;36m1\u001b[0m\u001b[1;33m\u001b[0m\u001b[1;33m\u001b[0m\u001b[0m\n\u001b[1;32m----> 4\u001b[1;33m     \u001b[1;32melse\u001b[0m\u001b[1;33m:\u001b[0m \u001b[1;32mreturn\u001b[0m \u001b[0mFibonacci\u001b[0m\u001b[1;33m(\u001b[0m\u001b[0mn\u001b[0m\u001b[1;33m-\u001b[0m\u001b[1;36m1\u001b[0m\u001b[1;33m)\u001b[0m \u001b[1;33m+\u001b[0m \u001b[0mFibonacci\u001b[0m\u001b[1;33m(\u001b[0m\u001b[0mn\u001b[0m\u001b[1;33m-\u001b[0m\u001b[1;36m2\u001b[0m\u001b[1;33m)\u001b[0m\u001b[1;33m\u001b[0m\u001b[1;33m\u001b[0m\u001b[0m\n\u001b[0m\u001b[0;32m      5\u001b[0m \u001b[1;33m\u001b[0m\u001b[0m\n\u001b[0;32m      6\u001b[0m \u001b[0mFibonacci\u001b[0m\u001b[1;33m(\u001b[0m\u001b[1;36m40\u001b[0m\u001b[1;33m)\u001b[0m\u001b[1;33m\u001b[0m\u001b[1;33m\u001b[0m\u001b[0m\n",
      "\u001b[1;31mKeyboardInterrupt\u001b[0m: "
     ]
    }
   ],
   "source": [
    "def Fibonacci(n):\n",
    "    if n == 0: return 0\n",
    "    elif n == 1: return 1\n",
    "    else: return Fibonacci(n-1) + Fibonacci(n-2)\n",
    "\n",
    "Fibonacci(40)"
   ]
  },
  {
   "cell_type": "code",
   "execution_count": null,
   "metadata": {},
   "outputs": [
    {
     "data": {
      "text/plain": [
       "102334155"
      ]
     },
     "execution_count": 53,
     "metadata": {},
     "output_type": "execute_result"
    }
   ],
   "source": [
    "def Fibonacci2(n):\n",
    "    A = [0] * (n+1)\n",
    "    for i in range(n+1):\n",
    "        if i == 0: A[i] = 0\n",
    "        elif i == 1: A[i] = 1\n",
    "        else:  A[i] = A[i-1] + A[i-2]\n",
    "    \n",
    "    return A[n]\n",
    "\n",
    "Fibonacci2(40)"
   ]
  },
  {
   "cell_type": "code",
   "execution_count": null,
   "metadata": {},
   "outputs": [
    {
     "data": {
      "text/plain": [
       "102334155"
      ]
     },
     "execution_count": 61,
     "metadata": {},
     "output_type": "execute_result"
    }
   ],
   "source": [
    "import numpy \n",
    "def self_pow(x,n):\n",
    "    ans = 1\n",
    "    while n:\n",
    "        if n % 2:\n",
    "            ans *= x\n",
    "        x *= x\n",
    "        n >>= 1\n",
    "    return ans\n",
    "\n",
    "def Fibonacci3(n):\n",
    "    sqrt = numpy.sqrt(5)\n",
    "    f = (1/sqrt)*(self_pow((1+sqrt)/2,n) - self_pow((1-sqrt)/2,n))\n",
    "    return round(f)\n",
    "\n",
    "Fibonacci3(40)"
   ]
  },
  {
   "cell_type": "code",
   "execution_count": null,
   "metadata": {},
   "outputs": [
    {
     "name": "stdout",
     "output_type": "stream",
     "text": [
      "[1, 2, 2, 2, 3, 4, 4, 5, 6, 8, 9]\n",
      "Yes\n"
     ]
    }
   ],
   "source": [
    "def binary_search(A,x):\n",
    "    l = len(A)\n",
    "    A.sort()\n",
    "    mi = A[0]\n",
    "    ma = A[l-1]\n",
    "    \n",
    "    if x < mi or x > ma:\n",
    "        print(\"No\")\n",
    "    else:\n",
    "        low=0\n",
    "        high=l-1\n",
    "        f=0\n",
    "        while low<=high:\n",
    "            mid=(low+high)//2\n",
    "            if x==A[mid]:\n",
    "                f=1\n",
    "                break\n",
    "            if x>A[mid]:\n",
    "                low=mid+1\n",
    "            else:\n",
    "                high=mid-1\n",
    "        if f==1:\n",
    "            print(\"Yes\")\n",
    "        else:\n",
    "            print(\"No\")\n",
    "\n",
    "A = [1,2,4,3,5,2,6,8,2,4,9]\n",
    "x = 3 #サーチ対象\n",
    "\n",
    "binary_search(A,x)"
   ]
  },
  {
   "cell_type": "code",
   "execution_count": null,
   "metadata": {},
   "outputs": [
    {
     "data": {
      "text/plain": [
       "1"
      ]
     },
     "execution_count": 5,
     "metadata": {},
     "output_type": "execute_result"
    }
   ],
   "source": [
    "# リングバッファでの実装\n",
    "\n",
    "class Queue:\n",
    "    def __init__(self,size: int):\n",
    "        self.queue = [None for i in range(size)]\n",
    "        self.size = size\n",
    "        self.head = 0\n",
    "        self.tail = 0\n",
    "\n",
    "    def enqueue(self,a: int):\n",
    "        if self.head == (self.tail+1)%self.size:\n",
    "            print(\"full\")\n",
    "            return False\n",
    "        self.queue[self.tail] = a\n",
    "        self.tail = (self.tail+1)%self.size\n",
    "\n",
    "    def dequeue(self):\n",
    "        if self.head == self.tail:\n",
    "            print(\"empty\")\n",
    "            return False\n",
    "        a = self.queue[self.head]\n",
    "        self.head = (self.head+1)%self.size\n",
    "        return a\n",
    "\n",
    "Q = 3\n",
    "q=Queue(Q)\n",
    "q.enqueue(1)\n",
    "q.enqueue(2)\n",
    "q.dequeue()\n",
    "\n",
    "# Algo 2-1\n",
    "lines=[0 for i in range(4)]\n",
    "lines[0]='3'\n",
    "lines[1]='1 1000000000'\n",
    "lines[2]='1 1000000000'\n",
    "lines[3]='2'\n",
    "Q=int(lines[0])\n",
    "for i in range(Q):\n",
    "    l=[int(x.strip()) for x in lines[i+1].split()]\n",
    "    if l[0]==1:\n",
    "        q.enqueue(l[1])\n",
    "    else:\n",
    "        print(q.dequeue())"
   ]
  },
  {
   "cell_type": "code",
   "execution_count": null,
   "metadata": {},
   "outputs": [
    {
     "data": {
      "text/plain": [
       "5"
      ]
     },
     "execution_count": 16,
     "metadata": {},
     "output_type": "execute_result"
    }
   ],
   "source": [
    "# 最大ヒープ\n",
    "class maxHeap:\n",
    "    def __init__(self):\n",
    "        self.list=[]\n",
    "\n",
    "    def heappush(self,a: int):\n",
    "        self.list.append(a)\n",
    "        index = len(self.list) - 1\n",
    "        while 1:\n",
    "            parent = (index-1) // 2\n",
    "            if index == 0:\n",
    "                break\n",
    "            if self.list[index] > self.list[parent]:\n",
    "                self.list[index],self.list[parent] = self.list[parent],self.list[index]\n",
    "                index = parent\n",
    "            else: \n",
    "                break         \n",
    "\n",
    "    def heappop(self):\n",
    "        a = self.list[0]\n",
    "        self.list[0] = self.list.pop()\n",
    "        parent = 0        \n",
    "        while 1:\n",
    "            c1 = 2*parent + 1\n",
    "            c2 = 2*parent + 2\n",
    "            if c2 >= len(self.list):\n",
    "                c = c1\n",
    "            else:\n",
    "                if self.list[c1] < self.list[c2]:\n",
    "                    c = c2\n",
    "                else:\n",
    "                    c = c1\n",
    "            if c >= len(self.list):\n",
    "                break\n",
    "                \n",
    "            if self.list[c] > self.list[parent]:\n",
    "                self.list[c],self.list[parent] = self.list[parent],self.list[c]\n",
    "                parent = c\n",
    "            else:\n",
    "                break\n",
    "        return a\n",
    "\n",
    "\n",
    "heap2 = maxHeap()\n",
    "heap2.heappush(5)\n",
    "heap2.heappush(3)\n",
    "heap2.heappush(4)\n",
    "heap2.heappop()"
   ]
  },
  {
   "cell_type": "code",
   "execution_count": null,
   "metadata": {},
   "outputs": [
    {
     "name": "stdout",
     "output_type": "stream",
     "text": [
      "5\n",
      "4\n"
     ]
    }
   ],
   "source": [
    "# Algo 2-2\n",
    "lines=[0 for i in range(6)]\n",
    "lines[0]='5'\n",
    "lines[1]='1 5'\n",
    "lines[2]='1 3'\n",
    "lines[3]='2'\n",
    "lines[4]='1 4'\n",
    "lines[5]='2'\n",
    "Q=int(lines[0])\n",
    "heap3=maxHeap()\n",
    "for i in range(Q):\n",
    "    l=[int(x.strip()) for x in lines[i+1].split()]\n",
    "    if l[0]==1:\n",
    "        heap3.heappush(l[1])\n",
    "    else:\n",
    "        print(heap3.heappop())"
   ]
  },
  {
   "cell_type": "code",
   "execution_count": null,
   "metadata": {},
   "outputs": [
    {
     "data": {
      "text/plain": [
       "3"
      ]
     },
     "execution_count": 20,
     "metadata": {},
     "output_type": "execute_result"
    }
   ],
   "source": [
    "# 配列を用いたヒープの実装 iに対して親(i-1)//2,左の子2i+1, 右の子2i+2となる\n",
    "# 最小ヒープ\n",
    "class minHeap:\n",
    "    def __init__(self):\n",
    "        self.list=[]\n",
    "\n",
    "    def heappush(self,a: int):\n",
    "        self.list.append(a)\n",
    "        index = len(self.list) - 1\n",
    "        while 1:\n",
    "            parent = (index-1) // 2\n",
    "            if index == 0:\n",
    "                break\n",
    "            if self.list[index] < self.list[parent]:\n",
    "                self.list[index],self.list[parent] = self.list[parent],self.list[index]\n",
    "                index = parent\n",
    "            else: \n",
    "                break         \n",
    "\n",
    "    def heappop(self):\n",
    "        a = self.list[0]\n",
    "        self.list[0] = self.list.pop()\n",
    "        parent = 0        \n",
    "        while 1:\n",
    "            c1 = 2*parent + 1\n",
    "            c2 = 2*parent + 2\n",
    "            if c2 >= len(self.list):\n",
    "                c = c1\n",
    "            else:\n",
    "                if self.list[c1] > self.list[c2]:\n",
    "                    c = c2\n",
    "                else:\n",
    "                    c = c1\n",
    "            if c >= len(self.list):\n",
    "                break\n",
    "                \n",
    "            if self.list[c] < self.list[parent]:\n",
    "                self.list[c],self.list[parent] = self.list[parent],self.list[c]\n",
    "                parent = c\n",
    "            else:\n",
    "                break\n",
    "        return a\n",
    "\n",
    "heap = minHeap()\n",
    "heap.heappush(5)\n",
    "heap.heappush(3)\n",
    "heap.heappush(4)\n",
    "heap.heappop()"
   ]
  },
  {
   "cell_type": "code",
   "execution_count": null,
   "metadata": {},
   "outputs": [
    {
     "name": "stdout",
     "output_type": "stream",
     "text": [
      "found\n",
      "not found\n"
     ]
    }
   ],
   "source": [
    "class hash:\n",
    "    def __init__(self, Nin=10**9 + 7):\n",
    "        self.N = Nin\n",
    "        self.table=['']*Nin\n",
    "\n",
    "    def push(self, x):\n",
    "        n = x % self.N\n",
    "        if self.table[n] == '':\n",
    "            self.table[n] = x\n",
    "        else:\n",
    "            self.table.append(x)\n",
    "    \n",
    "    def search(self, x):\n",
    "        n = x % self.N\n",
    "        if self.table[n] == x:\n",
    "            print('found')\n",
    "        elif self.table[n] == '':\n",
    "            print('not found')\n",
    "        else:\n",
    "            N2 = len(self.table)\n",
    "            if N2 == self.N:\n",
    "                print('not found')\n",
    "            else:\n",
    "                for j in range(self.N, N2):\n",
    "                    if self.table[j] == x:\n",
    "                        print('found')\n",
    "                        break\n",
    "                    elif j == N2-1:\n",
    "                        print('not found')\n",
    "\n",
    "hash1 = hash(10)\n",
    "hash1.push(1)\n",
    "hash1.push(11)\n",
    "hash1.search(11)\n",
    "hash1.search(2)"
   ]
  },
  {
   "cell_type": "code",
   "execution_count": null,
   "metadata": {},
   "outputs": [
    {
     "name": "stdout",
     "output_type": "stream",
     "text": [
      "3\n"
     ]
    }
   ],
   "source": [
    "# Knuth-Morris-Pratt法 \n",
    "# 照合が失敗した時点の状況（何⽂字⽬まで照合したか）に応じて，次の照合位置を変更\n",
    "# テーブルにはどこで照合失敗したらどこから照合し直すかが記載\n",
    "# 照合対象の⽂字列の⻑さがn，照合パターンの⻑さがl\n",
    "# スキップテーブルの作成：l．照合：最悪でもn よって，O(n+l)\n",
    "\n",
    "def kmp(S,T):\n",
    "    table=[0]*(len(T)+1) # スキップテーブル\n",
    "    table[0] = -1 # 使わない\n",
    "    i,j = 0,1 # パターン内の繰り返しを調べる\n",
    "    while j < len(T): # スキップテーブルを作る\n",
    "        if T[i] != T[j] and i > 0:\n",
    "            i = table[i]\n",
    "        else:\n",
    "            if T[i] == T[j]:\n",
    "                i += 1\n",
    "            j += 1\n",
    "            table[j] = i\n",
    "\n",
    "    k = l = 0 # テキストとパターンのカーソル位置\n",
    "    while k < len(S) and l < len(T): # 照合を⾏うループ\n",
    "        if S[k] == T[l]: # ⼀致している場合は両⽅のカーソルを進める\n",
    "            k += 1\n",
    "            l += 1\n",
    "        elif l == 0:# 照合パターン1⽂字⽬で失敗した場合は，テキスト側のカーソルを1つすすめるだけ．\n",
    "            k += 1\n",
    "        else: # 照合パターン2⽂字⽬以降はスキップテーブルを使ってどこから照合し直すか決定\n",
    "            l = table[l]\n",
    "\n",
    "    if l == len(T):\n",
    "        print(k-l)\n",
    "    else:\n",
    "        print(-1)\n",
    "\n",
    "S = 'asdfdgdfhfdhafdgdhfdhd'\n",
    "T = 'fdgd'\n",
    "kmp(S,T)\n"
   ]
  },
  {
   "cell_type": "code",
   "execution_count": null,
   "metadata": {},
   "outputs": [
    {
     "data": {
      "text/plain": [
       "3"
      ]
     },
     "execution_count": 39,
     "metadata": {},
     "output_type": "execute_result"
    }
   ],
   "source": [
    "#Rabin-Karp法\n",
    "# 部分⽂字列をハッシュに変換しておき，⽂字列の照合をハッシュ値の⼀致の問題へと変換\n",
    "# 照合パターンのハッシュ化： O(l) ハッシュを⽤いての照合：⼀番最初だけはO(l)，あとはO(1) ．最悪の場合はn-l回の⽐較が必要．よって，O(n)\n",
    "# よって，O(n+l)\n",
    "def RollingHashMatch(S,T):\n",
    "    a = 1007 # 基数\n",
    "    h = 10**9+7 # 除数\n",
    "    Slen = len(S)\n",
    "    Tlen = len(T)\n",
    "    Shash = 0 # 照合対象側のハッシュ\n",
    "    Thash = 0 # 照合パターン側のハッシュ\n",
    "    num = lambda c : ord(c)-ord('a') # アルファベットを整数に変換\n",
    "    am = 1\n",
    "    for i in range(Tlen):\n",
    "        Shash += num(S[Tlen-i-1])*am\n",
    "        Thash += num(T[Tlen-i-1])*am\n",
    "        am *= a\n",
    "        am %= h\n",
    "    Shash %= h\n",
    "    Thash %= h\n",
    "\n",
    "    for i in range(Slen-Tlen+1):\n",
    "        if i != 0:\n",
    "            Shash = (a*Shash+num(S[Tlen+i-1])-am*num(S[i-1])) % h\n",
    "        if Shash == Thash:\n",
    "            return i\n",
    "    \n",
    "    return -1\n",
    "\n",
    "S = 'asdfdgdfhfdhafdgdhfdhd'\n",
    "T = 'fdgd'\n",
    "RollingHashMatch(S,T)"
   ]
  },
  {
   "cell_type": "code",
   "execution_count": null,
   "metadata": {},
   "outputs": [
    {
     "data": {
      "text/plain": [
       "[0, 1, 2, 3, 3, 4, 5, 5, 6, 6, 7, 8, 9]"
      ]
     },
     "execution_count": 1,
     "metadata": {},
     "output_type": "execute_result"
    }
   ],
   "source": [
    "# 挿⼊ソート\n",
    "# 1回の平均的な⽐較・移動回数はそれぞれi/2．それをn-1回繰り返す．最後はn番⽬の要素を，最⼤n-1回⽐較・移動する O(n^2)\n",
    "def insertionsort(seq):\n",
    "    for i in range(1, len(seq)):\n",
    "        j = i - 1\n",
    "        tmp = seq[i]\n",
    "        while seq[j] > tmp and j > -1:\n",
    "            seq[j+1] = seq[j]\n",
    "            j -= 1\n",
    "        seq[j+1] = tmp\n",
    "    return seq\n",
    "\n",
    "A = [3,5,6,8,3,2,1,4,6,7,0,5,9]\n",
    "insertionsort(A)"
   ]
  },
  {
   "cell_type": "code",
   "execution_count": null,
   "metadata": {},
   "outputs": [
    {
     "data": {
      "text/plain": [
       "[0, 1, 2, 3, 3, 4, 5, 5, 6, 6, 7, 8, 9]"
      ]
     },
     "execution_count": 2,
     "metadata": {},
     "output_type": "execute_result"
    }
   ],
   "source": [
    "# バブルソート\n",
    "# O(n^2)\n",
    "def bubblesort(seq):\n",
    "    size = len(seq)\n",
    "    for i in range(size):\n",
    "        for j in range(size-1, i, -1):\n",
    "            if seq[j] < seq[j-1]:\n",
    "                seq[j], seq[j-1] = seq[j-1], seq[j]\n",
    "    return seq\n",
    "\n",
    "A = [3,5,6,8,3,2,1,4,6,7,0,5,9]\n",
    "bubblesort(A)"
   ]
  },
  {
   "cell_type": "code",
   "execution_count": null,
   "metadata": {},
   "outputs": [
    {
     "data": {
      "text/plain": [
       "[0, 1, 2, 3, 3, 4, 5, 5, 6, 6, 7, 8, 9]"
      ]
     },
     "execution_count": 4,
     "metadata": {},
     "output_type": "execute_result"
    }
   ],
   "source": [
    "# シェーカーソート\n",
    "# 最悪計算量はこちらもO(n^2) ただし，バブルソートよりはちょっと速いことが期待できる\n",
    "def shakersort(seq):\n",
    "    # ソート済みの左端，右端を保持する変数\n",
    "    left = 0\n",
    "    right = len(seq) - 1\n",
    "    # 最後にスワップが起きた場所を格納する変数\n",
    "    swapped = 0\n",
    "    while left < right:\n",
    "        for i in range(left, right): # 先頭からチェック\n",
    "            if seq[i+1] < seq[i]:\n",
    "                seq[i], seq[i+1] = seq[i+1], seq[i]\n",
    "                swapped = i\n",
    "        # 最後のスワップの場所でrightを更新\n",
    "        right = swapped\n",
    "\n",
    "        for i in range(right, left, -1): # 次は後ろからチェック\n",
    "            if seq[i] < seq[i-1]:\n",
    "                seq[i], seq[i-1] = seq[i-1], seq[i]\n",
    "                swapped = i\n",
    "        # 最後のスワップの場所でleftを更新\n",
    "        left = swapped\n",
    "    \n",
    "    return seq\n",
    "\n",
    "A = [3,5,6,8,3,2,1,4,6,7,0,5,9]\n",
    "shakersort(A)"
   ]
  },
  {
   "cell_type": "code",
   "execution_count": null,
   "metadata": {},
   "outputs": [
    {
     "data": {
      "text/plain": [
       "[0, 1, 2, 3, 3, 4, 5, 5, 6, 6, 7, 8, 9]"
      ]
     },
     "execution_count": 6,
     "metadata": {},
     "output_type": "execute_result"
    }
   ],
   "source": [
    "# クイックソート\n",
    "# 軸より大小で2分割して再帰\n",
    "# 分割するときに（ざっくり）ソートする 結合するときは何も考えない\n",
    "# ⼀般ケースO(n log n) 最悪ケースO(n^2)\n",
    "def quicksort(seq):\n",
    "    if len(seq) <= 1:\n",
    "        return seq\n",
    "\n",
    "    left = []\n",
    "    right = []\n",
    "    pivot = seq[len(seq)//2] # 枢軸の選び方(ランダムだと最悪ケースに対応しやすい)\n",
    "    count = 0\n",
    "    for i in range(len(seq)):\n",
    "        e = seq[i]\n",
    "        if e == pivot:\n",
    "            count += 1\n",
    "        elif e < pivot:\n",
    "            left.append(e)\n",
    "        else:\n",
    "            right.append(e)\n",
    "            \n",
    "    left = quicksort(left)\n",
    "    right = quicksort(right)\n",
    "    return left + [pivot]*count + right\n",
    "\n",
    "A = [3,5,6,8,3,2,1,4,6,7,0,5,9]\n",
    "quicksort(A)"
   ]
  },
  {
   "cell_type": "code",
   "execution_count": null,
   "metadata": {},
   "outputs": [
    {
     "data": {
      "text/plain": [
       "[0, 1, 2, 3, 3, 4, 5, 5, 6, 6, 7, 8, 9]"
      ]
     },
     "execution_count": 7,
     "metadata": {},
     "output_type": "execute_result"
    }
   ],
   "source": [
    "# マージソート\n",
    "# まず再帰で2分割を繰り返して、戻りながら小さい順にマージ\n",
    "# 分割するときは何も考えない 結合するときにソートする\n",
    "# ⼀般ケース, 最悪ケースともにO(n log n) \n",
    "def mergesort(seq):\n",
    "    if len(seq) <= 1: return seq\n",
    "    # 2つに分割するだけ\n",
    "    left = mergesort(seq[:len(seq)//2])\n",
    "    right = mergesort(seq[len(seq)//2:])\n",
    "    # これらの値が返ってきたときには，left，right\n",
    "    # 各々でソートができている状態になっている．\n",
    "    merged = []\n",
    "    cur_l = cur_r = 0\n",
    "    # マージ作業．⼩さい⽅から順にmergedに⼊れる．\n",
    "    while cur_l < len(left) and cur_r < len(right):\n",
    "        if left[cur_l] <= right[cur_r]: # 安定性を確保\n",
    "            merged.append(left[cur_l])\n",
    "            cur_l += 1\n",
    "        else:\n",
    "            merged.append(right[cur_r])\n",
    "            cur_r += 1\n",
    "    # もし余った要素があればくっつける．\n",
    "    if cur_l < len(left):\n",
    "        merged.extend(left[cur_l:])\n",
    "    elif cur_r < len(right):\n",
    "        merged.extend(right[cur_r:])\n",
    "    return merged\n",
    "\n",
    "A = [3,5,6,8,3,2,1,4,6,7,0,5,9]\n",
    "mergesort(A)"
   ]
  },
  {
   "cell_type": "code",
   "execution_count": null,
   "metadata": {},
   "outputs": [
    {
     "data": {
      "text/plain": [
       "[0, 1, 2, 3, 3, 4, 5, 5, 6, 6, 7, 8, 9]"
      ]
     },
     "execution_count": 2,
     "metadata": {},
     "output_type": "execute_result"
    }
   ],
   "source": [
    "# バケットソート\n",
    "# 0からmax_valueまでの整数値のみと想定\n",
    "# バケツの準備：⼀般的にはk．バケツに⼊れる：n．バケツから取り出す：max(n,k)．\n",
    "# よって，O(n+k)．kがnかそれ以下のオーダーならば，n\n",
    "def bucketsort(seq, max_value):\n",
    "    count = [0]*(max_value+1) # バケツ\n",
    "    sorted = [] # ソート済み配列\n",
    "    # 出現回数をカウント\n",
    "    for i in range(len(seq)):\n",
    "        count[seq[i]] += 1\n",
    "    # 出現回数からソート済み配列を⽣成\n",
    "    for i in range(len(count)):\n",
    "        for j in range(count[i]):\n",
    "            sorted.append(i)\n",
    "    return sorted\n",
    "\n",
    "A = [3,5,6,8,3,2,1,4,6,7,0,5,9]\n",
    "bucketsort(A,9)"
   ]
  },
  {
   "cell_type": "code",
   "execution_count": null,
   "metadata": {},
   "outputs": [
    {
     "data": {
      "text/plain": [
       "4"
      ]
     },
     "execution_count": 13,
     "metadata": {},
     "output_type": "execute_result"
    }
   ],
   "source": [
    "# ist2021 3\n",
    "\n",
    "class UnionFind: #UF木の実装\n",
    "    def __init__(self, n):\n",
    "        self.parent = [i for i in range(n)]\n",
    "        self.sizes = [1 for i in range(n)]\n",
    "        self.time = [0 for i in range(n)]\n",
    "\n",
    "    def find(self, i):\n",
    "        while self.parent[i] != i:\n",
    "            i = self.parent[i]\n",
    "        return i\n",
    "    \n",
    "    def unite(self, t, a, b):\n",
    "        i = self.find(a)\n",
    "        j = self.find(b)\n",
    "        self.parent[i] = j\n",
    "        if i != j: # より⾼い⽅にマージ\n",
    "            if self.sizes[i] > self.sizes[j]:\n",
    "                self.parent[i] = i\n",
    "                self.parent[j] = i\n",
    "                self.sizes[i] += self.sizes[j]\n",
    "                self.time[i] = t\n",
    "                self.time[j] = t\n",
    "            else:\n",
    "                self.sizes[j] += self.sizes[i]\n",
    "                self.time[j] = t\n",
    "                self.time[i] = t\n",
    "\n",
    "    def size(self, a):\n",
    "        return self.sizes[self.find(a)]\n",
    "    \n",
    "    def find_time(self, a, b):\n",
    "        if a == b: return 0\n",
    "        elif self.time[a] < self.time[b]:\n",
    "            if self.parent[a] == b: return self.time[a]\n",
    "            a = self.parent[a]\n",
    "            return self.find_time(a, b)\n",
    "        else:\n",
    "            if self.parent[b] == a: return self.time[b]\n",
    "            b = self.parent[b]\n",
    "            return self.find_time(a, b)\n",
    "\n",
    "uf = UnionFind(6)\n",
    "uf.unite(1,0,1)\n",
    "uf.unite(2,1,2)\n",
    "uf.unite(3,3,4)\n",
    "uf.unite(4,1,3)\n",
    "uf.find_time(0,3)\n"
   ]
  },
  {
   "cell_type": "code",
   "execution_count": null,
   "metadata": {},
   "outputs": [
    {
     "data": {
      "text/plain": [
       "60"
      ]
     },
     "execution_count": 7,
     "metadata": {},
     "output_type": "execute_result"
    }
   ],
   "source": [
    "# nPkをMで割ったあまり\n",
    "def nPk(N,K):\n",
    "    M = 10**9 + 7 # 素数\n",
    "    a = 1\n",
    "    for i in range(N-K):\n",
    "        a *= i+1\n",
    "        a %= M\n",
    "    b = a\n",
    "    for i in range(N-K,N):\n",
    "        b *= i+1\n",
    "        b %= M\n",
    "    ans = pow(a,M-2,M) #フェルマーの⼩定理より, 剰余の割り算 = M-2乗を掛ける\n",
    "    ans *= b\n",
    "    ans %= M\n",
    "    return ans\n",
    "\n",
    "N=5\n",
    "K=3\n",
    "nPk(N,K)"
   ]
  },
  {
   "cell_type": "code",
   "execution_count": null,
   "metadata": {},
   "outputs": [
    {
     "data": {
      "text/plain": [
       "10"
      ]
     },
     "execution_count": 8,
     "metadata": {},
     "output_type": "execute_result"
    }
   ],
   "source": [
    "# nCkをMで割ったあまり\n",
    "def nCk(N,K):\n",
    "    M = 10**9 + 7 # 素数\n",
    "    a = 1\n",
    "    for i in range(N-K):\n",
    "        a *= i+1\n",
    "        a %= M\n",
    "    b = a\n",
    "    for i in range(N-K,N):\n",
    "        b *= i+1\n",
    "        b %= M\n",
    "    c = 1\n",
    "    for i in range(K):\n",
    "        c *= i+1\n",
    "        c %= M\n",
    "    ans = pow(a,M-2,M) #剰余の割り算 = M-2乗を掛ける\n",
    "    ans *= pow(c,M-2,M)\n",
    "    ans %= M\n",
    "    ans *= b\n",
    "    ans %= M\n",
    "    return ans\n",
    "\n",
    "N=5\n",
    "K=3\n",
    "nCk(N,K)"
   ]
  },
  {
   "cell_type": "code",
   "execution_count": null,
   "metadata": {},
   "outputs": [
    {
     "name": "stdout",
     "output_type": "stream",
     "text": [
      "[[1], [2], [3], [2, 2], [5], [2, 3], [7], [2, 2, 2], [3, 3], [2, 5], [11], [2, 2, 3]]\n"
     ]
    }
   ],
   "source": [
    "# osa_k法\n",
    "# 前処理の計算量はエラトステネスのふるいと同じO(N log logN)\n",
    "# 本計算の計算量は素因数の個数に比例．Mの素因数の個数はlogM程度より，計算量もO(logM)\n",
    "# Mが最大の場合(M=Nの場合)計算量O(logN)より，N以下の正の整数全てを素因数分解する場合も計算量はO(N logN)程度\n",
    "def osa_k(n):\n",
    "    # エラトステネスのふるいの応用\n",
    "    min_factor = [-1] * (n+1) # iの最小の素因数(iを割り切る最小の素数)を格納する配列\n",
    "    min_factor[0] = 0\n",
    "    min_factor[1] = 1\n",
    "    for i in range(2, n+1):\n",
    "        if min_factor[i] == -1: # 素数なら\n",
    "            min_factor[i] = i # min_factor[i] = iとして\n",
    "            for j in range(i*i, n+1, i): # i*i以上のiの倍数jに対し\n",
    "                if min_factor[j] == -1: # jがまだmin_factorを持たないならmin_factor[j] = iとする\n",
    "                    min_factor[j] = i\n",
    "    \n",
    "    ans = [1] if n == 1 else []\n",
    "    k = n\n",
    "    while k > 1: # 1になるまでkをmin_factor[k]で割ってkを更新\n",
    "        ans.append(min_factor[k])\n",
    "        k //= min_factor[k]\n",
    "    \n",
    "    return ans\n",
    "\n",
    "N = 12\n",
    "ans =[]\n",
    "for i in range(N):\n",
    "    ans.append(osa_k(i+1))\n",
    "print(ans)"
   ]
  },
  {
   "cell_type": "code",
   "execution_count": null,
   "metadata": {},
   "outputs": [
    {
     "data": {
      "text/plain": [
       "20"
      ]
     },
     "execution_count": 2,
     "metadata": {},
     "output_type": "execute_result"
    }
   ],
   "source": [
    "# 最大流(max flow)問題\n",
    "# フォード・ファルカーソン法\n",
    "# ノード数V，最⼤流の最適値をF 最悪の場合，新しい経路が⾒つかっても最⼤流が1つしか増やせない-> F回の最⼤流値の更新が発⽣\n",
    "# 経路探索のためには⾼々Vのノードを訪れる．隣接⾏列の場合，辺のチェックのために，毎回O(V)個の操作が必要\n",
    "# 隣接⾏列の場合 O(FV^2)\n",
    "def FordFulkerson(edges,start,end):\n",
    "    # s ‒ e間においてある1つのパスで流せる流量を返す\n",
    "    def dfs_ff(s, e, flow): # 引数: DFSの開始ノード，DFSの終了ノード，DFSの開始ノードの前のノードまでに流せる最⼤流量\n",
    "        if (s == e): return flow # sとeが⼀緒のノードなら今までの最⼤流量をそのまま返す\n",
    "        visited[s] = True # ノードsを訪問したと記録\n",
    "        for i in range(len(edges[s])):# 流せる容量がある辺をすべてチェック\n",
    "            if edges[s][i] > 0 and not visited[i]: # まだ⾒ていない辺があればDFS\n",
    "                f = dfs_ff(i, e, min(flow, edges[s][i])) # 今までの最⼤流量とノードs‒i間の流量のうち，⼩さい⽅を使ってdfs_ffを再帰で呼び出す\n",
    "                if f > 0:\n",
    "                    edges[s][i] -= f\n",
    "                    edges[i][s] += f\n",
    "                    return f\n",
    "        return 0\n",
    "    \n",
    "    N = len(edges)\n",
    "    max_flow = 0\n",
    "    while True:\n",
    "        visited = [False] * N # 毎回のDFSで使う訪問フラグ\n",
    "        f = dfs_ff(start,end,10**9) # DFS実⾏\n",
    "        if f == 0: break # もう流せないなら終了\n",
    "        max_flow += f\n",
    "    return max_flow\n",
    "\n",
    "edges = [[0, 10, 10, 0, 0, 0],\n",
    "[0, 0, 0, 4, 8, 0],\n",
    "[0, 0, 0, 7, 4, 0],\n",
    "[0, 0, 0, 0, 0, 8],\n",
    "[0, 0, 0, 0, 0, 12],\n",
    "[0, 0, 0, 0, 0, 0]]\n",
    "FordFulkerson(edges,0,5)"
   ]
  },
  {
   "cell_type": "code",
   "execution_count": null,
   "metadata": {},
   "outputs": [
    {
     "data": {
      "text/plain": [
       "20"
      ]
     },
     "execution_count": 3,
     "metadata": {},
     "output_type": "execute_result"
    }
   ],
   "source": [
    "# 隣接リストでの実装 O(FE)\n",
    "def FordFulkerson2(edges,start,end):\n",
    "    # s ‒ e間においてある1つのパスで流せる流量を返す\n",
    "    def dfs_ff(s, e, flow): # 引数: DFSの開始ノード，DFSの終了ノード，DFSの開始ノードの前のノードまでに流せる最⼤流量\n",
    "        if (s == e): return flow # sとeが⼀緒のノードなら今までの最⼤流量をそのまま返す\n",
    "        visited[s] = True # ノードsを訪問したと記録\n",
    "        for i in range(len(edges[s])):# 流せる容量がある辺をすべてチェック\n",
    "            edge = edges[s][i] # edge[0] = to, edge[1] = s-toに流せる最大量\n",
    "            if edge[1] > 0 and not visited[edge[0]]: # まだ⾒ていない辺があればDFS\n",
    "                f = dfs_ff(edge[0], e, min(flow, edge[1])) # 今までの最⼤流量とノードs‒to間の流量のうち，⼩さい⽅を使ってdfs_ffを再帰で呼び出す\n",
    "                if f > 0:\n",
    "                    edge[1] -= f\n",
    "                    for j in range(len(edges[edge[0]])): # 逆辺のフロー更新(効率化したい)\n",
    "                        if edges[edge[0]][j][0] == s:\n",
    "                            edges[edge[0]][j][1] += f\n",
    "                    return f\n",
    "        return 0\n",
    "    \n",
    "    N = len(edges)\n",
    "    max_flow = 0\n",
    "    while True:\n",
    "        visited = [False] * N # 毎回のDFSで使う訪問フラグ\n",
    "        f = dfs_ff(start,end,10**9) # DFS実⾏\n",
    "        if f == 0: break # もう流せないなら終了\n",
    "        max_flow += f\n",
    "    return max_flow\n",
    "\n",
    "edges = [[0, 10, 10, 0, 0, 0],\n",
    "[0, 0, 0, 4, 8, 0],\n",
    "[0, 0, 0, 7, 4, 0],\n",
    "[0, 0, 0, 0, 0, 8],\n",
    "[0, 0, 0, 0, 0, 12],\n",
    "[0, 0, 0, 0, 0, 0]]\n",
    "edges2 = [[] for i in range(len(edges))]\n",
    "for i in range(len(edges)):\n",
    "    for j in range(len(edges)):\n",
    "        if edges[i][j] != 0:\n",
    "            edges2[i].append([j,edges[i][j]])\n",
    "            edges2[j].append([i,0])\n",
    "\n",
    "FordFulkerson2(edges2,0,5)"
   ]
  },
  {
   "cell_type": "code",
   "execution_count": null,
   "metadata": {},
   "outputs": [
    {
     "name": "stdout",
     "output_type": "stream",
     "text": [
      "0 1\n"
     ]
    }
   ],
   "source": [
    "# Algo 1-1 累積和\n",
    "lines=[0 for i in range(2)]\n",
    "lines[0]='1 1'\n",
    "lines[1]='0'\n",
    "N,M=[int(x.strip()) for x in lines[0].split()]\n",
    "A=[int(x.strip()) for x in lines[1].split()]\n",
    "sumA=0\n",
    "for i in range(M):\n",
    "  sumA+=A[i]\n",
    "maxA=sumA\n",
    "index=1\n",
    "for i in range(N-M):\n",
    "  sumA=sumA+A[M+i]-A[i]\n",
    "  if maxA<sumA:\n",
    "    maxA=sumA\n",
    "    index=i+2\n",
    "\n",
    "print(maxA, index)"
   ]
  },
  {
   "cell_type": "code",
   "execution_count": null,
   "metadata": {},
   "outputs": [
    {
     "data": {
      "text/plain": [
       "67"
      ]
     },
     "execution_count": 5,
     "metadata": {},
     "output_type": "execute_result"
    }
   ],
   "source": [
    "# 最⼩費⽤流(min cost flow)\n",
    "# プライマルデュアル法 \n",
    "# sからtへの流量fの最小費用流を求める 流せない場合は-1を返す\n",
    "# 蟻本p200参照\n",
    "# ノード数V，エッジ数E，設定流量をFとする 最⼩コスト経路探索のためにはベルマンフォード法を使うとO(EV)必要．（隣接リストを使う場合）\n",
    "# さらに，流量を1ずつしか増やせないのが最悪のケース．よって，O(FEV)\n",
    "# ポテンシャルと呼ばれる⼯夫をするとダイクストラ法を使うことができる．\n",
    "# この場合，O(FV^2)．ヒープを使うダイクストラ法を使えば， O(F(V+E)logV)に計算量を減らせる\n",
    "def PrimalDual(G,s,t,f):\n",
    "    V = len(G) # 頂点数\n",
    "    prev_v = [0 for i in range(V)] # 直前の頂点\n",
    "    prev_e = [0 for i in range(V)] # 直前の辺\n",
    "    inf = 10**9\n",
    "    res = 0 # 最⼩費⽤\n",
    "    while f > 0:\n",
    "        # ベルマンフォード法で最短路を求める(負の経路が存在するため)\n",
    "        dist = [inf] * V # 最短距離\n",
    "        dist[s] = 0\n",
    "        update = True\n",
    "        while update:\n",
    "            update = False\n",
    "            for v in range(V):\n",
    "                if dist[v] == inf: continue\n",
    "                for i in range(len(G[v])):\n",
    "                    edge = G[v][i] # vからの辺 (行き先、容量、コスト、逆辺)\n",
    "                    if edge[1] > 0 and dist[edge[0]] > dist[v] + edge[2]: # 最短距離を更新\n",
    "                        dist[edge[0]] = dist[v] + edge[2]\n",
    "                        prev_v[edge[0]] = v # 直前の頂点、辺も記録\n",
    "                        prev_e[edge[0]] = i\n",
    "                        update = True\n",
    "\n",
    "        if dist[t] == inf: # これ以上流せないなら-1\n",
    "            return -1\n",
    "\n",
    "        d = f # 流量\n",
    "        v = t\n",
    "        # 最短路に沿ってできる限り流すというのを繰り返す\n",
    "        while  v != s: # tからsまで\n",
    "            d = min(d, G[prev_v[v]][prev_e[v]][1]) # 最短路に沿ってprev_vをたどって流せる量が最も少ないエッジの容量を流量とする\n",
    "            v = prev_v[v]\n",
    "        \n",
    "        f -= d # 流したい量からdを引く\n",
    "        res += d * dist[t] # コストをd流す分加算\n",
    "        v = t\n",
    "        while  v != s: # tからsまで\n",
    "            G[prev_v[v]][prev_e[v]][1] -= d # 最短路に沿ってprev_vをたどって流した量dだけ容量を引く\n",
    "            G[v][G[prev_v[v]][prev_e[v]][3]][1] += d # 逆辺は流した量dだけ容量を足す\n",
    "            v = prev_v[v]\n",
    "            \n",
    "    return res\n",
    "\n",
    "# アルゴリズム2021 \n",
    "# 12最小費用流の例\n",
    "V = 4 # 頂点数\n",
    "G = [[] for i in range(V)] # グラフの隣接リスト表現\n",
    "# fからtへ向かう容量cap、コストcostの辺をグラフに追加する\n",
    "def add_edge(f,t,cap,cost):\n",
    "    G[f].append([t,cap,cost,len(G[t])]) # 辺を表す (行き先、容量、コスト、逆辺) 逆辺(追加した時点でのlen(G[t])は下で追加する逆辺のindexを表す)\n",
    "    G[t].append([f,0,-cost,len(G[f])-1]) # 逆辺の逆辺のindexは上ですでにappendされているのでlen(G[f])-1\n",
    "\n",
    "add_edge(0, 1, 3, 6)\n",
    "add_edge(0, 2, 5, 2)\n",
    "add_edge(1, 3, 4, 3)\n",
    "add_edge(2, 1, 7, 3)\n",
    "add_edge(2, 3, 6, 9)\n",
    "#print(G)\n",
    "PrimalDual(G,0,3,7)"
   ]
  },
  {
   "cell_type": "code",
   "execution_count": null,
   "metadata": {},
   "outputs": [
    {
     "data": {
      "text/plain": [
       "8"
      ]
     },
     "execution_count": 8,
     "metadata": {},
     "output_type": "execute_result"
    }
   ],
   "source": [
    "# Algo 11-2\n",
    "# スタートから各文字列に流量a、コストiのエッジ、各文字列から各アルファベットに流量(各文字列中の各アルファベットの数)、コスト0のエッジ、\n",
    "# 各アルファベットからゴールに流量(各アルファベットの必要数)、コスト0のエッジを引き、プライマルデュアル法により最小費用流を求める\n",
    "lines = [' ' for i in range(5)]\n",
    "lines[0] = 'aabcd'\n",
    "lines[1] = '3'\n",
    "lines[2] = 'aca 2'\n",
    "lines[3] = 'bda 3'\n",
    "lines[4] = 'ab 10'\n",
    "\n",
    "T = lines[0]\n",
    "N = int(lines[1])\n",
    "V = 1+N+26+1 # 頂点数\n",
    "G = [[] for i in range(V)] # グラフ\n",
    "for i in range(1,N+1):\n",
    "    s,a = [x.strip() for x in lines[i+1].split()]\n",
    "    add_edge(0, i, int(a), i) # スタートから各文字列に流量a、コストiのエッジを引く\n",
    "    for j in range(26):\n",
    "        if s.count(chr(ord('a')+j)) != 0:\n",
    "            add_edge(i,N+1+j, s.count(chr(ord('a')+j)), 0) # 各文字列から各アルファベットに流量(各文字列中の各アルファベットの数)、コスト0のエッジを引く\n",
    "\n",
    "for i in range(26):\n",
    "    if T.count(chr(ord('a')+i))!=0:\n",
    "        add_edge(N+1+i,V-1, T.count(chr(ord('a')+i)), 0) # 各アルファベットからゴールに流量(各アルファベットの必要数)、コスト0のエッジを引く\n",
    "\n",
    "#print(G)\n",
    "PrimalDual(G,0,V-1,len(T))"
   ]
  },
  {
   "cell_type": "code",
   "execution_count": null,
   "metadata": {},
   "outputs": [
    {
     "data": {
      "text/plain": [
       "2"
      ]
     },
     "execution_count": 14,
     "metadata": {},
     "output_type": "execute_result"
    }
   ],
   "source": [
    "# ist 2022 3\n",
    "def CountTinS(S,T,k):\n",
    "    cnt = 0\n",
    "    N = len(S)\n",
    "    M = len(T)\n",
    "    for i in range(N-M+1):\n",
    "        for j in range(M):\n",
    "            if S[i+j] != T[j]:\n",
    "                break\n",
    "            if j == M-1:\n",
    "                cnt +=1\n",
    "    return cnt\n",
    "\n",
    "S = [1,2,0,2,1,0,2,1]\n",
    "T = [2,1]\n",
    "k = 3\n",
    "CountTinS(S,T,k)"
   ]
  },
  {
   "cell_type": "code",
   "execution_count": null,
   "metadata": {},
   "outputs": [
    {
     "data": {
      "text/plain": [
       "2"
      ]
     },
     "execution_count": 21,
     "metadata": {},
     "output_type": "execute_result"
    }
   ],
   "source": [
    "# O(n)ver\n",
    "def CountTinS2(S,T,k):\n",
    "    def matchTinS(numS):\n",
    "        return True if numS == numT else False\n",
    "        \n",
    "    cnt = 0\n",
    "    N = len(S)\n",
    "    M = len(T)\n",
    "    numS = 0\n",
    "    numT = 0\n",
    "    for i in range(M):\n",
    "        numS += S[i] * pow(k,M-i-1)\n",
    "        numT += T[i] * pow(k,M-i-1)\n",
    "    for i in range(N-M+1):\n",
    "        if i > 0:\n",
    "            numS = (numS - S[i-1] * pow(k,M-1)) * k + S[i+M-1]\n",
    "        if matchTinS(numS):\n",
    "            cnt +=1\n",
    "    return cnt\n",
    "\n",
    "S = [1,2,0,2,1,0,2,1]\n",
    "T = [2,1]\n",
    "k = 3\n",
    "CountTinS2(S,T,k)"
   ]
  },
  {
   "cell_type": "code",
   "execution_count": null,
   "metadata": {},
   "outputs": [
    {
     "data": {
      "text/plain": [
       "<function matplotlib.pyplot.show(close=None, block=None)>"
      ]
     },
     "execution_count": 10,
     "metadata": {},
     "output_type": "execute_result"
    },
    {
     "data": {
      "image/png": "[encoded data removed]",
      "image/svg+xml": "<?xml version=\"1.0\" encoding=\"utf-8\" standalone=\"no\"?>\r\n<!DOCTYPE svg PUBLIC \"-//W3C//DTD SVG 1.1//EN\"\r\n  \"http://www.w3.org/Graphics/SVG/1.1/DTD/svg11.dtd\">\r\n<svg height=\"248.518125pt\" version=\"1.1\" viewBox=\"0 0 370.942187 248.518125\" width=\"370.942187pt\" xmlns=\"http://www.w3.org/2000/svg\" xmlns:xlink=\"http://www.w3.org/1999/xlink\">\r\n <metadata>\r\n  <rdf:RDF xmlns:cc=\"http://creativecommons.org/ns#\" xmlns:dc=\"http://purl.org/dc/elements/1.1/\" xmlns:rdf=\"http://www.w3.org/1999/02/22-rdf-syntax-ns#\">\r\n   <cc:Work>\r\n    <dc:type rdf:resource=\"http://purl.org/dc/dcmitype/StillImage\"/>\r\n    <dc:date>2021-10-07T17:38:00.688132</dc:date>\r\n    <dc:format>image/svg+xml</dc:format>\r\n    <dc:creator>\r\n     <cc:Agent>\r\n      <dc:title>Matplotlib v3.4.3, https://matplotlib.org/</dc:title>\r\n     </cc:Agent>\r\n    </dc:creator>\r\n   </cc:Work>\r\n  </rdf:RDF>\r\n </metadata>\r\n <defs>\r\n  <style type=\"text/css\">*{stroke-linecap:butt;stroke-linejoin:round;}</style>\r\n </defs>\r\n <g id=\"figure_1\">\r\n  <g id=\"patch_1\">\r\n   <path d=\"M 0 248.518125 \r\nL 370.942187 248.518125 \r\nL 370.942187 0 \r\nL 0 0 \r\nz\r\n\" style=\"fill:none;\"/>\r\n  </g>\r\n  <g id=\"axes_1\">\r\n   <g id=\"patch_2\">\r\n    <path d=\"M 28.942188 224.64 \r\nL 363.742188 224.64 \r\nL 363.742188 7.2 \r\nL 28.942188 7.2 \r\nz\r\n\" style=\"fill:#ffffff;\"/>\r\n   </g>\r\n   <g id=\"matplotlib.axis_1\">\r\n    <g id=\"xtick_1\">\r\n     <g id=\"line2d_1\">\r\n      <defs>\r\n       <path d=\"M 0 0 \r\nL 0 3.5 \r\n\" id=\"m3e07150a2f\" style=\"stroke:#000000;stroke-width:0.8;\"/>\r\n      </defs>\r\n      <g>\r\n       <use style=\"stroke:#000000;stroke-width:0.8;\" x=\"77.978551\" xlink:href=\"#m3e07150a2f\" y=\"224.64\"/>\r\n      </g>\r\n     </g>\r\n     <g id=\"text_1\">\r\n      <!-- 2 -->\r\n      <g transform=\"translate(74.797301 239.238437)scale(0.1 -0.1)\">\r\n       <defs>\r\n        <path d=\"M 1228 531 \r\nL 3431 531 \r\nL 3431 0 \r\nL 469 0 \r\nL 469 531 \r\nQ 828 903 1448 1529 \r\nQ 2069 2156 2228 2338 \r\nQ 2531 2678 2651 2914 \r\nQ 2772 3150 2772 3378 \r\nQ 2772 3750 2511 3984 \r\nQ 2250 4219 1831 4219 \r\nQ 1534 4219 1204 4116 \r\nQ 875 4013 500 3803 \r\nL 500 4441 \r\nQ 881 4594 1212 4672 \r\nQ 1544 4750 1819 4750 \r\nQ 2544 4750 2975 4387 \r\nQ 3406 4025 3406 3419 \r\nQ 3406 3131 3298 2873 \r\nQ 3191 2616 2906 2266 \r\nQ 2828 2175 2409 1742 \r\nQ 1991 1309 1228 531 \r\nz\r\n\" id=\"DejaVuSans-32\" transform=\"scale(0.015625)\"/>\r\n       </defs>\r\n       <use xlink:href=\"#DejaVuSans-32\"/>\r\n      </g>\r\n     </g>\r\n    </g>\r\n    <g id=\"xtick_2\">\r\n     <g id=\"line2d_2\">\r\n      <g>\r\n       <use style=\"stroke:#000000;stroke-width:0.8;\" x=\"145.614915\" xlink:href=\"#m3e07150a2f\" y=\"224.64\"/>\r\n      </g>\r\n     </g>\r\n     <g id=\"text_2\">\r\n      <!-- 4 -->\r\n      <g transform=\"translate(142.433665 239.238437)scale(0.1 -0.1)\">\r\n       <defs>\r\n        <path d=\"M 2419 4116 \r\nL 825 1625 \r\nL 2419 1625 \r\nL 2419 4116 \r\nz\r\nM 2253 4666 \r\nL 3047 4666 \r\nL 3047 1625 \r\nL 3713 1625 \r\nL 3713 1100 \r\nL 3047 1100 \r\nL 3047 0 \r\nL 2419 0 \r\nL 2419 1100 \r\nL 313 1100 \r\nL 313 1709 \r\nL 2253 4666 \r\nz\r\n\" id=\"DejaVuSans-34\" transform=\"scale(0.015625)\"/>\r\n       </defs>\r\n       <use xlink:href=\"#DejaVuSans-34\"/>\r\n      </g>\r\n     </g>\r\n    </g>\r\n    <g id=\"xtick_3\">\r\n     <g id=\"line2d_3\">\r\n      <g>\r\n       <use style=\"stroke:#000000;stroke-width:0.8;\" x=\"213.251278\" xlink:href=\"#m3e07150a2f\" y=\"224.64\"/>\r\n      </g>\r\n     </g>\r\n     <g id=\"text_3\">\r\n      <!-- 6 -->\r\n      <g transform=\"translate(210.070028 239.238437)scale(0.1 -0.1)\">\r\n       <defs>\r\n        <path d=\"M 2113 2584 \r\nQ 1688 2584 1439 2293 \r\nQ 1191 2003 1191 1497 \r\nQ 1191 994 1439 701 \r\nQ 1688 409 2113 409 \r\nQ 2538 409 2786 701 \r\nQ 3034 994 3034 1497 \r\nQ 3034 2003 2786 2293 \r\nQ 2538 2584 2113 2584 \r\nz\r\nM 3366 4563 \r\nL 3366 3988 \r\nQ 3128 4100 2886 4159 \r\nQ 2644 4219 2406 4219 \r\nQ 1781 4219 1451 3797 \r\nQ 1122 3375 1075 2522 \r\nQ 1259 2794 1537 2939 \r\nQ 1816 3084 2150 3084 \r\nQ 2853 3084 3261 2657 \r\nQ 3669 2231 3669 1497 \r\nQ 3669 778 3244 343 \r\nQ 2819 -91 2113 -91 \r\nQ 1303 -91 875 529 \r\nQ 447 1150 447 2328 \r\nQ 447 3434 972 4092 \r\nQ 1497 4750 2381 4750 \r\nQ 2619 4750 2861 4703 \r\nQ 3103 4656 3366 4563 \r\nz\r\n\" id=\"DejaVuSans-36\" transform=\"scale(0.015625)\"/>\r\n       </defs>\r\n       <use xlink:href=\"#DejaVuSans-36\"/>\r\n      </g>\r\n     </g>\r\n    </g>\r\n    <g id=\"xtick_4\">\r\n     <g id=\"line2d_4\">\r\n      <g>\r\n       <use style=\"stroke:#000000;stroke-width:0.8;\" x=\"280.887642\" xlink:href=\"#m3e07150a2f\" y=\"224.64\"/>\r\n      </g>\r\n     </g>\r\n     <g id=\"text_4\">\r\n      <!-- 8 -->\r\n      <g transform=\"translate(277.706392 239.238437)scale(0.1 -0.1)\">\r\n       <defs>\r\n        <path d=\"M 2034 2216 \r\nQ 1584 2216 1326 1975 \r\nQ 1069 1734 1069 1313 \r\nQ 1069 891 1326 650 \r\nQ 1584 409 2034 409 \r\nQ 2484 409 2743 651 \r\nQ 3003 894 3003 1313 \r\nQ 3003 1734 2745 1975 \r\nQ 2488 2216 2034 2216 \r\nz\r\nM 1403 2484 \r\nQ 997 2584 770 2862 \r\nQ 544 3141 544 3541 \r\nQ 544 4100 942 4425 \r\nQ 1341 4750 2034 4750 \r\nQ 2731 4750 3128 4425 \r\nQ 3525 4100 3525 3541 \r\nQ 3525 3141 3298 2862 \r\nQ 3072 2584 2669 2484 \r\nQ 3125 2378 3379 2068 \r\nQ 3634 1759 3634 1313 \r\nQ 3634 634 3220 271 \r\nQ 2806 -91 2034 -91 \r\nQ 1263 -91 848 271 \r\nQ 434 634 434 1313 \r\nQ 434 1759 690 2068 \r\nQ 947 2378 1403 2484 \r\nz\r\nM 1172 3481 \r\nQ 1172 3119 1398 2916 \r\nQ 1625 2713 2034 2713 \r\nQ 2441 2713 2670 2916 \r\nQ 2900 3119 2900 3481 \r\nQ 2900 3844 2670 4047 \r\nQ 2441 4250 2034 4250 \r\nQ 1625 4250 1398 4047 \r\nQ 1172 3844 1172 3481 \r\nz\r\n\" id=\"DejaVuSans-38\" transform=\"scale(0.015625)\"/>\r\n       </defs>\r\n       <use xlink:href=\"#DejaVuSans-38\"/>\r\n      </g>\r\n     </g>\r\n    </g>\r\n    <g id=\"xtick_5\">\r\n     <g id=\"line2d_5\">\r\n      <g>\r\n       <use style=\"stroke:#000000;stroke-width:0.8;\" x=\"348.524006\" xlink:href=\"#m3e07150a2f\" y=\"224.64\"/>\r\n      </g>\r\n     </g>\r\n     <g id=\"text_5\">\r\n      <!-- 10 -->\r\n      <g transform=\"translate(342.161506 239.238437)scale(0.1 -0.1)\">\r\n       <defs>\r\n        <path d=\"M 794 531 \r\nL 1825 531 \r\nL 1825 4091 \r\nL 703 3866 \r\nL 703 4441 \r\nL 1819 4666 \r\nL 2450 4666 \r\nL 2450 531 \r\nL 3481 531 \r\nL 3481 0 \r\nL 794 0 \r\nL 794 531 \r\nz\r\n\" id=\"DejaVuSans-31\" transform=\"scale(0.015625)\"/>\r\n        <path d=\"M 2034 4250 \r\nQ 1547 4250 1301 3770 \r\nQ 1056 3291 1056 2328 \r\nQ 1056 1369 1301 889 \r\nQ 1547 409 2034 409 \r\nQ 2525 409 2770 889 \r\nQ 3016 1369 3016 2328 \r\nQ 3016 3291 2770 3770 \r\nQ 2525 4250 2034 4250 \r\nz\r\nM 2034 4750 \r\nQ 2819 4750 3233 4129 \r\nQ 3647 3509 3647 2328 \r\nQ 3647 1150 3233 529 \r\nQ 2819 -91 2034 -91 \r\nQ 1250 -91 836 529 \r\nQ 422 1150 422 2328 \r\nQ 422 3509 836 4129 \r\nQ 1250 4750 2034 4750 \r\nz\r\n\" id=\"DejaVuSans-30\" transform=\"scale(0.015625)\"/>\r\n       </defs>\r\n       <use xlink:href=\"#DejaVuSans-31\"/>\r\n       <use x=\"63.623047\" xlink:href=\"#DejaVuSans-30\"/>\r\n      </g>\r\n     </g>\r\n    </g>\r\n   </g>\r\n   <g id=\"matplotlib.axis_2\">\r\n    <g id=\"ytick_1\">\r\n     <g id=\"line2d_6\">\r\n      <defs>\r\n       <path d=\"M 0 0 \r\nL -3.5 0 \r\n\" id=\"ma5f3c131fc\" style=\"stroke:#000000;stroke-width:0.8;\"/>\r\n      </defs>\r\n      <g>\r\n       <use style=\"stroke:#000000;stroke-width:0.8;\" x=\"28.942188\" xlink:href=\"#ma5f3c131fc\" y=\"203.241173\"/>\r\n      </g>\r\n     </g>\r\n     <g id=\"text_6\">\r\n      <!-- −2 -->\r\n      <g transform=\"translate(7.2 207.040392)scale(0.1 -0.1)\">\r\n       <defs>\r\n        <path d=\"M 678 2272 \r\nL 4684 2272 \r\nL 4684 1741 \r\nL 678 1741 \r\nL 678 2272 \r\nz\r\n\" id=\"DejaVuSans-2212\" transform=\"scale(0.015625)\"/>\r\n       </defs>\r\n       <use xlink:href=\"#DejaVuSans-2212\"/>\r\n       <use x=\"83.789062\" xlink:href=\"#DejaVuSans-32\"/>\r\n      </g>\r\n     </g>\r\n    </g>\r\n    <g id=\"ytick_2\">\r\n     <g id=\"line2d_7\">\r\n      <g>\r\n       <use style=\"stroke:#000000;stroke-width:0.8;\" x=\"28.942188\" xlink:href=\"#ma5f3c131fc\" y=\"169.422991\"/>\r\n      </g>\r\n     </g>\r\n     <g id=\"text_7\">\r\n      <!-- −1 -->\r\n      <g transform=\"translate(7.2 173.22221)scale(0.1 -0.1)\">\r\n       <use xlink:href=\"#DejaVuSans-2212\"/>\r\n       <use x=\"83.789062\" xlink:href=\"#DejaVuSans-31\"/>\r\n      </g>\r\n     </g>\r\n    </g>\r\n    <g id=\"ytick_3\">\r\n     <g id=\"line2d_8\">\r\n      <g>\r\n       <use style=\"stroke:#000000;stroke-width:0.8;\" x=\"28.942188\" xlink:href=\"#ma5f3c131fc\" y=\"135.604809\"/>\r\n      </g>\r\n     </g>\r\n     <g id=\"text_8\">\r\n      <!-- 0 -->\r\n      <g transform=\"translate(15.579688 139.404028)scale(0.1 -0.1)\">\r\n       <use xlink:href=\"#DejaVuSans-30\"/>\r\n      </g>\r\n     </g>\r\n    </g>\r\n    <g id=\"ytick_4\">\r\n     <g id=\"line2d_9\">\r\n      <g>\r\n       <use style=\"stroke:#000000;stroke-width:0.8;\" x=\"28.942188\" xlink:href=\"#ma5f3c131fc\" y=\"101.786627\"/>\r\n      </g>\r\n     </g>\r\n     <g id=\"text_9\">\r\n      <!-- 1 -->\r\n      <g transform=\"translate(15.579688 105.585846)scale(0.1 -0.1)\">\r\n       <use xlink:href=\"#DejaVuSans-31\"/>\r\n      </g>\r\n     </g>\r\n    </g>\r\n    <g id=\"ytick_5\">\r\n     <g id=\"line2d_10\">\r\n      <g>\r\n       <use style=\"stroke:#000000;stroke-width:0.8;\" x=\"28.942188\" xlink:href=\"#ma5f3c131fc\" y=\"67.968446\"/>\r\n      </g>\r\n     </g>\r\n     <g id=\"text_10\">\r\n      <!-- 2 -->\r\n      <g transform=\"translate(15.579688 71.767664)scale(0.1 -0.1)\">\r\n       <use xlink:href=\"#DejaVuSans-32\"/>\r\n      </g>\r\n     </g>\r\n    </g>\r\n    <g id=\"ytick_6\">\r\n     <g id=\"line2d_11\">\r\n      <g>\r\n       <use style=\"stroke:#000000;stroke-width:0.8;\" x=\"28.942188\" xlink:href=\"#ma5f3c131fc\" y=\"34.150264\"/>\r\n      </g>\r\n     </g>\r\n     <g id=\"text_11\">\r\n      <!-- 3 -->\r\n      <g transform=\"translate(15.579688 37.949482)scale(0.1 -0.1)\">\r\n       <defs>\r\n        <path d=\"M 2597 2516 \r\nQ 3050 2419 3304 2112 \r\nQ 3559 1806 3559 1356 \r\nQ 3559 666 3084 287 \r\nQ 2609 -91 1734 -91 \r\nQ 1441 -91 1130 -33 \r\nQ 819 25 488 141 \r\nL 488 750 \r\nQ 750 597 1062 519 \r\nQ 1375 441 1716 441 \r\nQ 2309 441 2620 675 \r\nQ 2931 909 2931 1356 \r\nQ 2931 1769 2642 2001 \r\nQ 2353 2234 1838 2234 \r\nL 1294 2234 \r\nL 1294 2753 \r\nL 1863 2753 \r\nQ 2328 2753 2575 2939 \r\nQ 2822 3125 2822 3475 \r\nQ 2822 3834 2567 4026 \r\nQ 2313 4219 1838 4219 \r\nQ 1578 4219 1281 4162 \r\nQ 984 4106 628 3988 \r\nL 628 4550 \r\nQ 988 4650 1302 4700 \r\nQ 1616 4750 1894 4750 \r\nQ 2613 4750 3031 4423 \r\nQ 3450 4097 3450 3541 \r\nQ 3450 3153 3228 2886 \r\nQ 3006 2619 2597 2516 \r\nz\r\n\" id=\"DejaVuSans-33\" transform=\"scale(0.015625)\"/>\r\n       </defs>\r\n       <use xlink:href=\"#DejaVuSans-33\"/>\r\n      </g>\r\n     </g>\r\n    </g>\r\n   </g>\r\n   <g id=\"line2d_12\">\r\n    <path clip-path=\"url(#p040fc75063)\" d=\"M 44.160369 135.604809 \r\nL 77.978551 98.990463 \r\nL 111.796733 96.235191 \r\nL 145.614915 107.573892 \r\nL 179.433097 118.86284 \r\nL 213.251278 126.551505 \r\nL 247.06946 131.015404 \r\nL 280.887642 133.381991 \r\nL 314.705824 134.56422 \r\nL 348.524006 135.130362 \r\n\" style=\"fill:none;stroke:#1f77b4;stroke-linecap:square;stroke-width:1.5;\"/>\r\n    <defs>\r\n     <path d=\"M 0 1.5 \r\nC 0.397805 1.5 0.77937 1.341951 1.06066 1.06066 \r\nC 1.341951 0.77937 1.5 0.397805 1.5 0 \r\nC 1.5 -0.397805 1.341951 -0.77937 1.06066 -1.06066 \r\nC 0.77937 -1.341951 0.397805 -1.5 0 -1.5 \r\nC -0.397805 -1.5 -0.77937 -1.341951 -1.06066 -1.06066 \r\nC -1.341951 -0.77937 -1.5 -0.397805 -1.5 0 \r\nC -1.5 0.397805 -1.341951 0.77937 -1.06066 1.06066 \r\nC -0.77937 1.341951 -0.397805 1.5 0 1.5 \r\nz\r\n\" id=\"mcc3fbdb141\" style=\"stroke:#1f77b4;\"/>\r\n    </defs>\r\n    <g clip-path=\"url(#p040fc75063)\">\r\n     <use style=\"fill:#1f77b4;stroke:#1f77b4;\" x=\"44.160369\" xlink:href=\"#mcc3fbdb141\" y=\"135.604809\"/>\r\n     <use style=\"fill:#1f77b4;stroke:#1f77b4;\" x=\"77.978551\" xlink:href=\"#mcc3fbdb141\" y=\"98.990463\"/>\r\n     <use style=\"fill:#1f77b4;stroke:#1f77b4;\" x=\"111.796733\" xlink:href=\"#mcc3fbdb141\" y=\"96.235191\"/>\r\n     <use style=\"fill:#1f77b4;stroke:#1f77b4;\" x=\"145.614915\" xlink:href=\"#mcc3fbdb141\" y=\"107.573892\"/>\r\n     <use style=\"fill:#1f77b4;stroke:#1f77b4;\" x=\"179.433097\" xlink:href=\"#mcc3fbdb141\" y=\"118.86284\"/>\r\n     <use style=\"fill:#1f77b4;stroke:#1f77b4;\" x=\"213.251278\" xlink:href=\"#mcc3fbdb141\" y=\"126.551505\"/>\r\n     <use style=\"fill:#1f77b4;stroke:#1f77b4;\" x=\"247.06946\" xlink:href=\"#mcc3fbdb141\" y=\"131.015404\"/>\r\n     <use style=\"fill:#1f77b4;stroke:#1f77b4;\" x=\"280.887642\" xlink:href=\"#mcc3fbdb141\" y=\"133.381991\"/>\r\n     <use style=\"fill:#1f77b4;stroke:#1f77b4;\" x=\"314.705824\" xlink:href=\"#mcc3fbdb141\" y=\"134.56422\"/>\r\n     <use style=\"fill:#1f77b4;stroke:#1f77b4;\" x=\"348.524006\" xlink:href=\"#mcc3fbdb141\" y=\"135.130362\"/>\r\n    </g>\r\n   </g>\r\n   <g id=\"patch_3\">\r\n    <path d=\"M 28.942188 224.64 \r\nL 28.942188 7.2 \r\n\" style=\"fill:none;stroke:#000000;stroke-linecap:square;stroke-linejoin:miter;stroke-width:0.8;\"/>\r\n   </g>\r\n   <g id=\"patch_4\">\r\n    <path d=\"M 363.742188 224.64 \r\nL 363.742188 7.2 \r\n\" style=\"fill:none;stroke:#000000;stroke-linecap:square;stroke-linejoin:miter;stroke-width:0.8;\"/>\r\n   </g>\r\n   <g id=\"patch_5\">\r\n    <path d=\"M 28.942187 224.64 \r\nL 363.742188 224.64 \r\n\" style=\"fill:none;stroke:#000000;stroke-linecap:square;stroke-linejoin:miter;stroke-width:0.8;\"/>\r\n   </g>\r\n   <g id=\"patch_6\">\r\n    <path d=\"M 28.942187 7.2 \r\nL 363.742188 7.2 \r\n\" style=\"fill:none;stroke:#000000;stroke-linecap:square;stroke-linejoin:miter;stroke-width:0.8;\"/>\r\n   </g>\r\n  </g>\r\n </g>\r\n <defs>\r\n  <clipPath id=\"p040fc75063\">\r\n   <rect height=\"217.44\" width=\"334.8\" x=\"28.942188\" y=\"7.2\"/>\r\n  </clipPath>\r\n </defs>\r\n</svg>\r\n",
      "text/plain": [
       "<Figure size 432x288 with 1 Axes>"
      ]
     },
     "metadata": {
      "needs_background": "light"
     },
     "output_type": "display_data"
    }
   ],
   "source": [
    "import numpy as np\n",
    "import matplotlib.pyplot as plt\n",
    "plt.axes().set_aspect('equal', 'datalim')\n",
    "n = 10\n",
    "N = np.arange(1, n+1)\n",
    "x = (N ** 3) * np.exp(-N) * np.sin(np.pi/N)\n",
    "plt.plot(N, x, marker=\".\")\n",
    "plt.show"
   ]
  },
  {
   "cell_type": "code",
   "execution_count": null,
   "metadata": {},
   "outputs": [
    {
     "name": "stdout",
     "output_type": "stream",
     "text": [
      "[10.          1.16415538  0.        ]\n"
     ]
    }
   ],
   "source": [
    "y = np.array([len(N), max(x), np.where(x == min(x))[0].tolist()[0]])\n",
    "print(y)"
   ]
  },
  {
   "cell_type": "code",
   "execution_count": null,
   "metadata": {},
   "outputs": [
    {
     "name": "stdout",
     "output_type": "stream",
     "text": [
      "[[14.11425088 12.80022746 -4.40471495  3.59558192 19.10768078]\n",
      " [ 0.47677663  0.20531775 -0.28449202  0.20393708  0.43916679]]\n"
     ]
    }
   ],
   "source": [
    "a = np.random.normal(loc = 1, scale = np.sqrt(100), size  = 5)\n",
    "b = 2 * np.random.rand(5) - 1\n",
    "X = np.matrix([a, b])\n",
    "print(X)"
   ]
  },
  {
   "cell_type": "code",
   "execution_count": 1,
   "metadata": {},
   "outputs": [],
   "source": [
    "import requests\n",
    "import json\n",
    "endpoint = 'https://api.github.com/graphql'\n",
    "token = ''\n",
    "\n",
    "def post(query):\n",
    "    headers = {\"Authorization\": \"bearer \" + token}\n",
    "    res = requests.post(endpoint, json=query, headers=headers)\n",
    "    if res.status_code != 200:\n",
    "      raise Exception(\"failed : {}\".format(res.status_code))\n",
    "    return res.json()"
   ]
  },
  {
   "cell_type": "code",
   "execution_count": 37,
   "metadata": {},
   "outputs": [
    {
     "name": "stdout",
     "output_type": "stream",
     "text": [
      "4\n"
     ]
    }
   ],
   "source": [
    "# query\n",
    "query0 = { 'query' : \"\"\"\n",
    "  query {\n",
    "    search(query: \"language:python stars:>=1000 sort:stars\", type: REPOSITORY, first: 10) {\n",
    "      edges {\n",
    "        node {\n",
    "          ... on Repository {\n",
    "            nameWithOwner\n",
    "            url\n",
    "            createdAt\n",
    "            description\n",
    "            stargazers{\n",
    "              totalCount\n",
    "            }\n",
    "          }\n",
    "        }\n",
    "      }\n",
    "    }\n",
    "  }\n",
    "  \"\"\"\n",
    "}\n",
    "\n",
    "query = { 'query' : \"\"\"\n",
    "  query userInfo($username: String!) {\n",
    "    user(login: $username) {\n",
    "      createdAt\n",
    "      contributionsCollection {\n",
    "        totalCommitContributions\n",
    "        restrictedContributionsCount\n",
    "      }\n",
    "      organizations(first: 1) {\n",
    "        totalCount\n",
    "      }\n",
    "      followers(first: 1) {\n",
    "        totalCount\n",
    "      }\n",
    "    }\n",
    "  }\n",
    "  \"\"\"\n",
    "  , 'variables' : {'username' : 'wolfram1293'}\n",
    "}\n",
    "\n",
    "# post\n",
    "res = post(query)\n",
    "#print('{}'.format(json.dumps(res)))\n",
    "print(res['data']['user']['organizations']['totalCount'])"
   ]
  },
  {
   "cell_type": "code",
   "execution_count": 1,
   "metadata": {},
   "outputs": [],
   "source": [
    "def solution(A):\n",
    "    # write your code in Python 3.6\n",
    "    A.sort()\n",
    "    N = len(A)\n",
    "    ans = 1\n",
    "    for a in A:\n",
    "        if a == ans:\n",
    "            ans += 1\n",
    "        elif a > ans:\n",
    "            break\n",
    "            \n",
    "    return ans\n"
   ]
  },
  {
   "cell_type": "code",
   "execution_count": 1,
   "metadata": {},
   "outputs": [],
   "source": [
    "def solution(A, B, C):\n",
    "    # write your code in Python 3.6\n",
    "    l = [[A,'a'], [B,'b'], [C,'c']]\n",
    "    l.sort(reverse=True)\n",
    "    ans = ''\n",
    "    if l[0][0] // 2 + 1 > l[1][0] + l[2][0]:\n",
    "        while True:\n",
    "            for i in range(2):\n",
    "                if l[0][0] == 0:\n",
    "                    break\n",
    "                ans += l[0][1]\n",
    "                l[0][0] -= 1\n",
    "            \n",
    "            if l[1][0] > 0:\n",
    "                ans += l[1][1]\n",
    "                l[1][0] -= 1\n",
    "                continue\n",
    "\n",
    "            elif l[2][0] > 0:\n",
    "                ans += l[2][1]\n",
    "                l[2][0] -= 1\n",
    "                continue\n",
    "\n",
    "            else:\n",
    "                break\n",
    "\n",
    "    elif l[0][0] // 2 + 1  > l[1][0] // 2 + 1  + l[2][0]:\n",
    "        while True:\n",
    "            for i in range(2):\n",
    "                if l[0][0] == 0:\n",
    "                    break\n",
    "                ans += l[0][1]\n",
    "                l[0][0] -= 1\n",
    "\n",
    "            for i in range(2):\n",
    "                if l[1][0] == 0:\n",
    "                    break\n",
    "                ans += l[1][1]\n",
    "                l[1][0] -= 1\n",
    "            \n",
    "            if l[2][0] > 0:\n",
    "                ans += l[2][1]\n",
    "                l[2][0] -= 1\n",
    "                continue\n",
    "\n",
    "            else:\n",
    "                break\n",
    "    \n",
    "    elif l[0][0] > l[1][0] + l[2][0]:\n",
    "        while True:\n",
    "            for i in range(1):\n",
    "                if l[0][0] == 0:\n",
    "                    break\n",
    "                ans += l[0][1]\n",
    "                l[0][0] -= 1\n",
    "            \n",
    "            if l[1][0] > 0:\n",
    "                ans += l[1][1]\n",
    "                l[1][0] -= 1\n",
    "                continue\n",
    "\n",
    "            elif l[2][0] > 0:\n",
    "                ans += l[2][1]\n",
    "                l[2][0] -= 1\n",
    "                continue\n",
    "\n",
    "            else:\n",
    "                break\n",
    "\n",
    "\n",
    "    return ans"
   ]
  },
  {
   "cell_type": "code",
   "execution_count": 2,
   "metadata": {},
   "outputs": [
    {
     "name": "stdout",
     "output_type": "stream",
     "text": [
      "Error1\n"
     ]
    },
    {
     "ename": "SystemExit",
     "evalue": "1",
     "output_type": "error",
     "traceback": [
      "An exception has occurred, use %tb to see the full traceback.\n",
      "\u001b[1;31mSystemExit\u001b[0m\u001b[1;31m:\u001b[0m 1\n"
     ]
    },
    {
     "name": "stderr",
     "output_type": "stream",
     "text": [
      "C:\\Users\\Yuki\\AppData\\Roaming\\Python\\Python39\\site-packages\\IPython\\core\\interactiveshell.py:3435: UserWarning: To exit: use 'exit', 'quit', or Ctrl-D.\n",
      "  warn(\"To exit: use 'exit', 'quit', or Ctrl-D.\", stacklevel=1)\n"
     ]
    }
   ],
   "source": [
    "import sys\n",
    "import requests\n",
    "import json\n",
    "\n",
    "def f(n, table):\n",
    "    if table[n] == 0:\n",
    "        if n == 0:\n",
    "            table[n] = 1\n",
    "        elif n == 2:\n",
    "            table[n] = 2\n",
    "        elif n % 2 == 0:\n",
    "            table[n] = f(n-1, table) + f(n-2, table) + f(n-3, table) + f(n-4, table)\n",
    "        else:\n",
    "            table[n] = askServer(n)\n",
    "\n",
    "    return table[n]\n",
    "\n",
    "def askServer(n):\n",
    "    endpoint = 'http://challenge-server.code-check.io/api/recursive/ask'\n",
    "    payload = {\"seed\": seed,\"n\": n}\n",
    "    r = requests.get(endpoint, params=payload).json()['result']\n",
    "    return r\n",
    "\n",
    "argv = sys.argv\n",
    "if len(argv) == 3:\n",
    "    try:\n",
    "        seed = argv[1]\n",
    "        n = int(argv[2])\n",
    "    except:\n",
    "        print('Error2')\n",
    "        sys.exit(1)\n",
    "else:\n",
    "    print('Error1')\n",
    "    sys.exit(1)\n",
    "\n",
    "table = [0] * (n+1)\n",
    "print(f(n, table))\n",
    "\n",
    "# 漸化式\n",
    "def f(n):\n",
    "    table = [0] * (n+1)\n",
    "    for i in range(n+1):\n",
    "        if i == 0:\n",
    "            table[i] = 1\n",
    "        elif i == 2:\n",
    "            table[i] = 2\n",
    "        elif i % 2 == 0:\n",
    "            table[i] = table[i-1] + table[i-2]  + table[i-3]  + table[i-4]\n",
    "        else:\n",
    "            table[i] = askServer(i)\n",
    "\n",
    "    return table[n]"
   ]
  },
  {
   "cell_type": "code",
   "execution_count": 3,
   "metadata": {},
   "outputs": [
    {
     "ename": "ValueError",
     "evalue": "not enough values to unpack (expected 2, got 0)",
     "output_type": "error",
     "traceback": [
      "\u001b[1;31m---------------------------------------------------------------------------\u001b[0m",
      "\u001b[1;31mValueError\u001b[0m                                Traceback (most recent call last)",
      "\u001b[1;32m<ipython-input-3-1155039c9749>\u001b[0m in \u001b[0;36m<module>\u001b[1;34m\u001b[0m\n\u001b[0;32m      1\u001b[0m \u001b[1;32mimport\u001b[0m \u001b[0msys\u001b[0m\u001b[1;33m\u001b[0m\u001b[1;33m\u001b[0m\u001b[0m\n\u001b[0;32m      2\u001b[0m \u001b[1;33m\u001b[0m\u001b[0m\n\u001b[1;32m----> 3\u001b[1;33m \u001b[0mn\u001b[0m\u001b[1;33m,\u001b[0m \u001b[0mk\u001b[0m \u001b[1;33m=\u001b[0m \u001b[0mmap\u001b[0m\u001b[1;33m(\u001b[0m\u001b[0mint\u001b[0m\u001b[1;33m,\u001b[0m \u001b[0minput\u001b[0m\u001b[1;33m(\u001b[0m\u001b[1;33m)\u001b[0m\u001b[1;33m.\u001b[0m\u001b[0msplit\u001b[0m\u001b[1;33m(\u001b[0m\u001b[1;33m)\u001b[0m\u001b[1;33m)\u001b[0m\u001b[1;33m\u001b[0m\u001b[1;33m\u001b[0m\u001b[0m\n\u001b[0m\u001b[0;32m      4\u001b[0m \u001b[1;33m\u001b[0m\u001b[0m\n\u001b[0;32m      5\u001b[0m \u001b[1;32mfor\u001b[0m \u001b[0mi\u001b[0m \u001b[1;32min\u001b[0m \u001b[0mrange\u001b[0m\u001b[1;33m(\u001b[0m\u001b[0mn\u001b[0m\u001b[1;33m)\u001b[0m\u001b[1;33m:\u001b[0m \u001b[1;31m# 簡単な処理のため、入力データの処理と出力を同時に行った\u001b[0m\u001b[1;33m\u001b[0m\u001b[1;33m\u001b[0m\u001b[0m\n",
      "\u001b[1;31mValueError\u001b[0m: not enough values to unpack (expected 2, got 0)"
     ]
    }
   ],
   "source": [
    "import sys\n",
    "\n",
    "n, k = map(int, input().split())\n",
    "\n",
    "for i in range(n): # 簡単な処理のため、入力データの処理と出力を同時に行った\n",
    "    s, t = input().split()\n",
    "    t = int(t)\n",
    "    if t >= k:\n",
    "        print(s)\n"
   ]
  },
  {
   "cell_type": "code",
   "execution_count": 4,
   "metadata": {},
   "outputs": [
    {
     "ename": "ValueError",
     "evalue": "not enough values to unpack (expected 3, got 0)",
     "output_type": "error",
     "traceback": [
      "\u001b[1;31m---------------------------------------------------------------------------\u001b[0m",
      "\u001b[1;31mValueError\u001b[0m                                Traceback (most recent call last)",
      "\u001b[1;32m<ipython-input-4-c7e53a8bcc77>\u001b[0m in \u001b[0;36m<module>\u001b[1;34m\u001b[0m\n\u001b[0;32m     42\u001b[0m         \u001b[1;32mreturn\u001b[0m \u001b[0mlen\u001b[0m\u001b[1;33m(\u001b[0m\u001b[0mself\u001b[0m\u001b[1;33m.\u001b[0m\u001b[0mroots\u001b[0m\u001b[1;33m(\u001b[0m\u001b[1;33m)\u001b[0m\u001b[1;33m)\u001b[0m\u001b[1;33m\u001b[0m\u001b[1;33m\u001b[0m\u001b[0m\n\u001b[0;32m     43\u001b[0m \u001b[1;33m\u001b[0m\u001b[0m\n\u001b[1;32m---> 44\u001b[1;33m \u001b[0mn\u001b[0m\u001b[1;33m,\u001b[0m \u001b[0mm\u001b[0m\u001b[1;33m,\u001b[0m \u001b[0mk\u001b[0m \u001b[1;33m=\u001b[0m \u001b[0mmap\u001b[0m\u001b[1;33m(\u001b[0m\u001b[0mint\u001b[0m\u001b[1;33m,\u001b[0m \u001b[0minput\u001b[0m\u001b[1;33m(\u001b[0m\u001b[1;33m)\u001b[0m\u001b[1;33m.\u001b[0m\u001b[0msplit\u001b[0m\u001b[1;33m(\u001b[0m\u001b[1;33m)\u001b[0m\u001b[1;33m)\u001b[0m\u001b[1;33m\u001b[0m\u001b[1;33m\u001b[0m\u001b[0m\n\u001b[0m\u001b[0;32m     45\u001b[0m \u001b[0mc\u001b[0m \u001b[1;33m=\u001b[0m \u001b[0mlist\u001b[0m\u001b[1;33m(\u001b[0m\u001b[0mmap\u001b[0m\u001b[1;33m(\u001b[0m\u001b[0mint\u001b[0m\u001b[1;33m,\u001b[0m \u001b[0minput\u001b[0m\u001b[1;33m(\u001b[0m\u001b[1;33m)\u001b[0m\u001b[1;33m.\u001b[0m\u001b[0msplit\u001b[0m\u001b[1;33m(\u001b[0m\u001b[1;33m)\u001b[0m\u001b[1;33m)\u001b[0m\u001b[1;33m)\u001b[0m\u001b[1;33m\u001b[0m\u001b[1;33m\u001b[0m\u001b[0m\n\u001b[0;32m     46\u001b[0m \u001b[1;33m\u001b[0m\u001b[0m\n",
      "\u001b[1;31mValueError\u001b[0m: not enough values to unpack (expected 3, got 0)"
     ]
    }
   ],
   "source": [
    "import sys\n",
    "\n",
    "class UnionFind():\n",
    "    def __init__(self, n):\n",
    "        self.n = n\n",
    "        self.parent = [-1] * n\n",
    "\n",
    "    def unite(self, x, y):\n",
    "        x = self.find(x)\n",
    "        y = self.find(y)\n",
    "\n",
    "        if x == y:\n",
    "            return\n",
    "\n",
    "        if -self.parent[y] > -self.parent[x]:\n",
    "            x, y = y, x\n",
    "\n",
    "        self.parent[x] += self.parent[y]\n",
    "        self.parent[y] = x\n",
    "    \n",
    "    def find(self, x): # 要素xが属するグループの根を返す\n",
    "        if self.parent[x] < 0:\n",
    "            return x\n",
    "        else:\n",
    "            self.parent[x] = self.find(self.parent[x]) # 経路圧縮 根を調べる際に、調べた要素の親を根に変更しつなぎ直す\n",
    "            return self.parent[x]\n",
    "\n",
    "    def size(self, x): # 要素xが属するグループの要素数\n",
    "        return -self.parent[self.find(x)]\n",
    "\n",
    "    def same(self, x, y): # 同じグループに属するかどうかを返す\n",
    "        return self.find(x) == self.find(y)\n",
    "\n",
    "    def members(self, x): # 要素xが属するグループに属する要素をリストで返す\n",
    "        root = self.find(x)\n",
    "        return [i for i in range(self.n) if self.find(i) == root]\n",
    "\n",
    "    def roots(self): # すべての根の要素をリストで返す\n",
    "        return [i for i, x in enumerate(self.parent) if x < 0]\n",
    "\n",
    "    def group_count(self): # グループの数を返す\n",
    "        return len(self.roots())\n",
    "\n",
    "n, m, k = map(int, input().split())\n",
    "c = list(map(int, input().split()))\n",
    "\n",
    "uf = UnionFind(n)\n",
    "for i in range(m):\n",
    "    u, v = map(int, input().split())\n",
    "    uf.unite(u-1,v-1)\n",
    "\n",
    "prevc = c\n",
    "\n",
    "for i in range(1,k+1):\n",
    "    roots = uf.roots()\n",
    "    for v in roots:\n",
    "        cntc = {}\n",
    "        for v2 in uf.members(v):\n",
    "            if prevc[v2] not in cntc:\n",
    "                cntc[prevc[v2]] = 1\n",
    "            else:\n",
    "                cntc[prevc[v2]] += 1\n",
    "        maxc = [max(cntc)]\n",
    "        maxc2 = min(maxc)\n",
    "        for v2 in uf.members(v):\n",
    "            c[v2] = maxc2\n",
    "\n",
    "    prevc = c\n",
    "\n",
    "for ci in c:\n",
    "    print(ci)"
   ]
  },
  {
   "cell_type": "code",
   "execution_count": 24,
   "metadata": {},
   "outputs": [
    {
     "name": "stdout",
     "output_type": "stream",
     "text": [
      "1\n",
      "2\n",
      "2\n"
     ]
    }
   ],
   "source": [
    "class UnionFind():\n",
    "    def __init__(self, n):\n",
    "        self.n = n\n",
    "        self.parent = [-1] * n\n",
    "\n",
    "    def unite(self, x, y):\n",
    "        x = self.find(x)\n",
    "        y = self.find(y)\n",
    "\n",
    "        if x == y:\n",
    "            return\n",
    "\n",
    "        if -self.parent[y] > -self.parent[x]:\n",
    "            x, y = y, x\n",
    "\n",
    "        self.parent[x] += self.parent[y]\n",
    "        self.parent[y] = x\n",
    "    \n",
    "    def find(self, x): # 要素xが属するグループの根を返す\n",
    "        if self.parent[x] < 0:\n",
    "            return x\n",
    "        else:\n",
    "            self.parent[x] = self.find(self.parent[x]) # 経路圧縮 根を調べる際に、調べた要素の親を根に変更しつなぎ直す\n",
    "            return self.parent[x]\n",
    "\n",
    "    def size(self, x): # 要素xが属するグループの要素数\n",
    "        return -self.parent[self.find(x)]\n",
    "\n",
    "    def same(self, x, y): # 同じグループに属するかどうかを返す\n",
    "        return self.find(x) == self.find(y)\n",
    "\n",
    "    def members(self, x): # 要素xが属するグループに属する要素をリストで返す\n",
    "        root = self.find(x)\n",
    "        return [i for i in range(self.n) if self.find(i) == root]\n",
    "\n",
    "    def roots(self): # すべての根の要素をリストで返す\n",
    "        return [i for i, x in enumerate(self.parent) if x < 0]\n",
    "\n",
    "    def group_count(self): # グループの数を返す\n",
    "        return len(self.roots())\n",
    "\n",
    "n, m, k = 3,1,2\n",
    "c = [1,2,3]\n",
    "\n",
    "uf = UnionFind(n)\n",
    "for i in range(m):\n",
    "    u, v = 2,3\n",
    "    uf.unite(u-1,v-1)\n",
    "\n",
    "for i in range(1,k+1):\n",
    "    prevc = c\n",
    "    roots = uf.roots()\n",
    "    for v in roots:\n",
    "        cntc = {}\n",
    "        for v2 in uf.members(v):\n",
    "            if prevc[v2] not in cntc:\n",
    "                cntc[prevc[v2]] = 1\n",
    "            else:\n",
    "                cntc[prevc[v2]] += 1\n",
    "        maxc = [v[0] for v in cntc.items() if v[1] == max(cntc.values())]\n",
    "        maxc2 = min(maxc)\n",
    "        for v2 in uf.members(v):\n",
    "            c[v2] = maxc2\n",
    "\n",
    "for ci in c:\n",
    "    print(ci)\n",
    "\n",
    "'''\n",
    "UnionFind木を用いた実装\n",
    "prevcはcのバックアップ\n",
    "cntcはつながっているノードの各色の数をカウントする辞書\n",
    "maxcは色の数が最大となるノードのリスト\n",
    "maxc2は色の数が最大となるノードのリストのうち色番号の最小値を出力する\n",
    "\n",
    "バグがあり、テストケースに正解できなかったが、\n",
    "maxc = [v[0] for v in cntc.items() if v[1] == max(cntc.values())]\n",
    "とすれば意図していた動作はすると考えられる。\n",
    "\n",
    "しかし、この題意の理解だと一度色が変わったら次は変わらないと思われ、題意の理解を間違えたと考えている。\n",
    "'''"
   ]
  },
  {
   "cell_type": "code",
   "execution_count": null,
   "metadata": {},
   "outputs": [],
   "source": []
  }
 ],
 "metadata": {
  "interpreter": {
   "hash": "c25d132bfeda13c792bd644cbdde41cb6ec68286705ba4c27ace6b2206316a98"
  },
  "kernelspec": {
   "display_name": "Python 3.9.6 64-bit",
   "language": "python",
   "name": "python3"
  },
  "language_info": {
   "codemirror_mode": {
    "name": "ipython",
    "version": 3
   },
   "file_extension": ".py",
   "mimetype": "text/x-python",
   "name": "python",
   "nbconvert_exporter": "python",
   "pygments_lexer": "ipython3",
   "version": "3.9.6"
  },
  "orig_nbformat": 4
 },
 "nbformat": 4,
 "nbformat_minor": 2
}
