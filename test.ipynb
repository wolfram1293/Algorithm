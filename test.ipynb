{
 "cells": [
  {
   "cell_type": "code",
   "execution_count": 1,
   "metadata": {},
   "outputs": [
    {
     "name": "stdout",
     "output_type": "stream",
     "text": [
      "I hate it, despise it, abhor it!\n"
     ]
    }
   ],
   "source": [
    "import pandas as pd\n",
    "\n",
    "df = pd.read_csv('emobank.csv')\n",
    "\n",
    "text1 = df[df['V'] < 1.5]['text'].values[1]\n",
    "print(text1)"
   ]
  },
  {
   "cell_type": "code",
   "execution_count": 2,
   "metadata": {},
   "outputs": [
    {
     "data": {
      "text/html": [
       "<div>\n",
       "<style scoped>\n",
       "    .dataframe tbody tr th:only-of-type {\n",
       "        vertical-align: middle;\n",
       "    }\n",
       "\n",
       "    .dataframe tbody tr th {\n",
       "        vertical-align: top;\n",
       "    }\n",
       "\n",
       "    .dataframe thead th {\n",
       "        text-align: right;\n",
       "    }\n",
       "</style>\n",
       "<table border=\"1\" class=\"dataframe\">\n",
       "  <thead>\n",
       "    <tr style=\"text-align: right;\">\n",
       "      <th></th>\n",
       "      <th>id</th>\n",
       "      <th>split</th>\n",
       "      <th>V</th>\n",
       "      <th>A</th>\n",
       "      <th>D</th>\n",
       "      <th>text</th>\n",
       "    </tr>\n",
       "  </thead>\n",
       "  <tbody>\n",
       "    <tr>\n",
       "      <th>1146</th>\n",
       "      <td>A_defense_of_Michael_Moore_12034_12044</td>\n",
       "      <td>train</td>\n",
       "      <td>1.2</td>\n",
       "      <td>4.2</td>\n",
       "      <td>3.8</td>\n",
       "      <td>\"Fuck you\"</td>\n",
       "    </tr>\n",
       "    <tr>\n",
       "      <th>7949</th>\n",
       "      <td>captured_moments_5506_5538</td>\n",
       "      <td>train</td>\n",
       "      <td>1.3</td>\n",
       "      <td>4.4</td>\n",
       "      <td>3.5</td>\n",
       "      <td>I hate it, despise it, abhor it!</td>\n",
       "    </tr>\n",
       "    <tr>\n",
       "      <th>7976</th>\n",
       "      <td>captured_moments_6594_6611</td>\n",
       "      <td>train</td>\n",
       "      <td>1.4</td>\n",
       "      <td>2.9</td>\n",
       "      <td>3.2</td>\n",
       "      <td>\"Obscenely ugly,\"</td>\n",
       "    </tr>\n",
       "  </tbody>\n",
       "</table>\n",
       "</div>"
      ],
      "text/plain": [
       "                                          id  split    V    A    D  \\\n",
       "1146  A_defense_of_Michael_Moore_12034_12044  train  1.2  4.2  3.8   \n",
       "7949              captured_moments_5506_5538  train  1.3  4.4  3.5   \n",
       "7976              captured_moments_6594_6611  train  1.4  2.9  3.2   \n",
       "\n",
       "                                  text  \n",
       "1146                        \"Fuck you\"  \n",
       "7949  I hate it, despise it, abhor it!  \n",
       "7976                 \"Obscenely ugly,\"  "
      ]
     },
     "execution_count": 2,
     "metadata": {},
     "output_type": "execute_result"
    }
   ],
   "source": [
    "df[df['V'] < 1.5]"
   ]
  },
  {
   "cell_type": "code",
   "execution_count": 3,
   "metadata": {},
   "outputs": [
    {
     "name": "stdout",
     "output_type": "stream",
     "text": [
      "lol Wonderful Simply Superb!\n"
     ]
    }
   ],
   "source": [
    "text5 = df[df['V'] > 4.5]['text'].values[1]\n",
    "print(text5)"
   ]
  },
  {
   "cell_type": "code",
   "execution_count": 4,
   "metadata": {},
   "outputs": [
    {
     "data": {
      "text/html": [
       "<div>\n",
       "<style scoped>\n",
       "    .dataframe tbody tr th:only-of-type {\n",
       "        vertical-align: middle;\n",
       "    }\n",
       "\n",
       "    .dataframe tbody tr th {\n",
       "        vertical-align: top;\n",
       "    }\n",
       "\n",
       "    .dataframe thead th {\n",
       "        text-align: right;\n",
       "    }\n",
       "</style>\n",
       "<table border=\"1\" class=\"dataframe\">\n",
       "  <thead>\n",
       "    <tr style=\"text-align: right;\">\n",
       "      <th></th>\n",
       "      <th>id</th>\n",
       "      <th>split</th>\n",
       "      <th>V</th>\n",
       "      <th>A</th>\n",
       "      <th>D</th>\n",
       "      <th>text</th>\n",
       "    </tr>\n",
       "  </thead>\n",
       "  <tbody>\n",
       "    <tr>\n",
       "      <th>849</th>\n",
       "      <td>20020731-nyt_25143_25174</td>\n",
       "      <td>train</td>\n",
       "      <td>4.56</td>\n",
       "      <td>4.0</td>\n",
       "      <td>3.78</td>\n",
       "      <td>\"I am thrilled with the price.\"</td>\n",
       "    </tr>\n",
       "    <tr>\n",
       "      <th>9595</th>\n",
       "      <td>vampires_4446_4474</td>\n",
       "      <td>train</td>\n",
       "      <td>4.60</td>\n",
       "      <td>4.3</td>\n",
       "      <td>3.70</td>\n",
       "      <td>lol Wonderful Simply Superb!</td>\n",
       "    </tr>\n",
       "  </tbody>\n",
       "</table>\n",
       "</div>"
      ],
      "text/plain": [
       "                            id  split     V    A     D  \\\n",
       "849   20020731-nyt_25143_25174  train  4.56  4.0  3.78   \n",
       "9595        vampires_4446_4474  train  4.60  4.3  3.70   \n",
       "\n",
       "                                 text  \n",
       "849   \"I am thrilled with the price.\"  \n",
       "9595     lol Wonderful Simply Superb!  "
      ]
     },
     "execution_count": 4,
     "metadata": {},
     "output_type": "execute_result"
    }
   ],
   "source": [
    "df[df['V'] > 4.5]"
   ]
  },
  {
   "cell_type": "code",
   "execution_count": 5,
   "metadata": {},
   "outputs": [],
   "source": [
    "text2 = df[df['V'] == 2].head(1)['text'].values[0]"
   ]
  },
  {
   "cell_type": "code",
   "execution_count": 6,
   "metadata": {},
   "outputs": [
    {
     "name": "stdout",
     "output_type": "stream",
     "text": [
      "                                   id  split    V     A     D  \\\n",
      "158                 110CYL200_389_480  train  2.0  3.50  2.38   \n",
      "1613         Anti-Terrorist_2032_2130  train  2.0  3.00  2.80   \n",
      "2187   Fermentation_HR5034_9996_10126  train  2.0  3.25  2.62   \n",
      "2533                  IFAW1_1303_1324   test  2.0  3.00  3.00   \n",
      "2947           NYTnewswire2_8918_8994   test  2.0  3.10  2.90   \n",
      "...                               ...    ...  ...   ...   ...   \n",
      "9481                  marine1_490_675  train  2.0  3.20  2.90   \n",
      "9485                  marine1_818_936  train  2.0  3.22  2.89   \n",
      "9635        wildelifewatch1_1328_1440  train  2.0  3.44  2.78   \n",
      "9997               wsj_2465_1041_1137  train  2.0  3.18  2.73   \n",
      "10010                wsj_2465_270_334  train  2.0  3.00  2.67   \n",
      "\n",
      "                                                    text  \n",
      "158    Reality hit when he was unable to reconcile wi...  \n",
      "1613   The fact is, Bush policies have failed complet...  \n",
      "2187   The hypocrisy, misleading notions and disinfor...  \n",
      "2533                               “stupid, non-feeling”  \n",
      "2947   \"This is a criminal act and it certainly puts ...  \n",
      "...                                                  ...  \n",
      "9481   Even today, after years of public outrage, dol...  \n",
      "9485   The cause - undetermined, but the suspected cu...  \n",
      "9635   And with more than 3,000 species facing rapidl...  \n",
      "9997   An hour later, the paper's circulation manager...  \n",
      "10010  Over the past 12 years, at least 40 journalist...  \n",
      "\n",
      "[65 rows x 6 columns]\n"
     ]
    }
   ],
   "source": [
    "print(df.query('1.99 < V < 2.01'))"
   ]
  },
  {
   "cell_type": "code",
   "execution_count": 7,
   "metadata": {},
   "outputs": [
    {
     "name": "stdout",
     "output_type": "stream",
     "text": [
      "Remember what she said in my last letter? \"\n"
     ]
    }
   ],
   "source": [
    "text3 = df[df['V'] == 3]['text'].values[0]\n",
    "print(text3)"
   ]
  },
  {
   "cell_type": "code",
   "execution_count": 8,
   "metadata": {},
   "outputs": [
    {
     "data": {
      "text/html": [
       "<div>\n",
       "<style scoped>\n",
       "    .dataframe tbody tr th:only-of-type {\n",
       "        vertical-align: middle;\n",
       "    }\n",
       "\n",
       "    .dataframe tbody tr th {\n",
       "        vertical-align: top;\n",
       "    }\n",
       "\n",
       "    .dataframe thead th {\n",
       "        text-align: right;\n",
       "    }\n",
       "</style>\n",
       "<table border=\"1\" class=\"dataframe\">\n",
       "  <thead>\n",
       "    <tr style=\"text-align: right;\">\n",
       "      <th></th>\n",
       "      <th>id</th>\n",
       "      <th>split</th>\n",
       "      <th>V</th>\n",
       "      <th>A</th>\n",
       "      <th>D</th>\n",
       "      <th>text</th>\n",
       "    </tr>\n",
       "  </thead>\n",
       "  <tbody>\n",
       "    <tr>\n",
       "      <th>0</th>\n",
       "      <td>110CYL068_1036_1079</td>\n",
       "      <td>train</td>\n",
       "      <td>3.0</td>\n",
       "      <td>3.00</td>\n",
       "      <td>3.20</td>\n",
       "      <td>Remember what she said in my last letter? \"</td>\n",
       "    </tr>\n",
       "    <tr>\n",
       "      <th>2</th>\n",
       "      <td>110CYL068_1127_1130</td>\n",
       "      <td>train</td>\n",
       "      <td>3.0</td>\n",
       "      <td>3.00</td>\n",
       "      <td>3.00</td>\n",
       "      <td>..\"</td>\n",
       "    </tr>\n",
       "    <tr>\n",
       "      <th>6</th>\n",
       "      <td>110CYL068_1559_1601</td>\n",
       "      <td>train</td>\n",
       "      <td>3.0</td>\n",
       "      <td>3.00</td>\n",
       "      <td>3.10</td>\n",
       "      <td>I am now... totally off of welfare.\"</td>\n",
       "    </tr>\n",
       "    <tr>\n",
       "      <th>11</th>\n",
       "      <td>110CYL068_18_24</td>\n",
       "      <td>train</td>\n",
       "      <td>3.0</td>\n",
       "      <td>2.62</td>\n",
       "      <td>3.00</td>\n",
       "      <td>Dear ,</td>\n",
       "    </tr>\n",
       "    <tr>\n",
       "      <th>22</th>\n",
       "      <td>110CYL068_2589_2593</td>\n",
       "      <td>train</td>\n",
       "      <td>3.0</td>\n",
       "      <td>2.43</td>\n",
       "      <td>3.00</td>\n",
       "      <td>P.S.</td>\n",
       "    </tr>\n",
       "    <tr>\n",
       "      <th>...</th>\n",
       "      <td>...</td>\n",
       "      <td>...</td>\n",
       "      <td>...</td>\n",
       "      <td>...</td>\n",
       "      <td>...</td>\n",
       "      <td>...</td>\n",
       "    </tr>\n",
       "    <tr>\n",
       "      <th>10041</th>\n",
       "      <td>wwf12_2890_2917</td>\n",
       "      <td>train</td>\n",
       "      <td>3.0</td>\n",
       "      <td>2.83</td>\n",
       "      <td>3.17</td>\n",
       "      <td>“Forests for Life Campaign”</td>\n",
       "    </tr>\n",
       "    <tr>\n",
       "      <th>10044</th>\n",
       "      <td>wwf12_3102_3227</td>\n",
       "      <td>train</td>\n",
       "      <td>3.0</td>\n",
       "      <td>2.88</td>\n",
       "      <td>3.00</td>\n",
       "      <td>To end government subsidies that promote overf...</td>\n",
       "    </tr>\n",
       "    <tr>\n",
       "      <th>10045</th>\n",
       "      <td>wwf12_31_148</td>\n",
       "      <td>dev</td>\n",
       "      <td>3.0</td>\n",
       "      <td>2.00</td>\n",
       "      <td>3.00</td>\n",
       "      <td>December 7, 2000 FirstName LastName StreetNumb...</td>\n",
       "    </tr>\n",
       "    <tr>\n",
       "      <th>10057</th>\n",
       "      <td>wwf12_4531_4624</td>\n",
       "      <td>train</td>\n",
       "      <td>3.0</td>\n",
       "      <td>3.50</td>\n",
       "      <td>3.00</td>\n",
       "      <td>Please let it be a constant reminder of all yo...</td>\n",
       "    </tr>\n",
       "    <tr>\n",
       "      <th>10059</th>\n",
       "      <td>wwf12_592_691</td>\n",
       "      <td>train</td>\n",
       "      <td>3.0</td>\n",
       "      <td>3.00</td>\n",
       "      <td>3.10</td>\n",
       "      <td>And why I’m writing you today to ask you to re...</td>\n",
       "    </tr>\n",
       "  </tbody>\n",
       "</table>\n",
       "<p>2620 rows × 6 columns</p>\n",
       "</div>"
      ],
      "text/plain": [
       "                        id  split    V     A     D  \\\n",
       "0      110CYL068_1036_1079  train  3.0  3.00  3.20   \n",
       "2      110CYL068_1127_1130  train  3.0  3.00  3.00   \n",
       "6      110CYL068_1559_1601  train  3.0  3.00  3.10   \n",
       "11         110CYL068_18_24  train  3.0  2.62  3.00   \n",
       "22     110CYL068_2589_2593  train  3.0  2.43  3.00   \n",
       "...                    ...    ...  ...   ...   ...   \n",
       "10041      wwf12_2890_2917  train  3.0  2.83  3.17   \n",
       "10044      wwf12_3102_3227  train  3.0  2.88  3.00   \n",
       "10045         wwf12_31_148    dev  3.0  2.00  3.00   \n",
       "10057      wwf12_4531_4624  train  3.0  3.50  3.00   \n",
       "10059        wwf12_592_691  train  3.0  3.00  3.10   \n",
       "\n",
       "                                                    text  \n",
       "0            Remember what she said in my last letter? \"  \n",
       "2                                                    ..\"  \n",
       "6                   I am now... totally off of welfare.\"  \n",
       "11                                                Dear ,  \n",
       "22                                                  P.S.  \n",
       "...                                                  ...  \n",
       "10041                        “Forests for Life Campaign”  \n",
       "10044  To end government subsidies that promote overf...  \n",
       "10045  December 7, 2000 FirstName LastName StreetNumb...  \n",
       "10057  Please let it be a constant reminder of all yo...  \n",
       "10059  And why I’m writing you today to ask you to re...  \n",
       "\n",
       "[2620 rows x 6 columns]"
      ]
     },
     "execution_count": 8,
     "metadata": {},
     "output_type": "execute_result"
    }
   ],
   "source": [
    "df[df['V'] == 3]"
   ]
  },
  {
   "cell_type": "code",
   "execution_count": 9,
   "metadata": {},
   "outputs": [
    {
     "name": "stdout",
     "output_type": "stream",
     "text": [
      "Blessings to you.\n"
     ]
    }
   ],
   "source": [
    "text4 = df[df['V'] == 4]['text'].values[6]\n",
    "print(text4)"
   ]
  },
  {
   "cell_type": "code",
   "execution_count": 10,
   "metadata": {},
   "outputs": [
    {
     "data": {
      "text/plain": [
       "41"
      ]
     },
     "execution_count": 10,
     "metadata": {},
     "output_type": "execute_result"
    }
   ],
   "source": [
    "len(df[df['V'] == 4])"
   ]
  },
  {
   "cell_type": "code",
   "execution_count": 13,
   "metadata": {},
   "outputs": [],
   "source": [
    "from PIL import Image, ImageDraw, ImageFont\n",
    "textlist = [text1, text2, text3, text4, text5]\n",
    "fontlist = [ImageFont.truetype('D:/Users/Yuki/Google Drive/Fonts/日本語/KleeOne-Regular.ttf', 28)]\n",
    "i = 0\n",
    "for text in textlist:\n",
    "    i += 1\n",
    "    j = 0\n",
    "    for font in fontlist:\n",
    "        j += 1\n",
    "        im = Image.new(\"RGB\", (512, 128), (256, 256, 256))\n",
    "\n",
    "        draw = ImageDraw.Draw(im)\n",
    "        x = 20\n",
    "        y = 40\n",
    "        draw.text((x, y), text, fill=(0, 0, 0), font=font)\n",
    "\n",
    "        im.save(\"./image\" + str(i) + \"-\" + str(j) +\".png\")"
   ]
  },
  {
   "cell_type": "code",
   "execution_count": null,
   "metadata": {},
   "outputs": [],
   "source": []
  }
 ],
 "metadata": {
  "kernelspec": {
   "display_name": "Python 3.9.6 64-bit",
   "language": "python",
   "name": "python3"
  },
  "language_info": {
   "codemirror_mode": {
    "name": "ipython",
    "version": 3
   },
   "file_extension": ".py",
   "mimetype": "text/x-python",
   "name": "python",
   "nbconvert_exporter": "python",
   "pygments_lexer": "ipython3",
   "version": "3.9.6"
  },
  "orig_nbformat": 4,
  "vscode": {
   "interpreter": {
    "hash": "c25d132bfeda13c792bd644cbdde41cb6ec68286705ba4c27ace6b2206316a98"
   }
  }
 },
 "nbformat": 4,
 "nbformat_minor": 2
}
