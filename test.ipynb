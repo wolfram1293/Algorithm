{
 "cells": [
  {
   "cell_type": "code",
   "execution_count": 18,
   "source": [
    "def CI(A,M):\r\n",
    "    N=len(A)\r\n",
    "    count=[False]*M\r\n",
    "    for i in range(N):\r\n",
    "        if A[i]>=0 and A[i]<M:\r\n",
    "            count[A[i]]=True\r\n",
    "    \r\n",
    "    if all(count):\r\n",
    "        return True\r\n",
    "    else:\r\n",
    "        return False\r\n",
    "    \r\n",
    "def syakutori(A,M):\r\n",
    "    N=len(A)\r\n",
    "    s=0\r\n",
    "    e=N-1\r\n",
    "    l=0\r\n",
    "    r=0\r\n",
    "    while 1:\r\n",
    "        #print(l,r,s,e,A[l:r+1])\r\n",
    "        if CI(A[l:r+1],M):\r\n",
    "            if r-l+1<=e-s+1:\r\n",
    "                s=l\r\n",
    "                e=r\r\n",
    "            if r-l+1>=M:\r\n",
    "                l+=1\r\n",
    "        else:\r\n",
    "            if r<N-1:\r\n",
    "                r+=1\r\n",
    "            else:\r\n",
    "                break\r\n",
    "    \r\n",
    "    print(s, e, A[s:e+1])\r\n",
    "\r\n",
    "M=2\r\n",
    "A=[1,1,0,1]\r\n",
    "print(A[2:4])\r\n",
    "syakutori(A,M)"
   ],
   "outputs": [
    {
     "output_type": "stream",
     "name": "stdout",
     "text": [
      "[0, 1]\n",
      "2 3 [0, 1]\n"
     ]
    }
   ],
   "metadata": {}
  },
  {
   "cell_type": "code",
   "execution_count": 29,
   "source": [
    "def CI2(M,count): # 三項演算式が使いたかっただけ\r\n",
    "    return True if sum(a > 0 for a in count) == M else False\r\n",
    "    \r\n",
    "def syakutori2(A,M):\r\n",
    "    N=len(A)\r\n",
    "    s=0\r\n",
    "    e=N-1\r\n",
    "    l=0\r\n",
    "    r=0\r\n",
    "    count=[0]*M\r\n",
    "    if A[0]>=0 and A[0]<M:\r\n",
    "            count[A[0]]+=1\r\n",
    "    while 1:\r\n",
    "        #print(l,r,s,e,A[l:r+1],count)\r\n",
    "        if CI2(M,count):\r\n",
    "            if r-l<=e-s:\r\n",
    "                s=l\r\n",
    "                e=r\r\n",
    "            if r-l+1>=M:\r\n",
    "                if A[l]>=0 and A[l]<M:\r\n",
    "                    count[A[l]]-=1\r\n",
    "                l+=1\r\n",
    "        else:\r\n",
    "            if r<N-1:\r\n",
    "                r+=1\r\n",
    "                if A[r]>=0 and A[r]<M:\r\n",
    "                    count[A[r]]+=1\r\n",
    "            else:\r\n",
    "                break\r\n",
    "    \r\n",
    "    print(s, e, A[s:e+1])\r\n",
    "\r\n",
    "M=2\r\n",
    "A=[1,1,0,1]\r\n",
    "syakutori2(A,M)"
   ],
   "outputs": [
    {
     "output_type": "stream",
     "name": "stdout",
     "text": [
      "2 3 [0, 1]\n"
     ]
    }
   ],
   "metadata": {}
  },
  {
   "cell_type": "code",
   "execution_count": 21,
   "source": [
    "import heapq\r\n",
    "\r\n",
    "#edges=[[]for i in range(N)]\r\n",
    "#edges[a].append([b,d])\r\n",
    "edges = [[[1, 5], [2, 4]], #ノードA0\r\n",
    "[[0, 5], [3, 3], [5, 9]], #ノードB1\r\n",
    "[[0, 4], [3, 2], [4, 3]], #ノードC2\r\n",
    "[[1, 3], [2, 2], [5, 1], [6, 7]], #ノードD3\r\n",
    "[[2, 3], [6, 8]], #ノードE4\r\n",
    "[[1, 9], [3, 1], [6, 2], [7, 5]], #ノードF5\r\n",
    "[[3, 7], [4, 8], [5, 2], [7, 2]], #ノードG6\r\n",
    "[[5, 5], [6, 2]]] #ノードH7\r\n",
    "\r\n",
    "N=len(edges)\r\n",
    "S=0\r\n",
    "\r\n",
    "def dijkstra(N,S,edges):\r\n",
    "    done=[False]*N\r\n",
    "    inf=10**9\r\n",
    "    dist=[inf]*N\r\n",
    "    dist[S]=0\r\n",
    "    heap=[]\r\n",
    "    heapq.heappush(heap,[dist[S],S])\r\n",
    "    while heap:\r\n",
    "        node=heapq.heappop(heap)[1]\r\n",
    "        if not done[node]:\r\n",
    "            for e in edges[node]:\r\n",
    "                if dist[e[0]]>dist[node]+e[1]:\r\n",
    "                    dist[e[0]]=dist[node]+e[1]\r\n",
    "                    heapq.heappush(heap,[dist[e[0]],e[0]])\r\n",
    "        done[node]=True\r\n",
    "\r\n",
    "    for i in range(N):\r\n",
    "        if dist[i]==inf:\r\n",
    "            dist[i]='INF'\r\n",
    "    \r\n",
    "    print(' '.join(map(str, dist)))\r\n",
    "\r\n",
    "dijkstra(N,S,edges)"
   ],
   "outputs": [
    {
     "output_type": "stream",
     "name": "stdout",
     "text": [
      "0 5 4 6 7 7 9 11\n"
     ]
    }
   ],
   "metadata": {}
  },
  {
   "cell_type": "code",
   "execution_count": 7,
   "source": [
    "# 各ノードからの行き先、距離\r\n",
    "edges = [[[1, 5], [2, 4]], #ノードA0\r\n",
    "[[0, 5], [3, 3], [5, 9]], #ノードB1\r\n",
    "[[0, 4], [3, 2], [4, 3]], #ノードC2\r\n",
    "[[1, 3], [2, 2], [5, 1], [6, 7]], #ノードD3\r\n",
    "[[2, 3], [6, 8]], #ノードE4\r\n",
    "[[1, 9], [3, 1], [6, 2], [7, 5]], #ノードF5\r\n",
    "[[3, 7], [4, 8], [5, 2], [7, 2]], #ノードG6\r\n",
    "[[5, 5], [6, 2]]] #ノードH7\r\n",
    "\r\n",
    "N=len(edges)\r\n",
    "edges2 = []\r\n",
    "for i in range(len(edges)):\r\n",
    "    for node in edges[i]:\r\n",
    "        edges2.append([i,node[0],node[1]])\r\n",
    "\r\n",
    "# 始点，終点，距離の順．\r\n",
    "'''\r\n",
    "edges2 = [[0, 1, 5], [0, 2, 4], [1, 0, 5], [1, 3, 9], [1, 5, 9],\r\n",
    "[2, 0, 4], [2, 3, 2], [2, 4, 3], [3, 1, 9], [3, 2, 2], [3, 5, 1],\r\n",
    "[3, 6, 7], [4, 2, 3], [4, 6, 8], [5, 1, 9], [5, 3, 1], [5, 6, 2],\r\n",
    "[5, 7, 5], [6, 3, 7], [6, 4, 8], [6, 5, 2], [6, 7, 2], [7, 5, 5],\r\n",
    "[7, 6, 2]]\r\n",
    "'''\r\n",
    "\r\n",
    "S=0\r\n",
    "# ダイクストラと違い,最短距離の選択を⾏わず更新毎に全ての辺に対しての計算を毎回⾏う\r\n",
    "# 負の経路があっても計算可能,負の閉路があってもそれを検知可能\r\n",
    "# 頂点V、辺の数Eとして,2重ループの1つ⽬はV，2つ⽬は毎回すべての辺をチェックするのでEよって全体ではO(VE)\r\n",
    "\r\n",
    "def BellmanFord(N,S,edges):\r\n",
    "    inf=10**9\r\n",
    "    dist = [inf]*N\r\n",
    "    dist[S] = 0\r\n",
    "    # whileではなく，|N|回のforループにする．\r\n",
    "    # 辺の情報をすべて見ることを1ループとすると1ループするたびに最低でも1つの頂点についての最短距離は求まる\r\n",
    "    # 頂点の数をNとするとN−1回のループでグラフ全体の最短距離が求まる\r\n",
    "    # もしi=N-1で更新があれば，それは負の閉路の存在を表す．\r\n",
    "    for i in range(N):\r\n",
    "        for e in edges:\r\n",
    "            if dist[e[1]] > e[2] + dist[e[0]]:\r\n",
    "                dist[e[1]] = e[2] + dist[e[0]]\r\n",
    "                # 負の閉路の検知\r\n",
    "                if i==N-1: return -1\r\n",
    "    print(' '.join(map(str, dist)))\r\n",
    "\r\n",
    "BellmanFord(N,S,edges2)"
   ],
   "outputs": [
    {
     "output_type": "stream",
     "name": "stdout",
     "text": [
      "0 5 4 6 7 7 9 11\n"
     ]
    }
   ],
   "metadata": {}
  },
  {
   "cell_type": "code",
   "execution_count": 4,
   "source": [
    "from collections import deque\r\n",
    "\r\n",
    "#edges=[[] for i in range(N)] \r\n",
    "#各頂点からつながる頂点のリスト\r\n",
    "edges = [\r\n",
    "[1, 2],#ノードA\r\n",
    "[0, 3, 5],#ノードB\r\n",
    "[0, 3, 4],#ノードC\r\n",
    "[1, 2, 5],#ノードD\r\n",
    "[2, 6],#ノードE\r\n",
    "[1, 3, 7],#ノードF\r\n",
    "[4],#ノードG\r\n",
    "[5]]#ノードH\r\n",
    "N = len(edges)\r\n",
    "done = [0]*N #一度通った頂点を記録\r\n",
    "def bfs(edges, start, end):\r\n",
    "    waiting = deque()\r\n",
    "    # 0: 未発⾒，1: 発⾒済だが未訪問，2: 訪問済\r\n",
    "    done[start] = 2 # 開始ノードは訪問済\r\n",
    "    for n in edges[start]:\r\n",
    "        done[n] = 1 # 発⾒したが未訪問なので1\r\n",
    "        waiting.append(n)\r\n",
    "    while len(waiting):\r\n",
    "        cur_node = waiting.popleft()\r\n",
    "        if done[cur_node] != 2:\r\n",
    "            done[cur_node] = 2 # 訪問したので2\r\n",
    "            if(end == cur_node): print('=FOUND!=')\r\n",
    "            for n in edges[cur_node]:\r\n",
    "                if done[n] != 2:\r\n",
    "                    done[n] = 1 # 未訪問なので1\r\n",
    "                    waiting.append(n) # キュー追加\r\n",
    "\r\n",
    "bfs(edges, 0, 6)"
   ],
   "outputs": [
    {
     "output_type": "stream",
     "name": "stdout",
     "text": [
      "=FOUND!=\n"
     ]
    }
   ],
   "metadata": {}
  },
  {
   "cell_type": "code",
   "execution_count": 5,
   "source": [
    "\r\n",
    "#edges=[[] for i in range(N)] \r\n",
    "#各頂点からつながる頂点のリスト\r\n",
    "edges = [\r\n",
    "[1, 2],#ノードA\r\n",
    "[0, 3, 5],#ノードB\r\n",
    "[0, 3, 4],#ノードC\r\n",
    "[1, 2, 5],#ノードD\r\n",
    "[2, 6],#ノードE\r\n",
    "[1, 3, 7],#ノードF\r\n",
    "[4],#ノードG\r\n",
    "[5]]#ノードH\r\n",
    "N = len(edges)\r\n",
    "\r\n",
    "done = [0]*N #一度通った頂点を記録\r\n",
    "def dfs(edges, start, end):\r\n",
    "    waiting = []\r\n",
    "    # 0: 未発⾒，1: 発⾒済だが未訪問，2: 訪問済\r\n",
    "    done[start] = 2 # 開始ノードは訪問済\r\n",
    "    for n in edges[start]:\r\n",
    "        done[n] = 1 # 発⾒したが未訪問なので1\r\n",
    "        waiting.append(n)\r\n",
    "    while len(waiting):\r\n",
    "        cur_node = waiting.pop()\r\n",
    "        if done[cur_node] != 2:\r\n",
    "            done[cur_node] = 2 # 訪問したので2\r\n",
    "            if(end == cur_node): print('=FOUND!=')\r\n",
    "            for n in edges[cur_node]:\r\n",
    "                if done[n] != 2:\r\n",
    "                    done[n] = 1 # 未訪問なので1\r\n",
    "                    waiting.append(n)\r\n",
    "\r\n",
    "dfs(edges, 0, 6)"
   ],
   "outputs": [
    {
     "output_type": "stream",
     "name": "stdout",
     "text": [
      "=FOUND!=\n"
     ]
    }
   ],
   "metadata": {}
  },
  {
   "cell_type": "code",
   "execution_count": 10,
   "source": [
    "from collections import deque\r\n",
    "\r\n",
    "H,W = 5,5\r\n",
    "sy,sx = 0,0\r\n",
    "gy,gx = 4,4\r\n",
    "A=[[' ',' ',' ','#',' '],\r\n",
    "   ['#','#',' ',' ',' '],\r\n",
    "   [' ',' ',' ','#',' '],\r\n",
    "   [' ','#','#','#','#'],\r\n",
    "   [' ',' ',' ',' ',' ']]\r\n",
    "\r\n",
    "d=[[-1 for i in range(W)] for j in range(H)] #スタートからの距離を入れるリスト\r\n",
    "\r\n",
    "def bfs_maze(sx,sy,gx,gy,A):\r\n",
    "    waiting = deque()\r\n",
    "    waiting.append([sy,sx])\r\n",
    "    d[sy][sx] = 0\r\n",
    "    while len(waiting):\r\n",
    "        y,x = waiting.popleft()\r\n",
    "        if y == gy and x == gx:\r\n",
    "            break\r\n",
    "        for i in range(4): #縦横の4方向について行けるか検証\r\n",
    "            ny, nx = y + [1,0,-1,0][i], x + [0,1,0,-1][i]\r\n",
    "            if 0 <= ny < H and 0 <= nx < W and d[ny][nx] == -1 and A[ny][nx] != '#':\r\n",
    "                waiting.append([ny,nx])\r\n",
    "                d[ny][nx] = d[y][x] + 1\r\n",
    "    \r\n",
    "    return d[gy][gx]\r\n",
    "\r\n",
    "print(bfs_maze(sx,sy,gx,gy,A))\r\n"
   ],
   "outputs": [
    {
     "output_type": "stream",
     "name": "stdout",
     "text": [
      "12\n"
     ]
    }
   ],
   "metadata": {}
  },
  {
   "cell_type": "code",
   "execution_count": 1,
   "source": [
    "#再帰版\r\n",
    "#各頂点からつながる頂点のリスト\r\n",
    "edges = [\r\n",
    "[1, 2],#ノードA\r\n",
    "[0, 3, 5],#ノードB\r\n",
    "[0, 3, 4],#ノードC\r\n",
    "[1, 2, 5],#ノードD\r\n",
    "[2, 6],#ノードE\r\n",
    "[1, 3, 7],#ノードF\r\n",
    "[4],#ノードG\r\n",
    "[5]]#ノードH\r\n",
    "N = len(edges)\r\n",
    "\r\n",
    "done = [0]*N #一度通った頂点を記録\r\n",
    "def dfs_re(edges, start, end):\r\n",
    "    if len(edges[start])==0 or done[start]==1:\r\n",
    "        return\r\n",
    "    if start==end:\r\n",
    "        print('=FOUND!=')\r\n",
    "    done[start]=1\r\n",
    "    for n in edges[start]:\r\n",
    "        dfs_re(edges,n, end)\r\n",
    "\r\n",
    "dfs_re(edges,0,6)"
   ],
   "outputs": [
    {
     "output_type": "stream",
     "name": "stdout",
     "text": [
      "=FOUND!=\n"
     ]
    }
   ],
   "metadata": {}
  },
  {
   "cell_type": "code",
   "execution_count": 21,
   "source": [
    "# 各ノードからの行き先、距離\r\n",
    "edges = [[[1, 5], [2, 4]], #ノードA0\r\n",
    "[[0, 5], [3, 3], [5, 9]], #ノードB1\r\n",
    "[[0, 4], [3, 2], [4, 3]], #ノードC2\r\n",
    "[[1, 3], [2, 2], [5, 1], [6, 7]], #ノードD3\r\n",
    "[[2, 3], [6, 8]], #ノードE4\r\n",
    "[[1, 9], [3, 1], [6, 2], [7, 5]], #ノードF5\r\n",
    "[[3, 7], [4, 8], [5, 2], [7, 2]], #ノードG6\r\n",
    "[[5, 5], [6, 2]]] #ノードH7\r\n",
    "\r\n",
    "N = len(edges)\r\n",
    "S = 0\r\n",
    "\r\n",
    "# 3重ループが存在しており,O(V^3)\r\n",
    "def WarshallFloyd(N,S,edges):\r\n",
    "    inf = 10**9\r\n",
    "    dist = [[inf for i in range(N)] for j in range(N)]\r\n",
    "    for i in range(N):\r\n",
    "        dist[i][i] = 0\r\n",
    "    for i in range(len(edges)):\r\n",
    "        for node in edges[i]:\r\n",
    "            dist[i][node[0]] = node[1]\r\n",
    "    for k in range(N):\r\n",
    "        for i in range(N):\r\n",
    "            for j in range(N):\r\n",
    "                dist[i][j] = min(dist[i][j],dist[i][k]+dist[k][j])\r\n",
    "                            \r\n",
    "    print(' '.join(map(str, dist[S])))\r\n",
    "    #print(dist)\r\n",
    "\r\n",
    "WarshallFloyd(N,S,edges)"
   ],
   "outputs": [
    {
     "output_type": "stream",
     "name": "stdout",
     "text": [
      "0 5 4 6 7 7 9 11\n"
     ]
    }
   ],
   "metadata": {}
  },
  {
   "cell_type": "code",
   "execution_count": 11,
   "source": [
    "from collections import deque\r\n",
    "\r\n",
    "# ⼊⼒されたグラフがDAGである場合，全てのノードと辺は⾼々1回しかチェックされない O(V+E)\r\n",
    "\r\n",
    "def topoSortDFS(V, edges):\r\n",
    "    def check(v):\r\n",
    "        if visited[v] == 1:\r\n",
    "            raise Exception(\"not DAG\") #[DAGになっていないので，エラーを返す]\r\n",
    "        elif visited[v] == 0:\r\n",
    "            visited[v] = 1 # 処理待ちにする\r\n",
    "            for to_v in edges2[v]:\r\n",
    "                check(to_v) # 再帰で呼び出す\r\n",
    "            visited[v] = 2 # 処理済にする\r\n",
    "            sorted_g.appendleft(v) # ソート済の先頭に追加\r\n",
    "\r\n",
    "    # ノードをすでに⾒たかどうかを格納する配列\r\n",
    "    # 0：未訪問，1：処理待ち，2：処理済\r\n",
    "    visited = [0]*V\r\n",
    "    edges2 = [[] for i in range(V)] #各頂点からつながる頂点のリストに変換\r\n",
    "    for e in edges:\r\n",
    "        edges2[e[0]].append(e[1])\r\n",
    "\r\n",
    "    sorted_g = deque()\r\n",
    "    # 全てのノードをチェックする\r\n",
    "    for i in range(V):\r\n",
    "        check(i)\r\n",
    "\r\n",
    "    print(' '.join(map(str, sorted_g)))\r\n",
    "\r\n",
    "V = 5\r\n",
    "edges = [[0, 1], [0, 2], [1, 3], [2, 3], [2, 4], [3, 4]]\r\n",
    "\r\n",
    "topoSortDFS(V, edges)"
   ],
   "outputs": [
    {
     "output_type": "stream",
     "name": "stdout",
     "text": [
      "0 2 1 3 4\n"
     ]
    }
   ],
   "metadata": {}
  },
  {
   "cell_type": "code",
   "execution_count": 12,
   "source": [
    "# ist2018 3(4)\r\n",
    "\r\n",
    "from collections import deque\r\n",
    "\r\n",
    "def topoSortDFS2(V, edges):\r\n",
    "    def dfs(u):\r\n",
    "        visited[u] = True\r\n",
    "        for v in edges2[u]:\r\n",
    "            if visited[v] != True:\r\n",
    "                dfs(v)\r\n",
    "        s.appendleft(u)\r\n",
    "\r\n",
    "    edges2 = [[] for i in range(V)] #各頂点からつながる頂点のリストに変換\r\n",
    "    for e in edges:\r\n",
    "        edges2[e[0]].append(e[1])\r\n",
    "\r\n",
    "    visited = [False]*V # ノードをすでに⾒たかどうかを格納する配列\r\n",
    "    s = deque()\r\n",
    "\r\n",
    "    for v in range(V):\r\n",
    "        if visited[v] != True:\r\n",
    "            dfs(v)\r\n",
    "\r\n",
    "    print(' '.join(map(str, s)))\r\n",
    "\r\n",
    "V = 5\r\n",
    "edges = [[0, 1], [0, 2], [1, 3], [2, 3], [2, 4], [3, 4]]\r\n",
    "\r\n",
    "topoSortDFS2(V, edges)"
   ],
   "outputs": [
    {
     "output_type": "stream",
     "name": "stdout",
     "text": [
      "0 2 1 3 4\n"
     ]
    }
   ],
   "metadata": {}
  },
  {
   "cell_type": "code",
   "execution_count": 13,
   "source": [
    "# ist2018 3(6)ans\r\n",
    "\r\n",
    "from collections import deque\r\n",
    "\r\n",
    "# 辺を参照する回数は, degreeの前計算の際にE回と操作1~2(while)の際にE回で合わせて2E回. \r\n",
    "# Qへのpush・popの回数とSへのpushの回数はそれぞれV回なので,計算量はO(E+V).\r\n",
    "def topoSortBFS(V, edges):\r\n",
    "    degree = [0]*V\r\n",
    "    Q = deque() # キューとする\r\n",
    "    S = []\r\n",
    "    for e in edges:\r\n",
    "        degree[e[1]] += 1 # すべての頂点について,degreeで入ってくる辺の本数を数える\r\n",
    "    for i in range(V): # 0ならQにpush\r\n",
    "        if degree[i] == 0:\r\n",
    "            Q.append(i)\r\n",
    "    \r\n",
    "    edges2 = [[] for i in range(V)] # 各頂点からつながる頂点のリストに変換\r\n",
    "    for e in edges:\r\n",
    "        edges2[e[0]].append(e[1])\r\n",
    "\r\n",
    "    while Q: # Qが空になるまで\r\n",
    "        u = Q.popleft() # キューQからpop、Sにpush\r\n",
    "        S.append(u)\r\n",
    "        for v in edges2[u]: # uから出ているすべての辺について, degree[v]を1減らす.このとき0となった場合は,頂点vをQにpush\r\n",
    "            degree[v] -= 1\r\n",
    "            if degree[v] == 0:\r\n",
    "                Q.append(v)\r\n",
    "\r\n",
    "    print(' '.join(map(str, S)))\r\n",
    "\r\n",
    "V = 5\r\n",
    "edges = [[0, 1], [0, 2], [1, 3], [2, 3], [2, 4], [3, 4]]\r\n",
    "\r\n",
    "topoSortBFS(V, edges)"
   ],
   "outputs": [
    {
     "output_type": "stream",
     "name": "stdout",
     "text": [
      "0 1 2 3 4\n"
     ]
    }
   ],
   "metadata": {}
  },
  {
   "cell_type": "code",
   "execution_count": 17,
   "source": [
    "# Khanのアルゴリズム\r\n",
    "\r\n",
    "from collections import deque\r\n",
    "def topoSortKhan(V,edges):\r\n",
    "    E = len(edges)\r\n",
    "    indeg = [0]*V # ⼊次数を格納する配列\r\n",
    "    outedge = [[] for _ in range (V)] # 出⼒辺を保持する配列\r\n",
    "    for e in edges: # ⼊次数と出⼒辺の情報を整理する\r\n",
    "        indeg[e[1]] += 1\r\n",
    "        outedge[e[0]].append(e[1])\r\n",
    "\r\n",
    "    sorted_g = list(v for v in range(V) if indeg[v]==0) # ソート済のノードを格納する配列 最初に⼊次数0のものを⼊れておく\r\n",
    "    deq = deque(sorted_g) # ⼊次数0のノードを処理するためのdeque\r\n",
    "\r\n",
    "    while deq: # ⼊次数0のノードがある限り繰り返す\r\n",
    "        v = deq.popleft() # deq.pop()でもよい\r\n",
    "        for u in outedge[v]: # vからつながるすべてのノードu\r\n",
    "            E -= 1\r\n",
    "            indeg[u] -= 1 # E,uの⼊次数を1減らす\r\n",
    "            if indeg[u] == 0: # uの⼊次数が0\r\n",
    "                deq.append(u) # uをdeqとsorted_gに⼊れる\r\n",
    "                sorted_g.append(u)\r\n",
    "    if E != 0:\r\n",
    "        raise Exception(\"not DAG\") # DAGになっていないので，エラーを返す\r\n",
    "    print(' '.join(map(str, sorted_g)))\r\n",
    "\r\n",
    "V = 5\r\n",
    "edges = [[0, 1], [0, 2], [1, 3], [2, 3], [2, 4], [3, 4]]\r\n",
    "\r\n",
    "topoSortKhan(V, edges)"
   ],
   "outputs": [
    {
     "output_type": "stream",
     "name": "stdout",
     "text": [
      "0 1 2 3 4\n"
     ]
    }
   ],
   "metadata": {}
  },
  {
   "cell_type": "code",
   "execution_count": 18,
   "source": [
    "# 全域⽊（spanning tree）グラフにおいて，すべての頂点がつながっている⽊（閉路を持たない連結グラフ）\r\n",
    "# 最⼩全域⽊（minimum spanning tree）全域⽊の中で辺の距離（コスト）の総和が最⼩になるもの\r\n",
    "\r\n",
    "# 各ノードからの行き先、距離\r\n",
    "edges = [[[1, 5], [2, 4]], #ノードA0\r\n",
    "[[0, 5], [3, 3], [5, 9]], #ノードB1\r\n",
    "[[0, 4], [3, 2], [4, 3]], #ノードC2\r\n",
    "[[1, 3], [2, 2], [6, 7], [7, 5]], #ノードD3\r\n",
    "[[2, 3], [6, 8]], #ノードE4\r\n",
    "[[1, 9]], #ノードF5\r\n",
    "[[3, 7], [4, 8], [7, 1]], #ノードG6\r\n",
    "[[3, 5], [6, 1]]] #ノードH7\r\n",
    "\r\n",
    "N=len(edges)\r\n",
    "edges2 = [] # from,to,distance\r\n",
    "for i in range(len(edges)):\r\n",
    "    for node in edges[i]:\r\n",
    "        edges2.append([i,node[0],node[1]])\r\n",
    "\r\n",
    "# 辺ベースのアプローチ：クラスカル法\r\n",
    "# 存在する辺を距離の短い順に並べて順に⼊れていき，閉路が出来ないことが確認できた場合は追加し，全部の辺をチェックしたら終了．\r\n",
    "# 隣接リストの場合，辺の数をEとして，辺のソートにE log Eかかる\r\n",
    "# 各辺を⼊れるかどうかの判断はUnion-Find⽊を使うとα(V)となり，これをE回やるので，E α(V)\r\n",
    "# よって，アルゴリズム全体ではO(E log E)\r\n",
    "\r\n",
    "class UnionFind: #UF木の実装\r\n",
    "    def __init__(self, n):\r\n",
    "        self.parent = [i for i in range(n)]\r\n",
    "        self.height = [0 for i in range(n)] # 各⽊の⾼さ\r\n",
    "\r\n",
    "    def get_root(self, i):\r\n",
    "        if self.parent[i] == i: # ⾃分が根ノードの場合\r\n",
    "            return i\r\n",
    "        else: # 経路圧縮しながら根ノードを探す\r\n",
    "            self.parent[i] = self.get_root(self.parent[i])\r\n",
    "            return self.parent[i]\r\n",
    "    \r\n",
    "    def unite(self, i, j):\r\n",
    "        ri = self.get_root(i)\r\n",
    "        rj = self.get_root(j)\r\n",
    "        if ri != rj: # より⾼い⽅にマージ\r\n",
    "            if self.height[ri] < self.height[rj]:\r\n",
    "                self.parent[ri] = rj\r\n",
    "            else:\r\n",
    "                self.parent[rj] = ri\r\n",
    "                if self.height[ri] == self.height[rj]:\r\n",
    "                    self.height[ri] += 1\r\n",
    "    \r\n",
    "    def is_in_group(self, i, j):\r\n",
    "        if self.get_root(i) == self.get_root(j):\r\n",
    "            return True\r\n",
    "        else:\r\n",
    "            return False\r\n",
    "\r\n",
    "def Kruskal(V, edges): #クラスカル法の実装\r\n",
    "    e_sorted = [] # 距離で整列された辺\r\n",
    "    for e in edges:\r\n",
    "        e_sorted.append([e[2], e[0], e[1]]) # ソートのために先頭の要素を距離にする\r\n",
    "    e_sorted.sort()\r\n",
    "    uf_tree = UnionFind(V) # Union-Find⽊を使う\r\n",
    "    mst = [] # 最⼩全域⽊の辺を保持するリスト\r\n",
    "    min_d = 0\r\n",
    "    for e in e_sorted:\r\n",
    "        if uf_tree.is_in_group(e[1], e[2]) == False:\r\n",
    "            uf_tree.unite(e[1], e[2]) # e[1]，e[2]を同じグループにする\r\n",
    "            mst.append([e[1], e[2]]) # 最⼩全域⽊に追加\r\n",
    "            min_d += e[0]\r\n",
    "\r\n",
    "    #print(min_d)\r\n",
    "    print(mst)\r\n",
    "    \r\n",
    "Kruskal(N, edges2)"
   ],
   "outputs": [
    {
     "output_type": "stream",
     "name": "stdout",
     "text": [
      "[[6, 7], [2, 3], [1, 3], [2, 4], [0, 2], [3, 7], [1, 5]]\n"
     ]
    }
   ],
   "metadata": {}
  },
  {
   "cell_type": "code",
   "execution_count": 15,
   "source": [
    "# ノードベースのアプローチ：プリム法\r\n",
    "# すでに到達した頂点の集合からまだ到達していない頂点の集合への辺のうち，距離が最短のものを追加し，全ノードつながったら終了\r\n",
    "# この実装では，ヒープに⼊る要素の数は辺の総数になるので，E．よって，追加，削除にかかる計算量はlog E．\r\n",
    "# ヒープへの追加も取り出しもE回あるので，全体ではO(E log E)となる\r\n",
    "import heapq\r\n",
    "\r\n",
    "def Prim(V, edges): #プリム法の実装\r\n",
    "    edges2 = [[] for i in range(V)] # ノードiからのすべての辺を格納\r\n",
    "    for e in edges:\r\n",
    "        edges2[e[0]].append([e[2], e[0], e[1]]) # ヒープでソートされるために距離を最初の要素にする\r\n",
    "    heap = [] # ヒープ\r\n",
    "    mst = [] # 最⼩全域⽊の辺を保持するリスト\r\n",
    "    done = [False]*V # ノードが最⼩全域⽊に⼊ったかどうかのフラグ\r\n",
    "    start=0\r\n",
    "    done[start] = True # ノードを1つ選ぶ．何でも良いがこの実装ではノード0を選ぶことにする\r\n",
    "    for i in range(len(edges2[start])): # ノード0に接続する辺を全てヒープに⼊れる\r\n",
    "        heapq.heappush(heap,edges2[start][i])\r\n",
    "    min_d = 0\r\n",
    "    while heap:\r\n",
    "        e = heapq.heappop(heap) # 距離が最短のものを取り出す\r\n",
    "        if done[e[2]] == False: # その辺の到達先（ノードj）が未訪問なら追加\r\n",
    "            done[e[2]] = True\r\n",
    "            mst.append([e[1], e[2]])\r\n",
    "            for i in range(len(edges2[e[2]])): #ノードjから伸びる辺をe_heapqに⼊れる\r\n",
    "                heapq.heappush(heap,edges2[e[2]][i])\r\n",
    "            min_d += e[0]\r\n",
    "\r\n",
    "    #print(min_d)\r\n",
    "    print(mst)\r\n",
    "\r\n",
    "Prim(N,edges2)"
   ],
   "outputs": [
    {
     "output_type": "stream",
     "name": "stdout",
     "text": [
      "[[0, 2], [2, 3], [2, 4], [3, 1], [3, 7], [7, 6], [1, 5]]\n"
     ]
    }
   ],
   "metadata": {}
  },
  {
   "cell_type": "code",
   "execution_count": 52,
   "source": [
    "def Fibonacci(n):\r\n",
    "    if n == 0: return 0\r\n",
    "    elif n == 1: return 1\r\n",
    "    else: return Fibonacci(n-1) + Fibonacci(n-2)\r\n",
    "\r\n",
    "Fibonacci(40)"
   ],
   "outputs": [
    {
     "output_type": "execute_result",
     "data": {
      "text/plain": [
       "102334155"
      ]
     },
     "metadata": {},
     "execution_count": 52
    }
   ],
   "metadata": {}
  },
  {
   "cell_type": "code",
   "execution_count": 53,
   "source": [
    "def Fibonacci2(n):\r\n",
    "    A = [0] * (n+1)\r\n",
    "    for i in range(n+1):\r\n",
    "        if i == 0: A[i] = 0\r\n",
    "        elif i == 1: A[i] = 1\r\n",
    "        else:  A[i] = A[i-1] + A[i-2]\r\n",
    "    \r\n",
    "    return A[n]\r\n",
    "\r\n",
    "Fibonacci2(40)"
   ],
   "outputs": [
    {
     "output_type": "execute_result",
     "data": {
      "text/plain": [
       "102334155"
      ]
     },
     "metadata": {},
     "execution_count": 53
    }
   ],
   "metadata": {}
  },
  {
   "cell_type": "code",
   "execution_count": 61,
   "source": [
    "import numpy \r\n",
    "def self_pow(x,n):\r\n",
    "    ans = 1\r\n",
    "    while n:\r\n",
    "        if n % 2:\r\n",
    "            ans *= x\r\n",
    "        x *= x\r\n",
    "        n >>= 1\r\n",
    "    return ans\r\n",
    "\r\n",
    "def Fibonacci3(n):\r\n",
    "    sqrt = numpy.sqrt(5)\r\n",
    "    f = (1/sqrt)*(self_pow((1+sqrt)/2,n) - self_pow((1-sqrt)/2,n))\r\n",
    "    return round(f)\r\n",
    "\r\n",
    "Fibonacci3(40)"
   ],
   "outputs": [
    {
     "output_type": "execute_result",
     "data": {
      "text/plain": [
       "102334155"
      ]
     },
     "metadata": {},
     "execution_count": 61
    }
   ],
   "metadata": {}
  },
  {
   "cell_type": "code",
   "execution_count": 2,
   "source": [
    "def binary_search(A,x):\r\n",
    "    l = len(A)\r\n",
    "    A.sort()\r\n",
    "    mi = A[0]\r\n",
    "    ma = A[l-1]\r\n",
    "    \r\n",
    "    if x < mi or x > ma:\r\n",
    "        print(\"No\")\r\n",
    "    else:\r\n",
    "        low=0\r\n",
    "        high=l-1\r\n",
    "        f=0\r\n",
    "        while low<=high:\r\n",
    "            mid=(low+high)//2\r\n",
    "            if x==A[mid]:\r\n",
    "                f=1\r\n",
    "                break\r\n",
    "            if x>A[mid]:\r\n",
    "                low=mid+1\r\n",
    "            else:\r\n",
    "                high=mid-1\r\n",
    "        if f==1:\r\n",
    "            print(\"Yes\")\r\n",
    "        else:\r\n",
    "            print(\"No\")\r\n",
    "\r\n",
    "A = [1,2,4,3,5,2,6,8,2,4,9]\r\n",
    "x = 3 #サーチ対象\r\n",
    "\r\n",
    "binary_search(A,x)"
   ],
   "outputs": [
    {
     "output_type": "stream",
     "name": "stdout",
     "text": [
      "[1, 2, 2, 2, 3, 4, 4, 5, 6, 8, 9]\n",
      "Yes\n"
     ]
    }
   ],
   "metadata": {}
  },
  {
   "cell_type": "code",
   "execution_count": 5,
   "source": [
    "# リングバッファでの実装\r\n",
    "\r\n",
    "class Queue:\r\n",
    "    def __init__(self,size: int):\r\n",
    "        self.queue = [None for i in range(size)]\r\n",
    "        self.size = size\r\n",
    "        self.head = 0\r\n",
    "        self.tail = 0\r\n",
    "\r\n",
    "    def enqueue(self,a: int):\r\n",
    "        if self.head == (self.tail+1)%self.size:\r\n",
    "            print(\"full\")\r\n",
    "            return False\r\n",
    "        self.queue[self.tail] = a\r\n",
    "        self.tail = (self.tail+1)%self.size\r\n",
    "\r\n",
    "    def dequeue(self):\r\n",
    "        if self.head == self.tail:\r\n",
    "            print(\"empty\")\r\n",
    "            return False\r\n",
    "        a = self.queue[self.head]\r\n",
    "        self.head = (self.head+1)%self.size\r\n",
    "        return a\r\n",
    "\r\n",
    "Q = 3\r\n",
    "q=Queue(Q)\r\n",
    "q.enqueue(1)\r\n",
    "q.enqueue(2)\r\n",
    "q.dequeue()\r\n",
    "\r\n",
    "# Algo 2-1\r\n",
    "lines=[0 for i in range(4)]\r\n",
    "lines[0]='3'\r\n",
    "lines[1]='1 1000000000'\r\n",
    "lines[2]='1 1000000000'\r\n",
    "lines[3]='2'\r\n",
    "Q=int(lines[0])\r\n",
    "for i in range(Q):\r\n",
    "    l=[int(x.strip()) for x in lines[i+1].split()]\r\n",
    "    if l[0]==1:\r\n",
    "        q.enqueue(l[1])\r\n",
    "    else:\r\n",
    "        print(q.dequeue())"
   ],
   "outputs": [
    {
     "output_type": "execute_result",
     "data": {
      "text/plain": [
       "1"
      ]
     },
     "metadata": {},
     "execution_count": 5
    }
   ],
   "metadata": {}
  },
  {
   "cell_type": "code",
   "execution_count": 16,
   "source": [
    "# 最大ヒープ\r\n",
    "class maxHeap:\r\n",
    "    def __init__(self):\r\n",
    "        self.list=[]\r\n",
    "\r\n",
    "    def heappush(self,a: int):\r\n",
    "        self.list.append(a)\r\n",
    "        index = len(self.list) - 1\r\n",
    "        while 1:\r\n",
    "            parent = (index-1) // 2\r\n",
    "            if index == 0:\r\n",
    "                break\r\n",
    "            if self.list[index] > self.list[parent]:\r\n",
    "                self.list[index],self.list[parent] = self.list[parent],self.list[index]\r\n",
    "                index = parent\r\n",
    "            else: \r\n",
    "                break         \r\n",
    "\r\n",
    "    def heappop(self):\r\n",
    "        a = self.list[0]\r\n",
    "        self.list[0] = self.list.pop()\r\n",
    "        parent = 0        \r\n",
    "        while 1:\r\n",
    "            c1 = 2*parent + 1\r\n",
    "            c2 = 2*parent + 2\r\n",
    "            if c2 >= len(self.list):\r\n",
    "                c = c1\r\n",
    "            else:\r\n",
    "                if self.list[c1] < self.list[c2]:\r\n",
    "                    c = c2\r\n",
    "                else:\r\n",
    "                    c = c1\r\n",
    "            if c >= len(self.list):\r\n",
    "                break\r\n",
    "                \r\n",
    "            if self.list[c] > self.list[parent]:\r\n",
    "                self.list[c],self.list[parent] = self.list[parent],self.list[c]\r\n",
    "                parent = c\r\n",
    "            else:\r\n",
    "                break\r\n",
    "        return a\r\n",
    "\r\n",
    "\r\n",
    "heap2 = maxHeap()\r\n",
    "heap2.heappush(5)\r\n",
    "heap2.heappush(3)\r\n",
    "heap2.heappush(4)\r\n",
    "heap2.heappop()"
   ],
   "outputs": [
    {
     "output_type": "execute_result",
     "data": {
      "text/plain": [
       "5"
      ]
     },
     "metadata": {},
     "execution_count": 16
    }
   ],
   "metadata": {}
  },
  {
   "cell_type": "code",
   "execution_count": 13,
   "source": [
    "# Algo 2-2\r\n",
    "lines=[0 for i in range(6)]\r\n",
    "lines[0]='5'\r\n",
    "lines[1]='1 5'\r\n",
    "lines[2]='1 3'\r\n",
    "lines[3]='2'\r\n",
    "lines[4]='1 4'\r\n",
    "lines[5]='2'\r\n",
    "Q=int(lines[0])\r\n",
    "heap3=maxHeap()\r\n",
    "for i in range(Q):\r\n",
    "    l=[int(x.strip()) for x in lines[i+1].split()]\r\n",
    "    if l[0]==1:\r\n",
    "        heap3.heappush(l[1])\r\n",
    "    else:\r\n",
    "        print(heap3.heappop())"
   ],
   "outputs": [
    {
     "output_type": "stream",
     "name": "stdout",
     "text": [
      "5\n",
      "4\n"
     ]
    }
   ],
   "metadata": {}
  },
  {
   "cell_type": "code",
   "execution_count": 20,
   "source": [
    "# 配列を用いたヒープの実装 iに対して親(i-1)//2,左の子2i+1, 右の子2i+2となる\r\n",
    "# 最小ヒープ\r\n",
    "class minHeap:\r\n",
    "    def __init__(self):\r\n",
    "        self.list=[]\r\n",
    "\r\n",
    "    def heappush(self,a: int):\r\n",
    "        self.list.append(a)\r\n",
    "        index = len(self.list) - 1\r\n",
    "        while 1:\r\n",
    "            parent = (index-1) // 2\r\n",
    "            if index == 0:\r\n",
    "                break\r\n",
    "            if self.list[index] < self.list[parent]:\r\n",
    "                self.list[index],self.list[parent] = self.list[parent],self.list[index]\r\n",
    "                index = parent\r\n",
    "            else: \r\n",
    "                break         \r\n",
    "\r\n",
    "    def heappop(self):\r\n",
    "        a = self.list[0]\r\n",
    "        self.list[0] = self.list.pop()\r\n",
    "        parent = 0        \r\n",
    "        while 1:\r\n",
    "            c1 = 2*parent + 1\r\n",
    "            c2 = 2*parent + 2\r\n",
    "            if c2 >= len(self.list):\r\n",
    "                c = c1\r\n",
    "            else:\r\n",
    "                if self.list[c1] > self.list[c2]:\r\n",
    "                    c = c2\r\n",
    "                else:\r\n",
    "                    c = c1\r\n",
    "            if c >= len(self.list):\r\n",
    "                break\r\n",
    "                \r\n",
    "            if self.list[c] < self.list[parent]:\r\n",
    "                self.list[c],self.list[parent] = self.list[parent],self.list[c]\r\n",
    "                parent = c\r\n",
    "            else:\r\n",
    "                break\r\n",
    "        return a\r\n",
    "\r\n",
    "heap = minHeap()\r\n",
    "heap.heappush(5)\r\n",
    "heap.heappush(3)\r\n",
    "heap.heappush(4)\r\n",
    "heap.heappop()"
   ],
   "outputs": [
    {
     "output_type": "execute_result",
     "data": {
      "text/plain": [
       "3"
      ]
     },
     "metadata": {},
     "execution_count": 20
    }
   ],
   "metadata": {}
  },
  {
   "cell_type": "code",
   "execution_count": 27,
   "source": [
    "class hash:\r\n",
    "    def __init__(self, Nin=10**9 + 7):\r\n",
    "        self.N = Nin\r\n",
    "        self.table=['']*Nin\r\n",
    "\r\n",
    "    def push(self, x):\r\n",
    "        n = x % self.N\r\n",
    "        if self.table[n] == '':\r\n",
    "            self.table[n] = x\r\n",
    "        else:\r\n",
    "            self.table.append(x)\r\n",
    "    \r\n",
    "    def search(self, x):\r\n",
    "        n = x % self.N\r\n",
    "        if self.table[n] == x:\r\n",
    "            print('found')\r\n",
    "        elif self.table[n] == '':\r\n",
    "            print('not found')\r\n",
    "        else:\r\n",
    "            N2 = len(self.table)\r\n",
    "            if N2 == self.N:\r\n",
    "                print('not found')\r\n",
    "            else:\r\n",
    "                for j in range(self.N, N2):\r\n",
    "                    if self.table[j] == x:\r\n",
    "                        print('found')\r\n",
    "                        break\r\n",
    "                    elif j == N2-1:\r\n",
    "                        print('not found')\r\n",
    "\r\n",
    "hash1 = hash(10)\r\n",
    "hash1.push(1)\r\n",
    "hash1.push(11)\r\n",
    "hash1.search(11)\r\n",
    "hash1.search(2)"
   ],
   "outputs": [
    {
     "output_type": "stream",
     "name": "stdout",
     "text": [
      "found\n",
      "not found\n"
     ]
    }
   ],
   "metadata": {}
  },
  {
   "cell_type": "code",
   "execution_count": 33,
   "source": [
    "# Knuth-Morris-Pratt法 \r\n",
    "# 照合が失敗した時点の状況（何⽂字⽬まで照合したか）に応じて，次の照合位置を変更\r\n",
    "# テーブルにはどこで照合失敗したらどこから照合し直すかが記載\r\n",
    "# 照合対象の⽂字列の⻑さがn，照合パターンの⻑さがl\r\n",
    "# スキップテーブルの作成：l．照合：最悪でもn よって，O(n+l)\r\n",
    "\r\n",
    "def kmp(S,T):\r\n",
    "    table=[0]*(len(T)+1) # スキップテーブル\r\n",
    "    table[0] = -1 # 使わない\r\n",
    "    i,j = 0,1 # パターン内の繰り返しを調べる\r\n",
    "    while j < len(T): # スキップテーブルを作る\r\n",
    "        if T[i] != T[j] and i > 0:\r\n",
    "            i = table[i]\r\n",
    "        else:\r\n",
    "            if T[i] == T[j]:\r\n",
    "                i += 1\r\n",
    "            j += 1\r\n",
    "            table[j] = i\r\n",
    "\r\n",
    "    k = l = 0 # テキストとパターンのカーソル位置\r\n",
    "    while k < len(S) and l < len(T): # 照合を⾏うループ\r\n",
    "        if S[k] == T[l]: # ⼀致している場合は両⽅のカーソルを進める\r\n",
    "            k += 1\r\n",
    "            l += 1\r\n",
    "        elif l == 0:# 照合パターン1⽂字⽬で失敗した場合は，テキスト側のカーソルを1つすすめるだけ．\r\n",
    "            k += 1\r\n",
    "        else: # 照合パターン2⽂字⽬以降はスキップテーブルを使ってどこから照合し直すか決定\r\n",
    "            l = table[l]\r\n",
    "\r\n",
    "    if l == len(T):\r\n",
    "        print(k-l)\r\n",
    "    else:\r\n",
    "        print(-1)\r\n",
    "\r\n",
    "S = 'asdfdgdfhfdhafdgdhfdhd'\r\n",
    "T = 'fdgd'\r\n",
    "kmp(S,T)\r\n"
   ],
   "outputs": [
    {
     "output_type": "stream",
     "name": "stdout",
     "text": [
      "3\n"
     ]
    }
   ],
   "metadata": {}
  },
  {
   "cell_type": "code",
   "execution_count": 39,
   "source": [
    "#Rabin-Karp法\r\n",
    "# 部分⽂字列をハッシュに変換しておき，⽂字列の照合をハッシュ値の⼀致の問題へと変換\r\n",
    "# 照合パターンのハッシュ化： O(l) ハッシュを⽤いての照合：⼀番最初だけはO(l)，あとはO(1) ．最悪の場合はn-l回の⽐較が必要．よって，O(n)\r\n",
    "# よって，O(n+l)\r\n",
    "def RollingHashMatch(S,T):\r\n",
    "    a = 1007 # 基数\r\n",
    "    h = 10**9+7 # 除数\r\n",
    "    Slen = len(S)\r\n",
    "    Tlen = len(T)\r\n",
    "    Shash = 0 # 照合対象側のハッシュ\r\n",
    "    Thash = 0 # 照合パターン側のハッシュ\r\n",
    "    num = lambda c : ord(c)-ord('a') # アルファベットを整数に変換\r\n",
    "    am = 1\r\n",
    "    for i in range(Tlen):\r\n",
    "        Shash += num(S[Tlen-i-1])*am\r\n",
    "        Thash += num(T[Tlen-i-1])*am\r\n",
    "        am *= a\r\n",
    "        am %= h\r\n",
    "    Shash %= h\r\n",
    "    Thash %= h\r\n",
    "\r\n",
    "    for i in range(Slen-Tlen+1):\r\n",
    "        if i != 0:\r\n",
    "            Shash = (a*Shash+num(S[Tlen+i-1])-am*num(S[i-1])) % h\r\n",
    "        if Shash == Thash:\r\n",
    "            return i\r\n",
    "    \r\n",
    "    return -1\r\n",
    "\r\n",
    "S = 'asdfdgdfhfdhafdgdhfdhd'\r\n",
    "T = 'fdgd'\r\n",
    "RollingHashMatch(S,T)"
   ],
   "outputs": [
    {
     "output_type": "execute_result",
     "data": {
      "text/plain": [
       "3"
      ]
     },
     "metadata": {},
     "execution_count": 39
    }
   ],
   "metadata": {}
  },
  {
   "cell_type": "code",
   "execution_count": 1,
   "source": [
    "# 挿⼊ソート\r\n",
    "# 1回の平均的な⽐較・移動回数はそれぞれi/2．それをn-1回繰り返す．最後はn番⽬の要素を，最⼤n-1回⽐較・移動する O(n^2)\r\n",
    "def insertionsort(seq):\r\n",
    "    for i in range(1, len(seq)):\r\n",
    "        j = i - 1\r\n",
    "        tmp = seq[i]\r\n",
    "        while seq[j] > tmp and j > -1:\r\n",
    "            seq[j+1] = seq[j]\r\n",
    "            j -= 1\r\n",
    "        seq[j+1] = tmp\r\n",
    "    return seq\r\n",
    "\r\n",
    "A = [3,5,6,8,3,2,1,4,6,7,0,5,9]\r\n",
    "insertionsort(A)"
   ],
   "outputs": [
    {
     "output_type": "execute_result",
     "data": {
      "text/plain": [
       "[0, 1, 2, 3, 3, 4, 5, 5, 6, 6, 7, 8, 9]"
      ]
     },
     "metadata": {},
     "execution_count": 1
    }
   ],
   "metadata": {}
  },
  {
   "cell_type": "code",
   "execution_count": 2,
   "source": [
    "# バブルソート\r\n",
    "# O(n^2)\r\n",
    "def bubblesort(seq):\r\n",
    "    size = len(seq)\r\n",
    "    for i in range(size):\r\n",
    "        for j in range(size-1, i, -1):\r\n",
    "            if seq[j] < seq[j-1]:\r\n",
    "                seq[j], seq[j-1] = seq[j-1], seq[j]\r\n",
    "    return seq\r\n",
    "\r\n",
    "A = [3,5,6,8,3,2,1,4,6,7,0,5,9]\r\n",
    "bubblesort(A)"
   ],
   "outputs": [
    {
     "output_type": "execute_result",
     "data": {
      "text/plain": [
       "[0, 1, 2, 3, 3, 4, 5, 5, 6, 6, 7, 8, 9]"
      ]
     },
     "metadata": {},
     "execution_count": 2
    }
   ],
   "metadata": {}
  },
  {
   "cell_type": "code",
   "execution_count": 4,
   "source": [
    "# シェーカーソート\r\n",
    "# 最悪計算量はこちらもO(n^2) ただし，バブルソートよりはちょっと速いことが期待できる\r\n",
    "def shakersort(seq):\r\n",
    "    # ソート済みの左端，右端を保持する変数\r\n",
    "    left = 0\r\n",
    "    right = len(seq) - 1\r\n",
    "    # 最後にスワップが起きた場所を格納する変数\r\n",
    "    swapped = 0\r\n",
    "    while left < right:\r\n",
    "        for i in range(left, right): # 先頭からチェック\r\n",
    "            if seq[i+1] < seq[i]:\r\n",
    "                seq[i], seq[i+1] = seq[i+1], seq[i]\r\n",
    "                swapped = i\r\n",
    "        # 最後のスワップの場所でrightを更新\r\n",
    "        right = swapped\r\n",
    "\r\n",
    "        for i in range(right, left, -1): # 次は後ろからチェック\r\n",
    "            if seq[i] < seq[i-1]:\r\n",
    "                seq[i], seq[i-1] = seq[i-1], seq[i]\r\n",
    "                swapped = i\r\n",
    "        # 最後のスワップの場所でleftを更新\r\n",
    "        left = swapped\r\n",
    "    \r\n",
    "    return seq\r\n",
    "\r\n",
    "A = [3,5,6,8,3,2,1,4,6,7,0,5,9]\r\n",
    "shakersort(A)"
   ],
   "outputs": [
    {
     "output_type": "execute_result",
     "data": {
      "text/plain": [
       "[0, 1, 2, 3, 3, 4, 5, 5, 6, 6, 7, 8, 9]"
      ]
     },
     "metadata": {},
     "execution_count": 4
    }
   ],
   "metadata": {}
  },
  {
   "cell_type": "code",
   "execution_count": 6,
   "source": [
    "# クイックソート\r\n",
    "# 軸より大小で2分割して再帰\r\n",
    "# 分割するときに（ざっくり）ソートする 結合するときは何も考えない\r\n",
    "# ⼀般ケースO(n log n) 最悪ケースO(n^2)\r\n",
    "def quicksort(seq):\r\n",
    "    if len(seq) <= 1:\r\n",
    "        return seq\r\n",
    "\r\n",
    "    left = []\r\n",
    "    right = []\r\n",
    "    pivot = seq[len(seq)//2] # 枢軸の選び方(ランダムだと最悪ケースに対応しやすい)\r\n",
    "    count = 0\r\n",
    "    for i in range(len(seq)):\r\n",
    "        e = seq[i]\r\n",
    "        if e == pivot:\r\n",
    "            count += 1\r\n",
    "        elif e < pivot:\r\n",
    "            left.append(e)\r\n",
    "        else:\r\n",
    "            right.append(e)\r\n",
    "            \r\n",
    "    left = quicksort(left)\r\n",
    "    right = quicksort(right)\r\n",
    "    return left + [pivot]*count + right\r\n",
    "\r\n",
    "A = [3,5,6,8,3,2,1,4,6,7,0,5,9]\r\n",
    "quicksort(A)"
   ],
   "outputs": [
    {
     "output_type": "execute_result",
     "data": {
      "text/plain": [
       "[0, 1, 2, 3, 3, 4, 5, 5, 6, 6, 7, 8, 9]"
      ]
     },
     "metadata": {},
     "execution_count": 6
    }
   ],
   "metadata": {}
  },
  {
   "cell_type": "code",
   "execution_count": 7,
   "source": [
    "# マージソート\r\n",
    "# まず再帰で2分割を繰り返して、戻りながら小さい順にマージ\r\n",
    "# 分割するときは何も考えない 結合するときにソートする\r\n",
    "# ⼀般ケース, 最悪ケースともにO(n log n) \r\n",
    "def mergesort(seq):\r\n",
    "    if len(seq) <= 1: return seq\r\n",
    "    # 2つに分割するだけ\r\n",
    "    left = mergesort(seq[:len(seq)//2])\r\n",
    "    right = mergesort(seq[len(seq)//2:])\r\n",
    "    # これらの値が返ってきたときには，left，right\r\n",
    "    # 各々でソートができている状態になっている．\r\n",
    "    merged = []\r\n",
    "    cur_l = cur_r = 0\r\n",
    "    # マージ作業．⼩さい⽅から順にmergedに⼊れる．\r\n",
    "    while cur_l < len(left) and cur_r < len(right):\r\n",
    "        if left[cur_l] <= right[cur_r]: # 安定性を確保\r\n",
    "            merged.append(left[cur_l])\r\n",
    "            cur_l += 1\r\n",
    "        else:\r\n",
    "            merged.append(right[cur_r])\r\n",
    "            cur_r += 1\r\n",
    "    # もし余った要素があればくっつける．\r\n",
    "    if cur_l < len(left):\r\n",
    "        merged.extend(left[cur_l:])\r\n",
    "    elif cur_r < len(right):\r\n",
    "        merged.extend(right[cur_r:])\r\n",
    "    return merged\r\n",
    "\r\n",
    "A = [3,5,6,8,3,2,1,4,6,7,0,5,9]\r\n",
    "mergesort(A)"
   ],
   "outputs": [
    {
     "output_type": "execute_result",
     "data": {
      "text/plain": [
       "[0, 1, 2, 3, 3, 4, 5, 5, 6, 6, 7, 8, 9]"
      ]
     },
     "metadata": {},
     "execution_count": 7
    }
   ],
   "metadata": {}
  },
  {
   "cell_type": "code",
   "execution_count": 2,
   "source": [
    "# バケットソート\r\n",
    "# 0からmax_valueまでの整数値のみと想定\r\n",
    "# バケツの準備：⼀般的にはk．バケツに⼊れる：n．バケツから取り出す：max(n,k)．\r\n",
    "# よって，O(n+k)．kがnかそれ以下のオーダーならば，n\r\n",
    "def bucketsort(seq, max_value):\r\n",
    "    count = [0]*(max_value+1) # バケツ\r\n",
    "    sorted = [] # ソート済み配列\r\n",
    "    # 出現回数をカウント\r\n",
    "    for i in range(len(seq)):\r\n",
    "        count[seq[i]] += 1\r\n",
    "    # 出現回数からソート済み配列を⽣成\r\n",
    "    for i in range(len(count)):\r\n",
    "        for j in range(count[i]):\r\n",
    "            sorted.append(i)\r\n",
    "    return sorted\r\n",
    "\r\n",
    "A = [3,5,6,8,3,2,1,4,6,7,0,5,9]\r\n",
    "bucketsort(A,9)"
   ],
   "outputs": [
    {
     "output_type": "execute_result",
     "data": {
      "text/plain": [
       "[0, 1, 2, 3, 3, 4, 5, 5, 6, 6, 7, 8, 9]"
      ]
     },
     "metadata": {},
     "execution_count": 2
    }
   ],
   "metadata": {}
  },
  {
   "cell_type": "code",
   "execution_count": 13,
   "source": [
    "# ist2021 3\r\n",
    "\r\n",
    "class UnionFind: #UF木の実装\r\n",
    "    def __init__(self, n):\r\n",
    "        self.parent = [i for i in range(n)]\r\n",
    "        self.sizes = [1 for i in range(n)]\r\n",
    "        self.time = [0 for i in range(n)]\r\n",
    "\r\n",
    "    def find(self, i):\r\n",
    "        while self.parent[i] != i:\r\n",
    "            i = self.parent[i]\r\n",
    "        return i\r\n",
    "    \r\n",
    "    def unite(self, t, a, b):\r\n",
    "        i = self.find(a)\r\n",
    "        j = self.find(b)\r\n",
    "        self.parent[i] = j\r\n",
    "        if i != j: # より⾼い⽅にマージ\r\n",
    "            if self.sizes[i] > self.sizes[j]:\r\n",
    "                self.parent[i] = i\r\n",
    "                self.parent[j] = i\r\n",
    "                self.sizes[i] += self.sizes[j]\r\n",
    "                self.time[i] = t\r\n",
    "                self.time[j] = t\r\n",
    "            else:\r\n",
    "                self.sizes[j] += self.sizes[i]\r\n",
    "                self.time[j] = t\r\n",
    "                self.time[i] = t\r\n",
    "\r\n",
    "    def size(self, a):\r\n",
    "        return self.sizes[self.find(a)]\r\n",
    "    \r\n",
    "    def find_time(self, a, b):\r\n",
    "        if a == b: return 0\r\n",
    "        elif self.time[a] < self.time[b]:\r\n",
    "            if self.parent[a] == b: return self.time[a]\r\n",
    "            a = self.parent[a]\r\n",
    "            return self.find_time(a, b)\r\n",
    "        else:\r\n",
    "            if self.parent[b] == a: return self.time[b]\r\n",
    "            b = self.parent[b]\r\n",
    "            return self.find_time(a, b)\r\n",
    "\r\n",
    "uf = UnionFind(6)\r\n",
    "uf.unite(1,0,1)\r\n",
    "uf.unite(2,1,2)\r\n",
    "uf.unite(3,3,4)\r\n",
    "uf.unite(4,1,3)\r\n",
    "uf.find_time(0,3)\r\n"
   ],
   "outputs": [
    {
     "output_type": "execute_result",
     "data": {
      "text/plain": [
       "4"
      ]
     },
     "metadata": {},
     "execution_count": 13
    }
   ],
   "metadata": {}
  },
  {
   "cell_type": "code",
   "execution_count": 7,
   "source": [
    "# nPkをMで割ったあまり\r\n",
    "def nPk(N,K):\r\n",
    "    M = 10**9 + 7 # 素数\r\n",
    "    a = 1\r\n",
    "    for i in range(N-K):\r\n",
    "        a *= i+1\r\n",
    "        a %= M\r\n",
    "    b = a\r\n",
    "    for i in range(N-K,N):\r\n",
    "        b *= i+1\r\n",
    "        b %= M\r\n",
    "    ans = pow(a,M-2,M) #フェルマーの⼩定理より, 剰余の割り算 = M-2乗を掛ける\r\n",
    "    ans *= b\r\n",
    "    ans %= M\r\n",
    "    return ans\r\n",
    "\r\n",
    "N=5\r\n",
    "K=3\r\n",
    "nPk(N,K)"
   ],
   "outputs": [
    {
     "output_type": "execute_result",
     "data": {
      "text/plain": [
       "60"
      ]
     },
     "metadata": {},
     "execution_count": 7
    }
   ],
   "metadata": {}
  },
  {
   "cell_type": "code",
   "execution_count": 8,
   "source": [
    "# nCkをMで割ったあまり\r\n",
    "def nCk(N,K):\r\n",
    "    M = 10**9 + 7 # 素数\r\n",
    "    a = 1\r\n",
    "    for i in range(N-K):\r\n",
    "        a *= i+1\r\n",
    "        a %= M\r\n",
    "    b = a\r\n",
    "    for i in range(N-K,N):\r\n",
    "        b *= i+1\r\n",
    "        b %= M\r\n",
    "    c = 1\r\n",
    "    for i in range(K):\r\n",
    "        c *= i+1\r\n",
    "        c %= M\r\n",
    "    ans = pow(a,M-2,M) #剰余の割り算 = M-2乗を掛ける\r\n",
    "    ans *= pow(c,M-2,M)\r\n",
    "    ans %= M\r\n",
    "    ans *= b\r\n",
    "    ans %= M\r\n",
    "    return ans\r\n",
    "\r\n",
    "N=5\r\n",
    "K=3\r\n",
    "nCk(N,K)"
   ],
   "outputs": [
    {
     "output_type": "execute_result",
     "data": {
      "text/plain": [
       "10"
      ]
     },
     "metadata": {},
     "execution_count": 8
    }
   ],
   "metadata": {}
  },
  {
   "cell_type": "code",
   "execution_count": 1,
   "source": [
    "# osa_k法\r\n",
    "# 前処理の計算量はエラトステネスのふるいと同じO(N log logN)\r\n",
    "# 本計算の計算量は素因数の個数に比例．Mの素因数の個数はlogM程度より，計算量もO(logM)\r\n",
    "# Mが最大の場合(M=Nの場合)計算量O(logN)より，N以下の正の整数全てを素因数分解する場合も計算量はO(N logN)程度\r\n",
    "def osa_k(n):\r\n",
    "    # エラトステネスのふるいの応用\r\n",
    "    min_factor = [-1] * (n+1) # iの最小の素因数(iを割り切る最小の素数)を格納する配列\r\n",
    "    min_factor[0] = 0\r\n",
    "    min_factor[1] = 1\r\n",
    "    for i in range(2, n+1):\r\n",
    "        if min_factor[i] == -1: # 素数なら\r\n",
    "            min_factor[i] = i # min_factor[i] = iとして\r\n",
    "            for j in range(i*i, n+1, i): # i*i以上のiの倍数jに対し\r\n",
    "                if min_factor[j] == -1: # jがまだmin_factorを持たないならmin_factor[j] = iとする\r\n",
    "                    min_factor[j] = i\r\n",
    "    \r\n",
    "    ans = [1] if n == 1 else []\r\n",
    "    k = n\r\n",
    "    while k > 1: # 1になるまでkをmin_factor[k]で割ってkを更新\r\n",
    "        ans.append(min_factor[k])\r\n",
    "        k //= min_factor[k]\r\n",
    "    \r\n",
    "    return ans\r\n",
    "\r\n",
    "N = 12\r\n",
    "ans =[]\r\n",
    "for i in range(N):\r\n",
    "    ans.append(osa_k(i+1))\r\n",
    "print(ans)"
   ],
   "outputs": [
    {
     "output_type": "stream",
     "name": "stdout",
     "text": [
      "[[1], [2], [3], [2, 2], [5], [2, 3], [7], [2, 2, 2], [3, 3], [2, 5], [11], [2, 2, 3]]\n"
     ]
    }
   ],
   "metadata": {}
  },
  {
   "cell_type": "code",
   "execution_count": 2,
   "source": [
    "# 最大流(max flow)問題\r\n",
    "# フォード・ファルカーソン法\r\n",
    "# ノード数V，最⼤流の最適値をF 最悪の場合，新しい経路が⾒つかっても最⼤流が1つしか増やせない-> F回の最⼤流値の更新が発⽣\r\n",
    "# 経路探索のためには⾼々Vのノードを訪れる．隣接⾏列の場合，辺のチェックのために，毎回O(V)個の操作が必要\r\n",
    "# 隣接⾏列の場合 O(FV^2)\r\n",
    "def FordFulkerson(edges,start,end):\r\n",
    "    # s ‒ e間においてある1つのパスで流せる流量を返す\r\n",
    "    def dfs_ff(s, e, flow): # 引数: DFSの開始ノード，DFSの終了ノード，DFSの開始ノードの前のノードまでに流せる最⼤流量\r\n",
    "        if (s == e): return flow # sとeが⼀緒のノードなら今までの最⼤流量をそのまま返す\r\n",
    "        visited[s] = True # ノードsを訪問したと記録\r\n",
    "        for i in range(len(edges[s])):# 流せる容量がある辺をすべてチェック\r\n",
    "            if edges[s][i] > 0 and not visited[i]: # まだ⾒ていない辺があればDFS\r\n",
    "                f = dfs_ff(i, e, min(flow, edges[s][i])) # 今までの最⼤流量とノードs‒i間の流量のうち，⼩さい⽅を使ってdfs_ffを再帰で呼び出す\r\n",
    "                if f > 0:\r\n",
    "                    edges[s][i] -= f\r\n",
    "                    edges[i][s] += f\r\n",
    "                    return f\r\n",
    "        return 0\r\n",
    "    \r\n",
    "    N = len(edges)\r\n",
    "    max_flow = 0\r\n",
    "    while True:\r\n",
    "        visited = [False] * N # 毎回のDFSで使う訪問フラグ\r\n",
    "        f = dfs_ff(start,end,10**9) # DFS実⾏\r\n",
    "        if f == 0: break # もう流せないなら終了\r\n",
    "        max_flow += f\r\n",
    "    return max_flow\r\n",
    "\r\n",
    "edges = [[0, 10, 10, 0, 0, 0],\r\n",
    "[0, 0, 0, 4, 8, 0],\r\n",
    "[0, 0, 0, 7, 4, 0],\r\n",
    "[0, 0, 0, 0, 0, 8],\r\n",
    "[0, 0, 0, 0, 0, 12],\r\n",
    "[0, 0, 0, 0, 0, 0]]\r\n",
    "FordFulkerson(edges,0,5)"
   ],
   "outputs": [
    {
     "output_type": "execute_result",
     "data": {
      "text/plain": [
       "20"
      ]
     },
     "metadata": {},
     "execution_count": 2
    }
   ],
   "metadata": {}
  },
  {
   "cell_type": "code",
   "execution_count": 3,
   "source": [
    "# 隣接リストでの実装 O(FE)\r\n",
    "def FordFulkerson2(edges,start,end):\r\n",
    "    # s ‒ e間においてある1つのパスで流せる流量を返す\r\n",
    "    def dfs_ff(s, e, flow): # 引数: DFSの開始ノード，DFSの終了ノード，DFSの開始ノードの前のノードまでに流せる最⼤流量\r\n",
    "        if (s == e): return flow # sとeが⼀緒のノードなら今までの最⼤流量をそのまま返す\r\n",
    "        visited[s] = True # ノードsを訪問したと記録\r\n",
    "        for i in range(len(edges[s])):# 流せる容量がある辺をすべてチェック\r\n",
    "            edge = edges[s][i] # edge[0] = to, edge[1] = s-toに流せる最大量\r\n",
    "            if edge[1] > 0 and not visited[edge[0]]: # まだ⾒ていない辺があればDFS\r\n",
    "                f = dfs_ff(edge[0], e, min(flow, edge[1])) # 今までの最⼤流量とノードs‒to間の流量のうち，⼩さい⽅を使ってdfs_ffを再帰で呼び出す\r\n",
    "                if f > 0:\r\n",
    "                    edge[1] -= f\r\n",
    "                    for j in range(len(edges[edge[0]])): # 逆辺のフロー更新(効率化したい)\r\n",
    "                        if edges[edge[0]][j][0] == s:\r\n",
    "                            edges[edge[0]][j][1] += f\r\n",
    "                    return f\r\n",
    "        return 0\r\n",
    "    \r\n",
    "    N = len(edges)\r\n",
    "    max_flow = 0\r\n",
    "    while True:\r\n",
    "        visited = [False] * N # 毎回のDFSで使う訪問フラグ\r\n",
    "        f = dfs_ff(start,end,10**9) # DFS実⾏\r\n",
    "        if f == 0: break # もう流せないなら終了\r\n",
    "        max_flow += f\r\n",
    "    return max_flow\r\n",
    "\r\n",
    "edges = [[0, 10, 10, 0, 0, 0],\r\n",
    "[0, 0, 0, 4, 8, 0],\r\n",
    "[0, 0, 0, 7, 4, 0],\r\n",
    "[0, 0, 0, 0, 0, 8],\r\n",
    "[0, 0, 0, 0, 0, 12],\r\n",
    "[0, 0, 0, 0, 0, 0]]\r\n",
    "edges2 = [[] for i in range(len(edges))]\r\n",
    "for i in range(len(edges)):\r\n",
    "    for j in range(len(edges)):\r\n",
    "        if edges[i][j] != 0:\r\n",
    "            edges2[i].append([j,edges[i][j]])\r\n",
    "            edges2[j].append([i,0])\r\n",
    "\r\n",
    "FordFulkerson2(edges2,0,5)"
   ],
   "outputs": [
    {
     "output_type": "execute_result",
     "data": {
      "text/plain": [
       "20"
      ]
     },
     "metadata": {},
     "execution_count": 3
    }
   ],
   "metadata": {}
  },
  {
   "cell_type": "code",
   "execution_count": 4,
   "source": [
    "# Algo 1-1 累積和\r\n",
    "lines=[0 for i in range(2)]\r\n",
    "lines[0]='1 1'\r\n",
    "lines[1]='0'\r\n",
    "N,M=[int(x.strip()) for x in lines[0].split()]\r\n",
    "A=[int(x.strip()) for x in lines[1].split()]\r\n",
    "sumA=0\r\n",
    "for i in range(M):\r\n",
    "  sumA+=A[i]\r\n",
    "maxA=sumA\r\n",
    "index=1\r\n",
    "for i in range(N-M):\r\n",
    "  sumA=sumA+A[M+i]-A[i]\r\n",
    "  if maxA<sumA:\r\n",
    "    maxA=sumA\r\n",
    "    index=i+2\r\n",
    "\r\n",
    "print(maxA, index)"
   ],
   "outputs": [
    {
     "output_type": "stream",
     "name": "stdout",
     "text": [
      "0 1\n"
     ]
    }
   ],
   "metadata": {}
  },
  {
   "cell_type": "code",
   "execution_count": 5,
   "source": [
    "# 最⼩費⽤流(min cost flow)\r\n",
    "# プライマルデュアル法 \r\n",
    "# sからtへの流量fの最小費用流を求める 流せない場合は-1を返す\r\n",
    "# 蟻本p200参照\r\n",
    "# ノード数V，エッジ数E，設定流量をFとする 最⼩コスト経路探索のためにはベルマンフォード法を使うとO(EV)必要．（隣接リストを使う場合）\r\n",
    "# さらに，流量を1ずつしか増やせないのが最悪のケース．よって，O(FEV)\r\n",
    "# ポテンシャルと呼ばれる⼯夫をするとダイクストラ法を使うことができる．\r\n",
    "# この場合，O(FV^2)．ヒープを使うダイクストラ法を使えば， O(F(V+E)logV)に計算量を減らせる\r\n",
    "def PrimalDual(G,s,t,f):\r\n",
    "    V = len(G) # 頂点数\r\n",
    "    prev_v = [0 for i in range(V)] # 直前の頂点\r\n",
    "    prev_e = [0 for i in range(V)] # 直前の辺\r\n",
    "    inf = 10**9\r\n",
    "    res = 0 # 最⼩費⽤\r\n",
    "    while f > 0:\r\n",
    "        # ベルマンフォード法で最短路を求める(負の経路が存在するため)\r\n",
    "        dist = [inf] * V # 最短距離\r\n",
    "        dist[s] = 0\r\n",
    "        update = True\r\n",
    "        while update:\r\n",
    "            update = False\r\n",
    "            for v in range(V):\r\n",
    "                if dist[v] == inf: continue\r\n",
    "                for i in range(len(G[v])):\r\n",
    "                    edge = G[v][i] # vからの辺 (行き先、容量、コスト、逆辺)\r\n",
    "                    if edge[1] > 0 and dist[edge[0]] > dist[v] + edge[2]: # 最短距離を更新\r\n",
    "                        dist[edge[0]] = dist[v] + edge[2]\r\n",
    "                        prev_v[edge[0]] = v # 直前の頂点、辺も記録\r\n",
    "                        prev_e[edge[0]] = i\r\n",
    "                        update = True\r\n",
    "\r\n",
    "        if dist[t] == inf: # これ以上流せないなら-1\r\n",
    "            return -1\r\n",
    "\r\n",
    "        d = f # 流量\r\n",
    "        v = t\r\n",
    "        # 最短路に沿ってできる限り流すというのを繰り返す\r\n",
    "        while  v != s: # tからsまで\r\n",
    "            d = min(d, G[prev_v[v]][prev_e[v]][1]) # 最短路に沿ってprev_vをたどって流せる量が最も少ないエッジの容量を流量とする\r\n",
    "            v = prev_v[v]\r\n",
    "        \r\n",
    "        f -= d # 流したい量からdを引く\r\n",
    "        res += d * dist[t] # コストをd流す分加算\r\n",
    "        v = t\r\n",
    "        while  v != s: # tからsまで\r\n",
    "            G[prev_v[v]][prev_e[v]][1] -= d # 最短路に沿ってprev_vをたどって流した量dだけ容量を引く\r\n",
    "            G[v][G[prev_v[v]][prev_e[v]][3]][1] += d # 逆辺は流した量dだけ容量を足す\r\n",
    "            v = prev_v[v]\r\n",
    "            \r\n",
    "    return res\r\n",
    "\r\n",
    "# アルゴリズム2021 \r\n",
    "# 12最小費用流の例\r\n",
    "V = 4 # 頂点数\r\n",
    "G = [[] for i in range(V)] # グラフの隣接リスト表現\r\n",
    "# fからtへ向かう容量cap、コストcostの辺をグラフに追加する\r\n",
    "def add_edge(f,t,cap,cost):\r\n",
    "    G[f].append([t,cap,cost,len(G[t])]) # 辺を表す (行き先、容量、コスト、逆辺) 逆辺(追加した時点でのlen(G[t])は下で追加する逆辺のindexを表す)\r\n",
    "    G[t].append([f,0,-cost,len(G[f])-1]) # 逆辺の逆辺のindexは上ですでにappendされているのでlen(G[f])-1\r\n",
    "\r\n",
    "add_edge(0, 1, 3, 6)\r\n",
    "add_edge(0, 2, 5, 2)\r\n",
    "add_edge(1, 3, 4, 3)\r\n",
    "add_edge(2, 1, 7, 3)\r\n",
    "add_edge(2, 3, 6, 9)\r\n",
    "#print(G)\r\n",
    "PrimalDual(G,0,3,7)"
   ],
   "outputs": [
    {
     "output_type": "execute_result",
     "data": {
      "text/plain": [
       "67"
      ]
     },
     "metadata": {},
     "execution_count": 5
    }
   ],
   "metadata": {}
  },
  {
   "cell_type": "code",
   "execution_count": 8,
   "source": [
    "# Algo 11-2\r\n",
    "# スタートから各文字列に流量a、コストiのエッジ、各文字列から各アルファベットに流量(各文字列中の各アルファベットの数)、コスト0のエッジ、\r\n",
    "# 各アルファベットからゴールに流量(各アルファベットの必要数)、コスト0のエッジを引き、プライマルデュアル法により最小費用流を求める\r\n",
    "lines = [' ' for i in range(5)]\r\n",
    "lines[0] = 'aabcd'\r\n",
    "lines[1] = '3'\r\n",
    "lines[2] = 'aca 2'\r\n",
    "lines[3] = 'bda 3'\r\n",
    "lines[4] = 'ab 10'\r\n",
    "\r\n",
    "T = lines[0]\r\n",
    "N = int(lines[1])\r\n",
    "V = 1+N+26+1 # 頂点数\r\n",
    "G = [[] for i in range(V)] # グラフ\r\n",
    "for i in range(1,N+1):\r\n",
    "    s,a = [x.strip() for x in lines[i+1].split()]\r\n",
    "    add_edge(0, i, int(a), i) # スタートから各文字列に流量a、コストiのエッジを引く\r\n",
    "    for j in range(26):\r\n",
    "        if s.count(chr(ord('a')+j)) != 0:\r\n",
    "            add_edge(i,N+1+j, s.count(chr(ord('a')+j)), 0) # 各文字列から各アルファベットに流量(各文字列中の各アルファベットの数)、コスト0のエッジを引く\r\n",
    "\r\n",
    "for i in range(26):\r\n",
    "    if T.count(chr(ord('a')+i))!=0:\r\n",
    "        add_edge(N+1+i,V-1, T.count(chr(ord('a')+i)), 0) # 各アルファベットからゴールに流量(各アルファベットの必要数)、コスト0のエッジを引く\r\n",
    "\r\n",
    "#print(G)\r\n",
    "PrimalDual(G,0,V-1,len(T))"
   ],
   "outputs": [
    {
     "output_type": "execute_result",
     "data": {
      "text/plain": [
       "8"
      ]
     },
     "metadata": {},
     "execution_count": 8
    }
   ],
   "metadata": {}
  },
  {
   "cell_type": "code",
   "execution_count": 14,
   "source": [
    "# ist 2022 3\r\n",
    "def CountTinS(S,T,k):\r\n",
    "    cnt = 0\r\n",
    "    N = len(S)\r\n",
    "    M = len(T)\r\n",
    "    for i in range(N-M+1):\r\n",
    "        for j in range(M):\r\n",
    "            if S[i+j] != T[j]:\r\n",
    "                break\r\n",
    "            if j == M-1:\r\n",
    "                cnt +=1\r\n",
    "    return cnt\r\n",
    "\r\n",
    "S = [1,2,0,2,1,0,2,1]\r\n",
    "T = [2,1]\r\n",
    "k = 3\r\n",
    "CountTinS(S,T,k)"
   ],
   "outputs": [
    {
     "output_type": "execute_result",
     "data": {
      "text/plain": [
       "2"
      ]
     },
     "metadata": {},
     "execution_count": 14
    }
   ],
   "metadata": {}
  },
  {
   "cell_type": "code",
   "execution_count": 21,
   "source": [
    "# O(n)ver\r\n",
    "def CountTinS2(S,T,k):\r\n",
    "    def matchTinS(numS):\r\n",
    "        return True if numS == numT else False\r\n",
    "        \r\n",
    "    cnt = 0\r\n",
    "    N = len(S)\r\n",
    "    M = len(T)\r\n",
    "    numS = 0\r\n",
    "    numT = 0\r\n",
    "    for i in range(M):\r\n",
    "        numS += S[i] * pow(k,M-i-1)\r\n",
    "        numT += T[i] * pow(k,M-i-1)\r\n",
    "    for i in range(N-M+1):\r\n",
    "        if i > 0:\r\n",
    "            numS = (numS - S[i-1] * pow(k,M-1)) * k + S[i+M-1]\r\n",
    "        if matchTinS(numS):\r\n",
    "            cnt +=1\r\n",
    "    return cnt\r\n",
    "\r\n",
    "S = [1,2,0,2,1,0,2,1]\r\n",
    "T = [2,1]\r\n",
    "k = 3\r\n",
    "CountTinS2(S,T,k)"
   ],
   "outputs": [
    {
     "output_type": "execute_result",
     "data": {
      "text/plain": [
       "2"
      ]
     },
     "metadata": {},
     "execution_count": 21
    }
   ],
   "metadata": {}
  },
  {
   "cell_type": "code",
   "execution_count": 10,
   "source": [
    "import numpy as np\r\n",
    "import matplotlib.pyplot as plt\r\n",
    "plt.axes().set_aspect('equal', 'datalim')\r\n",
    "n = 10\r\n",
    "N = np.arange(1, n+1)\r\n",
    "x = (N ** 3) * np.exp(-N) * np.sin(np.pi/N)\r\n",
    "plt.plot(N, x, marker=\".\")\r\n",
    "plt.show"
   ],
   "outputs": [
    {
     "output_type": "execute_result",
     "data": {
      "text/plain": [
       "<function matplotlib.pyplot.show(close=None, block=None)>"
      ]
     },
     "metadata": {},
     "execution_count": 10
    },
    {
     "output_type": "display_data",
     "data": {
      "image/png": "[encoded data removed]",
      "image/svg+xml": "<?xml version=\"1.0\" encoding=\"utf-8\" standalone=\"no\"?>\r\n<!DOCTYPE svg PUBLIC \"-//W3C//DTD SVG 1.1//EN\"\r\n  \"http://www.w3.org/Graphics/SVG/1.1/DTD/svg11.dtd\">\r\n<svg height=\"248.518125pt\" version=\"1.1\" viewBox=\"0 0 370.942187 248.518125\" width=\"370.942187pt\" xmlns=\"http://www.w3.org/2000/svg\" xmlns:xlink=\"http://www.w3.org/1999/xlink\">\r\n <metadata>\r\n  <rdf:RDF xmlns:cc=\"http://creativecommons.org/ns#\" xmlns:dc=\"http://purl.org/dc/elements/1.1/\" xmlns:rdf=\"http://www.w3.org/1999/02/22-rdf-syntax-ns#\">\r\n   <cc:Work>\r\n    <dc:type rdf:resource=\"http://purl.org/dc/dcmitype/StillImage\"/>\r\n    <dc:date>2021-10-07T17:38:00.688132</dc:date>\r\n    <dc:format>image/svg+xml</dc:format>\r\n    <dc:creator>\r\n     <cc:Agent>\r\n      <dc:title>Matplotlib v3.4.3, https://matplotlib.org/</dc:title>\r\n     </cc:Agent>\r\n    </dc:creator>\r\n   </cc:Work>\r\n  </rdf:RDF>\r\n </metadata>\r\n <defs>\r\n  <style type=\"text/css\">*{stroke-linecap:butt;stroke-linejoin:round;}</style>\r\n </defs>\r\n <g id=\"figure_1\">\r\n  <g id=\"patch_1\">\r\n   <path d=\"M 0 248.518125 \r\nL 370.942187 248.518125 \r\nL 370.942187 0 \r\nL 0 0 \r\nz\r\n\" style=\"fill:none;\"/>\r\n  </g>\r\n  <g id=\"axes_1\">\r\n   <g id=\"patch_2\">\r\n    <path d=\"M 28.942188 224.64 \r\nL 363.742188 224.64 \r\nL 363.742188 7.2 \r\nL 28.942188 7.2 \r\nz\r\n\" style=\"fill:#ffffff;\"/>\r\n   </g>\r\n   <g id=\"matplotlib.axis_1\">\r\n    <g id=\"xtick_1\">\r\n     <g id=\"line2d_1\">\r\n      <defs>\r\n       <path d=\"M 0 0 \r\nL 0 3.5 \r\n\" id=\"m3e07150a2f\" style=\"stroke:#000000;stroke-width:0.8;\"/>\r\n      </defs>\r\n      <g>\r\n       <use style=\"stroke:#000000;stroke-width:0.8;\" x=\"77.978551\" xlink:href=\"#m3e07150a2f\" y=\"224.64\"/>\r\n      </g>\r\n     </g>\r\n     <g id=\"text_1\">\r\n      <!-- 2 -->\r\n      <g transform=\"translate(74.797301 239.238437)scale(0.1 -0.1)\">\r\n       <defs>\r\n        <path d=\"M 1228 531 \r\nL 3431 531 \r\nL 3431 0 \r\nL 469 0 \r\nL 469 531 \r\nQ 828 903 1448 1529 \r\nQ 2069 2156 2228 2338 \r\nQ 2531 2678 2651 2914 \r\nQ 2772 3150 2772 3378 \r\nQ 2772 3750 2511 3984 \r\nQ 2250 4219 1831 4219 \r\nQ 1534 4219 1204 4116 \r\nQ 875 4013 500 3803 \r\nL 500 4441 \r\nQ 881 4594 1212 4672 \r\nQ 1544 4750 1819 4750 \r\nQ 2544 4750 2975 4387 \r\nQ 3406 4025 3406 3419 \r\nQ 3406 3131 3298 2873 \r\nQ 3191 2616 2906 2266 \r\nQ 2828 2175 2409 1742 \r\nQ 1991 1309 1228 531 \r\nz\r\n\" id=\"DejaVuSans-32\" transform=\"scale(0.015625)\"/>\r\n       </defs>\r\n       <use xlink:href=\"#DejaVuSans-32\"/>\r\n      </g>\r\n     </g>\r\n    </g>\r\n    <g id=\"xtick_2\">\r\n     <g id=\"line2d_2\">\r\n      <g>\r\n       <use style=\"stroke:#000000;stroke-width:0.8;\" x=\"145.614915\" xlink:href=\"#m3e07150a2f\" y=\"224.64\"/>\r\n      </g>\r\n     </g>\r\n     <g id=\"text_2\">\r\n      <!-- 4 -->\r\n      <g transform=\"translate(142.433665 239.238437)scale(0.1 -0.1)\">\r\n       <defs>\r\n        <path d=\"M 2419 4116 \r\nL 825 1625 \r\nL 2419 1625 \r\nL 2419 4116 \r\nz\r\nM 2253 4666 \r\nL 3047 4666 \r\nL 3047 1625 \r\nL 3713 1625 \r\nL 3713 1100 \r\nL 3047 1100 \r\nL 3047 0 \r\nL 2419 0 \r\nL 2419 1100 \r\nL 313 1100 \r\nL 313 1709 \r\nL 2253 4666 \r\nz\r\n\" id=\"DejaVuSans-34\" transform=\"scale(0.015625)\"/>\r\n       </defs>\r\n       <use xlink:href=\"#DejaVuSans-34\"/>\r\n      </g>\r\n     </g>\r\n    </g>\r\n    <g id=\"xtick_3\">\r\n     <g id=\"line2d_3\">\r\n      <g>\r\n       <use style=\"stroke:#000000;stroke-width:0.8;\" x=\"213.251278\" xlink:href=\"#m3e07150a2f\" y=\"224.64\"/>\r\n      </g>\r\n     </g>\r\n     <g id=\"text_3\">\r\n      <!-- 6 -->\r\n      <g transform=\"translate(210.070028 239.238437)scale(0.1 -0.1)\">\r\n       <defs>\r\n        <path d=\"M 2113 2584 \r\nQ 1688 2584 1439 2293 \r\nQ 1191 2003 1191 1497 \r\nQ 1191 994 1439 701 \r\nQ 1688 409 2113 409 \r\nQ 2538 409 2786 701 \r\nQ 3034 994 3034 1497 \r\nQ 3034 2003 2786 2293 \r\nQ 2538 2584 2113 2584 \r\nz\r\nM 3366 4563 \r\nL 3366 3988 \r\nQ 3128 4100 2886 4159 \r\nQ 2644 4219 2406 4219 \r\nQ 1781 4219 1451 3797 \r\nQ 1122 3375 1075 2522 \r\nQ 1259 2794 1537 2939 \r\nQ 1816 3084 2150 3084 \r\nQ 2853 3084 3261 2657 \r\nQ 3669 2231 3669 1497 \r\nQ 3669 778 3244 343 \r\nQ 2819 -91 2113 -91 \r\nQ 1303 -91 875 529 \r\nQ 447 1150 447 2328 \r\nQ 447 3434 972 4092 \r\nQ 1497 4750 2381 4750 \r\nQ 2619 4750 2861 4703 \r\nQ 3103 4656 3366 4563 \r\nz\r\n\" id=\"DejaVuSans-36\" transform=\"scale(0.015625)\"/>\r\n       </defs>\r\n       <use xlink:href=\"#DejaVuSans-36\"/>\r\n      </g>\r\n     </g>\r\n    </g>\r\n    <g id=\"xtick_4\">\r\n     <g id=\"line2d_4\">\r\n      <g>\r\n       <use style=\"stroke:#000000;stroke-width:0.8;\" x=\"280.887642\" xlink:href=\"#m3e07150a2f\" y=\"224.64\"/>\r\n      </g>\r\n     </g>\r\n     <g id=\"text_4\">\r\n      <!-- 8 -->\r\n      <g transform=\"translate(277.706392 239.238437)scale(0.1 -0.1)\">\r\n       <defs>\r\n        <path d=\"M 2034 2216 \r\nQ 1584 2216 1326 1975 \r\nQ 1069 1734 1069 1313 \r\nQ 1069 891 1326 650 \r\nQ 1584 409 2034 409 \r\nQ 2484 409 2743 651 \r\nQ 3003 894 3003 1313 \r\nQ 3003 1734 2745 1975 \r\nQ 2488 2216 2034 2216 \r\nz\r\nM 1403 2484 \r\nQ 997 2584 770 2862 \r\nQ 544 3141 544 3541 \r\nQ 544 4100 942 4425 \r\nQ 1341 4750 2034 4750 \r\nQ 2731 4750 3128 4425 \r\nQ 3525 4100 3525 3541 \r\nQ 3525 3141 3298 2862 \r\nQ 3072 2584 2669 2484 \r\nQ 3125 2378 3379 2068 \r\nQ 3634 1759 3634 1313 \r\nQ 3634 634 3220 271 \r\nQ 2806 -91 2034 -91 \r\nQ 1263 -91 848 271 \r\nQ 434 634 434 1313 \r\nQ 434 1759 690 2068 \r\nQ 947 2378 1403 2484 \r\nz\r\nM 1172 3481 \r\nQ 1172 3119 1398 2916 \r\nQ 1625 2713 2034 2713 \r\nQ 2441 2713 2670 2916 \r\nQ 2900 3119 2900 3481 \r\nQ 2900 3844 2670 4047 \r\nQ 2441 4250 2034 4250 \r\nQ 1625 4250 1398 4047 \r\nQ 1172 3844 1172 3481 \r\nz\r\n\" id=\"DejaVuSans-38\" transform=\"scale(0.015625)\"/>\r\n       </defs>\r\n       <use xlink:href=\"#DejaVuSans-38\"/>\r\n      </g>\r\n     </g>\r\n    </g>\r\n    <g id=\"xtick_5\">\r\n     <g id=\"line2d_5\">\r\n      <g>\r\n       <use style=\"stroke:#000000;stroke-width:0.8;\" x=\"348.524006\" xlink:href=\"#m3e07150a2f\" y=\"224.64\"/>\r\n      </g>\r\n     </g>\r\n     <g id=\"text_5\">\r\n      <!-- 10 -->\r\n      <g transform=\"translate(342.161506 239.238437)scale(0.1 -0.1)\">\r\n       <defs>\r\n        <path d=\"M 794 531 \r\nL 1825 531 \r\nL 1825 4091 \r\nL 703 3866 \r\nL 703 4441 \r\nL 1819 4666 \r\nL 2450 4666 \r\nL 2450 531 \r\nL 3481 531 \r\nL 3481 0 \r\nL 794 0 \r\nL 794 531 \r\nz\r\n\" id=\"DejaVuSans-31\" transform=\"scale(0.015625)\"/>\r\n        <path d=\"M 2034 4250 \r\nQ 1547 4250 1301 3770 \r\nQ 1056 3291 1056 2328 \r\nQ 1056 1369 1301 889 \r\nQ 1547 409 2034 409 \r\nQ 2525 409 2770 889 \r\nQ 3016 1369 3016 2328 \r\nQ 3016 3291 2770 3770 \r\nQ 2525 4250 2034 4250 \r\nz\r\nM 2034 4750 \r\nQ 2819 4750 3233 4129 \r\nQ 3647 3509 3647 2328 \r\nQ 3647 1150 3233 529 \r\nQ 2819 -91 2034 -91 \r\nQ 1250 -91 836 529 \r\nQ 422 1150 422 2328 \r\nQ 422 3509 836 4129 \r\nQ 1250 4750 2034 4750 \r\nz\r\n\" id=\"DejaVuSans-30\" transform=\"scale(0.015625)\"/>\r\n       </defs>\r\n       <use xlink:href=\"#DejaVuSans-31\"/>\r\n       <use x=\"63.623047\" xlink:href=\"#DejaVuSans-30\"/>\r\n      </g>\r\n     </g>\r\n    </g>\r\n   </g>\r\n   <g id=\"matplotlib.axis_2\">\r\n    <g id=\"ytick_1\">\r\n     <g id=\"line2d_6\">\r\n      <defs>\r\n       <path d=\"M 0 0 \r\nL -3.5 0 \r\n\" id=\"ma5f3c131fc\" style=\"stroke:#000000;stroke-width:0.8;\"/>\r\n      </defs>\r\n      <g>\r\n       <use style=\"stroke:#000000;stroke-width:0.8;\" x=\"28.942188\" xlink:href=\"#ma5f3c131fc\" y=\"203.241173\"/>\r\n      </g>\r\n     </g>\r\n     <g id=\"text_6\">\r\n      <!-- −2 -->\r\n      <g transform=\"translate(7.2 207.040392)scale(0.1 -0.1)\">\r\n       <defs>\r\n        <path d=\"M 678 2272 \r\nL 4684 2272 \r\nL 4684 1741 \r\nL 678 1741 \r\nL 678 2272 \r\nz\r\n\" id=\"DejaVuSans-2212\" transform=\"scale(0.015625)\"/>\r\n       </defs>\r\n       <use xlink:href=\"#DejaVuSans-2212\"/>\r\n       <use x=\"83.789062\" xlink:href=\"#DejaVuSans-32\"/>\r\n      </g>\r\n     </g>\r\n    </g>\r\n    <g id=\"ytick_2\">\r\n     <g id=\"line2d_7\">\r\n      <g>\r\n       <use style=\"stroke:#000000;stroke-width:0.8;\" x=\"28.942188\" xlink:href=\"#ma5f3c131fc\" y=\"169.422991\"/>\r\n      </g>\r\n     </g>\r\n     <g id=\"text_7\">\r\n      <!-- −1 -->\r\n      <g transform=\"translate(7.2 173.22221)scale(0.1 -0.1)\">\r\n       <use xlink:href=\"#DejaVuSans-2212\"/>\r\n       <use x=\"83.789062\" xlink:href=\"#DejaVuSans-31\"/>\r\n      </g>\r\n     </g>\r\n    </g>\r\n    <g id=\"ytick_3\">\r\n     <g id=\"line2d_8\">\r\n      <g>\r\n       <use style=\"stroke:#000000;stroke-width:0.8;\" x=\"28.942188\" xlink:href=\"#ma5f3c131fc\" y=\"135.604809\"/>\r\n      </g>\r\n     </g>\r\n     <g id=\"text_8\">\r\n      <!-- 0 -->\r\n      <g transform=\"translate(15.579688 139.404028)scale(0.1 -0.1)\">\r\n       <use xlink:href=\"#DejaVuSans-30\"/>\r\n      </g>\r\n     </g>\r\n    </g>\r\n    <g id=\"ytick_4\">\r\n     <g id=\"line2d_9\">\r\n      <g>\r\n       <use style=\"stroke:#000000;stroke-width:0.8;\" x=\"28.942188\" xlink:href=\"#ma5f3c131fc\" y=\"101.786627\"/>\r\n      </g>\r\n     </g>\r\n     <g id=\"text_9\">\r\n      <!-- 1 -->\r\n      <g transform=\"translate(15.579688 105.585846)scale(0.1 -0.1)\">\r\n       <use xlink:href=\"#DejaVuSans-31\"/>\r\n      </g>\r\n     </g>\r\n    </g>\r\n    <g id=\"ytick_5\">\r\n     <g id=\"line2d_10\">\r\n      <g>\r\n       <use style=\"stroke:#000000;stroke-width:0.8;\" x=\"28.942188\" xlink:href=\"#ma5f3c131fc\" y=\"67.968446\"/>\r\n      </g>\r\n     </g>\r\n     <g id=\"text_10\">\r\n      <!-- 2 -->\r\n      <g transform=\"translate(15.579688 71.767664)scale(0.1 -0.1)\">\r\n       <use xlink:href=\"#DejaVuSans-32\"/>\r\n      </g>\r\n     </g>\r\n    </g>\r\n    <g id=\"ytick_6\">\r\n     <g id=\"line2d_11\">\r\n      <g>\r\n       <use style=\"stroke:#000000;stroke-width:0.8;\" x=\"28.942188\" xlink:href=\"#ma5f3c131fc\" y=\"34.150264\"/>\r\n      </g>\r\n     </g>\r\n     <g id=\"text_11\">\r\n      <!-- 3 -->\r\n      <g transform=\"translate(15.579688 37.949482)scale(0.1 -0.1)\">\r\n       <defs>\r\n        <path d=\"M 2597 2516 \r\nQ 3050 2419 3304 2112 \r\nQ 3559 1806 3559 1356 \r\nQ 3559 666 3084 287 \r\nQ 2609 -91 1734 -91 \r\nQ 1441 -91 1130 -33 \r\nQ 819 25 488 141 \r\nL 488 750 \r\nQ 750 597 1062 519 \r\nQ 1375 441 1716 441 \r\nQ 2309 441 2620 675 \r\nQ 2931 909 2931 1356 \r\nQ 2931 1769 2642 2001 \r\nQ 2353 2234 1838 2234 \r\nL 1294 2234 \r\nL 1294 2753 \r\nL 1863 2753 \r\nQ 2328 2753 2575 2939 \r\nQ 2822 3125 2822 3475 \r\nQ 2822 3834 2567 4026 \r\nQ 2313 4219 1838 4219 \r\nQ 1578 4219 1281 4162 \r\nQ 984 4106 628 3988 \r\nL 628 4550 \r\nQ 988 4650 1302 4700 \r\nQ 1616 4750 1894 4750 \r\nQ 2613 4750 3031 4423 \r\nQ 3450 4097 3450 3541 \r\nQ 3450 3153 3228 2886 \r\nQ 3006 2619 2597 2516 \r\nz\r\n\" id=\"DejaVuSans-33\" transform=\"scale(0.015625)\"/>\r\n       </defs>\r\n       <use xlink:href=\"#DejaVuSans-33\"/>\r\n      </g>\r\n     </g>\r\n    </g>\r\n   </g>\r\n   <g id=\"line2d_12\">\r\n    <path clip-path=\"url(#p040fc75063)\" d=\"M 44.160369 135.604809 \r\nL 77.978551 98.990463 \r\nL 111.796733 96.235191 \r\nL 145.614915 107.573892 \r\nL 179.433097 118.86284 \r\nL 213.251278 126.551505 \r\nL 247.06946 131.015404 \r\nL 280.887642 133.381991 \r\nL 314.705824 134.56422 \r\nL 348.524006 135.130362 \r\n\" style=\"fill:none;stroke:#1f77b4;stroke-linecap:square;stroke-width:1.5;\"/>\r\n    <defs>\r\n     <path d=\"M 0 1.5 \r\nC 0.397805 1.5 0.77937 1.341951 1.06066 1.06066 \r\nC 1.341951 0.77937 1.5 0.397805 1.5 0 \r\nC 1.5 -0.397805 1.341951 -0.77937 1.06066 -1.06066 \r\nC 0.77937 -1.341951 0.397805 -1.5 0 -1.5 \r\nC -0.397805 -1.5 -0.77937 -1.341951 -1.06066 -1.06066 \r\nC -1.341951 -0.77937 -1.5 -0.397805 -1.5 0 \r\nC -1.5 0.397805 -1.341951 0.77937 -1.06066 1.06066 \r\nC -0.77937 1.341951 -0.397805 1.5 0 1.5 \r\nz\r\n\" id=\"mcc3fbdb141\" style=\"stroke:#1f77b4;\"/>\r\n    </defs>\r\n    <g clip-path=\"url(#p040fc75063)\">\r\n     <use style=\"fill:#1f77b4;stroke:#1f77b4;\" x=\"44.160369\" xlink:href=\"#mcc3fbdb141\" y=\"135.604809\"/>\r\n     <use style=\"fill:#1f77b4;stroke:#1f77b4;\" x=\"77.978551\" xlink:href=\"#mcc3fbdb141\" y=\"98.990463\"/>\r\n     <use style=\"fill:#1f77b4;stroke:#1f77b4;\" x=\"111.796733\" xlink:href=\"#mcc3fbdb141\" y=\"96.235191\"/>\r\n     <use style=\"fill:#1f77b4;stroke:#1f77b4;\" x=\"145.614915\" xlink:href=\"#mcc3fbdb141\" y=\"107.573892\"/>\r\n     <use style=\"fill:#1f77b4;stroke:#1f77b4;\" x=\"179.433097\" xlink:href=\"#mcc3fbdb141\" y=\"118.86284\"/>\r\n     <use style=\"fill:#1f77b4;stroke:#1f77b4;\" x=\"213.251278\" xlink:href=\"#mcc3fbdb141\" y=\"126.551505\"/>\r\n     <use style=\"fill:#1f77b4;stroke:#1f77b4;\" x=\"247.06946\" xlink:href=\"#mcc3fbdb141\" y=\"131.015404\"/>\r\n     <use style=\"fill:#1f77b4;stroke:#1f77b4;\" x=\"280.887642\" xlink:href=\"#mcc3fbdb141\" y=\"133.381991\"/>\r\n     <use style=\"fill:#1f77b4;stroke:#1f77b4;\" x=\"314.705824\" xlink:href=\"#mcc3fbdb141\" y=\"134.56422\"/>\r\n     <use style=\"fill:#1f77b4;stroke:#1f77b4;\" x=\"348.524006\" xlink:href=\"#mcc3fbdb141\" y=\"135.130362\"/>\r\n    </g>\r\n   </g>\r\n   <g id=\"patch_3\">\r\n    <path d=\"M 28.942188 224.64 \r\nL 28.942188 7.2 \r\n\" style=\"fill:none;stroke:#000000;stroke-linecap:square;stroke-linejoin:miter;stroke-width:0.8;\"/>\r\n   </g>\r\n   <g id=\"patch_4\">\r\n    <path d=\"M 363.742188 224.64 \r\nL 363.742188 7.2 \r\n\" style=\"fill:none;stroke:#000000;stroke-linecap:square;stroke-linejoin:miter;stroke-width:0.8;\"/>\r\n   </g>\r\n   <g id=\"patch_5\">\r\n    <path d=\"M 28.942187 224.64 \r\nL 363.742188 224.64 \r\n\" style=\"fill:none;stroke:#000000;stroke-linecap:square;stroke-linejoin:miter;stroke-width:0.8;\"/>\r\n   </g>\r\n   <g id=\"patch_6\">\r\n    <path d=\"M 28.942187 7.2 \r\nL 363.742188 7.2 \r\n\" style=\"fill:none;stroke:#000000;stroke-linecap:square;stroke-linejoin:miter;stroke-width:0.8;\"/>\r\n   </g>\r\n  </g>\r\n </g>\r\n <defs>\r\n  <clipPath id=\"p040fc75063\">\r\n   <rect height=\"217.44\" width=\"334.8\" x=\"28.942188\" y=\"7.2\"/>\r\n  </clipPath>\r\n </defs>\r\n</svg>\r\n",
      "text/plain": [
       "<Figure size 432x288 with 1 Axes>"
      ]
     },
     "metadata": {
      "needs_background": "light"
     }
    }
   ],
   "metadata": {}
  },
  {
   "cell_type": "code",
   "execution_count": 47,
   "source": [
    "y = np.array([len(N), max(x), np.where(x == min(x))[0].tolist()[0]])\r\n",
    "print(y)"
   ],
   "outputs": [
    {
     "output_type": "stream",
     "name": "stdout",
     "text": [
      "[10.          1.16415538  0.        ]\n"
     ]
    }
   ],
   "metadata": {}
  },
  {
   "cell_type": "code",
   "execution_count": 48,
   "source": [
    "a = np.random.normal(loc = 1, scale = np.sqrt(100), size  = 5)\r\n",
    "b = 2 * np.random.rand(5) - 1\r\n",
    "X = np.matrix([a, b])\r\n",
    "print(X)"
   ],
   "outputs": [
    {
     "output_type": "stream",
     "name": "stdout",
     "text": [
      "[[14.11425088 12.80022746 -4.40471495  3.59558192 19.10768078]\n",
      " [ 0.47677663  0.20531775 -0.28449202  0.20393708  0.43916679]]\n"
     ]
    }
   ],
   "metadata": {}
  },
  {
   "cell_type": "code",
   "execution_count": null,
   "source": [],
   "outputs": [],
   "metadata": {}
  }
 ],
 "metadata": {
  "orig_nbformat": 4,
  "language_info": {
   "name": "python",
   "version": "3.9.6",
   "mimetype": "text/x-python",
   "codemirror_mode": {
    "name": "ipython",
    "version": 3
   },
   "pygments_lexer": "ipython3",
   "nbconvert_exporter": "python",
   "file_extension": ".py"
  },
  "kernelspec": {
   "name": "python3",
   "display_name": "Python 3.9.6 64-bit"
  },
  "interpreter": {
   "hash": "c8f62aa71a7606cec86cebf285e6e755341ddce54c9f73cdc118801823064d93"
  }
 },
 "nbformat": 4,
 "nbformat_minor": 2
}