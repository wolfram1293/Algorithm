{
 "cells": [
  {
   "cell_type": "code",
   "execution_count": 44,
   "metadata": {},
   "outputs": [
    {
     "name": "stdout",
     "output_type": "stream",
     "text": [
      "I hate it, despise it, abhor it!\n"
     ]
    }
   ],
   "source": [
    "import pandas as pd\n",
    "\n",
    "df = pd.read_csv('emobank.csv')\n",
    "\n",
    "text1 = df[df['V'] < 1.5]['text'].values[1]\n",
    "print(text1)"
   ]
  },
  {
   "cell_type": "code",
   "execution_count": 45,
   "metadata": {},
   "outputs": [
    {
     "name": "stdout",
     "output_type": "stream",
     "text": [
      "lol Wonderful Simply Superb!\n"
     ]
    }
   ],
   "source": [
    "text5 = df[df['V'] > 4.5]['text'].values[1]\n",
    "print(text5)"
   ]
  },
  {
   "cell_type": "code",
   "execution_count": 46,
   "metadata": {},
   "outputs": [],
   "source": [
    "text2 = df[df['V'] == 2].head(1)['text'].values[0]"
   ]
  },
  {
   "cell_type": "code",
   "execution_count": 47,
   "metadata": {},
   "outputs": [
    {
     "name": "stdout",
     "output_type": "stream",
     "text": [
      "                                   id  split    V     A     D  \\\n",
      "158                 110CYL200_389_480  train  2.0  3.50  2.38   \n",
      "1613         Anti-Terrorist_2032_2130  train  2.0  3.00  2.80   \n",
      "2187   Fermentation_HR5034_9996_10126  train  2.0  3.25  2.62   \n",
      "2533                  IFAW1_1303_1324   test  2.0  3.00  3.00   \n",
      "2947           NYTnewswire2_8918_8994   test  2.0  3.10  2.90   \n",
      "...                               ...    ...  ...   ...   ...   \n",
      "9481                  marine1_490_675  train  2.0  3.20  2.90   \n",
      "9485                  marine1_818_936  train  2.0  3.22  2.89   \n",
      "9635        wildelifewatch1_1328_1440  train  2.0  3.44  2.78   \n",
      "9997               wsj_2465_1041_1137  train  2.0  3.18  2.73   \n",
      "10010                wsj_2465_270_334  train  2.0  3.00  2.67   \n",
      "\n",
      "                                                    text  \n",
      "158    Reality hit when he was unable to reconcile wi...  \n",
      "1613   The fact is, Bush policies have failed complet...  \n",
      "2187   The hypocrisy, misleading notions and disinfor...  \n",
      "2533                               “stupid, non-feeling”  \n",
      "2947   \"This is a criminal act and it certainly puts ...  \n",
      "...                                                  ...  \n",
      "9481   Even today, after years of public outrage, dol...  \n",
      "9485   The cause - undetermined, but the suspected cu...  \n",
      "9635   And with more than 3,000 species facing rapidl...  \n",
      "9997   An hour later, the paper's circulation manager...  \n",
      "10010  Over the past 12 years, at least 40 journalist...  \n",
      "\n",
      "[65 rows x 6 columns]\n"
     ]
    }
   ],
   "source": [
    "print(df.query('1.99 < V < 2.01'))"
   ]
  },
  {
   "cell_type": "code",
   "execution_count": 48,
   "metadata": {},
   "outputs": [
    {
     "name": "stdout",
     "output_type": "stream",
     "text": [
      "Remember what she said in my last letter? \"\n"
     ]
    }
   ],
   "source": [
    "text3 = df[df['V'] == 3]['text'].values[0]\n",
    "print(text3)"
   ]
  },
  {
   "cell_type": "code",
   "execution_count": 49,
   "metadata": {},
   "outputs": [
    {
     "name": "stdout",
     "output_type": "stream",
     "text": [
      "Blessings to you.\n"
     ]
    }
   ],
   "source": [
    "text4 = df[df['V'] == 4]['text'].values[6]\n",
    "print(text4)"
   ]
  },
  {
   "cell_type": "code",
   "execution_count": 61,
   "metadata": {},
   "outputs": [],
   "source": [
    "from PIL import Image, ImageDraw, ImageFont\n",
    "textlist = [text1, text2, text3, text4, text5]\n",
    "fontlist = [ImageFont.truetype('D:/Users/Yuki/Google Drive/Fonts/日本語/KleeOne-Regular.ttf', 14)]\n",
    "i = 0\n",
    "for text in textlist:\n",
    "    i += 1\n",
    "    j = 0\n",
    "    for font in fontlist:\n",
    "        j += 1\n",
    "        im = Image.new(\"RGB\", (512, 256), (256, 256, 256))\n",
    "\n",
    "        draw = ImageDraw.Draw(im)\n",
    "        x = 20\n",
    "        y = 100\n",
    "        draw.text((x, y), text, fill=(0, 0, 0), font=font)\n",
    "\n",
    "        im.save(\"./image\" + str(i) + \"-\" + str(j) +\".png\")"
   ]
  },
  {
   "cell_type": "code",
   "execution_count": null,
   "metadata": {},
   "outputs": [],
   "source": []
  }
 ],
 "metadata": {
  "kernelspec": {
   "display_name": "Python 3.9.6 64-bit",
   "language": "python",
   "name": "python3"
  },
  "language_info": {
   "codemirror_mode": {
    "name": "ipython",
    "version": 3
   },
   "file_extension": ".py",
   "mimetype": "text/x-python",
   "name": "python",
   "nbconvert_exporter": "python",
   "pygments_lexer": "ipython3",
   "version": "3.9.6"
  },
  "orig_nbformat": 4,
  "vscode": {
   "interpreter": {
    "hash": "c25d132bfeda13c792bd644cbdde41cb6ec68286705ba4c27ace6b2206316a98"
   }
  }
 },
 "nbformat": 4,
 "nbformat_minor": 2
}
