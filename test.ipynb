{
 "cells": [
  {
   "cell_type": "code",
   "execution_count": 74,
   "source": [
    "def CI(A,M):\r\n",
    "    N=len(A)\r\n",
    "    count=[False]*M\r\n",
    "    for i in range(N):\r\n",
    "        if A[i]>=0 and A[i]<M:\r\n",
    "            count[A[i]]=True\r\n",
    "    \r\n",
    "    if all(count):\r\n",
    "        return True\r\n",
    "    else:\r\n",
    "        return False\r\n",
    "    \r\n",
    "def syakutori(A,M):\r\n",
    "    N=len(A)\r\n",
    "    s=0\r\n",
    "    e=N-1\r\n",
    "    l=0\r\n",
    "    r=0\r\n",
    "    while 1:\r\n",
    "        print(l,r,s,e,A[l:r+1])\r\n",
    "        if CI(A[l:r+1],M):\r\n",
    "            if r-l+1<=e-s+1:\r\n",
    "                s=l\r\n",
    "                e=r\r\n",
    "            if r-l+1>=M:\r\n",
    "                l+=1\r\n",
    "        else:\r\n",
    "            if r<N-1:\r\n",
    "                r+=1\r\n",
    "            else:\r\n",
    "                if not CI(A[l:r+1],M):\r\n",
    "                    break\r\n",
    "    \r\n",
    "    print(s, e, A[s:e+1])\r\n"
   ],
   "outputs": [],
   "metadata": {}
  },
  {
   "cell_type": "code",
   "execution_count": 75,
   "source": [
    "M=2\r\n",
    "A=[1,1,0,1]\r\n",
    "syakutori(A,M)"
   ],
   "outputs": [
    {
     "output_type": "stream",
     "name": "stdout",
     "text": [
      "0 0 0 3 [1]\n",
      "0 1 0 3 [1, 1]\n",
      "0 2 0 3 [1, 1, 0]\n",
      "1 2 0 2 [1, 0]\n",
      "2 2 1 2 [0]\n",
      "2 3 1 2 [0, 1]\n",
      "3 3 2 3 [1]\n",
      "2 3 [0, 1]\n"
     ]
    }
   ],
   "metadata": {}
  },
  {
   "cell_type": "code",
   "execution_count": 76,
   "source": [
    "def CI2(M,count):\r\n",
    "    n=0\r\n",
    "    for i in range(M):\r\n",
    "        if count[i]>0:\r\n",
    "            n+=1\r\n",
    "    if n==M:\r\n",
    "        return True\r\n",
    "    else:\r\n",
    "        return False\r\n",
    "    \r\n",
    "def syakutori2(A,M):\r\n",
    "    N=len(A)\r\n",
    "    s=0\r\n",
    "    e=N-1\r\n",
    "    l=0\r\n",
    "    r=0\r\n",
    "    count=[0]*M\r\n",
    "    if A[0]>=0 and A[0]<M:\r\n",
    "            count[A[0]]+=1\r\n",
    "    while 1:\r\n",
    "        print(l,r,s,e,A[l:r+1],count)\r\n",
    "        if CI2(M,count):\r\n",
    "            if r-l<=e-s:\r\n",
    "                s=l\r\n",
    "                e=r\r\n",
    "            if r-l+1>=M:\r\n",
    "                if A[l]>=0 and A[l]<M:\r\n",
    "                    count[A[l]]-=1\r\n",
    "                l+=1\r\n",
    "        else:\r\n",
    "            if r<N-1:\r\n",
    "                r+=1\r\n",
    "                if A[r]>=0 and A[r]<M:\r\n",
    "                    count[A[r]]+=1\r\n",
    "            else:\r\n",
    "                if not CI2(M,count):\r\n",
    "                    break\r\n",
    "    \r\n",
    "    print(s, e, A[s:e+1])"
   ],
   "outputs": [],
   "metadata": {}
  },
  {
   "cell_type": "code",
   "execution_count": 77,
   "source": [
    "M=2\r\n",
    "A=[1,1,0,1]\r\n",
    "syakutori2(A,M)"
   ],
   "outputs": [
    {
     "output_type": "stream",
     "name": "stdout",
     "text": [
      "0 0 0 3 [1] [0, 1]\n",
      "0 1 0 3 [1, 1] [0, 2]\n",
      "0 2 0 3 [1, 1, 0] [1, 2]\n",
      "1 2 0 2 [1, 0] [1, 1]\n",
      "2 2 1 2 [0] [1, 0]\n",
      "2 3 1 2 [0, 1] [1, 1]\n",
      "3 3 2 3 [1] [0, 1]\n",
      "2 3 [0, 1]\n"
     ]
    }
   ],
   "metadata": {}
  },
  {
   "cell_type": "code",
   "execution_count": 8,
   "source": [
    "import sys\r\n",
    "import heapq\r\n",
    "\r\n",
    "#edges=[[]for i in range(N)]\r\n",
    "#edges[a].append([b,d])\r\n",
    "edges = [[[1, 5], [2, 4]], #ノードA0\r\n",
    "[[0, 5], [3, 3], [5, 9]], #ノードB1\r\n",
    "[[0, 4], [3, 2], [4, 3]], #ノードC2\r\n",
    "[[1, 3], [2, 2], [5, 1], [6, 7]], #ノードD3\r\n",
    "[[2, 3], [6, 8]], #ノードE4\r\n",
    "[[1, 9], [3, 1], [6, 2], [7, 5]], #ノードF5\r\n",
    "[[3, 7], [4, 8], [5, 2], [7, 2]], #ノードG6\r\n",
    "[[5, 5], [6, 2]]] #ノードH7\r\n",
    "\r\n",
    "N=len(edges)\r\n",
    "S=0\r\n",
    "\r\n",
    "def dijkstra(N,S,edges):\r\n",
    "    done=[False]*N\r\n",
    "    inf=10**9\r\n",
    "    dist=[inf]*N\r\n",
    "    dist[S]=0\r\n",
    "    heap=[]\r\n",
    "    heapq.heappush(heap,[dist[S],S])\r\n",
    "    while heap:\r\n",
    "        node=heapq.heappop(heap)[1]\r\n",
    "        if not done[node]:\r\n",
    "            for e in edges[node]:\r\n",
    "                if dist[e[0]]>dist[node]+e[1]:\r\n",
    "                    dist[e[0]]=dist[node]+e[1]\r\n",
    "                    heapq.heappush(heap,[dist[e[0]],e[0]])\r\n",
    "        done[node]=True\r\n",
    "\r\n",
    "    for i in range(N):\r\n",
    "        if dist[i]==inf:\r\n",
    "            dist[i]='INF'\r\n",
    "    \r\n",
    "    print(' '.join(map(str, dist)))\r\n",
    "\r\n",
    "dijkstra(N,S,edges)"
   ],
   "outputs": [
    {
     "output_type": "stream",
     "name": "stdout",
     "text": [
      "0 5 4 6 7 7 9 11\n"
     ]
    }
   ],
   "metadata": {}
  },
  {
   "cell_type": "code",
   "execution_count": 7,
   "source": [
    "# 各ノードからの行き先、距離\r\n",
    "edges = [[[1, 5], [2, 4]], #ノードA0\r\n",
    "[[0, 5], [3, 3], [5, 9]], #ノードB1\r\n",
    "[[0, 4], [3, 2], [4, 3]], #ノードC2\r\n",
    "[[1, 3], [2, 2], [5, 1], [6, 7]], #ノードD3\r\n",
    "[[2, 3], [6, 8]], #ノードE4\r\n",
    "[[1, 9], [3, 1], [6, 2], [7, 5]], #ノードF5\r\n",
    "[[3, 7], [4, 8], [5, 2], [7, 2]], #ノードG6\r\n",
    "[[5, 5], [6, 2]]] #ノードH7\r\n",
    "\r\n",
    "N=len(edges)\r\n",
    "edges2 = []\r\n",
    "for i in range(len(edges)):\r\n",
    "    for node in edges[i]:\r\n",
    "        edges2.append([i,node[0],node[1]])\r\n",
    "\r\n",
    "# 始点，終点，距離の順．\r\n",
    "'''\r\n",
    "edges2 = [[0, 1, 5], [0, 2, 4], [1, 0, 5], [1, 3, 9], [1, 5, 9],\r\n",
    "[2, 0, 4], [2, 3, 2], [2, 4, 3], [3, 1, 9], [3, 2, 2], [3, 5, 1],\r\n",
    "[3, 6, 7], [4, 2, 3], [4, 6, 8], [5, 1, 9], [5, 3, 1], [5, 6, 2],\r\n",
    "[5, 7, 5], [6, 3, 7], [6, 4, 8], [6, 5, 2], [6, 7, 2], [7, 5, 5],\r\n",
    "[7, 6, 2]]\r\n",
    "'''\r\n",
    "\r\n",
    "S=0\r\n",
    "# ダイクストラと違い,最短距離の選択を⾏わず更新毎に全ての辺に対しての計算を毎回⾏う\r\n",
    "# 負の経路があっても計算可能,負の閉路があってもそれを検知可能\r\n",
    "# 頂点V、辺の数Eとして,2重ループの1つ⽬はV，2つ⽬は毎回すべての辺をチェックするのでEよって全体ではO(VE)\r\n",
    "\r\n",
    "def BellmanFord(N,S,edges):\r\n",
    "    inf=10**9\r\n",
    "    dist = [inf]*N\r\n",
    "    dist[S] = 0\r\n",
    "    # whileではなく，|N|回のforループにする．\r\n",
    "    # 辺の情報をすべて見ることを1ループとすると1ループするたびに最低でも1つの頂点についての最短距離は求まる\r\n",
    "    # 頂点の数をNとするとN−1回のループでグラフ全体の最短距離が求まる\r\n",
    "    # もしi=N-1で更新があれば，それは負の閉路の存在を表す．\r\n",
    "    for i in range(N):\r\n",
    "        for e in edges:\r\n",
    "            if dist[e[1]] > e[2] + dist[e[0]]:\r\n",
    "                dist[e[1]] = e[2] + dist[e[0]]\r\n",
    "                # 負の閉路の検知\r\n",
    "                if i==N-1: return -1\r\n",
    "    print(' '.join(map(str, dist)))\r\n",
    "\r\n",
    "BellmanFord(N,S,edges2)"
   ],
   "outputs": [
    {
     "output_type": "stream",
     "name": "stdout",
     "text": [
      "0 5 4 6 7 7 9 11\n"
     ]
    }
   ],
   "metadata": {}
  },
  {
   "cell_type": "code",
   "execution_count": 4,
   "source": [
    "from collections import deque\r\n",
    "\r\n",
    "#edges=[[] for i in range(N)] \r\n",
    "#各頂点からつながる頂点のリスト\r\n",
    "edges = [\r\n",
    "[1, 2],#ノードA\r\n",
    "[0, 3, 5],#ノードB\r\n",
    "[0, 3, 4],#ノードC\r\n",
    "[1, 2, 5],#ノードD\r\n",
    "[2, 6],#ノードE\r\n",
    "[1, 3, 7],#ノードF\r\n",
    "[4],#ノードG\r\n",
    "[5]]#ノードH\r\n",
    "N = len(edges)\r\n",
    "done = [0]*N #一度通った頂点を記録\r\n",
    "def bfs(edges, start, end):\r\n",
    "    waiting = deque()\r\n",
    "    # 0: 未発⾒，1: 発⾒済だが未訪問，2: 訪問済\r\n",
    "    done[start] = 2 # 開始ノードは訪問済\r\n",
    "    for n in edges[start]:\r\n",
    "        done[n] = 1 # 発⾒したが未訪問なので1\r\n",
    "        waiting.append(n)\r\n",
    "    while len(waiting):\r\n",
    "        cur_node = waiting.popleft()\r\n",
    "        if done[cur_node] != 2:\r\n",
    "            done[cur_node] = 2 # 訪問したので2\r\n",
    "            if(end == cur_node): print('=FOUND!=')\r\n",
    "            for n in edges[cur_node]:\r\n",
    "                if done[n] != 2:\r\n",
    "                    done[n] = 1 # 未訪問なので1\r\n",
    "                    waiting.append(n) # キュー追加\r\n",
    "\r\n",
    "bfs(edges, 0, 6)"
   ],
   "outputs": [
    {
     "output_type": "stream",
     "name": "stdout",
     "text": [
      "=FOUND!=\n"
     ]
    }
   ],
   "metadata": {}
  },
  {
   "cell_type": "code",
   "execution_count": 5,
   "source": [
    "\r\n",
    "#edges=[[] for i in range(N)] \r\n",
    "#各頂点からつながる頂点のリスト\r\n",
    "edges = [\r\n",
    "[1, 2],#ノードA\r\n",
    "[0, 3, 5],#ノードB\r\n",
    "[0, 3, 4],#ノードC\r\n",
    "[1, 2, 5],#ノードD\r\n",
    "[2, 6],#ノードE\r\n",
    "[1, 3, 7],#ノードF\r\n",
    "[4],#ノードG\r\n",
    "[5]]#ノードH\r\n",
    "N = len(edges)\r\n",
    "\r\n",
    "done = [0]*N #一度通った頂点を記録\r\n",
    "def dfs(edges, start, end):\r\n",
    "    waiting = []\r\n",
    "    # 0: 未発⾒，1: 発⾒済だが未訪問，2: 訪問済\r\n",
    "    done[start] = 2 # 開始ノードは訪問済\r\n",
    "    for n in edges[start]:\r\n",
    "        done[n] = 1 # 発⾒したが未訪問なので1\r\n",
    "        waiting.append(n)\r\n",
    "    while len(waiting):\r\n",
    "        cur_node = waiting.pop()\r\n",
    "        if done[cur_node] != 2:\r\n",
    "            done[cur_node] = 2 # 訪問したので2\r\n",
    "            if(end == cur_node): print('=FOUND!=')\r\n",
    "            for n in edges[cur_node]:\r\n",
    "                if done[n] != 2:\r\n",
    "                    done[n] = 1 # 未訪問なので1\r\n",
    "                    waiting.append(n)\r\n",
    "\r\n",
    "dfs(edges, 0, 6)"
   ],
   "outputs": [
    {
     "output_type": "stream",
     "name": "stdout",
     "text": [
      "=FOUND!=\n"
     ]
    }
   ],
   "metadata": {}
  },
  {
   "cell_type": "code",
   "execution_count": 10,
   "source": [
    "from collections import deque\r\n",
    "\r\n",
    "H,W = 5,5\r\n",
    "sy,sx = 0,0\r\n",
    "gy,gx = 4,4\r\n",
    "A=[[' ',' ',' ','#',' '],\r\n",
    "   ['#','#',' ',' ',' '],\r\n",
    "   [' ',' ',' ','#',' '],\r\n",
    "   [' ','#','#','#','#'],\r\n",
    "   [' ',' ',' ',' ',' ']]\r\n",
    "\r\n",
    "d=[[-1 for i in range(W)] for j in range(H)] #スタートからの距離を入れるリスト\r\n",
    "\r\n",
    "def bfs_maze(sx,sy,gx,gy,A):\r\n",
    "    waiting = deque()\r\n",
    "    waiting.append([sy,sx])\r\n",
    "    d[sy][sx] = 0\r\n",
    "    while len(waiting):\r\n",
    "        y,x = waiting.popleft()\r\n",
    "        if y == gy and x == gx:\r\n",
    "            break\r\n",
    "        for i in range(4): #縦横の4方向について行けるか検証\r\n",
    "            ny, nx = y + [1,0,-1,0][i], x + [0,1,0,-1][i]\r\n",
    "            if 0 <= ny < H and 0 <= nx < W and d[ny][nx] == -1 and A[ny][nx] != '#':\r\n",
    "                waiting.append([ny,nx])\r\n",
    "                d[ny][nx] = d[y][x] + 1\r\n",
    "    \r\n",
    "    return d[gy][gx]\r\n",
    "\r\n",
    "print(bfs_maze(sx,sy,gx,gy,A))\r\n"
   ],
   "outputs": [
    {
     "output_type": "stream",
     "name": "stdout",
     "text": [
      "12\n"
     ]
    }
   ],
   "metadata": {}
  },
  {
   "cell_type": "code",
   "execution_count": 1,
   "source": [
    "#再帰版\r\n",
    "#各頂点からつながる頂点のリスト\r\n",
    "edges = [\r\n",
    "[1, 2],#ノードA\r\n",
    "[0, 3, 5],#ノードB\r\n",
    "[0, 3, 4],#ノードC\r\n",
    "[1, 2, 5],#ノードD\r\n",
    "[2, 6],#ノードE\r\n",
    "[1, 3, 7],#ノードF\r\n",
    "[4],#ノードG\r\n",
    "[5]]#ノードH\r\n",
    "N = len(edges)\r\n",
    "\r\n",
    "done = [0]*N #一度通った頂点を記録\r\n",
    "def dfs_re(edges, start, end):\r\n",
    "    if len(edges[start])==0 or done[start]==1:\r\n",
    "        return\r\n",
    "    if start==end:\r\n",
    "        print('=FOUND!=')\r\n",
    "    done[start]=1\r\n",
    "    for n in edges[start]:\r\n",
    "        dfs_re(edges,n, end)\r\n",
    "\r\n",
    "dfs_re(edges,0,6)"
   ],
   "outputs": [
    {
     "output_type": "stream",
     "name": "stdout",
     "text": [
      "=FOUND!=\n"
     ]
    }
   ],
   "metadata": {}
  },
  {
   "cell_type": "code",
   "execution_count": 21,
   "source": [
    "# 各ノードからの行き先、距離\r\n",
    "edges = [[[1, 5], [2, 4]], #ノードA0\r\n",
    "[[0, 5], [3, 3], [5, 9]], #ノードB1\r\n",
    "[[0, 4], [3, 2], [4, 3]], #ノードC2\r\n",
    "[[1, 3], [2, 2], [5, 1], [6, 7]], #ノードD3\r\n",
    "[[2, 3], [6, 8]], #ノードE4\r\n",
    "[[1, 9], [3, 1], [6, 2], [7, 5]], #ノードF5\r\n",
    "[[3, 7], [4, 8], [5, 2], [7, 2]], #ノードG6\r\n",
    "[[5, 5], [6, 2]]] #ノードH7\r\n",
    "\r\n",
    "N = len(edges)\r\n",
    "S = 0\r\n",
    "\r\n",
    "# 3重ループが存在しており,O(V^3)\r\n",
    "def WarshallFloyd(N,S,edges):\r\n",
    "    inf = 10**9\r\n",
    "    dist = [[inf for i in range(N)] for j in range(N)]\r\n",
    "    for i in range(N):\r\n",
    "        dist[i][i] = 0\r\n",
    "    for i in range(len(edges)):\r\n",
    "        for node in edges[i]:\r\n",
    "            dist[i][node[0]] = node[1]\r\n",
    "    for k in range(N):\r\n",
    "        for i in range(N):\r\n",
    "            for j in range(N):\r\n",
    "                dist[i][j] = min(dist[i][j],dist[i][k]+dist[k][j])\r\n",
    "                            \r\n",
    "    print(' '.join(map(str, dist[S])))\r\n",
    "    #print(dist)\r\n",
    "\r\n",
    "WarshallFloyd(N,S,edges)"
   ],
   "outputs": [
    {
     "output_type": "stream",
     "name": "stdout",
     "text": [
      "0 5 4 6 7 7 9 11\n"
     ]
    }
   ],
   "metadata": {}
  },
  {
   "cell_type": "code",
   "execution_count": 11,
   "source": [
    "from collections import deque\r\n",
    "\r\n",
    "# ⼊⼒されたグラフがDAGである場合，全てのノードと辺は⾼々1回しかチェックされない O(V+E)\r\n",
    "\r\n",
    "def topoSortDFS(V, edges):\r\n",
    "    def check(v):\r\n",
    "        if visited[v] == 1:\r\n",
    "            raise Exception(\"not DAG\") #[DAGになっていないので，エラーを返す]\r\n",
    "        elif visited[v] == 0:\r\n",
    "            visited[v] = 1 # 処理待ちにする\r\n",
    "            for to_v in edges2[v]:\r\n",
    "                check(to_v) # 再帰で呼び出す\r\n",
    "            visited[v] = 2 # 処理済にする\r\n",
    "            sorted_g.appendleft(v) # ソート済の先頭に追加\r\n",
    "\r\n",
    "    # ノードをすでに⾒たかどうかを格納する配列\r\n",
    "    # 0：未訪問，1：処理待ち，2：処理済\r\n",
    "    visited = [0]*V\r\n",
    "    edges2 = [[] for i in range(V)] #各頂点からつながる頂点のリストに変換\r\n",
    "    for e in edges:\r\n",
    "        edges2[e[0]].append(e[1])\r\n",
    "\r\n",
    "    sorted_g = deque()\r\n",
    "    # 全てのノードをチェックする\r\n",
    "    for i in range(V):\r\n",
    "        check(i)\r\n",
    "\r\n",
    "    print(' '.join(map(str, sorted_g)))\r\n",
    "\r\n",
    "V = 5\r\n",
    "edges = [[0, 1], [0, 2], [1, 3], [2, 3], [2, 4], [3, 4]]\r\n",
    "\r\n",
    "topoSortDFS(V, edges)"
   ],
   "outputs": [
    {
     "output_type": "stream",
     "name": "stdout",
     "text": [
      "0 2 1 3 4\n"
     ]
    }
   ],
   "metadata": {}
  },
  {
   "cell_type": "code",
   "execution_count": 12,
   "source": [
    "# ist2018 3(4)\r\n",
    "\r\n",
    "from collections import deque\r\n",
    "\r\n",
    "def topoSortDFS2(V, edges):\r\n",
    "    def dfs(u):\r\n",
    "        visited[u] = True\r\n",
    "        for v in edges2[u]:\r\n",
    "            if visited[v] != True:\r\n",
    "                dfs(v)\r\n",
    "        s.appendleft(u)\r\n",
    "\r\n",
    "    edges2 = [[] for i in range(V)] #各頂点からつながる頂点のリストに変換\r\n",
    "    for e in edges:\r\n",
    "        edges2[e[0]].append(e[1])\r\n",
    "\r\n",
    "    visited = [False]*V # ノードをすでに⾒たかどうかを格納する配列\r\n",
    "    s = deque()\r\n",
    "\r\n",
    "    for v in range(V):\r\n",
    "        if visited[v] != True:\r\n",
    "            dfs(v)\r\n",
    "\r\n",
    "    print(' '.join(map(str, s)))\r\n",
    "\r\n",
    "V = 5\r\n",
    "edges = [[0, 1], [0, 2], [1, 3], [2, 3], [2, 4], [3, 4]]\r\n",
    "\r\n",
    "topoSortDFS2(V, edges)"
   ],
   "outputs": [
    {
     "output_type": "stream",
     "name": "stdout",
     "text": [
      "0 2 1 3 4\n"
     ]
    }
   ],
   "metadata": {}
  },
  {
   "cell_type": "code",
   "execution_count": 13,
   "source": [
    "# ist2018 3(6)ans\r\n",
    "\r\n",
    "from collections import deque\r\n",
    "\r\n",
    "# 辺を参照する回数は, degreeの前計算の際にE回と操作1~2(while)の際にE回で合わせて2E回. \r\n",
    "# Qへのpush・popの回数とSへのpushの回数はそれぞれV回なので,計算量はO(E+V).\r\n",
    "def topoSortBFS(V, edges):\r\n",
    "    degree = [0]*V\r\n",
    "    Q = deque() # キューとする\r\n",
    "    S = []\r\n",
    "    for e in edges:\r\n",
    "        degree[e[1]] += 1 # すべての頂点について,degreeで入ってくる辺の本数を数える\r\n",
    "    for i in range(V): # 0ならQにpush\r\n",
    "        if degree[i] == 0:\r\n",
    "            Q.append(i)\r\n",
    "    \r\n",
    "    edges2 = [[] for i in range(V)] # 各頂点からつながる頂点のリストに変換\r\n",
    "    for e in edges:\r\n",
    "        edges2[e[0]].append(e[1])\r\n",
    "\r\n",
    "    while Q: # Qが空になるまで\r\n",
    "        u = Q.popleft() # キューQからpop、Sにpush\r\n",
    "        S.append(u)\r\n",
    "        for v in edges2[u]: # uから出ているすべての辺について, degree[v]を1減らす.このとき0となった場合は,頂点vをQにpush\r\n",
    "            degree[v] -= 1\r\n",
    "            if degree[v] == 0:\r\n",
    "                Q.append(v)\r\n",
    "\r\n",
    "    print(' '.join(map(str, S)))\r\n",
    "\r\n",
    "V = 5\r\n",
    "edges = [[0, 1], [0, 2], [1, 3], [2, 3], [2, 4], [3, 4]]\r\n",
    "\r\n",
    "topoSortBFS(V, edges)"
   ],
   "outputs": [
    {
     "output_type": "stream",
     "name": "stdout",
     "text": [
      "0 1 2 3 4\n"
     ]
    }
   ],
   "metadata": {}
  },
  {
   "cell_type": "code",
   "execution_count": 17,
   "source": [
    "# Khanのアルゴリズム\r\n",
    "\r\n",
    "from collections import deque\r\n",
    "def topoSortKhan(V,edges):\r\n",
    "    E = len(edges)\r\n",
    "    indeg = [0]*V # ⼊次数を格納する配列\r\n",
    "    outedge = [[] for _ in range (V)] # 出⼒辺を保持する配列\r\n",
    "    for e in edges: # ⼊次数と出⼒辺の情報を整理する\r\n",
    "        indeg[e[1]] += 1\r\n",
    "        outedge[e[0]].append(e[1])\r\n",
    "\r\n",
    "    sorted_g = list(v for v in range(V) if indeg[v]==0) # ソート済のノードを格納する配列 最初に⼊次数0のものを⼊れておく\r\n",
    "    deq = deque(sorted_g) # ⼊次数0のノードを処理するためのdeque\r\n",
    "\r\n",
    "    while deq: # ⼊次数0のノードがある限り繰り返す\r\n",
    "        v = deq.popleft() # deq.pop()でもよい\r\n",
    "        for u in outedge[v]: # vからつながるすべてのノードu\r\n",
    "            E -= 1\r\n",
    "            indeg[u] -= 1 # E,uの⼊次数を1減らす\r\n",
    "            if indeg[u] == 0: # uの⼊次数が0\r\n",
    "                deq.append(u) # uをdeqとsorted_gに⼊れる\r\n",
    "                sorted_g.append(u)\r\n",
    "    if E != 0:\r\n",
    "        raise Exception(\"not DAG\") # DAGになっていないので，エラーを返す\r\n",
    "    print(' '.join(map(str, sorted_g)))\r\n",
    "\r\n",
    "V = 5\r\n",
    "edges = [[0, 1], [0, 2], [1, 3], [2, 3], [2, 4], [3, 4]]\r\n",
    "\r\n",
    "topoSortKhan(V, edges)"
   ],
   "outputs": [
    {
     "output_type": "stream",
     "name": "stdout",
     "text": [
      "0 1 2 3 4\n"
     ]
    }
   ],
   "metadata": {}
  },
  {
   "cell_type": "code",
   "execution_count": 18,
   "source": [
    "# 全域⽊（spanning tree）グラフにおいて，すべての頂点がつながっている⽊（閉路を持たない連結グラフ）\r\n",
    "# 最⼩全域⽊（minimum spanning tree）全域⽊の中で辺の距離（コスト）の総和が最⼩になるもの\r\n",
    "\r\n",
    "# 各ノードからの行き先、距離\r\n",
    "edges = [[[1, 5], [2, 4]], #ノードA0\r\n",
    "[[0, 5], [3, 3], [5, 9]], #ノードB1\r\n",
    "[[0, 4], [3, 2], [4, 3]], #ノードC2\r\n",
    "[[1, 3], [2, 2], [6, 7], [7, 5]], #ノードD3\r\n",
    "[[2, 3], [6, 8]], #ノードE4\r\n",
    "[[1, 9]], #ノードF5\r\n",
    "[[3, 7], [4, 8], [7, 1]], #ノードG6\r\n",
    "[[3, 5], [6, 1]]] #ノードH7\r\n",
    "\r\n",
    "N=len(edges)\r\n",
    "edges2 = [] # from,to,distance\r\n",
    "for i in range(len(edges)):\r\n",
    "    for node in edges[i]:\r\n",
    "        edges2.append([i,node[0],node[1]])\r\n",
    "\r\n",
    "# 辺ベースのアプローチ：クラスカル法\r\n",
    "# 存在する辺を距離の短い順に並べて順に⼊れていき，閉路が出来ないことが確認できた場合は追加し，全部の辺をチェックしたら終了．\r\n",
    "# 隣接リストの場合，辺の数をEとして，辺のソートにE log Eかかる\r\n",
    "# 各辺を⼊れるかどうかの判断はUnion-Find⽊を使うとα(V)となり，これをE回やるので，E α(V)\r\n",
    "# よって，アルゴリズム全体ではO(E log E)\r\n",
    "\r\n",
    "class UnionFind: #UF木の実装\r\n",
    "    def __init__(self, n):\r\n",
    "        self.parent = [i for i in range(n)]\r\n",
    "        self.height = [0 for i in range(n)] # 各⽊の⾼さ\r\n",
    "\r\n",
    "    def get_root(self, i):\r\n",
    "        if self.parent[i] == i: # ⾃分が根ノードの場合\r\n",
    "            return i\r\n",
    "        else: # 経路圧縮しながら根ノードを探す\r\n",
    "            self.parent[i] = self.get_root(self.parent[i])\r\n",
    "            return self.parent[i]\r\n",
    "    \r\n",
    "    def unite(self, i, j):\r\n",
    "        ri = self.get_root(i)\r\n",
    "        rj = self.get_root(j)\r\n",
    "        if ri != rj: # より⾼い⽅にマージ\r\n",
    "            if self.height[ri] < self.height[rj]:\r\n",
    "                self.parent[ri] = rj\r\n",
    "            else:\r\n",
    "                self.parent[rj] = ri\r\n",
    "                if self.height[ri] == self.height[rj]:\r\n",
    "                    self.height[ri] += 1\r\n",
    "    \r\n",
    "    def is_in_group(self, i, j):\r\n",
    "        if self.get_root(i) == self.get_root(j):\r\n",
    "            return True\r\n",
    "        else:\r\n",
    "            return False\r\n",
    "\r\n",
    "def Kruskal(V, edges): #クラスカル法の実装\r\n",
    "    e_sorted = [] # 距離で整列された辺\r\n",
    "    for e in edges:\r\n",
    "        e_sorted.append([e[2], e[0], e[1]]) # ソートのために先頭の要素を距離にする\r\n",
    "    e_sorted.sort()\r\n",
    "    uf_tree = UnionFind(V) # Union-Find⽊を使う\r\n",
    "    mst = [] # 最⼩全域⽊の辺を保持するリスト\r\n",
    "    min_d = 0\r\n",
    "    for e in e_sorted:\r\n",
    "        if uf_tree.is_in_group(e[1], e[2]) == False:\r\n",
    "            uf_tree.unite(e[1], e[2]) # e[1]，e[2]を同じグループにする\r\n",
    "            mst.append([e[1], e[2]]) # 最⼩全域⽊に追加\r\n",
    "            min_d += e[0]\r\n",
    "\r\n",
    "    #print(min_d)\r\n",
    "    print(mst)\r\n",
    "    \r\n",
    "Kruskal(N, edges2)"
   ],
   "outputs": [
    {
     "output_type": "stream",
     "name": "stdout",
     "text": [
      "[[6, 7], [2, 3], [1, 3], [2, 4], [0, 2], [3, 7], [1, 5]]\n"
     ]
    }
   ],
   "metadata": {}
  },
  {
   "cell_type": "code",
   "execution_count": 15,
   "source": [
    "# ノードベースのアプローチ：プリム法\r\n",
    "# すでに到達した頂点の集合からまだ到達していない頂点の集合への辺のうち，距離が最短のものを追加し，全ノードつながったら終了\r\n",
    "# この実装では，ヒープに⼊る要素の数は辺の総数になるので，E．よって，追加，削除にかかる計算量はlog E．\r\n",
    "# ヒープへの追加も取り出しもE回あるので，全体ではO(E log E)となる\r\n",
    "import heapq\r\n",
    "\r\n",
    "def Prim(V, edges): #プリム法の実装\r\n",
    "    edges2 = [[] for i in range(V)] # ノードiからのすべての辺を格納\r\n",
    "    for e in edges:\r\n",
    "        edges2[e[0]].append([e[2], e[0], e[1]]) # ヒープでソートされるために距離を最初の要素にする\r\n",
    "    heap = [] # ヒープ\r\n",
    "    mst = [] # 最⼩全域⽊の辺を保持するリスト\r\n",
    "    done = [False]*V # ノードが最⼩全域⽊に⼊ったかどうかのフラグ\r\n",
    "    start=0\r\n",
    "    done[start] = True # ノードを1つ選ぶ．何でも良いがこの実装ではノード0を選ぶことにする\r\n",
    "    for i in range(len(edges2[start])): # ノード0に接続する辺を全てヒープに⼊れる\r\n",
    "        heapq.heappush(heap,edges2[start][i])\r\n",
    "    min_d = 0\r\n",
    "    while heap:\r\n",
    "        e = heapq.heappop(heap) # 距離が最短のものを取り出す\r\n",
    "        if done[e[2]] == False: # その辺の到達先（ノードj）が未訪問なら追加\r\n",
    "            done[e[2]] = True\r\n",
    "            mst.append([e[1], e[2]])\r\n",
    "            for i in range(len(edges2[e[2]])): #ノードjから伸びる辺をe_heapqに⼊れる\r\n",
    "                heapq.heappush(heap,edges2[e[2]][i])\r\n",
    "            min_d += e[0]\r\n",
    "\r\n",
    "    #print(min_d)\r\n",
    "    print(mst)\r\n",
    "\r\n",
    "Prim(N,edges2)"
   ],
   "outputs": [
    {
     "output_type": "stream",
     "name": "stdout",
     "text": [
      "[[0, 2], [2, 3], [2, 4], [3, 1], [3, 7], [7, 6], [1, 5]]\n"
     ]
    }
   ],
   "metadata": {}
  },
  {
   "cell_type": "code",
   "execution_count": 52,
   "source": [
    "def Fibonacci(n):\r\n",
    "    if n == 0: return 0\r\n",
    "    elif n == 1: return 1\r\n",
    "    else: return Fibonacci(n-1) + Fibonacci(n-2)\r\n",
    "\r\n",
    "Fibonacci(40)"
   ],
   "outputs": [
    {
     "output_type": "execute_result",
     "data": {
      "text/plain": [
       "102334155"
      ]
     },
     "metadata": {},
     "execution_count": 52
    }
   ],
   "metadata": {}
  },
  {
   "cell_type": "code",
   "execution_count": 53,
   "source": [
    "def Fibonacci2(n):\r\n",
    "    A = [0] * (n+1)\r\n",
    "    for i in range(n+1):\r\n",
    "        if i == 0: A[i] = 0\r\n",
    "        elif i == 1: A[i] = 1\r\n",
    "        else:  A[i] = A[i-1] + A[i-2]\r\n",
    "    \r\n",
    "    return A[n]\r\n",
    "\r\n",
    "Fibonacci2(40)"
   ],
   "outputs": [
    {
     "output_type": "execute_result",
     "data": {
      "text/plain": [
       "102334155"
      ]
     },
     "metadata": {},
     "execution_count": 53
    }
   ],
   "metadata": {}
  },
  {
   "cell_type": "code",
   "execution_count": 61,
   "source": [
    "import numpy \r\n",
    "def self_pow(x,n):\r\n",
    "    ans = 1\r\n",
    "    while n:\r\n",
    "        if n % 2:\r\n",
    "            ans *= x\r\n",
    "        x *= x\r\n",
    "        n >>= 1\r\n",
    "    return ans\r\n",
    "\r\n",
    "def Fibonacci3(n):\r\n",
    "    sqrt = numpy.sqrt(5)\r\n",
    "    f = (1/sqrt)*(self_pow((1+sqrt)/2,n) - self_pow((1-sqrt)/2,n))\r\n",
    "    return round(f)\r\n",
    "\r\n",
    "Fibonacci3(40)"
   ],
   "outputs": [
    {
     "output_type": "execute_result",
     "data": {
      "text/plain": [
       "102334155"
      ]
     },
     "metadata": {},
     "execution_count": 61
    }
   ],
   "metadata": {}
  },
  {
   "cell_type": "code",
   "execution_count": 2,
   "source": [
    "def binary_search(A,x):\r\n",
    "    l = len(A)\r\n",
    "    A.sort()\r\n",
    "    mi = A[0]\r\n",
    "    ma = A[l-1]\r\n",
    "    \r\n",
    "    if x < mi or x > ma:\r\n",
    "        print(\"No\")\r\n",
    "    else:\r\n",
    "        low=0\r\n",
    "        high=l-1\r\n",
    "        f=0\r\n",
    "        while low<=high:\r\n",
    "            mid=(low+high)//2\r\n",
    "            if x==A[mid]:\r\n",
    "                f=1\r\n",
    "                break\r\n",
    "            if x>A[mid]:\r\n",
    "                low=mid+1\r\n",
    "            else:\r\n",
    "                high=mid-1\r\n",
    "        if f==1:\r\n",
    "            print(\"Yes\")\r\n",
    "        else:\r\n",
    "            print(\"No\")\r\n",
    "\r\n",
    "A = [1,2,4,3,5,2,6,8,2,4,9]\r\n",
    "x = 3 #サーチ対象\r\n",
    "\r\n",
    "binary_search(A,x)\r\n"
   ],
   "outputs": [
    {
     "output_type": "stream",
     "name": "stdout",
     "text": [
      "[1, 2, 2, 2, 3, 4, 4, 5, 6, 8, 9]\n",
      "Yes\n"
     ]
    }
   ],
   "metadata": {}
  },
  {
   "cell_type": "code",
   "execution_count": 5,
   "source": [
    "# リングバッファでの実装\r\n",
    "\r\n",
    "class Queue:\r\n",
    "    def __init__(self,size: int):\r\n",
    "        self.queue = [None for i in range(size)]\r\n",
    "        self.size = size\r\n",
    "        self.head = 0\r\n",
    "        self.tail = 0\r\n",
    "\r\n",
    "    def enqueue(self,a: int):\r\n",
    "        if self.head == (self.tail+1)%self.size:\r\n",
    "            print(\"full\")\r\n",
    "            return False\r\n",
    "        self.queue[self.tail] = a\r\n",
    "        self.tail = (self.tail+1)%self.size\r\n",
    "\r\n",
    "    def dequeue(self):\r\n",
    "        if self.head == self.tail:\r\n",
    "            print(\"empty\")\r\n",
    "            return False\r\n",
    "        a = self.queue[self.head]\r\n",
    "        self.head = (self.head+1)%self.size\r\n",
    "        return a\r\n",
    "\r\n",
    "Q = 3\r\n",
    "q=Queue(Q)\r\n",
    "q.enqueue(1)\r\n",
    "q.enqueue(2)\r\n",
    "q.dequeue()\r\n",
    "\r\n",
    "# Algo 2-1\r\n",
    "lines=[0 for i in range(4)]\r\n",
    "lines[0]='3'\r\n",
    "lines[1]='1 1000000000'\r\n",
    "lines[2]='1 1000000000'\r\n",
    "lines[3]='2'\r\n",
    "Q=int(lines[0])\r\n",
    "for i in range(Q):\r\n",
    "    l=[int(x.strip()) for x in lines[i+1].split()]\r\n",
    "    if l[0]==1:\r\n",
    "        q.enqueue(l[1])\r\n",
    "    else:\r\n",
    "        print(q.dequeue())"
   ],
   "outputs": [
    {
     "output_type": "execute_result",
     "data": {
      "text/plain": [
       "1"
      ]
     },
     "metadata": {},
     "execution_count": 5
    }
   ],
   "metadata": {}
  },
  {
   "cell_type": "code",
   "execution_count": 7,
   "source": [
    "# Algo 1-1 累積和\r\n",
    "lines=[0 for i in range(2)]\r\n",
    "lines[0]='1 1'\r\n",
    "lines[1]='0'\r\n",
    "N,M=[int(x.strip()) for x in lines[0].split()]\r\n",
    "A=[int(x.strip()) for x in lines[1].split()]\r\n",
    "sumA=0\r\n",
    "for i in range(M):\r\n",
    "  sumA+=A[i]\r\n",
    "maxA=sumA\r\n",
    "index=1\r\n",
    "for i in range(N-M):\r\n",
    "  sumA=sumA+A[M+i]-A[i]\r\n",
    "  if maxA<sumA:\r\n",
    "    maxA=sumA\r\n",
    "    index=i+2\r\n",
    "\r\n",
    "print(maxA, index)"
   ],
   "outputs": [
    {
     "output_type": "stream",
     "name": "stdout",
     "text": [
      "0 1\n"
     ]
    }
   ],
   "metadata": {}
  },
  {
   "cell_type": "code",
   "execution_count": 16,
   "source": [
    "# 最大ヒープ\r\n",
    "class maxHeap:\r\n",
    "    def __init__(self):\r\n",
    "        self.list=[]\r\n",
    "\r\n",
    "    def heappush(self,a: int):\r\n",
    "        self.list.append(a)\r\n",
    "        index = len(self.list) - 1\r\n",
    "        while 1:\r\n",
    "            parent = (index-1) // 2\r\n",
    "            if index == 0:\r\n",
    "                break\r\n",
    "            if self.list[index] > self.list[parent]:\r\n",
    "                self.list[index],self.list[parent] = self.list[parent],self.list[index]\r\n",
    "                index = parent\r\n",
    "            else: \r\n",
    "                break         \r\n",
    "\r\n",
    "    def heappop(self):\r\n",
    "        a = self.list[0]\r\n",
    "        self.list[0] = self.list.pop()\r\n",
    "        parent = 0        \r\n",
    "        while 1:\r\n",
    "            c1 = 2*parent + 1\r\n",
    "            c2 = 2*parent + 2\r\n",
    "            if c2 >= len(self.list):\r\n",
    "                c = c1\r\n",
    "            else:\r\n",
    "                if self.list[c1] < self.list[c2]:\r\n",
    "                    c = c2\r\n",
    "                else:\r\n",
    "                    c = c1\r\n",
    "            if c >= len(self.list):\r\n",
    "                break\r\n",
    "                \r\n",
    "            if self.list[c] > self.list[parent]:\r\n",
    "                self.list[c],self.list[parent] = self.list[parent],self.list[c]\r\n",
    "                parent = c\r\n",
    "            else:\r\n",
    "                break\r\n",
    "        return a\r\n",
    "\r\n",
    "\r\n",
    "heap2 = maxHeap()\r\n",
    "heap2.heappush(5)\r\n",
    "heap2.heappush(3)\r\n",
    "heap2.heappush(4)\r\n",
    "heap2.heappop()"
   ],
   "outputs": [
    {
     "output_type": "execute_result",
     "data": {
      "text/plain": [
       "5"
      ]
     },
     "metadata": {},
     "execution_count": 16
    }
   ],
   "metadata": {}
  },
  {
   "cell_type": "code",
   "execution_count": 13,
   "source": [
    "# Algo 2-2\r\n",
    "lines=[0 for i in range(6)]\r\n",
    "lines[0]='5'\r\n",
    "lines[1]='1 5'\r\n",
    "lines[2]='1 3'\r\n",
    "lines[3]='2'\r\n",
    "lines[4]='1 4'\r\n",
    "lines[5]='2'\r\n",
    "Q=int(lines[0])\r\n",
    "heap3=maxHeap()\r\n",
    "for i in range(Q):\r\n",
    "    l=[int(x.strip()) for x in lines[i+1].split()]\r\n",
    "    if l[0]==1:\r\n",
    "        heap3.heappush(l[1])\r\n",
    "    else:\r\n",
    "        print(heap3.heappop())"
   ],
   "outputs": [
    {
     "output_type": "stream",
     "name": "stdout",
     "text": [
      "5\n",
      "4\n"
     ]
    }
   ],
   "metadata": {}
  },
  {
   "cell_type": "code",
   "execution_count": 20,
   "source": [
    "# 配列を用いたヒープの実装 iに対して親(i-1)//2,左の子2i+1, 右の子2i+2となる\r\n",
    "# 最小ヒープ\r\n",
    "class minHeap:\r\n",
    "    def __init__(self):\r\n",
    "        self.list=[]\r\n",
    "\r\n",
    "    def heappush(self,a: int):\r\n",
    "        self.list.append(a)\r\n",
    "        index = len(self.list) - 1\r\n",
    "        while 1:\r\n",
    "            parent = (index-1) // 2\r\n",
    "            if index == 0:\r\n",
    "                break\r\n",
    "            if self.list[index] < self.list[parent]:\r\n",
    "                self.list[index],self.list[parent] = self.list[parent],self.list[index]\r\n",
    "                index = parent\r\n",
    "            else: \r\n",
    "                break         \r\n",
    "\r\n",
    "    def heappop(self):\r\n",
    "        a = self.list[0]\r\n",
    "        self.list[0] = self.list.pop()\r\n",
    "        parent = 0        \r\n",
    "        while 1:\r\n",
    "            c1 = 2*parent + 1\r\n",
    "            c2 = 2*parent + 2\r\n",
    "            if c2 >= len(self.list):\r\n",
    "                c = c1\r\n",
    "            else:\r\n",
    "                if self.list[c1] > self.list[c2]:\r\n",
    "                    c = c2\r\n",
    "                else:\r\n",
    "                    c = c1\r\n",
    "            if c >= len(self.list):\r\n",
    "                break\r\n",
    "                \r\n",
    "            if self.list[c] < self.list[parent]:\r\n",
    "                self.list[c],self.list[parent] = self.list[parent],self.list[c]\r\n",
    "                parent = c\r\n",
    "            else:\r\n",
    "                break\r\n",
    "        return a\r\n",
    "\r\n",
    "heap = minHeap()\r\n",
    "heap.heappush(5)\r\n",
    "heap.heappush(3)\r\n",
    "heap.heappush(4)\r\n",
    "heap.heappop()"
   ],
   "outputs": [
    {
     "output_type": "execute_result",
     "data": {
      "text/plain": [
       "3"
      ]
     },
     "metadata": {},
     "execution_count": 20
    }
   ],
   "metadata": {}
  },
  {
   "cell_type": "code",
   "execution_count": null,
   "source": [],
   "outputs": [],
   "metadata": {}
  }
 ],
 "metadata": {
  "orig_nbformat": 4,
  "language_info": {
   "name": "python",
   "version": "3.9.1",
   "mimetype": "text/x-python",
   "codemirror_mode": {
    "name": "ipython",
    "version": 3
   },
   "pygments_lexer": "ipython3",
   "nbconvert_exporter": "python",
   "file_extension": ".py"
  },
  "kernelspec": {
   "name": "python3",
   "display_name": "Python 3.9.1 64-bit"
  },
  "interpreter": {
   "hash": "c8f62aa71a7606cec86cebf285e6e755341ddce54c9f73cdc118801823064d93"
  }
 },
 "nbformat": 4,
 "nbformat_minor": 2
}