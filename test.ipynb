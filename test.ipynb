{
 "cells": [
  {
   "cell_type": "code",
   "execution_count": 44,
   "metadata": {},
   "outputs": [],
   "source": [
    "import json\n",
    "with open('font-exp-default-rtdb-export.json', mode='r') as file:\n",
    "    data = json.load(file)['users']"
   ]
  },
  {
   "cell_type": "code",
   "execution_count": 47,
   "metadata": {},
   "outputs": [],
   "source": [
    "result = {'1':0, '2':0, '3':0, '4':0, '5':0, '6':0, '7':0}\n",
    "\n",
    "for user in data:\n",
    "    f = 1\n",
    "    data1 = data[user]\n",
    "    '''\n",
    "    for v in data1['concentration']:\n",
    "        if not(v['bestValue'] == '1' and v['worstValue'] == '2'):\n",
    "            f = 0\n",
    "            break\n",
    "    '''\n",
    "    if f == 1:\n",
    "        for v in data1['results']:\n",
    "            result[v['bestValue']] +=1\n",
    "            result[v['worstValue']] -=1"
   ]
  },
  {
   "cell_type": "code",
   "execution_count": 48,
   "metadata": {},
   "outputs": [
    {
     "data": {
      "text/plain": [
       "{'1': -41, '2': -55, '3': 0, '4': 30, '5': -7, '6': 56, '7': 17}"
      ]
     },
     "execution_count": 48,
     "metadata": {},
     "output_type": "execute_result"
    }
   ],
   "source": [
    "result"
   ]
  },
  {
   "cell_type": "code",
   "execution_count": 69,
   "metadata": {},
   "outputs": [
    {
     "data": {
      "text/plain": [
       "<BarContainer object of 7 artists>"
      ]
     },
     "execution_count": 69,
     "metadata": {},
     "output_type": "execute_result"
    },
    {
     "data": {
      "image/png": "[encoded data removed]",
      "text/plain": [
       "<Figure size 432x288 with 1 Axes>"
      ]
     },
     "metadata": {
      "needs_background": "light"
     },
     "output_type": "display_data"
    }
   ],
   "source": [
    "import matplotlib.pyplot as plt\n",
    "left = [int(v) for v in result]\n",
    "height = [int(result[v]) for v in result]\n",
    "label = [\"font\" + v for v in result]\n",
    "plt.bar(left, height, tick_label=label)"
   ]
  },
  {
   "cell_type": "code",
   "execution_count": 53,
   "metadata": {},
   "outputs": [
    {
     "data": {
      "text/plain": [
       "[('2', -55), ('1', -41), ('5', -7), ('3', 0), ('7', 17), ('4', 30), ('6', 56)]"
      ]
     },
     "execution_count": 53,
     "metadata": {},
     "output_type": "execute_result"
    }
   ],
   "source": [
    "result_sorted = sorted(result.items(), key = lambda font : font[1])\n",
    "result_sorted"
   ]
  },
  {
   "cell_type": "code",
   "execution_count": 71,
   "metadata": {},
   "outputs": [
    {
     "data": {
      "text/plain": [
       "<BarContainer object of 7 artists>"
      ]
     },
     "execution_count": 71,
     "metadata": {},
     "output_type": "execute_result"
    },
    {
     "data": {
      "image/png": "[encoded data removed]",
      "text/plain": [
       "<Figure size 432x288 with 1 Axes>"
      ]
     },
     "metadata": {
      "needs_background": "light"
     },
     "output_type": "display_data"
    }
   ],
   "source": [
    "import matplotlib.pyplot as plt\n",
    "height = [int(v[1]) for v in result_sorted]\n",
    "label = [\"font\" + v[0] for v in result_sorted]\n",
    "plt.bar(left, height, tick_label=label)"
   ]
  },
  {
   "cell_type": "code",
   "execution_count": null,
   "metadata": {},
   "outputs": [],
   "source": []
  }
 ],
 "metadata": {
  "kernelspec": {
   "display_name": "Python 3.9.6 64-bit",
   "language": "python",
   "name": "python3"
  },
  "language_info": {
   "codemirror_mode": {
    "name": "ipython",
    "version": 3
   },
   "file_extension": ".py",
   "mimetype": "text/x-python",
   "name": "python",
   "nbconvert_exporter": "python",
   "pygments_lexer": "ipython3",
   "version": "3.9.6"
  },
  "orig_nbformat": 4,
  "vscode": {
   "interpreter": {
    "hash": "c25d132bfeda13c792bd644cbdde41cb6ec68286705ba4c27ace6b2206316a98"
   }
  }
 },
 "nbformat": 4,
 "nbformat_minor": 2
}
