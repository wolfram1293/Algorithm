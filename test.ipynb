{
 "cells": [
  {
   "cell_type": "code",
   "execution_count": null,
   "metadata": {},
   "outputs": [
    {
     "name": "stdout",
     "output_type": "stream",
     "text": [
      "0 1\n"
     ]
    }
   ],
   "source": [
    "# Algo 1-1 累積和\n",
    "lines = [0 for i in range(2)]\n",
    "lines[0] = '1 1'\n",
    "lines[1] = '0'\n",
    "N,M = [int(x.strip()) for x in lines[0].split()]\n",
    "A = [int(x.strip()) for x in lines[1].split()]\n",
    "sumA = 0\n",
    "for i in range(M):\n",
    "  sumA += A[i]\n",
    "maxA = sumA\n",
    "index = 1\n",
    "for i in range(N-M):\n",
    "    sumA = sumA + A[M+i] - A[i]\n",
    "    if maxA < sumA:\n",
    "        maxA = sumA\n",
    "        index = i+2\n",
    "\n",
    "print(maxA, index)"
   ]
  },
  {
   "cell_type": "code",
   "execution_count": null,
   "metadata": {},
   "outputs": [
    {
     "name": "stdout",
     "output_type": "stream",
     "text": [
      "[10.          1.16415538  0.        ]\n"
     ]
    }
   ],
   "source": []
  },
  {
   "cell_type": "code",
   "execution_count": null,
   "metadata": {},
   "outputs": [
    {
     "name": "stdout",
     "output_type": "stream",
     "text": [
      "[[14.11425088 12.80022746 -4.40471495  3.59558192 19.10768078]\n",
      " [ 0.47677663  0.20531775 -0.28449202  0.20393708  0.43916679]]\n"
     ]
    }
   ],
   "source": []
  },
  {
   "cell_type": "code",
   "execution_count": 3,
   "metadata": {},
   "outputs": [],
   "source": [
    "import requests\n",
    "import json\n",
    "endpoint = 'https://api.github.com/graphql'\n",
    "token = ''\n",
    "\n",
    "def post(query):\n",
    "    headers = {\"Authorization\": \"bearer \" + token}\n",
    "    res = requests.post(endpoint, json=query, headers=headers)\n",
    "    if res.status_code != 200:\n",
    "      raise Exception(\"failed : {}\".format(res.status_code))\n",
    "    return res.json()"
   ]
  },
  {
   "cell_type": "code",
   "execution_count": 4,
   "metadata": {},
   "outputs": [
    {
     "name": "stdout",
     "output_type": "stream",
     "text": [
      "4\n"
     ]
    }
   ],
   "source": [
    "# query\n",
    "query0 = { 'query' : \"\"\"\n",
    "  query {\n",
    "    search(query: \"language:python stars:>=1000 sort:stars\", type: REPOSITORY, first: 10) {\n",
    "      edges {\n",
    "        node {\n",
    "          ... on Repository {\n",
    "            nameWithOwner\n",
    "            url\n",
    "            createdAt\n",
    "            description\n",
    "            stargazers{\n",
    "              totalCount\n",
    "            }\n",
    "          }\n",
    "        }\n",
    "      }\n",
    "    }\n",
    "  }\n",
    "  \"\"\"\n",
    "}\n",
    "\n",
    "query = { 'query' : \"\"\"\n",
    "  query userInfo($username: String!) {\n",
    "    user(login: $username) {\n",
    "      createdAt\n",
    "      contributionsCollection {\n",
    "        totalCommitContributions\n",
    "        restrictedContributionsCount\n",
    "      }\n",
    "      organizations(first: 1) {\n",
    "        totalCount\n",
    "      }\n",
    "      followers(first: 1) {\n",
    "        totalCount\n",
    "      }\n",
    "    }\n",
    "  }\n",
    "  \"\"\"\n",
    "  , 'variables' : {'username' : 'wolfram1293'}\n",
    "}\n",
    "\n",
    "# post\n",
    "res = post(query)\n",
    "#print('{}'.format(json.dumps(res)))\n",
    "print(res['data']['user']['organizations']['totalCount'])"
   ]
  },
  {
   "cell_type": "code",
   "execution_count": null,
   "metadata": {},
   "outputs": [],
   "source": []
  }
 ],
 "metadata": {
  "kernelspec": {
   "display_name": "Python 3.9.6 64-bit",
   "language": "python",
   "name": "python3"
  },
  "language_info": {
   "codemirror_mode": {
    "name": "ipython",
    "version": 3
   },
   "file_extension": ".py",
   "mimetype": "text/x-python",
   "name": "python",
   "nbconvert_exporter": "python",
   "pygments_lexer": "ipython3",
   "version": "3.9.6"
  },
  "orig_nbformat": 4,
  "vscode": {
   "interpreter": {
    "hash": "c25d132bfeda13c792bd644cbdde41cb6ec68286705ba4c27ace6b2206316a98"
   }
  }
 },
 "nbformat": 4,
 "nbformat_minor": 2
}
