{
 "cells": [
  {
   "cell_type": "code",
   "execution_count": 18,
   "source": [
    "def CI(A,M):\r\n",
    "    N=len(A)\r\n",
    "    count=[False]*M\r\n",
    "    for i in range(N):\r\n",
    "        if A[i]>=0 and A[i]<M:\r\n",
    "            count[A[i]]=True\r\n",
    "    \r\n",
    "    if all(count):\r\n",
    "        return True\r\n",
    "    else:\r\n",
    "        return False\r\n",
    "    \r\n",
    "def syakutori(A,M):\r\n",
    "    N=len(A)\r\n",
    "    s=0\r\n",
    "    e=N-1\r\n",
    "    l=0\r\n",
    "    r=0\r\n",
    "    while 1:\r\n",
    "        #print(l,r,s,e,A[l:r+1])\r\n",
    "        if CI(A[l:r+1],M):\r\n",
    "            if r-l+1<=e-s+1:\r\n",
    "                s=l\r\n",
    "                e=r\r\n",
    "            if r-l+1>=M:\r\n",
    "                l+=1\r\n",
    "        else:\r\n",
    "            if r<N-1:\r\n",
    "                r+=1\r\n",
    "            else:\r\n",
    "                break\r\n",
    "    \r\n",
    "    print(s, e, A[s:e+1])\r\n",
    "\r\n",
    "M=2\r\n",
    "A=[1,1,0,1]\r\n",
    "print(A[2:4])\r\n",
    "syakutori(A,M)"
   ],
   "outputs": [
    {
     "output_type": "stream",
     "name": "stdout",
     "text": [
      "[0, 1]\n",
      "2 3 [0, 1]\n"
     ]
    }
   ],
   "metadata": {}
  },
  {
   "cell_type": "code",
   "execution_count": 29,
   "source": [
    "def CI2(M,count): # 三項演算式が使いたかっただけ\r\n",
    "    return True if sum(a > 0 for a in count) == M else False\r\n",
    "    \r\n",
    "def syakutori2(A,M):\r\n",
    "    N=len(A)\r\n",
    "    s=0\r\n",
    "    e=N-1\r\n",
    "    l=0\r\n",
    "    r=0\r\n",
    "    count=[0]*M\r\n",
    "    if A[0]>=0 and A[0]<M:\r\n",
    "            count[A[0]]+=1\r\n",
    "    while 1:\r\n",
    "        #print(l,r,s,e,A[l:r+1],count)\r\n",
    "        if CI2(M,count):\r\n",
    "            if r-l<=e-s:\r\n",
    "                s=l\r\n",
    "                e=r\r\n",
    "            if r-l+1>=M:\r\n",
    "                if A[l]>=0 and A[l]<M:\r\n",
    "                    count[A[l]]-=1\r\n",
    "                l+=1\r\n",
    "        else:\r\n",
    "            if r<N-1:\r\n",
    "                r+=1\r\n",
    "                if A[r]>=0 and A[r]<M:\r\n",
    "                    count[A[r]]+=1\r\n",
    "            else:\r\n",
    "                break\r\n",
    "    \r\n",
    "    print(s, e, A[s:e+1])\r\n",
    "\r\n",
    "M=2\r\n",
    "A=[1,1,0,1]\r\n",
    "syakutori2(A,M)"
   ],
   "outputs": [
    {
     "output_type": "stream",
     "name": "stdout",
     "text": [
      "2 3 [0, 1]\n"
     ]
    }
   ],
   "metadata": {}
  },
  {
   "cell_type": "code",
   "execution_count": 21,
   "source": [
    "import heapq\r\n",
    "\r\n",
    "#edges=[[]for i in range(N)]\r\n",
    "#edges[a].append([b,d])\r\n",
    "edges = [[[1, 5], [2, 4]], #ノードA0\r\n",
    "[[0, 5], [3, 3], [5, 9]], #ノードB1\r\n",
    "[[0, 4], [3, 2], [4, 3]], #ノードC2\r\n",
    "[[1, 3], [2, 2], [5, 1], [6, 7]], #ノードD3\r\n",
    "[[2, 3], [6, 8]], #ノードE4\r\n",
    "[[1, 9], [3, 1], [6, 2], [7, 5]], #ノードF5\r\n",
    "[[3, 7], [4, 8], [5, 2], [7, 2]], #ノードG6\r\n",
    "[[5, 5], [6, 2]]] #ノードH7\r\n",
    "\r\n",
    "N=len(edges)\r\n",
    "S=0\r\n",
    "\r\n",
    "def dijkstra(N,S,edges):\r\n",
    "    done=[False]*N\r\n",
    "    inf=10**9\r\n",
    "    dist=[inf]*N\r\n",
    "    dist[S]=0\r\n",
    "    heap=[]\r\n",
    "    heapq.heappush(heap,[dist[S],S])\r\n",
    "    while heap:\r\n",
    "        node=heapq.heappop(heap)[1]\r\n",
    "        if not done[node]:\r\n",
    "            for e in edges[node]:\r\n",
    "                if dist[e[0]]>dist[node]+e[1]:\r\n",
    "                    dist[e[0]]=dist[node]+e[1]\r\n",
    "                    heapq.heappush(heap,[dist[e[0]],e[0]])\r\n",
    "        done[node]=True\r\n",
    "\r\n",
    "    for i in range(N):\r\n",
    "        if dist[i]==inf:\r\n",
    "            dist[i]='INF'\r\n",
    "    \r\n",
    "    print(' '.join(map(str, dist)))\r\n",
    "\r\n",
    "dijkstra(N,S,edges)"
   ],
   "outputs": [
    {
     "output_type": "stream",
     "name": "stdout",
     "text": [
      "0 5 4 6 7 7 9 11\n"
     ]
    }
   ],
   "metadata": {}
  },
  {
   "cell_type": "code",
   "execution_count": 7,
   "source": [
    "# 各ノードからの行き先、距離\r\n",
    "edges = [[[1, 5], [2, 4]], #ノードA0\r\n",
    "[[0, 5], [3, 3], [5, 9]], #ノードB1\r\n",
    "[[0, 4], [3, 2], [4, 3]], #ノードC2\r\n",
    "[[1, 3], [2, 2], [5, 1], [6, 7]], #ノードD3\r\n",
    "[[2, 3], [6, 8]], #ノードE4\r\n",
    "[[1, 9], [3, 1], [6, 2], [7, 5]], #ノードF5\r\n",
    "[[3, 7], [4, 8], [5, 2], [7, 2]], #ノードG6\r\n",
    "[[5, 5], [6, 2]]] #ノードH7\r\n",
    "\r\n",
    "N=len(edges)\r\n",
    "edges2 = []\r\n",
    "for i in range(len(edges)):\r\n",
    "    for node in edges[i]:\r\n",
    "        edges2.append([i,node[0],node[1]])\r\n",
    "\r\n",
    "# 始点，終点，距離の順．\r\n",
    "'''\r\n",
    "edges2 = [[0, 1, 5], [0, 2, 4], [1, 0, 5], [1, 3, 9], [1, 5, 9],\r\n",
    "[2, 0, 4], [2, 3, 2], [2, 4, 3], [3, 1, 9], [3, 2, 2], [3, 5, 1],\r\n",
    "[3, 6, 7], [4, 2, 3], [4, 6, 8], [5, 1, 9], [5, 3, 1], [5, 6, 2],\r\n",
    "[5, 7, 5], [6, 3, 7], [6, 4, 8], [6, 5, 2], [6, 7, 2], [7, 5, 5],\r\n",
    "[7, 6, 2]]\r\n",
    "'''\r\n",
    "\r\n",
    "S=0\r\n",
    "# ダイクストラと違い,最短距離の選択を⾏わず更新毎に全ての辺に対しての計算を毎回⾏う\r\n",
    "# 負の経路があっても計算可能,負の閉路があってもそれを検知可能\r\n",
    "# 頂点V、辺の数Eとして,2重ループの1つ⽬はV，2つ⽬は毎回すべての辺をチェックするのでEよって全体ではO(VE)\r\n",
    "\r\n",
    "def BellmanFord(N,S,edges):\r\n",
    "    inf=10**9\r\n",
    "    dist = [inf]*N\r\n",
    "    dist[S] = 0\r\n",
    "    # whileではなく，|N|回のforループにする．\r\n",
    "    # 辺の情報をすべて見ることを1ループとすると1ループするたびに最低でも1つの頂点についての最短距離は求まる\r\n",
    "    # 頂点の数をNとするとN−1回のループでグラフ全体の最短距離が求まる\r\n",
    "    # もしi=N-1で更新があれば，それは負の閉路の存在を表す．\r\n",
    "    for i in range(N):\r\n",
    "        for e in edges:\r\n",
    "            if dist[e[1]] > e[2] + dist[e[0]]:\r\n",
    "                dist[e[1]] = e[2] + dist[e[0]]\r\n",
    "                # 負の閉路の検知\r\n",
    "                if i==N-1: return -1\r\n",
    "    print(' '.join(map(str, dist)))\r\n",
    "\r\n",
    "BellmanFord(N,S,edges2)"
   ],
   "outputs": [
    {
     "output_type": "stream",
     "name": "stdout",
     "text": [
      "0 5 4 6 7 7 9 11\n"
     ]
    }
   ],
   "metadata": {}
  },
  {
   "cell_type": "code",
   "execution_count": 4,
   "source": [
    "from collections import deque\r\n",
    "\r\n",
    "#edges=[[] for i in range(N)] \r\n",
    "#各頂点からつながる頂点のリスト\r\n",
    "edges = [\r\n",
    "[1, 2],#ノードA\r\n",
    "[0, 3, 5],#ノードB\r\n",
    "[0, 3, 4],#ノードC\r\n",
    "[1, 2, 5],#ノードD\r\n",
    "[2, 6],#ノードE\r\n",
    "[1, 3, 7],#ノードF\r\n",
    "[4],#ノードG\r\n",
    "[5]]#ノードH\r\n",
    "N = len(edges)\r\n",
    "done = [0]*N #一度通った頂点を記録\r\n",
    "def bfs(edges, start, end):\r\n",
    "    waiting = deque()\r\n",
    "    # 0: 未発⾒，1: 発⾒済だが未訪問，2: 訪問済\r\n",
    "    done[start] = 2 # 開始ノードは訪問済\r\n",
    "    for n in edges[start]:\r\n",
    "        done[n] = 1 # 発⾒したが未訪問なので1\r\n",
    "        waiting.append(n)\r\n",
    "    while len(waiting):\r\n",
    "        cur_node = waiting.popleft()\r\n",
    "        if done[cur_node] != 2:\r\n",
    "            done[cur_node] = 2 # 訪問したので2\r\n",
    "            if(end == cur_node): print('=FOUND!=')\r\n",
    "            for n in edges[cur_node]:\r\n",
    "                if done[n] != 2:\r\n",
    "                    done[n] = 1 # 未訪問なので1\r\n",
    "                    waiting.append(n) # キュー追加\r\n",
    "\r\n",
    "bfs(edges, 0, 6)"
   ],
   "outputs": [
    {
     "output_type": "stream",
     "name": "stdout",
     "text": [
      "=FOUND!=\n"
     ]
    }
   ],
   "metadata": {}
  },
  {
   "cell_type": "code",
   "execution_count": 5,
   "source": [
    "\r\n",
    "#edges=[[] for i in range(N)] \r\n",
    "#各頂点からつながる頂点のリスト\r\n",
    "edges = [\r\n",
    "[1, 2],#ノードA\r\n",
    "[0, 3, 5],#ノードB\r\n",
    "[0, 3, 4],#ノードC\r\n",
    "[1, 2, 5],#ノードD\r\n",
    "[2, 6],#ノードE\r\n",
    "[1, 3, 7],#ノードF\r\n",
    "[4],#ノードG\r\n",
    "[5]]#ノードH\r\n",
    "N = len(edges)\r\n",
    "\r\n",
    "done = [0]*N #一度通った頂点を記録\r\n",
    "def dfs(edges, start, end):\r\n",
    "    waiting = []\r\n",
    "    # 0: 未発⾒，1: 発⾒済だが未訪問，2: 訪問済\r\n",
    "    done[start] = 2 # 開始ノードは訪問済\r\n",
    "    for n in edges[start]:\r\n",
    "        done[n] = 1 # 発⾒したが未訪問なので1\r\n",
    "        waiting.append(n)\r\n",
    "    while len(waiting):\r\n",
    "        cur_node = waiting.pop()\r\n",
    "        if done[cur_node] != 2:\r\n",
    "            done[cur_node] = 2 # 訪問したので2\r\n",
    "            if(end == cur_node): print('=FOUND!=')\r\n",
    "            for n in edges[cur_node]:\r\n",
    "                if done[n] != 2:\r\n",
    "                    done[n] = 1 # 未訪問なので1\r\n",
    "                    waiting.append(n)\r\n",
    "\r\n",
    "dfs(edges, 0, 6)"
   ],
   "outputs": [
    {
     "output_type": "stream",
     "name": "stdout",
     "text": [
      "=FOUND!=\n"
     ]
    }
   ],
   "metadata": {}
  },
  {
   "cell_type": "code",
   "execution_count": 10,
   "source": [
    "from collections import deque\r\n",
    "\r\n",
    "H,W = 5,5\r\n",
    "sy,sx = 0,0\r\n",
    "gy,gx = 4,4\r\n",
    "A=[[' ',' ',' ','#',' '],\r\n",
    "   ['#','#',' ',' ',' '],\r\n",
    "   [' ',' ',' ','#',' '],\r\n",
    "   [' ','#','#','#','#'],\r\n",
    "   [' ',' ',' ',' ',' ']]\r\n",
    "\r\n",
    "d=[[-1 for i in range(W)] for j in range(H)] #スタートからの距離を入れるリスト\r\n",
    "\r\n",
    "def bfs_maze(sx,sy,gx,gy,A):\r\n",
    "    waiting = deque()\r\n",
    "    waiting.append([sy,sx])\r\n",
    "    d[sy][sx] = 0\r\n",
    "    while len(waiting):\r\n",
    "        y,x = waiting.popleft()\r\n",
    "        if y == gy and x == gx:\r\n",
    "            break\r\n",
    "        for i in range(4): #縦横の4方向について行けるか検証\r\n",
    "            ny, nx = y + [1,0,-1,0][i], x + [0,1,0,-1][i]\r\n",
    "            if 0 <= ny < H and 0 <= nx < W and d[ny][nx] == -1 and A[ny][nx] != '#':\r\n",
    "                waiting.append([ny,nx])\r\n",
    "                d[ny][nx] = d[y][x] + 1\r\n",
    "    \r\n",
    "    return d[gy][gx]\r\n",
    "\r\n",
    "print(bfs_maze(sx,sy,gx,gy,A))\r\n"
   ],
   "outputs": [
    {
     "output_type": "stream",
     "name": "stdout",
     "text": [
      "12\n"
     ]
    }
   ],
   "metadata": {}
  },
  {
   "cell_type": "code",
   "execution_count": 1,
   "source": [
    "#再帰版\r\n",
    "#各頂点からつながる頂点のリスト\r\n",
    "edges = [\r\n",
    "[1, 2],#ノードA\r\n",
    "[0, 3, 5],#ノードB\r\n",
    "[0, 3, 4],#ノードC\r\n",
    "[1, 2, 5],#ノードD\r\n",
    "[2, 6],#ノードE\r\n",
    "[1, 3, 7],#ノードF\r\n",
    "[4],#ノードG\r\n",
    "[5]]#ノードH\r\n",
    "N = len(edges)\r\n",
    "\r\n",
    "done = [0]*N #一度通った頂点を記録\r\n",
    "def dfs_re(edges, start, end):\r\n",
    "    if len(edges[start])==0 or done[start]==1:\r\n",
    "        return\r\n",
    "    if start==end:\r\n",
    "        print('=FOUND!=')\r\n",
    "    done[start]=1\r\n",
    "    for n in edges[start]:\r\n",
    "        dfs_re(edges,n, end)\r\n",
    "\r\n",
    "dfs_re(edges,0,6)"
   ],
   "outputs": [
    {
     "output_type": "stream",
     "name": "stdout",
     "text": [
      "=FOUND!=\n"
     ]
    }
   ],
   "metadata": {}
  },
  {
   "cell_type": "code",
   "execution_count": 21,
   "source": [
    "# 各ノードからの行き先、距離\r\n",
    "edges = [[[1, 5], [2, 4]], #ノードA0\r\n",
    "[[0, 5], [3, 3], [5, 9]], #ノードB1\r\n",
    "[[0, 4], [3, 2], [4, 3]], #ノードC2\r\n",
    "[[1, 3], [2, 2], [5, 1], [6, 7]], #ノードD3\r\n",
    "[[2, 3], [6, 8]], #ノードE4\r\n",
    "[[1, 9], [3, 1], [6, 2], [7, 5]], #ノードF5\r\n",
    "[[3, 7], [4, 8], [5, 2], [7, 2]], #ノードG6\r\n",
    "[[5, 5], [6, 2]]] #ノードH7\r\n",
    "\r\n",
    "N = len(edges)\r\n",
    "S = 0\r\n",
    "\r\n",
    "# 3重ループが存在しており,O(V^3)\r\n",
    "def WarshallFloyd(N,S,edges):\r\n",
    "    inf = 10**9\r\n",
    "    dist = [[inf for i in range(N)] for j in range(N)]\r\n",
    "    for i in range(N):\r\n",
    "        dist[i][i] = 0\r\n",
    "    for i in range(len(edges)):\r\n",
    "        for node in edges[i]:\r\n",
    "            dist[i][node[0]] = node[1]\r\n",
    "    for k in range(N):\r\n",
    "        for i in range(N):\r\n",
    "            for j in range(N):\r\n",
    "                dist[i][j] = min(dist[i][j],dist[i][k]+dist[k][j])\r\n",
    "                            \r\n",
    "    print(' '.join(map(str, dist[S])))\r\n",
    "    #print(dist)\r\n",
    "\r\n",
    "WarshallFloyd(N,S,edges)"
   ],
   "outputs": [
    {
     "output_type": "stream",
     "name": "stdout",
     "text": [
      "0 5 4 6 7 7 9 11\n"
     ]
    }
   ],
   "metadata": {}
  },
  {
   "cell_type": "code",
   "execution_count": 11,
   "source": [
    "from collections import deque\r\n",
    "\r\n",
    "# ⼊⼒されたグラフがDAGである場合，全てのノードと辺は⾼々1回しかチェックされない O(V+E)\r\n",
    "\r\n",
    "def topoSortDFS(V, edges):\r\n",
    "    def check(v):\r\n",
    "        if visited[v] == 1:\r\n",
    "            raise Exception(\"not DAG\") #[DAGになっていないので，エラーを返す]\r\n",
    "        elif visited[v] == 0:\r\n",
    "            visited[v] = 1 # 処理待ちにする\r\n",
    "            for to_v in edges2[v]:\r\n",
    "                check(to_v) # 再帰で呼び出す\r\n",
    "            visited[v] = 2 # 処理済にする\r\n",
    "            sorted_g.appendleft(v) # ソート済の先頭に追加\r\n",
    "\r\n",
    "    # ノードをすでに⾒たかどうかを格納する配列\r\n",
    "    # 0：未訪問，1：処理待ち，2：処理済\r\n",
    "    visited = [0]*V\r\n",
    "    edges2 = [[] for i in range(V)] #各頂点からつながる頂点のリストに変換\r\n",
    "    for e in edges:\r\n",
    "        edges2[e[0]].append(e[1])\r\n",
    "\r\n",
    "    sorted_g = deque()\r\n",
    "    # 全てのノードをチェックする\r\n",
    "    for i in range(V):\r\n",
    "        check(i)\r\n",
    "\r\n",
    "    print(' '.join(map(str, sorted_g)))\r\n",
    "\r\n",
    "V = 5\r\n",
    "edges = [[0, 1], [0, 2], [1, 3], [2, 3], [2, 4], [3, 4]]\r\n",
    "\r\n",
    "topoSortDFS(V, edges)"
   ],
   "outputs": [
    {
     "output_type": "stream",
     "name": "stdout",
     "text": [
      "0 2 1 3 4\n"
     ]
    }
   ],
   "metadata": {}
  },
  {
   "cell_type": "code",
   "execution_count": 12,
   "source": [
    "# ist2018 3(4)\r\n",
    "\r\n",
    "from collections import deque\r\n",
    "\r\n",
    "def topoSortDFS2(V, edges):\r\n",
    "    def dfs(u):\r\n",
    "        visited[u] = True\r\n",
    "        for v in edges2[u]:\r\n",
    "            if visited[v] != True:\r\n",
    "                dfs(v)\r\n",
    "        s.appendleft(u)\r\n",
    "\r\n",
    "    edges2 = [[] for i in range(V)] #各頂点からつながる頂点のリストに変換\r\n",
    "    for e in edges:\r\n",
    "        edges2[e[0]].append(e[1])\r\n",
    "\r\n",
    "    visited = [False]*V # ノードをすでに⾒たかどうかを格納する配列\r\n",
    "    s = deque()\r\n",
    "\r\n",
    "    for v in range(V):\r\n",
    "        if visited[v] != True:\r\n",
    "            dfs(v)\r\n",
    "\r\n",
    "    print(' '.join(map(str, s)))\r\n",
    "\r\n",
    "V = 5\r\n",
    "edges = [[0, 1], [0, 2], [1, 3], [2, 3], [2, 4], [3, 4]]\r\n",
    "\r\n",
    "topoSortDFS2(V, edges)"
   ],
   "outputs": [
    {
     "output_type": "stream",
     "name": "stdout",
     "text": [
      "0 2 1 3 4\n"
     ]
    }
   ],
   "metadata": {}
  },
  {
   "cell_type": "code",
   "execution_count": 13,
   "source": [
    "# ist2018 3(6)ans\r\n",
    "\r\n",
    "from collections import deque\r\n",
    "\r\n",
    "# 辺を参照する回数は, degreeの前計算の際にE回と操作1~2(while)の際にE回で合わせて2E回. \r\n",
    "# Qへのpush・popの回数とSへのpushの回数はそれぞれV回なので,計算量はO(E+V).\r\n",
    "def topoSortBFS(V, edges):\r\n",
    "    degree = [0]*V\r\n",
    "    Q = deque() # キューとする\r\n",
    "    S = []\r\n",
    "    for e in edges:\r\n",
    "        degree[e[1]] += 1 # すべての頂点について,degreeで入ってくる辺の本数を数える\r\n",
    "    for i in range(V): # 0ならQにpush\r\n",
    "        if degree[i] == 0:\r\n",
    "            Q.append(i)\r\n",
    "    \r\n",
    "    edges2 = [[] for i in range(V)] # 各頂点からつながる頂点のリストに変換\r\n",
    "    for e in edges:\r\n",
    "        edges2[e[0]].append(e[1])\r\n",
    "\r\n",
    "    while Q: # Qが空になるまで\r\n",
    "        u = Q.popleft() # キューQからpop、Sにpush\r\n",
    "        S.append(u)\r\n",
    "        for v in edges2[u]: # uから出ているすべての辺について, degree[v]を1減らす.このとき0となった場合は,頂点vをQにpush\r\n",
    "            degree[v] -= 1\r\n",
    "            if degree[v] == 0:\r\n",
    "                Q.append(v)\r\n",
    "\r\n",
    "    print(' '.join(map(str, S)))\r\n",
    "\r\n",
    "V = 5\r\n",
    "edges = [[0, 1], [0, 2], [1, 3], [2, 3], [2, 4], [3, 4]]\r\n",
    "\r\n",
    "topoSortBFS(V, edges)"
   ],
   "outputs": [
    {
     "output_type": "stream",
     "name": "stdout",
     "text": [
      "0 1 2 3 4\n"
     ]
    }
   ],
   "metadata": {}
  },
  {
   "cell_type": "code",
   "execution_count": 17,
   "source": [
    "# Khanのアルゴリズム\r\n",
    "\r\n",
    "from collections import deque\r\n",
    "def topoSortKhan(V,edges):\r\n",
    "    E = len(edges)\r\n",
    "    indeg = [0]*V # ⼊次数を格納する配列\r\n",
    "    outedge = [[] for _ in range (V)] # 出⼒辺を保持する配列\r\n",
    "    for e in edges: # ⼊次数と出⼒辺の情報を整理する\r\n",
    "        indeg[e[1]] += 1\r\n",
    "        outedge[e[0]].append(e[1])\r\n",
    "\r\n",
    "    sorted_g = list(v for v in range(V) if indeg[v]==0) # ソート済のノードを格納する配列 最初に⼊次数0のものを⼊れておく\r\n",
    "    deq = deque(sorted_g) # ⼊次数0のノードを処理するためのdeque\r\n",
    "\r\n",
    "    while deq: # ⼊次数0のノードがある限り繰り返す\r\n",
    "        v = deq.popleft() # deq.pop()でもよい\r\n",
    "        for u in outedge[v]: # vからつながるすべてのノードu\r\n",
    "            E -= 1\r\n",
    "            indeg[u] -= 1 # E,uの⼊次数を1減らす\r\n",
    "            if indeg[u] == 0: # uの⼊次数が0\r\n",
    "                deq.append(u) # uをdeqとsorted_gに⼊れる\r\n",
    "                sorted_g.append(u)\r\n",
    "    if E != 0:\r\n",
    "        raise Exception(\"not DAG\") # DAGになっていないので，エラーを返す\r\n",
    "    print(' '.join(map(str, sorted_g)))\r\n",
    "\r\n",
    "V = 5\r\n",
    "edges = [[0, 1], [0, 2], [1, 3], [2, 3], [2, 4], [3, 4]]\r\n",
    "\r\n",
    "topoSortKhan(V, edges)"
   ],
   "outputs": [
    {
     "output_type": "stream",
     "name": "stdout",
     "text": [
      "0 1 2 3 4\n"
     ]
    }
   ],
   "metadata": {}
  },
  {
   "cell_type": "code",
   "execution_count": 18,
   "source": [
    "# 全域⽊（spanning tree）グラフにおいて，すべての頂点がつながっている⽊（閉路を持たない連結グラフ）\r\n",
    "# 最⼩全域⽊（minimum spanning tree）全域⽊の中で辺の距離（コスト）の総和が最⼩になるもの\r\n",
    "\r\n",
    "# 各ノードからの行き先、距離\r\n",
    "edges = [[[1, 5], [2, 4]], #ノードA0\r\n",
    "[[0, 5], [3, 3], [5, 9]], #ノードB1\r\n",
    "[[0, 4], [3, 2], [4, 3]], #ノードC2\r\n",
    "[[1, 3], [2, 2], [6, 7], [7, 5]], #ノードD3\r\n",
    "[[2, 3], [6, 8]], #ノードE4\r\n",
    "[[1, 9]], #ノードF5\r\n",
    "[[3, 7], [4, 8], [7, 1]], #ノードG6\r\n",
    "[[3, 5], [6, 1]]] #ノードH7\r\n",
    "\r\n",
    "N=len(edges)\r\n",
    "edges2 = [] # from,to,distance\r\n",
    "for i in range(len(edges)):\r\n",
    "    for node in edges[i]:\r\n",
    "        edges2.append([i,node[0],node[1]])\r\n",
    "\r\n",
    "# 辺ベースのアプローチ：クラスカル法\r\n",
    "# 存在する辺を距離の短い順に並べて順に⼊れていき，閉路が出来ないことが確認できた場合は追加し，全部の辺をチェックしたら終了．\r\n",
    "# 隣接リストの場合，辺の数をEとして，辺のソートにE log Eかかる\r\n",
    "# 各辺を⼊れるかどうかの判断はUnion-Find⽊を使うとα(V)となり，これをE回やるので，E α(V)\r\n",
    "# よって，アルゴリズム全体ではO(E log E)\r\n",
    "\r\n",
    "class UnionFind: #UF木の実装\r\n",
    "    def __init__(self, n):\r\n",
    "        self.parent = [i for i in range(n)]\r\n",
    "        self.height = [0 for i in range(n)] # 各⽊の⾼さ\r\n",
    "\r\n",
    "    def get_root(self, i):\r\n",
    "        if self.parent[i] == i: # ⾃分が根ノードの場合\r\n",
    "            return i\r\n",
    "        else: # 経路圧縮しながら根ノードを探す\r\n",
    "            self.parent[i] = self.get_root(self.parent[i])\r\n",
    "            return self.parent[i]\r\n",
    "    \r\n",
    "    def unite(self, i, j):\r\n",
    "        ri = self.get_root(i)\r\n",
    "        rj = self.get_root(j)\r\n",
    "        if ri != rj: # より⾼い⽅にマージ\r\n",
    "            if self.height[ri] < self.height[rj]:\r\n",
    "                self.parent[ri] = rj\r\n",
    "            else:\r\n",
    "                self.parent[rj] = ri\r\n",
    "                if self.height[ri] == self.height[rj]:\r\n",
    "                    self.height[ri] += 1\r\n",
    "    \r\n",
    "    def is_in_group(self, i, j):\r\n",
    "        if self.get_root(i) == self.get_root(j):\r\n",
    "            return True\r\n",
    "        else:\r\n",
    "            return False\r\n",
    "\r\n",
    "def Kruskal(V, edges): #クラスカル法の実装\r\n",
    "    e_sorted = [] # 距離で整列された辺\r\n",
    "    for e in edges:\r\n",
    "        e_sorted.append([e[2], e[0], e[1]]) # ソートのために先頭の要素を距離にする\r\n",
    "    e_sorted.sort()\r\n",
    "    uf_tree = UnionFind(V) # Union-Find⽊を使う\r\n",
    "    mst = [] # 最⼩全域⽊の辺を保持するリスト\r\n",
    "    min_d = 0\r\n",
    "    for e in e_sorted:\r\n",
    "        if uf_tree.is_in_group(e[1], e[2]) == False:\r\n",
    "            uf_tree.unite(e[1], e[2]) # e[1]，e[2]を同じグループにする\r\n",
    "            mst.append([e[1], e[2]]) # 最⼩全域⽊に追加\r\n",
    "            min_d += e[0]\r\n",
    "\r\n",
    "    #print(min_d)\r\n",
    "    print(mst)\r\n",
    "    \r\n",
    "Kruskal(N, edges2)"
   ],
   "outputs": [
    {
     "output_type": "stream",
     "name": "stdout",
     "text": [
      "[[6, 7], [2, 3], [1, 3], [2, 4], [0, 2], [3, 7], [1, 5]]\n"
     ]
    }
   ],
   "metadata": {}
  },
  {
   "cell_type": "code",
   "execution_count": 15,
   "source": [
    "# ノードベースのアプローチ：プリム法\r\n",
    "# すでに到達した頂点の集合からまだ到達していない頂点の集合への辺のうち，距離が最短のものを追加し，全ノードつながったら終了\r\n",
    "# この実装では，ヒープに⼊る要素の数は辺の総数になるので，E．よって，追加，削除にかかる計算量はlog E．\r\n",
    "# ヒープへの追加も取り出しもE回あるので，全体ではO(E log E)となる\r\n",
    "import heapq\r\n",
    "\r\n",
    "def Prim(V, edges): #プリム法の実装\r\n",
    "    edges2 = [[] for i in range(V)] # ノードiからのすべての辺を格納\r\n",
    "    for e in edges:\r\n",
    "        edges2[e[0]].append([e[2], e[0], e[1]]) # ヒープでソートされるために距離を最初の要素にする\r\n",
    "    heap = [] # ヒープ\r\n",
    "    mst = [] # 最⼩全域⽊の辺を保持するリスト\r\n",
    "    done = [False]*V # ノードが最⼩全域⽊に⼊ったかどうかのフラグ\r\n",
    "    start=0\r\n",
    "    done[start] = True # ノードを1つ選ぶ．何でも良いがこの実装ではノード0を選ぶことにする\r\n",
    "    for i in range(len(edges2[start])): # ノード0に接続する辺を全てヒープに⼊れる\r\n",
    "        heapq.heappush(heap,edges2[start][i])\r\n",
    "    min_d = 0\r\n",
    "    while heap:\r\n",
    "        e = heapq.heappop(heap) # 距離が最短のものを取り出す\r\n",
    "        if done[e[2]] == False: # その辺の到達先（ノードj）が未訪問なら追加\r\n",
    "            done[e[2]] = True\r\n",
    "            mst.append([e[1], e[2]])\r\n",
    "            for i in range(len(edges2[e[2]])): #ノードjから伸びる辺をe_heapqに⼊れる\r\n",
    "                heapq.heappush(heap,edges2[e[2]][i])\r\n",
    "            min_d += e[0]\r\n",
    "\r\n",
    "    #print(min_d)\r\n",
    "    print(mst)\r\n",
    "\r\n",
    "Prim(N,edges2)"
   ],
   "outputs": [
    {
     "output_type": "stream",
     "name": "stdout",
     "text": [
      "[[0, 2], [2, 3], [2, 4], [3, 1], [3, 7], [7, 6], [1, 5]]\n"
     ]
    }
   ],
   "metadata": {}
  },
  {
   "cell_type": "code",
   "execution_count": 52,
   "source": [
    "def Fibonacci(n):\r\n",
    "    if n == 0: return 0\r\n",
    "    elif n == 1: return 1\r\n",
    "    else: return Fibonacci(n-1) + Fibonacci(n-2)\r\n",
    "\r\n",
    "Fibonacci(40)"
   ],
   "outputs": [
    {
     "output_type": "execute_result",
     "data": {
      "text/plain": [
       "102334155"
      ]
     },
     "metadata": {},
     "execution_count": 52
    }
   ],
   "metadata": {}
  },
  {
   "cell_type": "code",
   "execution_count": 53,
   "source": [
    "def Fibonacci2(n):\r\n",
    "    A = [0] * (n+1)\r\n",
    "    for i in range(n+1):\r\n",
    "        if i == 0: A[i] = 0\r\n",
    "        elif i == 1: A[i] = 1\r\n",
    "        else:  A[i] = A[i-1] + A[i-2]\r\n",
    "    \r\n",
    "    return A[n]\r\n",
    "\r\n",
    "Fibonacci2(40)"
   ],
   "outputs": [
    {
     "output_type": "execute_result",
     "data": {
      "text/plain": [
       "102334155"
      ]
     },
     "metadata": {},
     "execution_count": 53
    }
   ],
   "metadata": {}
  },
  {
   "cell_type": "code",
   "execution_count": 61,
   "source": [
    "import numpy \r\n",
    "def self_pow(x,n):\r\n",
    "    ans = 1\r\n",
    "    while n:\r\n",
    "        if n % 2:\r\n",
    "            ans *= x\r\n",
    "        x *= x\r\n",
    "        n >>= 1\r\n",
    "    return ans\r\n",
    "\r\n",
    "def Fibonacci3(n):\r\n",
    "    sqrt = numpy.sqrt(5)\r\n",
    "    f = (1/sqrt)*(self_pow((1+sqrt)/2,n) - self_pow((1-sqrt)/2,n))\r\n",
    "    return round(f)\r\n",
    "\r\n",
    "Fibonacci3(40)"
   ],
   "outputs": [
    {
     "output_type": "execute_result",
     "data": {
      "text/plain": [
       "102334155"
      ]
     },
     "metadata": {},
     "execution_count": 61
    }
   ],
   "metadata": {}
  },
  {
   "cell_type": "code",
   "execution_count": 2,
   "source": [
    "def binary_search(A,x):\r\n",
    "    l = len(A)\r\n",
    "    A.sort()\r\n",
    "    mi = A[0]\r\n",
    "    ma = A[l-1]\r\n",
    "    \r\n",
    "    if x < mi or x > ma:\r\n",
    "        print(\"No\")\r\n",
    "    else:\r\n",
    "        low=0\r\n",
    "        high=l-1\r\n",
    "        f=0\r\n",
    "        while low<=high:\r\n",
    "            mid=(low+high)//2\r\n",
    "            if x==A[mid]:\r\n",
    "                f=1\r\n",
    "                break\r\n",
    "            if x>A[mid]:\r\n",
    "                low=mid+1\r\n",
    "            else:\r\n",
    "                high=mid-1\r\n",
    "        if f==1:\r\n",
    "            print(\"Yes\")\r\n",
    "        else:\r\n",
    "            print(\"No\")\r\n",
    "\r\n",
    "A = [1,2,4,3,5,2,6,8,2,4,9]\r\n",
    "x = 3 #サーチ対象\r\n",
    "\r\n",
    "binary_search(A,x)"
   ],
   "outputs": [
    {
     "output_type": "stream",
     "name": "stdout",
     "text": [
      "[1, 2, 2, 2, 3, 4, 4, 5, 6, 8, 9]\n",
      "Yes\n"
     ]
    }
   ],
   "metadata": {}
  },
  {
   "cell_type": "code",
   "execution_count": 5,
   "source": [
    "# リングバッファでの実装\r\n",
    "\r\n",
    "class Queue:\r\n",
    "    def __init__(self,size: int):\r\n",
    "        self.queue = [None for i in range(size)]\r\n",
    "        self.size = size\r\n",
    "        self.head = 0\r\n",
    "        self.tail = 0\r\n",
    "\r\n",
    "    def enqueue(self,a: int):\r\n",
    "        if self.head == (self.tail+1)%self.size:\r\n",
    "            print(\"full\")\r\n",
    "            return False\r\n",
    "        self.queue[self.tail] = a\r\n",
    "        self.tail = (self.tail+1)%self.size\r\n",
    "\r\n",
    "    def dequeue(self):\r\n",
    "        if self.head == self.tail:\r\n",
    "            print(\"empty\")\r\n",
    "            return False\r\n",
    "        a = self.queue[self.head]\r\n",
    "        self.head = (self.head+1)%self.size\r\n",
    "        return a\r\n",
    "\r\n",
    "Q = 3\r\n",
    "q=Queue(Q)\r\n",
    "q.enqueue(1)\r\n",
    "q.enqueue(2)\r\n",
    "q.dequeue()\r\n",
    "\r\n",
    "# Algo 2-1\r\n",
    "lines=[0 for i in range(4)]\r\n",
    "lines[0]='3'\r\n",
    "lines[1]='1 1000000000'\r\n",
    "lines[2]='1 1000000000'\r\n",
    "lines[3]='2'\r\n",
    "Q=int(lines[0])\r\n",
    "for i in range(Q):\r\n",
    "    l=[int(x.strip()) for x in lines[i+1].split()]\r\n",
    "    if l[0]==1:\r\n",
    "        q.enqueue(l[1])\r\n",
    "    else:\r\n",
    "        print(q.dequeue())"
   ],
   "outputs": [
    {
     "output_type": "execute_result",
     "data": {
      "text/plain": [
       "1"
      ]
     },
     "metadata": {},
     "execution_count": 5
    }
   ],
   "metadata": {}
  },
  {
   "cell_type": "code",
   "execution_count": 16,
   "source": [
    "# 最大ヒープ\r\n",
    "class maxHeap:\r\n",
    "    def __init__(self):\r\n",
    "        self.list=[]\r\n",
    "\r\n",
    "    def heappush(self,a: int):\r\n",
    "        self.list.append(a)\r\n",
    "        index = len(self.list) - 1\r\n",
    "        while 1:\r\n",
    "            parent = (index-1) // 2\r\n",
    "            if index == 0:\r\n",
    "                break\r\n",
    "            if self.list[index] > self.list[parent]:\r\n",
    "                self.list[index],self.list[parent] = self.list[parent],self.list[index]\r\n",
    "                index = parent\r\n",
    "            else: \r\n",
    "                break         \r\n",
    "\r\n",
    "    def heappop(self):\r\n",
    "        a = self.list[0]\r\n",
    "        self.list[0] = self.list.pop()\r\n",
    "        parent = 0        \r\n",
    "        while 1:\r\n",
    "            c1 = 2*parent + 1\r\n",
    "            c2 = 2*parent + 2\r\n",
    "            if c2 >= len(self.list):\r\n",
    "                c = c1\r\n",
    "            else:\r\n",
    "                if self.list[c1] < self.list[c2]:\r\n",
    "                    c = c2\r\n",
    "                else:\r\n",
    "                    c = c1\r\n",
    "            if c >= len(self.list):\r\n",
    "                break\r\n",
    "                \r\n",
    "            if self.list[c] > self.list[parent]:\r\n",
    "                self.list[c],self.list[parent] = self.list[parent],self.list[c]\r\n",
    "                parent = c\r\n",
    "            else:\r\n",
    "                break\r\n",
    "        return a\r\n",
    "\r\n",
    "\r\n",
    "heap2 = maxHeap()\r\n",
    "heap2.heappush(5)\r\n",
    "heap2.heappush(3)\r\n",
    "heap2.heappush(4)\r\n",
    "heap2.heappop()"
   ],
   "outputs": [
    {
     "output_type": "execute_result",
     "data": {
      "text/plain": [
       "5"
      ]
     },
     "metadata": {},
     "execution_count": 16
    }
   ],
   "metadata": {}
  },
  {
   "cell_type": "code",
   "execution_count": 13,
   "source": [
    "# Algo 2-2\r\n",
    "lines=[0 for i in range(6)]\r\n",
    "lines[0]='5'\r\n",
    "lines[1]='1 5'\r\n",
    "lines[2]='1 3'\r\n",
    "lines[3]='2'\r\n",
    "lines[4]='1 4'\r\n",
    "lines[5]='2'\r\n",
    "Q=int(lines[0])\r\n",
    "heap3=maxHeap()\r\n",
    "for i in range(Q):\r\n",
    "    l=[int(x.strip()) for x in lines[i+1].split()]\r\n",
    "    if l[0]==1:\r\n",
    "        heap3.heappush(l[1])\r\n",
    "    else:\r\n",
    "        print(heap3.heappop())"
   ],
   "outputs": [
    {
     "output_type": "stream",
     "name": "stdout",
     "text": [
      "5\n",
      "4\n"
     ]
    }
   ],
   "metadata": {}
  },
  {
   "cell_type": "code",
   "execution_count": 20,
   "source": [
    "# 配列を用いたヒープの実装 iに対して親(i-1)//2,左の子2i+1, 右の子2i+2となる\r\n",
    "# 最小ヒープ\r\n",
    "class minHeap:\r\n",
    "    def __init__(self):\r\n",
    "        self.list=[]\r\n",
    "\r\n",
    "    def heappush(self,a: int):\r\n",
    "        self.list.append(a)\r\n",
    "        index = len(self.list) - 1\r\n",
    "        while 1:\r\n",
    "            parent = (index-1) // 2\r\n",
    "            if index == 0:\r\n",
    "                break\r\n",
    "            if self.list[index] < self.list[parent]:\r\n",
    "                self.list[index],self.list[parent] = self.list[parent],self.list[index]\r\n",
    "                index = parent\r\n",
    "            else: \r\n",
    "                break         \r\n",
    "\r\n",
    "    def heappop(self):\r\n",
    "        a = self.list[0]\r\n",
    "        self.list[0] = self.list.pop()\r\n",
    "        parent = 0        \r\n",
    "        while 1:\r\n",
    "            c1 = 2*parent + 1\r\n",
    "            c2 = 2*parent + 2\r\n",
    "            if c2 >= len(self.list):\r\n",
    "                c = c1\r\n",
    "            else:\r\n",
    "                if self.list[c1] > self.list[c2]:\r\n",
    "                    c = c2\r\n",
    "                else:\r\n",
    "                    c = c1\r\n",
    "            if c >= len(self.list):\r\n",
    "                break\r\n",
    "                \r\n",
    "            if self.list[c] < self.list[parent]:\r\n",
    "                self.list[c],self.list[parent] = self.list[parent],self.list[c]\r\n",
    "                parent = c\r\n",
    "            else:\r\n",
    "                break\r\n",
    "        return a\r\n",
    "\r\n",
    "heap = minHeap()\r\n",
    "heap.heappush(5)\r\n",
    "heap.heappush(3)\r\n",
    "heap.heappush(4)\r\n",
    "heap.heappop()"
   ],
   "outputs": [
    {
     "output_type": "execute_result",
     "data": {
      "text/plain": [
       "3"
      ]
     },
     "metadata": {},
     "execution_count": 20
    }
   ],
   "metadata": {}
  },
  {
   "cell_type": "code",
   "execution_count": 27,
   "source": [
    "class hash:\r\n",
    "    def __init__(self, Nin=10**9 + 7):\r\n",
    "        self.N = Nin\r\n",
    "        self.table=['']*Nin\r\n",
    "\r\n",
    "    def push(self, x):\r\n",
    "        n = x % self.N\r\n",
    "        if self.table[n] == '':\r\n",
    "            self.table[n] = x\r\n",
    "        else:\r\n",
    "            self.table.append(x)\r\n",
    "    \r\n",
    "    def search(self, x):\r\n",
    "        n = x % self.N\r\n",
    "        if self.table[n] == x:\r\n",
    "            print('found')\r\n",
    "        elif self.table[n] == '':\r\n",
    "            print('not found')\r\n",
    "        else:\r\n",
    "            N2 = len(self.table)\r\n",
    "            if N2 == self.N:\r\n",
    "                print('not found')\r\n",
    "            else:\r\n",
    "                for j in range(self.N, N2):\r\n",
    "                    if self.table[j] == x:\r\n",
    "                        print('found')\r\n",
    "                        break\r\n",
    "                    elif j == N2-1:\r\n",
    "                        print('not found')\r\n",
    "\r\n",
    "hash1 = hash(10)\r\n",
    "hash1.push(1)\r\n",
    "hash1.push(11)\r\n",
    "hash1.search(11)\r\n",
    "hash1.search(2)"
   ],
   "outputs": [
    {
     "output_type": "stream",
     "name": "stdout",
     "text": [
      "found\n",
      "not found\n"
     ]
    }
   ],
   "metadata": {}
  },
  {
   "cell_type": "code",
   "execution_count": 33,
   "source": [
    "# Knuth-Morris-Pratt法 \r\n",
    "# 照合が失敗した時点の状況（何⽂字⽬まで照合したか）に応じて，次の照合位置を変更\r\n",
    "# テーブルにはどこで照合失敗したらどこから照合し直すかが記載\r\n",
    "# 照合対象の⽂字列の⻑さがn，照合パターンの⻑さがl\r\n",
    "# スキップテーブルの作成：l．照合：最悪でもn よって，O(n+l)\r\n",
    "\r\n",
    "def kmp(S,T):\r\n",
    "    table=[0]*(len(T)+1) # スキップテーブル\r\n",
    "    table[0] = -1 # 使わない\r\n",
    "    i,j = 0,1 # パターン内の繰り返しを調べる\r\n",
    "    while j < len(T): # スキップテーブルを作る\r\n",
    "        if T[i] != T[j] and i > 0:\r\n",
    "            i = table[i]\r\n",
    "        else:\r\n",
    "            if T[i] == T[j]:\r\n",
    "                i += 1\r\n",
    "            j += 1\r\n",
    "            table[j] = i\r\n",
    "\r\n",
    "    k = l = 0 # テキストとパターンのカーソル位置\r\n",
    "    while k < len(S) and l < len(T): # 照合を⾏うループ\r\n",
    "        if S[k] == T[l]: # ⼀致している場合は両⽅のカーソルを進める\r\n",
    "            k += 1\r\n",
    "            l += 1\r\n",
    "        elif l == 0:# 照合パターン1⽂字⽬で失敗した場合は，テキスト側のカーソルを1つすすめるだけ．\r\n",
    "            k += 1\r\n",
    "        else: # 照合パターン2⽂字⽬以降はスキップテーブルを使ってどこから照合し直すか決定\r\n",
    "            l = table[l]\r\n",
    "\r\n",
    "    if l == len(T):\r\n",
    "        print(k-l)\r\n",
    "    else:\r\n",
    "        print(-1)\r\n",
    "\r\n",
    "S = 'asdfdgdfhfdhafdgdhfdhd'\r\n",
    "T = 'fdgd'\r\n",
    "kmp(S,T)\r\n"
   ],
   "outputs": [
    {
     "output_type": "stream",
     "name": "stdout",
     "text": [
      "3\n"
     ]
    }
   ],
   "metadata": {}
  },
  {
   "cell_type": "code",
   "execution_count": 39,
   "source": [
    "#Rabin-Karp法\r\n",
    "# 部分⽂字列をハッシュに変換しておき，⽂字列の照合をハッシュ値の⼀致の問題へと変換\r\n",
    "# 照合パターンのハッシュ化： O(l) ハッシュを⽤いての照合：⼀番最初だけはO(l)，あとはO(1) ．最悪の場合はn-l回の⽐較が必要．よって，O(n)\r\n",
    "# よって，O(n+l)\r\n",
    "def RollingHashMatch(S,T):\r\n",
    "    a = 1007 # 基数\r\n",
    "    h = 10**9+7 # 除数\r\n",
    "    Slen = len(S)\r\n",
    "    Tlen = len(T)\r\n",
    "    Shash = 0 # 照合対象側のハッシュ\r\n",
    "    Thash = 0 # 照合パターン側のハッシュ\r\n",
    "    num = lambda c : ord(c)-ord('a') # アルファベットを整数に変換\r\n",
    "    am = 1\r\n",
    "    for i in range(Tlen):\r\n",
    "        Shash += num(S[Tlen-i-1])*am\r\n",
    "        Thash += num(T[Tlen-i-1])*am\r\n",
    "        am *= a\r\n",
    "        am %= h\r\n",
    "    Shash %= h\r\n",
    "    Thash %= h\r\n",
    "\r\n",
    "    for i in range(Slen-Tlen+1):\r\n",
    "        if i != 0:\r\n",
    "            Shash = (a*Shash+num(S[Tlen+i-1])-am*num(S[i-1])) % h\r\n",
    "        if Shash == Thash:\r\n",
    "            return i\r\n",
    "    \r\n",
    "    return -1\r\n",
    "\r\n",
    "S = 'asdfdgdfhfdhafdgdhfdhd'\r\n",
    "T = 'fdgd'\r\n",
    "RollingHashMatch(S,T)"
   ],
   "outputs": [
    {
     "output_type": "execute_result",
     "data": {
      "text/plain": [
       "3"
      ]
     },
     "metadata": {},
     "execution_count": 39
    }
   ],
   "metadata": {}
  },
  {
   "cell_type": "code",
   "execution_count": 1,
   "source": [
    "# 挿⼊ソート\r\n",
    "# 1回の平均的な⽐較・移動回数はそれぞれi/2．それをn-1回繰り返す．最後はn番⽬の要素を，最⼤n-1回⽐較・移動する O(n^2)\r\n",
    "def insertionsort(seq):\r\n",
    "    for i in range(1, len(seq)):\r\n",
    "        j = i - 1\r\n",
    "        tmp = seq[i]\r\n",
    "        while seq[j] > tmp and j > -1:\r\n",
    "            seq[j+1] = seq[j]\r\n",
    "            j -= 1\r\n",
    "        seq[j+1] = tmp\r\n",
    "    return seq\r\n",
    "\r\n",
    "A = [3,5,6,8,3,2,1,4,6,7,0,5,9]\r\n",
    "insertionsort(A)"
   ],
   "outputs": [
    {
     "output_type": "execute_result",
     "data": {
      "text/plain": [
       "[0, 1, 2, 3, 3, 4, 5, 5, 6, 6, 7, 8, 9]"
      ]
     },
     "metadata": {},
     "execution_count": 1
    }
   ],
   "metadata": {}
  },
  {
   "cell_type": "code",
   "execution_count": 2,
   "source": [
    "# バブルソート\r\n",
    "# O(n^2)\r\n",
    "def bubblesort(seq):\r\n",
    "    size = len(seq)\r\n",
    "    for i in range(size):\r\n",
    "        for j in range(size-1, i, -1):\r\n",
    "            if seq[j] < seq[j-1]:\r\n",
    "                seq[j], seq[j-1] = seq[j-1], seq[j]\r\n",
    "    return seq\r\n",
    "\r\n",
    "A = [3,5,6,8,3,2,1,4,6,7,0,5,9]\r\n",
    "bubblesort(A)"
   ],
   "outputs": [
    {
     "output_type": "execute_result",
     "data": {
      "text/plain": [
       "[0, 1, 2, 3, 3, 4, 5, 5, 6, 6, 7, 8, 9]"
      ]
     },
     "metadata": {},
     "execution_count": 2
    }
   ],
   "metadata": {}
  },
  {
   "cell_type": "code",
   "execution_count": 4,
   "source": [
    "# シェーカーソート\r\n",
    "# 最悪計算量はこちらもO(n^2) ただし，バブルソートよりはちょっと速いことが期待できる\r\n",
    "def shakersort(seq):\r\n",
    "    # ソート済みの左端，右端を保持する変数\r\n",
    "    left = 0\r\n",
    "    right = len(seq) - 1\r\n",
    "    # 最後にスワップが起きた場所を格納する変数\r\n",
    "    swapped = 0\r\n",
    "    while left < right:\r\n",
    "        for i in range(left, right): # 先頭からチェック\r\n",
    "            if seq[i+1] < seq[i]:\r\n",
    "                seq[i], seq[i+1] = seq[i+1], seq[i]\r\n",
    "                swapped = i\r\n",
    "        # 最後のスワップの場所でrightを更新\r\n",
    "        right = swapped\r\n",
    "\r\n",
    "        for i in range(right, left, -1): # 次は後ろからチェック\r\n",
    "            if seq[i] < seq[i-1]:\r\n",
    "                seq[i], seq[i-1] = seq[i-1], seq[i]\r\n",
    "                swapped = i\r\n",
    "        # 最後のスワップの場所でleftを更新\r\n",
    "        left = swapped\r\n",
    "    \r\n",
    "    return seq\r\n",
    "\r\n",
    "A = [3,5,6,8,3,2,1,4,6,7,0,5,9]\r\n",
    "shakersort(A)"
   ],
   "outputs": [
    {
     "output_type": "execute_result",
     "data": {
      "text/plain": [
       "[0, 1, 2, 3, 3, 4, 5, 5, 6, 6, 7, 8, 9]"
      ]
     },
     "metadata": {},
     "execution_count": 4
    }
   ],
   "metadata": {}
  },
  {
   "cell_type": "code",
   "execution_count": 6,
   "source": [
    "# クイックソート\r\n",
    "# 軸より大小で2分割して再帰\r\n",
    "# 分割するときに（ざっくり）ソートする 結合するときは何も考えない\r\n",
    "# ⼀般ケースO(n log n) 最悪ケースO(n^2)\r\n",
    "def quicksort(seq):\r\n",
    "    if len(seq) <= 1:\r\n",
    "        return seq\r\n",
    "\r\n",
    "    left = []\r\n",
    "    right = []\r\n",
    "    pivot = seq[len(seq)//2] # 枢軸の選び方(ランダムだと最悪ケースに対応しやすい)\r\n",
    "    count = 0\r\n",
    "    for i in range(len(seq)):\r\n",
    "        e = seq[i]\r\n",
    "        if e == pivot:\r\n",
    "            count += 1\r\n",
    "        elif e < pivot:\r\n",
    "            left.append(e)\r\n",
    "        else:\r\n",
    "            right.append(e)\r\n",
    "            \r\n",
    "    left = quicksort(left)\r\n",
    "    right = quicksort(right)\r\n",
    "    return left + [pivot]*count + right\r\n",
    "\r\n",
    "A = [3,5,6,8,3,2,1,4,6,7,0,5,9]\r\n",
    "quicksort(A)"
   ],
   "outputs": [
    {
     "output_type": "execute_result",
     "data": {
      "text/plain": [
       "[0, 1, 2, 3, 3, 4, 5, 5, 6, 6, 7, 8, 9]"
      ]
     },
     "metadata": {},
     "execution_count": 6
    }
   ],
   "metadata": {}
  },
  {
   "cell_type": "code",
   "execution_count": 7,
   "source": [
    "# マージソート\r\n",
    "# まず再帰で2分割を繰り返して、戻りながら小さい順にマージ\r\n",
    "# 分割するときは何も考えない 結合するときにソートする\r\n",
    "# ⼀般ケース, 最悪ケースともにO(n log n) \r\n",
    "def mergesort(seq):\r\n",
    "    if len(seq) <= 1: return seq\r\n",
    "    # 2つに分割するだけ\r\n",
    "    left = mergesort(seq[:len(seq)//2])\r\n",
    "    right = mergesort(seq[len(seq)//2:])\r\n",
    "    # これらの値が返ってきたときには，left，right\r\n",
    "    # 各々でソートができている状態になっている．\r\n",
    "    merged = []\r\n",
    "    cur_l = cur_r = 0\r\n",
    "    # マージ作業．⼩さい⽅から順にmergedに⼊れる．\r\n",
    "    while cur_l < len(left) and cur_r < len(right):\r\n",
    "        if left[cur_l] <= right[cur_r]: # 安定性を確保\r\n",
    "            merged.append(left[cur_l])\r\n",
    "            cur_l += 1\r\n",
    "        else:\r\n",
    "            merged.append(right[cur_r])\r\n",
    "            cur_r += 1\r\n",
    "    # もし余った要素があればくっつける．\r\n",
    "    if cur_l < len(left):\r\n",
    "        merged.extend(left[cur_l:])\r\n",
    "    elif cur_r < len(right):\r\n",
    "        merged.extend(right[cur_r:])\r\n",
    "    return merged\r\n",
    "\r\n",
    "A = [3,5,6,8,3,2,1,4,6,7,0,5,9]\r\n",
    "mergesort(A)"
   ],
   "outputs": [
    {
     "output_type": "execute_result",
     "data": {
      "text/plain": [
       "[0, 1, 2, 3, 3, 4, 5, 5, 6, 6, 7, 8, 9]"
      ]
     },
     "metadata": {},
     "execution_count": 7
    }
   ],
   "metadata": {}
  },
  {
   "cell_type": "code",
   "execution_count": 2,
   "source": [
    "# バケットソート\r\n",
    "# 0からmax_valueまでの整数値のみと想定\r\n",
    "# バケツの準備：⼀般的にはk．バケツに⼊れる：n．バケツから取り出す：max(n,k)．\r\n",
    "# よって，O(n+k)．kがnかそれ以下のオーダーならば，n\r\n",
    "def bucketsort(seq, max_value):\r\n",
    "    count = [0]*(max_value+1) # バケツ\r\n",
    "    sorted = [] # ソート済み配列\r\n",
    "    # 出現回数をカウント\r\n",
    "    for i in range(len(seq)):\r\n",
    "        count[seq[i]] += 1\r\n",
    "    # 出現回数からソート済み配列を⽣成\r\n",
    "    for i in range(len(count)):\r\n",
    "        for j in range(count[i]):\r\n",
    "            sorted.append(i)\r\n",
    "    return sorted\r\n",
    "\r\n",
    "A = [3,5,6,8,3,2,1,4,6,7,0,5,9]\r\n",
    "bucketsort(A,9)"
   ],
   "outputs": [
    {
     "output_type": "execute_result",
     "data": {
      "text/plain": [
       "[0, 1, 2, 3, 3, 4, 5, 5, 6, 6, 7, 8, 9]"
      ]
     },
     "metadata": {},
     "execution_count": 2
    }
   ],
   "metadata": {}
  },
  {
   "cell_type": "code",
   "execution_count": 13,
   "source": [
    "# ist2021 3\r\n",
    "\r\n",
    "class UnionFind: #UF木の実装\r\n",
    "    def __init__(self, n):\r\n",
    "        self.parent = [i for i in range(n)]\r\n",
    "        self.sizes = [1 for i in range(n)]\r\n",
    "        self.time = [0 for i in range(n)]\r\n",
    "\r\n",
    "    def find(self, i):\r\n",
    "        while self.parent[i] != i:\r\n",
    "            i = self.parent[i]\r\n",
    "        return i\r\n",
    "    \r\n",
    "    def unite(self, t, a, b):\r\n",
    "        i = self.find(a)\r\n",
    "        j = self.find(b)\r\n",
    "        self.parent[i] = j\r\n",
    "        if i != j: # より⾼い⽅にマージ\r\n",
    "            if self.sizes[i] > self.sizes[j]:\r\n",
    "                self.parent[i] = i\r\n",
    "                self.parent[j] = i\r\n",
    "                self.sizes[i] += self.sizes[j]\r\n",
    "                self.time[i] = t\r\n",
    "                self.time[j] = t\r\n",
    "            else:\r\n",
    "                self.sizes[j] += self.sizes[i]\r\n",
    "                self.time[j] = t\r\n",
    "                self.time[i] = t\r\n",
    "\r\n",
    "    def size(self, a):\r\n",
    "        return self.sizes[self.find(a)]\r\n",
    "    \r\n",
    "    def find_time(self, a, b):\r\n",
    "        if a == b: return 0\r\n",
    "        elif self.time[a] < self.time[b]:\r\n",
    "            if self.parent[a] == b: return self.time[a]\r\n",
    "            a = self.parent[a]\r\n",
    "            return self.find_time(a, b)\r\n",
    "        else:\r\n",
    "            if self.parent[b] == a: return self.time[b]\r\n",
    "            b = self.parent[b]\r\n",
    "            return self.find_time(a, b)\r\n",
    "\r\n",
    "uf = UnionFind(6)\r\n",
    "uf.unite(1,0,1)\r\n",
    "uf.unite(2,1,2)\r\n",
    "uf.unite(3,3,4)\r\n",
    "uf.unite(4,1,3)\r\n",
    "uf.find_time(0,3)\r\n"
   ],
   "outputs": [
    {
     "output_type": "execute_result",
     "data": {
      "text/plain": [
       "4"
      ]
     },
     "metadata": {},
     "execution_count": 13
    }
   ],
   "metadata": {}
  },
  {
   "cell_type": "code",
   "execution_count": 7,
   "source": [
    "# nPkをMで割ったあまり\r\n",
    "def nPk(N,K):\r\n",
    "    M = 10**9 + 7 # 素数\r\n",
    "    a = 1\r\n",
    "    for i in range(N-K):\r\n",
    "        a *= i+1\r\n",
    "        a %= M\r\n",
    "    b = a\r\n",
    "    for i in range(N-K,N):\r\n",
    "        b *= i+1\r\n",
    "        b %= M\r\n",
    "    ans = pow(a,M-2,M) #フェルマーの⼩定理より, 剰余の割り算 = M-2乗を掛ける\r\n",
    "    ans *= b\r\n",
    "    ans %= M\r\n",
    "    return ans\r\n",
    "\r\n",
    "N=5\r\n",
    "K=3\r\n",
    "nPk(N,K)"
   ],
   "outputs": [
    {
     "output_type": "execute_result",
     "data": {
      "text/plain": [
       "60"
      ]
     },
     "metadata": {},
     "execution_count": 7
    }
   ],
   "metadata": {}
  },
  {
   "cell_type": "code",
   "execution_count": 8,
   "source": [
    "# nCkをMで割ったあまり\r\n",
    "def nCk(N,K):\r\n",
    "    M = 10**9 + 7 # 素数\r\n",
    "    a = 1\r\n",
    "    for i in range(N-K):\r\n",
    "        a *= i+1\r\n",
    "        a %= M\r\n",
    "    b = a\r\n",
    "    for i in range(N-K,N):\r\n",
    "        b *= i+1\r\n",
    "        b %= M\r\n",
    "    c = 1\r\n",
    "    for i in range(K):\r\n",
    "        c *= i+1\r\n",
    "        c %= M\r\n",
    "    ans = pow(a,M-2,M) #剰余の割り算 = M-2乗を掛ける\r\n",
    "    ans *= pow(c,M-2,M)\r\n",
    "    ans %= M\r\n",
    "    ans *= b\r\n",
    "    ans %= M\r\n",
    "    return ans\r\n",
    "\r\n",
    "N=5\r\n",
    "K=3\r\n",
    "nCk(N,K)"
   ],
   "outputs": [
    {
     "output_type": "execute_result",
     "data": {
      "text/plain": [
       "10"
      ]
     },
     "metadata": {},
     "execution_count": 8
    }
   ],
   "metadata": {}
  },
  {
   "cell_type": "code",
   "execution_count": 1,
   "source": [
    "# osa_k法\r\n",
    "# 前処理の計算量はエラトステネスのふるいと同じO(N log logN)\r\n",
    "# 本計算の計算量は素因数の個数に比例．Mの素因数の個数はlogM程度より，計算量もO(logM)\r\n",
    "# Mが最大の場合(M=Nの場合)計算量O(logN)より，N以下の正の整数全てを素因数分解する場合も計算量はO(N logN)程度\r\n",
    "def osa_k(n):\r\n",
    "    # エラトステネスのふるいの応用\r\n",
    "    min_factor = [-1] * (n+1) # iの最小の素因数(iを割り切る最小の素数)を格納する配列\r\n",
    "    min_factor[0] = 0\r\n",
    "    min_factor[1] = 1\r\n",
    "    for i in range(2, n+1):\r\n",
    "        if min_factor[i] == -1: # 素数なら\r\n",
    "            min_factor[i] = i # min_factor[i] = iとして\r\n",
    "            for j in range(i*i, n+1, i): # i*i以上のiの倍数jに対し\r\n",
    "                if min_factor[j] == -1: # jがまだmin_factorを持たないならmin_factor[j] = iとする\r\n",
    "                    min_factor[j] = i\r\n",
    "    \r\n",
    "    ans = [1] if n == 1 else []\r\n",
    "    k = n\r\n",
    "    while k > 1: # 1になるまでkをmin_factor[k]で割ってkを更新\r\n",
    "        ans.append(min_factor[k])\r\n",
    "        k //= min_factor[k]\r\n",
    "    \r\n",
    "    return ans\r\n",
    "\r\n",
    "N = 12\r\n",
    "ans =[]\r\n",
    "for i in range(N):\r\n",
    "    ans.append(osa_k(i+1))\r\n",
    "print(ans)"
   ],
   "outputs": [
    {
     "output_type": "stream",
     "name": "stdout",
     "text": [
      "[[1], [2], [3], [2, 2], [5], [2, 3], [7], [2, 2, 2], [3, 3], [2, 5], [11], [2, 2, 3]]\n"
     ]
    }
   ],
   "metadata": {}
  },
  {
   "cell_type": "code",
   "execution_count": 2,
   "source": [
    "# 最大流(max flow)問題\r\n",
    "# フォード・ファルカーソン法\r\n",
    "# ノード数V，最⼤流の最適値をF 最悪の場合，新しい経路が⾒つかっても最⼤流が1つしか増やせない-> F回の最⼤流値の更新が発⽣\r\n",
    "# 経路探索のためには⾼々Vのノードを訪れる．隣接⾏列の場合，辺のチェックのために，毎回O(V)個の操作が必要\r\n",
    "# 隣接⾏列の場合 O(FV^2)\r\n",
    "def FordFulkerson(edges,start,end):\r\n",
    "    # s ‒ e間においてある1つのパスで流せる流量を返す\r\n",
    "    def dfs_ff(s, e, flow): # 引数: DFSの開始ノード，DFSの終了ノード，DFSの開始ノードの前のノードまでに流せる最⼤流量\r\n",
    "        if (s == e): return flow # sとeが⼀緒のノードなら今までの最⼤流量をそのまま返す\r\n",
    "        visited[s] = True # ノードsを訪問したと記録\r\n",
    "        for i in range(len(edges[s])):# 流せる容量がある辺をすべてチェック\r\n",
    "            if edges[s][i] > 0 and not visited[i]: # まだ⾒ていない辺があればDFS\r\n",
    "                f = dfs_ff(i, e, min(flow, edges[s][i])) # 今までの最⼤流量とノードs‒i間の流量のうち，⼩さい⽅を使ってdfs_ffを再帰で呼び出す\r\n",
    "                if f > 0:\r\n",
    "                    edges[s][i] -= f\r\n",
    "                    edges[i][s] += f\r\n",
    "                    return f\r\n",
    "        return 0\r\n",
    "    \r\n",
    "    N = len(edges)\r\n",
    "    max_flow = 0\r\n",
    "    while True:\r\n",
    "        visited = [False] * N # 毎回のDFSで使う訪問フラグ\r\n",
    "        f = dfs_ff(start,end,10**9) # DFS実⾏\r\n",
    "        if f == 0: break # もう流せないなら終了\r\n",
    "        max_flow += f\r\n",
    "    return max_flow\r\n",
    "\r\n",
    "edges = [[0, 10, 10, 0, 0, 0],\r\n",
    "[0, 0, 0, 4, 8, 0],\r\n",
    "[0, 0, 0, 7, 4, 0],\r\n",
    "[0, 0, 0, 0, 0, 8],\r\n",
    "[0, 0, 0, 0, 0, 12],\r\n",
    "[0, 0, 0, 0, 0, 0]]\r\n",
    "FordFulkerson(edges,0,5)"
   ],
   "outputs": [
    {
     "output_type": "execute_result",
     "data": {
      "text/plain": [
       "20"
      ]
     },
     "metadata": {},
     "execution_count": 2
    }
   ],
   "metadata": {}
  },
  {
   "cell_type": "code",
   "execution_count": 3,
   "source": [
    "# 隣接リストでの実装 O(FE)\r\n",
    "def FordFulkerson2(edges,start,end):\r\n",
    "    # s ‒ e間においてある1つのパスで流せる流量を返す\r\n",
    "    def dfs_ff(s, e, flow): # 引数: DFSの開始ノード，DFSの終了ノード，DFSの開始ノードの前のノードまでに流せる最⼤流量\r\n",
    "        if (s == e): return flow # sとeが⼀緒のノードなら今までの最⼤流量をそのまま返す\r\n",
    "        visited[s] = True # ノードsを訪問したと記録\r\n",
    "        for i in range(len(edges[s])):# 流せる容量がある辺をすべてチェック\r\n",
    "            edge = edges[s][i] # edge[0] = to, edge[1] = s-toに流せる最大量\r\n",
    "            if edge[1] > 0 and not visited[edge[0]]: # まだ⾒ていない辺があればDFS\r\n",
    "                f = dfs_ff(edge[0], e, min(flow, edge[1])) # 今までの最⼤流量とノードs‒to間の流量のうち，⼩さい⽅を使ってdfs_ffを再帰で呼び出す\r\n",
    "                if f > 0:\r\n",
    "                    edge[1] -= f\r\n",
    "                    for j in range(len(edges[edge[0]])): # 逆辺のフロー更新(効率化したい)\r\n",
    "                        if edges[edge[0]][j][0] == s:\r\n",
    "                            edges[edge[0]][j][1] += f\r\n",
    "                    return f\r\n",
    "        return 0\r\n",
    "    \r\n",
    "    N = len(edges)\r\n",
    "    max_flow = 0\r\n",
    "    while True:\r\n",
    "        visited = [False] * N # 毎回のDFSで使う訪問フラグ\r\n",
    "        f = dfs_ff(start,end,10**9) # DFS実⾏\r\n",
    "        if f == 0: break # もう流せないなら終了\r\n",
    "        max_flow += f\r\n",
    "    return max_flow\r\n",
    "\r\n",
    "edges = [[0, 10, 10, 0, 0, 0],\r\n",
    "[0, 0, 0, 4, 8, 0],\r\n",
    "[0, 0, 0, 7, 4, 0],\r\n",
    "[0, 0, 0, 0, 0, 8],\r\n",
    "[0, 0, 0, 0, 0, 12],\r\n",
    "[0, 0, 0, 0, 0, 0]]\r\n",
    "edges2 = [[] for i in range(len(edges))]\r\n",
    "for i in range(len(edges)):\r\n",
    "    for j in range(len(edges)):\r\n",
    "        if edges[i][j] != 0:\r\n",
    "            edges2[i].append([j,edges[i][j]])\r\n",
    "            edges2[j].append([i,0])\r\n",
    "\r\n",
    "FordFulkerson2(edges2,0,5)"
   ],
   "outputs": [
    {
     "output_type": "execute_result",
     "data": {
      "text/plain": [
       "20"
      ]
     },
     "metadata": {},
     "execution_count": 3
    }
   ],
   "metadata": {}
  },
  {
   "cell_type": "code",
   "execution_count": 4,
   "source": [
    "# Algo 1-1 累積和\r\n",
    "lines=[0 for i in range(2)]\r\n",
    "lines[0]='1 1'\r\n",
    "lines[1]='0'\r\n",
    "N,M=[int(x.strip()) for x in lines[0].split()]\r\n",
    "A=[int(x.strip()) for x in lines[1].split()]\r\n",
    "sumA=0\r\n",
    "for i in range(M):\r\n",
    "  sumA+=A[i]\r\n",
    "maxA=sumA\r\n",
    "index=1\r\n",
    "for i in range(N-M):\r\n",
    "  sumA=sumA+A[M+i]-A[i]\r\n",
    "  if maxA<sumA:\r\n",
    "    maxA=sumA\r\n",
    "    index=i+2\r\n",
    "\r\n",
    "print(maxA, index)"
   ],
   "outputs": [
    {
     "output_type": "stream",
     "name": "stdout",
     "text": [
      "0 1\n"
     ]
    }
   ],
   "metadata": {}
  },
  {
   "cell_type": "code",
   "execution_count": 5,
   "source": [
    "# 最⼩費⽤流(min cost flow)\r\n",
    "# プライマルデュアル法 \r\n",
    "# sからtへの流量fの最小費用流を求める 流せない場合は-1を返す\r\n",
    "# 蟻本p200参照\r\n",
    "# ノード数V，エッジ数E，設定流量をFとする 最⼩コスト経路探索のためにはベルマンフォード法を使うとO(EV)必要．（隣接リストを使う場合）\r\n",
    "# さらに，流量を1ずつしか増やせないのが最悪のケース．よって，O(FEV)\r\n",
    "# ポテンシャルと呼ばれる⼯夫をするとダイクストラ法を使うことができる．\r\n",
    "# この場合，O(FV^2)．ヒープを使うダイクストラ法を使えば， O(F(V+E)logV)に計算量を減らせる\r\n",
    "def PrimalDual(G,s,t,f):\r\n",
    "    V = len(G) # 頂点数\r\n",
    "    prev_v = [0 for i in range(V)] # 直前の頂点\r\n",
    "    prev_e = [0 for i in range(V)] # 直前の辺\r\n",
    "    inf = 10**9\r\n",
    "    res = 0 # 最⼩費⽤\r\n",
    "    while f > 0:\r\n",
    "        # ベルマンフォード法で最短路を求める(負の経路が存在するため)\r\n",
    "        dist = [inf] * V # 最短距離\r\n",
    "        dist[s] = 0\r\n",
    "        update = True\r\n",
    "        while update:\r\n",
    "            update = False\r\n",
    "            for v in range(V):\r\n",
    "                if dist[v] == inf: continue\r\n",
    "                for i in range(len(G[v])):\r\n",
    "                    edge = G[v][i] # vからの辺 (行き先、容量、コスト、逆辺)\r\n",
    "                    if edge[1] > 0 and dist[edge[0]] > dist[v] + edge[2]: # 最短距離を更新\r\n",
    "                        dist[edge[0]] = dist[v] + edge[2]\r\n",
    "                        prev_v[edge[0]] = v # 直前の頂点、辺も記録\r\n",
    "                        prev_e[edge[0]] = i\r\n",
    "                        update = True\r\n",
    "\r\n",
    "        if dist[t] == inf: # これ以上流せないなら-1\r\n",
    "            return -1\r\n",
    "\r\n",
    "        d = f # 流量\r\n",
    "        v = t\r\n",
    "        # 最短路に沿ってできる限り流すというのを繰り返す\r\n",
    "        while  v != s: # tからsまで\r\n",
    "            d = min(d, G[prev_v[v]][prev_e[v]][1]) # 最短路に沿ってprev_vをたどって流せる量が最も少ないエッジの容量を流量とする\r\n",
    "            v = prev_v[v]\r\n",
    "        \r\n",
    "        f -= d # 流したい量からdを引く\r\n",
    "        res += d * dist[t] # コストをd流す分加算\r\n",
    "        v = t\r\n",
    "        while  v != s: # tからsまで\r\n",
    "            G[prev_v[v]][prev_e[v]][1] -= d # 最短路に沿ってprev_vをたどって流した量dだけ容量を引く\r\n",
    "            G[v][G[prev_v[v]][prev_e[v]][3]][1] += d # 逆辺は流した量dだけ容量を足す\r\n",
    "            v = prev_v[v]\r\n",
    "            \r\n",
    "    return res\r\n",
    "\r\n",
    "# アルゴリズム2021 \r\n",
    "# 12最小費用流の例\r\n",
    "V = 4 # 頂点数\r\n",
    "G = [[] for i in range(V)] # グラフの隣接リスト表現\r\n",
    "# fからtへ向かう容量cap、コストcostの辺をグラフに追加する\r\n",
    "def add_edge(f,t,cap,cost):\r\n",
    "    G[f].append([t,cap,cost,len(G[t])]) # 辺を表す (行き先、容量、コスト、逆辺) 逆辺(追加した時点でのlen(G[t])は下で追加する逆辺のindexを表す)\r\n",
    "    G[t].append([f,0,-cost,len(G[f])-1]) # 逆辺の逆辺のindexは上ですでにappendされているのでlen(G[f])-1\r\n",
    "\r\n",
    "add_edge(0, 1, 3, 6)\r\n",
    "add_edge(0, 2, 5, 2)\r\n",
    "add_edge(1, 3, 4, 3)\r\n",
    "add_edge(2, 1, 7, 3)\r\n",
    "add_edge(2, 3, 6, 9)\r\n",
    "#print(G)\r\n",
    "PrimalDual(G,0,3,7)"
   ],
   "outputs": [
    {
     "output_type": "execute_result",
     "data": {
      "text/plain": [
       "67"
      ]
     },
     "metadata": {},
     "execution_count": 5
    }
   ],
   "metadata": {}
  },
  {
   "cell_type": "code",
   "execution_count": 6,
   "source": [
    "# Algo 11-2\r\n",
    "# スタートから各文字列に流量a、コストiのエッジ、各文字列から各アルファベットに流量(各文字列中の各アルファベットの数)、コスト0のエッジ、\r\n",
    "# 各アルファベットからゴールに流量(各アルファベットの必要数)、コスト0のエッジを引き、プライマルデュアル法により最小費用流を求める\r\n",
    "lines = [' ' for i in range(5)]\r\n",
    "lines[0] = 'aabcd'\r\n",
    "lines[1] = '3'\r\n",
    "lines[2] = 'aca 2'\r\n",
    "lines[3] = 'bda 3'\r\n",
    "lines[4] = 'ab 10'\r\n",
    "\r\n",
    "T = lines[0]\r\n",
    "N = int(lines[1])\r\n",
    "V = 1+N+26+1 # 頂点数\r\n",
    "G = [[] for i in range(V)] # グラフ\r\n",
    "for i in range(N):\r\n",
    "    s,a=[x.strip() for x in lines[i+2].split()]\r\n",
    "    add_edge(0,i+1, int(a), i+1) # スタートから各文字列に流量a、コストiのエッジを引く\r\n",
    "    for j in range(26):\r\n",
    "        if s.count(chr(ord('a')+j))!=0:\r\n",
    "            add_edge(i+1,N+1+j, s.count(chr(ord('a')+j)), 0) # 各文字列から各アルファベットに流量(各文字列中の各アルファベットの数)、コスト0のエッジを引く\r\n",
    "\r\n",
    "for i in range(26):\r\n",
    "    if T.count(chr(ord('a')+i))!=0:\r\n",
    "        add_edge(N+1+i,V-1, T.count(chr(ord('a')+i)), 0) # 各アルファベットからゴールに流量(各アルファベットの必要数)、コスト0のエッジを引く\r\n",
    "\r\n",
    "print(G)\r\n",
    "PrimalDual(G,0,V-1,len(T))"
   ],
   "outputs": [
    {
     "output_type": "stream",
     "name": "stdout",
     "text": [
      "[[[1, 2, 1, 0], [2, 3, 2, 0], [3, 10, 3, 0]], [[0, 0, -1, 0], [4, 2, 0, 0], [6, 1, 0, 0]], [[0, 0, -2, 1], [4, 1, 0, 1], [5, 1, 0, 0], [7, 1, 0, 0]], [[0, 0, -3, 2], [4, 1, 0, 2], [5, 1, 0, 1]], [[1, 0, 0, 1], [2, 0, 0, 1], [3, 0, 0, 1], [30, 2, 0, 0]], [[2, 0, 0, 2], [3, 0, 0, 2], [30, 1, 0, 1]], [[1, 0, 0, 2], [30, 1, 0, 2]], [[2, 0, 0, 3], [30, 1, 0, 3]], [], [], [], [], [], [], [], [], [], [], [], [], [], [], [], [], [], [], [], [], [], [], [[4, 0, 0, 3], [5, 0, 0, 2], [6, 0, 0, 1], [7, 0, 0, 1]]]\n"
     ]
    },
    {
     "output_type": "execute_result",
     "data": {
      "text/plain": [
       "8"
      ]
     },
     "metadata": {},
     "execution_count": 6
    }
   ],
   "metadata": {}
  },
  {
   "cell_type": "code",
   "execution_count": null,
   "source": [],
   "outputs": [],
   "metadata": {}
  }
 ],
 "metadata": {
  "orig_nbformat": 4,
  "language_info": {
   "name": "python",
   "version": "3.9.6",
   "mimetype": "text/x-python",
   "codemirror_mode": {
    "name": "ipython",
    "version": 3
   },
   "pygments_lexer": "ipython3",
   "nbconvert_exporter": "python",
   "file_extension": ".py"
  },
  "kernelspec": {
   "name": "python3",
   "display_name": "Python 3.9.6 64-bit"
  },
  "interpreter": {
   "hash": "c8f62aa71a7606cec86cebf285e6e755341ddce54c9f73cdc118801823064d93"
  }
 },
 "nbformat": 4,
 "nbformat_minor": 2
}