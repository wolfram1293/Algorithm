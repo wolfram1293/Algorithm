{
 "cells": [
  {
   "cell_type": "code",
   "execution_count": 74,
   "source": [
    "def CI(A,M):\r\n",
    "    N=len(A)\r\n",
    "    count=[False]*M\r\n",
    "    for i in range(N):\r\n",
    "        if A[i]>=0 and A[i]<M:\r\n",
    "            count[A[i]]=True\r\n",
    "    \r\n",
    "    if all(count):\r\n",
    "        return True\r\n",
    "    else:\r\n",
    "        return False\r\n",
    "    \r\n",
    "def syakutori(A,M):\r\n",
    "    N=len(A)\r\n",
    "    s=0\r\n",
    "    e=N-1\r\n",
    "    l=0\r\n",
    "    r=0\r\n",
    "    while(1):\r\n",
    "        print(l,r,s,e,A[l:r+1])\r\n",
    "        if CI(A[l:r+1],M):\r\n",
    "            if r-l+1<=e-s+1:\r\n",
    "                s=l\r\n",
    "                e=r\r\n",
    "            if r-l+1>=M:\r\n",
    "                l+=1\r\n",
    "        else:\r\n",
    "            if r<N-1:\r\n",
    "                r+=1\r\n",
    "            else:\r\n",
    "                if not CI(A[l:r+1],M):\r\n",
    "                    break\r\n",
    "    \r\n",
    "    print(s, e, A[s:e+1])\r\n"
   ],
   "outputs": [],
   "metadata": {}
  },
  {
   "cell_type": "code",
   "execution_count": 75,
   "source": [
    "M=2\r\n",
    "A=[1,1,0,1]\r\n",
    "syakutori(A,M)"
   ],
   "outputs": [
    {
     "output_type": "stream",
     "name": "stdout",
     "text": [
      "0 0 0 3 [1]\n",
      "0 1 0 3 [1, 1]\n",
      "0 2 0 3 [1, 1, 0]\n",
      "1 2 0 2 [1, 0]\n",
      "2 2 1 2 [0]\n",
      "2 3 1 2 [0, 1]\n",
      "3 3 2 3 [1]\n",
      "2 3 [0, 1]\n"
     ]
    }
   ],
   "metadata": {}
  },
  {
   "cell_type": "code",
   "execution_count": 76,
   "source": [
    "def CI2(M,count):\r\n",
    "    n=0\r\n",
    "    for i in range(M):\r\n",
    "        if count[i]>0:\r\n",
    "            n+=1\r\n",
    "    if n==M:\r\n",
    "        return True\r\n",
    "    else:\r\n",
    "        return False\r\n",
    "    \r\n",
    "def syakutori2(A,M):\r\n",
    "    N=len(A)\r\n",
    "    s=0\r\n",
    "    e=N-1\r\n",
    "    l=0\r\n",
    "    r=0\r\n",
    "    count=[0]*M\r\n",
    "    if A[0]>=0 and A[0]<M:\r\n",
    "            count[A[0]]+=1\r\n",
    "    while(1):\r\n",
    "        print(l,r,s,e,A[l:r+1],count)\r\n",
    "        if CI2(M,count):\r\n",
    "            if r-l<=e-s:\r\n",
    "                s=l\r\n",
    "                e=r\r\n",
    "            if r-l+1>=M:\r\n",
    "                if A[l]>=0 and A[l]<M:\r\n",
    "                    count[A[l]]-=1\r\n",
    "                l+=1\r\n",
    "        else:\r\n",
    "            if r<N-1:\r\n",
    "                r+=1\r\n",
    "                if A[r]>=0 and A[r]<M:\r\n",
    "                    count[A[r]]+=1\r\n",
    "            else:\r\n",
    "                if not CI2(M,count):\r\n",
    "                    break\r\n",
    "    \r\n",
    "    print(s, e, A[s:e+1])"
   ],
   "outputs": [],
   "metadata": {}
  },
  {
   "cell_type": "code",
   "execution_count": 77,
   "source": [
    "M=2\r\n",
    "A=[1,1,0,1]\r\n",
    "syakutori2(A,M)"
   ],
   "outputs": [
    {
     "output_type": "stream",
     "name": "stdout",
     "text": [
      "0 0 0 3 [1] [0, 1]\n",
      "0 1 0 3 [1, 1] [0, 2]\n",
      "0 2 0 3 [1, 1, 0] [1, 2]\n",
      "1 2 0 2 [1, 0] [1, 1]\n",
      "2 2 1 2 [0] [1, 0]\n",
      "2 3 1 2 [0, 1] [1, 1]\n",
      "3 3 2 3 [1] [0, 1]\n",
      "2 3 [0, 1]\n"
     ]
    }
   ],
   "metadata": {}
  },
  {
   "cell_type": "code",
   "execution_count": null,
   "source": [],
   "outputs": [],
   "metadata": {}
  }
 ],
 "metadata": {
  "orig_nbformat": 4,
  "language_info": {
   "name": "python",
   "version": "3.9.1",
   "mimetype": "text/x-python",
   "codemirror_mode": {
    "name": "ipython",
    "version": 3
   },
   "pygments_lexer": "ipython3",
   "nbconvert_exporter": "python",
   "file_extension": ".py"
  },
  "kernelspec": {
   "name": "python3",
   "display_name": "Python 3.9.1 64-bit"
  },
  "interpreter": {
   "hash": "c8f62aa71a7606cec86cebf285e6e755341ddce54c9f73cdc118801823064d93"
  }
 },
 "nbformat": 4,
 "nbformat_minor": 2
}