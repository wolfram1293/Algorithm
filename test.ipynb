{
 "cells": [
  {
   "cell_type": "code",
   "execution_count": 74,
   "source": [
    "def CI(A,M):\r\n",
    "    N=len(A)\r\n",
    "    count=[False]*M\r\n",
    "    for i in range(N):\r\n",
    "        if A[i]>=0 and A[i]<M:\r\n",
    "            count[A[i]]=True\r\n",
    "    \r\n",
    "    if all(count):\r\n",
    "        return True\r\n",
    "    else:\r\n",
    "        return False\r\n",
    "    \r\n",
    "def syakutori(A,M):\r\n",
    "    N=len(A)\r\n",
    "    s=0\r\n",
    "    e=N-1\r\n",
    "    l=0\r\n",
    "    r=0\r\n",
    "    while 1:\r\n",
    "        print(l,r,s,e,A[l:r+1])\r\n",
    "        if CI(A[l:r+1],M):\r\n",
    "            if r-l+1<=e-s+1:\r\n",
    "                s=l\r\n",
    "                e=r\r\n",
    "            if r-l+1>=M:\r\n",
    "                l+=1\r\n",
    "        else:\r\n",
    "            if r<N-1:\r\n",
    "                r+=1\r\n",
    "            else:\r\n",
    "                if not CI(A[l:r+1],M):\r\n",
    "                    break\r\n",
    "    \r\n",
    "    print(s, e, A[s:e+1])\r\n"
   ],
   "outputs": [],
   "metadata": {}
  },
  {
   "cell_type": "code",
   "execution_count": 75,
   "source": [
    "M=2\r\n",
    "A=[1,1,0,1]\r\n",
    "syakutori(A,M)"
   ],
   "outputs": [
    {
     "output_type": "stream",
     "name": "stdout",
     "text": [
      "0 0 0 3 [1]\n",
      "0 1 0 3 [1, 1]\n",
      "0 2 0 3 [1, 1, 0]\n",
      "1 2 0 2 [1, 0]\n",
      "2 2 1 2 [0]\n",
      "2 3 1 2 [0, 1]\n",
      "3 3 2 3 [1]\n",
      "2 3 [0, 1]\n"
     ]
    }
   ],
   "metadata": {}
  },
  {
   "cell_type": "code",
   "execution_count": 76,
   "source": [
    "def CI2(M,count):\r\n",
    "    n=0\r\n",
    "    for i in range(M):\r\n",
    "        if count[i]>0:\r\n",
    "            n+=1\r\n",
    "    if n==M:\r\n",
    "        return True\r\n",
    "    else:\r\n",
    "        return False\r\n",
    "    \r\n",
    "def syakutori2(A,M):\r\n",
    "    N=len(A)\r\n",
    "    s=0\r\n",
    "    e=N-1\r\n",
    "    l=0\r\n",
    "    r=0\r\n",
    "    count=[0]*M\r\n",
    "    if A[0]>=0 and A[0]<M:\r\n",
    "            count[A[0]]+=1\r\n",
    "    while 1:\r\n",
    "        print(l,r,s,e,A[l:r+1],count)\r\n",
    "        if CI2(M,count):\r\n",
    "            if r-l<=e-s:\r\n",
    "                s=l\r\n",
    "                e=r\r\n",
    "            if r-l+1>=M:\r\n",
    "                if A[l]>=0 and A[l]<M:\r\n",
    "                    count[A[l]]-=1\r\n",
    "                l+=1\r\n",
    "        else:\r\n",
    "            if r<N-1:\r\n",
    "                r+=1\r\n",
    "                if A[r]>=0 and A[r]<M:\r\n",
    "                    count[A[r]]+=1\r\n",
    "            else:\r\n",
    "                if not CI2(M,count):\r\n",
    "                    break\r\n",
    "    \r\n",
    "    print(s, e, A[s:e+1])"
   ],
   "outputs": [],
   "metadata": {}
  },
  {
   "cell_type": "code",
   "execution_count": 77,
   "source": [
    "M=2\r\n",
    "A=[1,1,0,1]\r\n",
    "syakutori2(A,M)"
   ],
   "outputs": [
    {
     "output_type": "stream",
     "name": "stdout",
     "text": [
      "0 0 0 3 [1] [0, 1]\n",
      "0 1 0 3 [1, 1] [0, 2]\n",
      "0 2 0 3 [1, 1, 0] [1, 2]\n",
      "1 2 0 2 [1, 0] [1, 1]\n",
      "2 2 1 2 [0] [1, 0]\n",
      "2 3 1 2 [0, 1] [1, 1]\n",
      "3 3 2 3 [1] [0, 1]\n",
      "2 3 [0, 1]\n"
     ]
    }
   ],
   "metadata": {}
  },
  {
   "cell_type": "code",
   "execution_count": 79,
   "source": [
    "import sys\r\n",
    "import heapq\r\n",
    "\r\n",
    "#edges=[[]for i in range(N)]\r\n",
    "#edges[a].append([b,d])\r\n",
    "edges = [[[1, 5], [2, 4]], #ノードA0\r\n",
    "[[0, 5], [3, 3], [5, 9]], #ノードB1\r\n",
    "[[0, 4], [3, 2], [4, 3]], #ノードC2\r\n",
    "[[1, 3], [2, 2], [5, 1], [6, 7]], #ノードD3\r\n",
    "[[2, 3], [6, 8]], #ノードE4\r\n",
    "[[1, 9], [3, 1], [6, 2], [7, 5]], #ノードF5\r\n",
    "[[3, 7], [4, 8], [5, 2], [7, 2]], #ノードG6\r\n",
    "[[5, 5], [6, 2]]] #ノードH7\r\n",
    "\r\n",
    "N=len(edges)\r\n",
    "S=0\r\n",
    "\r\n",
    "def dijkstra(N,S,edges):\r\n",
    "    done=[False]*N\r\n",
    "    inf=10**9\r\n",
    "    dist=[inf]*N\r\n",
    "    dist[S]=0\r\n",
    "    heap=[]\r\n",
    "    heapq.heappush(heap,[dist[S],S])\r\n",
    "    while heap:\r\n",
    "        node=heapq.heappop(heap)[1]\r\n",
    "        if not done[node]:\r\n",
    "            for e in edges[node]:\r\n",
    "                if dist[e[0]]>dist[node]+e[1]:\r\n",
    "                    dist[e[0]]=dist[node]+e[1]\r\n",
    "                    heapq.heappush(heap,[dist[e[0]],e[0]])\r\n",
    "        done[node]=True\r\n",
    "\r\n",
    "    for i in range(N):\r\n",
    "        if dist[i]==inf:\r\n",
    "            dist[i]='INF'\r\n",
    "    \r\n",
    "    print(' '.join(map(str, dist)))\r\n",
    "\r\n",
    "dijkstra(N,S,edges)"
   ],
   "outputs": [
    {
     "output_type": "stream",
     "name": "stdout",
     "text": [
      "0 5 4 6 7 7 9 11\n"
     ]
    }
   ],
   "metadata": {}
  },
  {
   "cell_type": "code",
   "execution_count": 7,
   "source": [
    "# 各ノードからの行き先、距離\r\n",
    "edges = [[[1, 5], [2, 4]], #ノードA0\r\n",
    "[[0, 5], [3, 3], [5, 9]], #ノードB1\r\n",
    "[[0, 4], [3, 2], [4, 3]], #ノードC2\r\n",
    "[[1, 3], [2, 2], [5, 1], [6, 7]], #ノードD3\r\n",
    "[[2, 3], [6, 8]], #ノードE4\r\n",
    "[[1, 9], [3, 1], [6, 2], [7, 5]], #ノードF5\r\n",
    "[[3, 7], [4, 8], [5, 2], [7, 2]], #ノードG6\r\n",
    "[[5, 5], [6, 2]]] #ノードH7\r\n",
    "\r\n",
    "N=len(edges)\r\n",
    "edges2 = []\r\n",
    "for i in range(len(edges)):\r\n",
    "    for node in edges[i]:\r\n",
    "        edges2.append([i,node[0],node[1]])\r\n",
    "\r\n",
    "# 始点，終点，距離の順．\r\n",
    "'''\r\n",
    "edges2 = [[0, 1, 5], [0, 2, 4], [1, 0, 5], [1, 3, 9], [1, 5, 9],\r\n",
    "[2, 0, 4], [2, 3, 2], [2, 4, 3], [3, 1, 9], [3, 2, 2], [3, 5, 1],\r\n",
    "[3, 6, 7], [4, 2, 3], [4, 6, 8], [5, 1, 9], [5, 3, 1], [5, 6, 2],\r\n",
    "[5, 7, 5], [6, 3, 7], [6, 4, 8], [6, 5, 2], [6, 7, 2], [7, 5, 5],\r\n",
    "[7, 6, 2]]\r\n",
    "'''\r\n",
    "\r\n",
    "S=0\r\n",
    "# ダイクストラと違い,最短距離の選択を⾏わず更新毎に全ての辺に対しての計算を毎回⾏う\r\n",
    "# 負の経路があっても計算可能,負の閉路があってもそれを検知可能\r\n",
    "# 頂点V、辺の数Eとして,2重ループの1つ⽬はV，2つ⽬は毎回すべての辺をチェックするのでEよって全体ではO(VE)\r\n",
    "\r\n",
    "def BellmanFord(N,S,edges):\r\n",
    "    inf=10**9\r\n",
    "    dist = [inf]*N\r\n",
    "    dist[S] = 0\r\n",
    "    # whileではなく，|N|回のforループにする．\r\n",
    "    # 辺の情報をすべて見ることを1ループとすると1ループするたびに最低でも1つの頂点についての最短距離は求まる\r\n",
    "    # 頂点の数をNとするとN−1回のループでグラフ全体の最短距離が求まる\r\n",
    "    # もしi=N-1で更新があれば，それは負の閉路の存在を表す．\r\n",
    "    for i in range(N):\r\n",
    "        for e in edges:\r\n",
    "            if dist[e[1]] > e[2] + dist[e[0]]:\r\n",
    "                dist[e[1]] = e[2] + dist[e[0]]\r\n",
    "                # 負の閉路の検知\r\n",
    "                if i==N-1: return -1\r\n",
    "    print(' '.join(map(str, dist)))\r\n",
    "\r\n",
    "BellmanFord(N,S,edges2)"
   ],
   "outputs": [
    {
     "output_type": "stream",
     "name": "stdout",
     "text": [
      "0 5 4 6 7 7 9 11\n"
     ]
    }
   ],
   "metadata": {}
  },
  {
   "cell_type": "code",
   "execution_count": 4,
   "source": [
    "from collections import deque\r\n",
    "\r\n",
    "#edges=[[] for i in range(N)] \r\n",
    "#各頂点からつながる頂点のリスト\r\n",
    "edges = [\r\n",
    "[1, 2],#ノードA\r\n",
    "[0, 3, 5],#ノードB\r\n",
    "[0, 3, 4],#ノードC\r\n",
    "[1, 2, 5],#ノードD\r\n",
    "[2, 6],#ノードE\r\n",
    "[1, 3, 7],#ノードF\r\n",
    "[4],#ノードG\r\n",
    "[5]]#ノードH\r\n",
    "N = len(edges)\r\n",
    "done = [0]*N #一度通った頂点を記録\r\n",
    "def bfs(edges, start, end):\r\n",
    "    waiting = deque()\r\n",
    "    # 0: 未発⾒，1: 発⾒済だが未訪問，2: 訪問済\r\n",
    "    done[start] = 2 # 開始ノードは訪問済\r\n",
    "    for n in edges[start]:\r\n",
    "        done[n] = 1 # 発⾒したが未訪問なので1\r\n",
    "        waiting.append(n)\r\n",
    "    while len(waiting):\r\n",
    "        cur_node = waiting.popleft()\r\n",
    "        if done[cur_node] != 2:\r\n",
    "            done[cur_node] = 2 # 訪問したので2\r\n",
    "            if(end == cur_node): print('=FOUND!=')\r\n",
    "            for n in edges[cur_node]:\r\n",
    "                if done[n] != 2:\r\n",
    "                    done[n] = 1 # 未訪問なので1\r\n",
    "                    waiting.append(n) # キュー追加\r\n",
    "\r\n",
    "bfs(edges, 0, 6)"
   ],
   "outputs": [
    {
     "output_type": "stream",
     "name": "stdout",
     "text": [
      "=FOUND!=\n"
     ]
    }
   ],
   "metadata": {}
  },
  {
   "cell_type": "code",
   "execution_count": 5,
   "source": [
    "\r\n",
    "#edges=[[] for i in range(N)] \r\n",
    "#各頂点からつながる頂点のリスト\r\n",
    "edges = [\r\n",
    "[1, 2],#ノードA\r\n",
    "[0, 3, 5],#ノードB\r\n",
    "[0, 3, 4],#ノードC\r\n",
    "[1, 2, 5],#ノードD\r\n",
    "[2, 6],#ノードE\r\n",
    "[1, 3, 7],#ノードF\r\n",
    "[4],#ノードG\r\n",
    "[5]]#ノードH\r\n",
    "N = len(edges)\r\n",
    "\r\n",
    "done = [0]*N #一度通った頂点を記録\r\n",
    "def dfs(edges, start, end):\r\n",
    "    waiting = []\r\n",
    "    # 0: 未発⾒，1: 発⾒済だが未訪問，2: 訪問済\r\n",
    "    done[start] = 2 # 開始ノードは訪問済\r\n",
    "    for n in edges[start]:\r\n",
    "        done[n] = 1 # 発⾒したが未訪問なので1\r\n",
    "        waiting.append(n)\r\n",
    "    while len(waiting):\r\n",
    "        cur_node = waiting.pop()\r\n",
    "        if done[cur_node] != 2:\r\n",
    "            done[cur_node] = 2 # 訪問したので2\r\n",
    "            if(end == cur_node): print('=FOUND!=')\r\n",
    "            for n in edges[cur_node]:\r\n",
    "                if done[n] != 2:\r\n",
    "                    done[n] = 1 # 未訪問なので1\r\n",
    "                    waiting.append(n)\r\n",
    "\r\n",
    "dfs(edges, 0, 6)"
   ],
   "outputs": [
    {
     "output_type": "stream",
     "name": "stdout",
     "text": [
      "=FOUND!=\n"
     ]
    }
   ],
   "metadata": {}
  },
  {
   "cell_type": "code",
   "execution_count": 10,
   "source": [
    "from collections import deque\r\n",
    "\r\n",
    "H,W = 5,5\r\n",
    "sy,sx = 0,0\r\n",
    "gy,gx = 4,4\r\n",
    "A=[[' ',' ',' ','#',' '],\r\n",
    "   ['#','#',' ',' ',' '],\r\n",
    "   [' ',' ',' ','#',' '],\r\n",
    "   [' ','#','#','#','#'],\r\n",
    "   [' ',' ',' ',' ',' ']]\r\n",
    "\r\n",
    "d=[[-1 for i in range(W)] for j in range(H)] #スタートからの距離を入れるリスト\r\n",
    "\r\n",
    "def bfs_maze(sx,sy,gx,gy,A):\r\n",
    "    waiting = deque()\r\n",
    "    waiting.append([sy,sx])\r\n",
    "    d[sy][sx] = 0\r\n",
    "    while len(waiting):\r\n",
    "        y,x = waiting.popleft()\r\n",
    "        if y == gy and x == gx:\r\n",
    "            break\r\n",
    "        for i in range(4): #縦横の4方向について行けるか検証\r\n",
    "            ny, nx = y + [1,0,-1,0][i], x + [0,1,0,-1][i]\r\n",
    "            if 0 <= ny < H and 0 <= nx < W and d[ny][nx] == -1 and A[ny][nx] != '#':\r\n",
    "                waiting.append([ny,nx])\r\n",
    "                d[ny][nx] = d[y][x] + 1\r\n",
    "    \r\n",
    "    return d[gy][gx]\r\n",
    "\r\n",
    "print(bfs_maze(sx,sy,gx,gy,A))\r\n"
   ],
   "outputs": [
    {
     "output_type": "stream",
     "name": "stdout",
     "text": [
      "12\n"
     ]
    }
   ],
   "metadata": {}
  },
  {
   "cell_type": "code",
   "execution_count": 1,
   "source": [
    "#再帰版\r\n",
    "#各頂点からつながる頂点のリスト\r\n",
    "edges = [\r\n",
    "[1, 2],#ノードA\r\n",
    "[0, 3, 5],#ノードB\r\n",
    "[0, 3, 4],#ノードC\r\n",
    "[1, 2, 5],#ノードD\r\n",
    "[2, 6],#ノードE\r\n",
    "[1, 3, 7],#ノードF\r\n",
    "[4],#ノードG\r\n",
    "[5]]#ノードH\r\n",
    "N = len(edges)\r\n",
    "\r\n",
    "done = [0]*N #一度通った頂点を記録\r\n",
    "def dfs_re(edges, start, end):\r\n",
    "    if len(edges[start])==0 or done[start]==1:\r\n",
    "        return\r\n",
    "    if start==end:\r\n",
    "        print('=FOUND!=')\r\n",
    "    done[start]=1\r\n",
    "    for n in edges[start]:\r\n",
    "        dfs_re(edges,n, end)\r\n",
    "\r\n",
    "dfs_re(edges,0,6)"
   ],
   "outputs": [
    {
     "output_type": "stream",
     "name": "stdout",
     "text": [
      "=FOUND!=\n"
     ]
    }
   ],
   "metadata": {}
  },
  {
   "cell_type": "code",
   "execution_count": 21,
   "source": [
    "# 各ノードからの行き先、距離\r\n",
    "edges = [[[1, 5], [2, 4]], #ノードA0\r\n",
    "[[0, 5], [3, 3], [5, 9]], #ノードB1\r\n",
    "[[0, 4], [3, 2], [4, 3]], #ノードC2\r\n",
    "[[1, 3], [2, 2], [5, 1], [6, 7]], #ノードD3\r\n",
    "[[2, 3], [6, 8]], #ノードE4\r\n",
    "[[1, 9], [3, 1], [6, 2], [7, 5]], #ノードF5\r\n",
    "[[3, 7], [4, 8], [5, 2], [7, 2]], #ノードG6\r\n",
    "[[5, 5], [6, 2]]] #ノードH7\r\n",
    "\r\n",
    "N = len(edges)\r\n",
    "S = 0\r\n",
    "\r\n",
    "# 3重ループが存在しており,O(V^3)\r\n",
    "def WarshallFloyd(N,S,edges):\r\n",
    "    inf = 10**9\r\n",
    "    dist = [[inf for i in range(N)] for j in range(N)]\r\n",
    "    for i in range(N):\r\n",
    "        dist[i][i] = 0\r\n",
    "    for i in range(len(edges)):\r\n",
    "        for node in edges[i]:\r\n",
    "            dist[i][node[0]] = node[1]\r\n",
    "    for k in range(N):\r\n",
    "        for i in range(N):\r\n",
    "            for j in range(N):\r\n",
    "                dist[i][j] = min(dist[i][j],dist[i][k]+dist[k][j])\r\n",
    "                            \r\n",
    "    print(' '.join(map(str, dist[S])))\r\n",
    "    #print(dist)\r\n",
    "\r\n",
    "WarshallFloyd(N,S,edges)"
   ],
   "outputs": [
    {
     "output_type": "stream",
     "name": "stdout",
     "text": [
      "0 5 4 6 7 7 9 11\n"
     ]
    }
   ],
   "metadata": {}
  },
  {
   "cell_type": "code",
   "execution_count": 9,
   "source": [
    "from collections import deque\r\n",
    "\r\n",
    "# ⼊⼒されたグラフがDAGである場合，全てのノードと辺は⾼々1回しかチェックされない O(V+E)\r\n",
    "\r\n",
    "def topoSortDFS(V, edges):\r\n",
    "    def check(v):\r\n",
    "        if visited[v] == 1:\r\n",
    "            raise Exception(\"not DAG\") #[DAGになっていないので，エラーを返す]\r\n",
    "        elif visited[v] == 0:\r\n",
    "            visited[v] = 1 # 処理待ちにする\r\n",
    "            for to_v in outedge[v]:\r\n",
    "                check(to_v) # 再帰で呼び出す\r\n",
    "            visited[v] = 2 # 処理済にする\r\n",
    "            sorted_g.appendleft(v) # ソート済の先頭に追加\r\n",
    "\r\n",
    "    # ノードをすでに⾒たかどうかを格納する配列\r\n",
    "    # 0：未訪問，1：処理待ち，2：処理済\r\n",
    "    visited = [0]*V\r\n",
    "    outedge = [[] for i in range(V)] #各頂点からつながる頂点のリストに変換\r\n",
    "    for e in edges:\r\n",
    "        outedge[e[0]].append(e[1])\r\n",
    "\r\n",
    "    sorted_g = deque()\r\n",
    "    # 全てのノードをチェックする\r\n",
    "    for i in range(V):\r\n",
    "        check(i)\r\n",
    "\r\n",
    "    print(' '.join(map(str, sorted_g)))\r\n",
    "\r\n",
    "V = 5\r\n",
    "edges = [[0, 1], [0, 2], [1, 3], [2, 3], [2, 4], [3, 4]]\r\n",
    "\r\n",
    "topoSortDFS(V, edges)"
   ],
   "outputs": [
    {
     "output_type": "stream",
     "name": "stdout",
     "text": [
      "0 2 1 3 4\n"
     ]
    }
   ],
   "metadata": {}
  },
  {
   "cell_type": "code",
   "execution_count": 8,
   "source": [
    "# ist2018 3(4)\r\n",
    "\r\n",
    "from collections import deque\r\n",
    "\r\n",
    "def topoSortDFS2(V, edges):\r\n",
    "    def dfs(u):\r\n",
    "        visited[u] = True\r\n",
    "        for v in outedge[u]:\r\n",
    "            if visited[v] != True:\r\n",
    "                dfs(v)\r\n",
    "        s.appendleft(u)\r\n",
    "\r\n",
    "    outedge = [[] for i in range(V)] #各頂点からつながる頂点のリストに変換\r\n",
    "    for e in edges:\r\n",
    "        outedge[e[0]].append(e[1])\r\n",
    "\r\n",
    "    visited = [False]*V # ノードをすでに⾒たかどうかを格納する配列\r\n",
    "    s = deque()\r\n",
    "\r\n",
    "    for v in range(V):\r\n",
    "        if visited[v] != True:\r\n",
    "            dfs(v)\r\n",
    "\r\n",
    "    print(' '.join(map(str, s)))\r\n",
    "\r\n",
    "V = 5\r\n",
    "edges = [[0, 1], [0, 2], [1, 3], [2, 3], [2, 4], [3, 4]]\r\n",
    "\r\n",
    "topoSortDFS2(V, edges)"
   ],
   "outputs": [
    {
     "output_type": "stream",
     "name": "stdout",
     "text": [
      "0 2 1 3 4\n"
     ]
    }
   ],
   "metadata": {}
  },
  {
   "cell_type": "code",
   "execution_count": null,
   "source": [],
   "outputs": [],
   "metadata": {}
  }
 ],
 "metadata": {
  "orig_nbformat": 4,
  "language_info": {
   "name": "python",
   "version": "3.9.1",
   "mimetype": "text/x-python",
   "codemirror_mode": {
    "name": "ipython",
    "version": 3
   },
   "pygments_lexer": "ipython3",
   "nbconvert_exporter": "python",
   "file_extension": ".py"
  },
  "kernelspec": {
   "name": "python3",
   "display_name": "Python 3.9.1 64-bit"
  },
  "interpreter": {
   "hash": "c8f62aa71a7606cec86cebf285e6e755341ddce54c9f73cdc118801823064d93"
  }
 },
 "nbformat": 4,
 "nbformat_minor": 2
}