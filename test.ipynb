{
 "cells": [
  {
   "cell_type": "code",
   "execution_count": 74,
   "source": [
    "def CI(A,M):\r\n",
    "    N=len(A)\r\n",
    "    count=[False]*M\r\n",
    "    for i in range(N):\r\n",
    "        if A[i]>=0 and A[i]<M:\r\n",
    "            count[A[i]]=True\r\n",
    "    \r\n",
    "    if all(count):\r\n",
    "        return True\r\n",
    "    else:\r\n",
    "        return False\r\n",
    "    \r\n",
    "def syakutori(A,M):\r\n",
    "    N=len(A)\r\n",
    "    s=0\r\n",
    "    e=N-1\r\n",
    "    l=0\r\n",
    "    r=0\r\n",
    "    while(1):\r\n",
    "        print(l,r,s,e,A[l:r+1])\r\n",
    "        if CI(A[l:r+1],M):\r\n",
    "            if r-l+1<=e-s+1:\r\n",
    "                s=l\r\n",
    "                e=r\r\n",
    "            if r-l+1>=M:\r\n",
    "                l+=1\r\n",
    "        else:\r\n",
    "            if r<N-1:\r\n",
    "                r+=1\r\n",
    "            else:\r\n",
    "                if not CI(A[l:r+1],M):\r\n",
    "                    break\r\n",
    "    \r\n",
    "    print(s, e, A[s:e+1])\r\n"
   ],
   "outputs": [],
   "metadata": {}
  },
  {
   "cell_type": "code",
   "execution_count": 75,
   "source": [
    "M=2\r\n",
    "A=[1,1,0,1]\r\n",
    "syakutori(A,M)"
   ],
   "outputs": [
    {
     "output_type": "stream",
     "name": "stdout",
     "text": [
      "0 0 0 3 [1]\n",
      "0 1 0 3 [1, 1]\n",
      "0 2 0 3 [1, 1, 0]\n",
      "1 2 0 2 [1, 0]\n",
      "2 2 1 2 [0]\n",
      "2 3 1 2 [0, 1]\n",
      "3 3 2 3 [1]\n",
      "2 3 [0, 1]\n"
     ]
    }
   ],
   "metadata": {}
  },
  {
   "cell_type": "code",
   "execution_count": 76,
   "source": [
    "def CI2(M,count):\r\n",
    "    n=0\r\n",
    "    for i in range(M):\r\n",
    "        if count[i]>0:\r\n",
    "            n+=1\r\n",
    "    if n==M:\r\n",
    "        return True\r\n",
    "    else:\r\n",
    "        return False\r\n",
    "    \r\n",
    "def syakutori2(A,M):\r\n",
    "    N=len(A)\r\n",
    "    s=0\r\n",
    "    e=N-1\r\n",
    "    l=0\r\n",
    "    r=0\r\n",
    "    count=[0]*M\r\n",
    "    if A[0]>=0 and A[0]<M:\r\n",
    "            count[A[0]]+=1\r\n",
    "    while(1):\r\n",
    "        print(l,r,s,e,A[l:r+1],count)\r\n",
    "        if CI2(M,count):\r\n",
    "            if r-l<=e-s:\r\n",
    "                s=l\r\n",
    "                e=r\r\n",
    "            if r-l+1>=M:\r\n",
    "                if A[l]>=0 and A[l]<M:\r\n",
    "                    count[A[l]]-=1\r\n",
    "                l+=1\r\n",
    "        else:\r\n",
    "            if r<N-1:\r\n",
    "                r+=1\r\n",
    "                if A[r]>=0 and A[r]<M:\r\n",
    "                    count[A[r]]+=1\r\n",
    "            else:\r\n",
    "                if not CI2(M,count):\r\n",
    "                    break\r\n",
    "    \r\n",
    "    print(s, e, A[s:e+1])"
   ],
   "outputs": [],
   "metadata": {}
  },
  {
   "cell_type": "code",
   "execution_count": 77,
   "source": [
    "M=2\r\n",
    "A=[1,1,0,1]\r\n",
    "syakutori2(A,M)"
   ],
   "outputs": [
    {
     "output_type": "stream",
     "name": "stdout",
     "text": [
      "0 0 0 3 [1] [0, 1]\n",
      "0 1 0 3 [1, 1] [0, 2]\n",
      "0 2 0 3 [1, 1, 0] [1, 2]\n",
      "1 2 0 2 [1, 0] [1, 1]\n",
      "2 2 1 2 [0] [1, 0]\n",
      "2 3 1 2 [0, 1] [1, 1]\n",
      "3 3 2 3 [1] [0, 1]\n",
      "2 3 [0, 1]\n"
     ]
    }
   ],
   "metadata": {}
  },
  {
   "cell_type": "code",
   "execution_count": 79,
   "source": [
    "import sys\r\n",
    "import heapq\r\n",
    "\r\n",
    "#edges=[[]for i in range(N)]\r\n",
    "#edges[a].append([b,d])\r\n",
    "edges = [[[1, 5], [2, 4]], #ノードA0\r\n",
    "[[0, 5], [3, 3], [5, 9]], #ノードB1\r\n",
    "[[0, 4], [3, 2], [4, 3]], #ノードC2\r\n",
    "[[1, 3], [2, 2], [5, 1], [6, 7]], #ノードD3\r\n",
    "[[2, 3], [6, 8]], #ノードE4\r\n",
    "[[1, 9], [3, 1], [6, 2], [7, 5]], #ノードF5\r\n",
    "[[3, 7], [4, 8], [5, 2], [7, 2]], #ノードG6\r\n",
    "[[5, 5], [6, 2]]] #ノードH7\r\n",
    "\r\n",
    "N=len(edges)\r\n",
    "S=0\r\n",
    "\r\n",
    "def dijkstra(N,S,edges):\r\n",
    "    done=[False]*N\r\n",
    "    inf=10**9\r\n",
    "    dist=[inf]*N\r\n",
    "    dist[S]=0\r\n",
    "    heap=[]\r\n",
    "    heapq.heappush(heap,[dist[S],S])\r\n",
    "    while heap:\r\n",
    "        node=heapq.heappop(heap)[1]\r\n",
    "        if not done[node]:\r\n",
    "            for e in edges[node]:\r\n",
    "                if dist[e[0]]>dist[node]+e[1]:\r\n",
    "                    dist[e[0]]=dist[node]+e[1]\r\n",
    "                    heapq.heappush(heap,[dist[e[0]],e[0]])\r\n",
    "        done[node]=True\r\n",
    "\r\n",
    "    for i in range(N):\r\n",
    "        if dist[i]==inf:\r\n",
    "            dist[i]='INF'\r\n",
    "    \r\n",
    "    print(' '.join(map(str, dist)))\r\n",
    "\r\n",
    "dijkstra(N,S,edges)"
   ],
   "outputs": [
    {
     "output_type": "stream",
     "name": "stdout",
     "text": [
      "0 5 4 6 7 7 9 11\n"
     ]
    }
   ],
   "metadata": {}
  },
  {
   "cell_type": "code",
   "execution_count": null,
   "source": [],
   "outputs": [],
   "metadata": {}
  }
 ],
 "metadata": {
  "orig_nbformat": 4,
  "language_info": {
   "name": "python",
   "version": "3.9.1",
   "mimetype": "text/x-python",
   "codemirror_mode": {
    "name": "ipython",
    "version": 3
   },
   "pygments_lexer": "ipython3",
   "nbconvert_exporter": "python",
   "file_extension": ".py"
  },
  "kernelspec": {
   "name": "python3",
   "display_name": "Python 3.9.1 64-bit"
  },
  "interpreter": {
   "hash": "c8f62aa71a7606cec86cebf285e6e755341ddce54c9f73cdc118801823064d93"
  }
 },
 "nbformat": 4,
 "nbformat_minor": 2
}