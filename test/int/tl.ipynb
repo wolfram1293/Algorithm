{
 "cells": [
  {
   "cell_type": "code",
   "execution_count": 3,
   "metadata": {},
   "outputs": [
    {
     "output_type": "stream",
     "name": "stdout",
     "text": [
      "65666665\n"
     ]
    }
   ],
   "source": [
    "ans=0\r\n",
    "for i in range(50):\r\n",
    "    ans += (i+1)**4\r\n",
    "\r\n",
    "print(ans)"
   ]
  },
  {
   "cell_type": "code",
   "execution_count": 6,
   "metadata": {},
   "outputs": [
    {
     "output_type": "stream",
     "name": "stdout",
     "text": [
      "47931090\n"
     ]
    }
   ],
   "source": [
    "a=[1,0,5]\n",
    "for i in range(30):\n",
    "    a.append(a[i]+a[i+1]+a[i+2])\n",
    "\n",
    "print(a[29])"
   ]
  },
  {
   "cell_type": "code",
   "execution_count": 32,
   "metadata": {
    "tags": []
   },
   "outputs": [
    {
     "output_type": "stream",
     "name": "stdout",
     "text": [
      "1835421\n15.000000378267234\n14.999999833433106\n"
     ]
    }
   ],
   "source": [
    "ans=0\n",
    "i=0\n",
    "while(ans<15):\n",
    "    i+=1\n",
    "    ans += 1/i\n",
    "print(i)"
   ]
  },
  {
   "cell_type": "code",
   "execution_count": 47,
   "metadata": {},
   "outputs": [
    {
     "output_type": "stream",
     "name": "stdout",
     "text": [
      "110894536\n"
     ]
    }
   ],
   "source": [
    "ans=0\n",
    "for i in range(20000):\n",
    "    stri=str(i+1)\n",
    "    n=len(stri)\n",
    "\n",
    "    if (i+1)%3==0:\n",
    "        ans += i+1\n",
    "    else:\n",
    "        for j in range(n):\n",
    "            if stri[j]=='3':\n",
    "                ans += i+1\n",
    "                break\n",
    "\n",
    "print(ans)"
   ]
  },
  {
   "cell_type": "code",
   "execution_count": 65,
   "metadata": {},
   "outputs": [
    {
     "output_type": "stream",
     "name": "stdout",
     "text": [
      "7036\n"
     ]
    }
   ],
   "source": [
    "ans=0\n",
    "for i in range(10400):\n",
    "    n=i+1\n",
    "    for x in range(31):\n",
    "        for y in range(41):\n",
    "            for z in range(31):\n",
    "                total = 205*x +82*y + 30*z\n",
    "                if(total == n): \n",
    "                    ans+=1\n",
    "                    break\n",
    "            else:\n",
    "                continue\n",
    "            break\n",
    "\n",
    "        else:\n",
    "            continue\n",
    "        break\n",
    "\n",
    "print(ans)"
   ]
  },
  {
   "cell_type": "code",
   "execution_count": 67,
   "metadata": {},
   "outputs": [
    {
     "output_type": "stream",
     "name": "stdout",
     "text": [
      "41070\n"
     ]
    }
   ],
   "source": [
    "ans=0\n",
    "for i in range(999):\n",
    "    n=i+1\n",
    "    cnt=0\n",
    "    h=n//100\n",
    "    t=(n-h*100)//10\n",
    "    o=n-h*100-t*10\n",
    "    for j in range(3):\n",
    "        if j==1:\n",
    "            h=t\n",
    "        if j==2:\n",
    "            h=o\n",
    "        if h<=3:\n",
    "            cnt+= h\n",
    "        if h==4 or h==9:\n",
    "            cnt+=2\n",
    "        if h==5:\n",
    "            cnt+=1\n",
    "        if h>=6 and h<=8:\n",
    "            cnt+= h-4\n",
    "    if cnt == 9:\n",
    "        ans += n\n",
    "\n",
    "print(ans)"
   ]
  },
  {
   "cell_type": "code",
   "execution_count": 25,
   "metadata": {},
   "outputs": [
    {
     "output_type": "stream",
     "name": "stdout",
     "text": [
      "[['A', 'B', 'C', 'D', 'E', 'F', 'G', 'H', 'I', 'J', 'K', 'L', 'M', 'N', 'O', 'P', 'Q', 'R', 'S', 'T', 'U', 'V', 'W', 'X', 'Y', 'Z', 'A', 'B', 'C', 'D', 'E', 'F', 'G', 'H', 'I', 'J'], ['J', 'K', 'L', 'M', 'N', 'O', 'P', 'Q', 'R', 'S', 'T', 'U', 'V', 'W', 'X', 'Y', 'Z', 'A', 'B', 'C', 'D', 'E', 'F', 'G', 'H', 'I', 'J', 'K', 'L', 'M', 'N', 'O', 'P', 'Q', 'R', 'K'], ['I', 'L', 'M', 'N', 'O', 'P', 'Q', 'R', 'S', 'T', 'U', 'V', 'W', 'X', 'Y', 'Z', 'A', 'B', 'C', 'D', 'E', 'F', 'G', 'H', 'I', 'J', 'K', 'L', 'M', 'N', 'O', 'P', 'Q', 'R', 'S', 'L'], ['H', 'K', 'F', 'G', 'H', 'I', 'J', 'K', 'L', 'M', 'N', 'O', 'P', 'Q', 'R', 'S', 'T', 'U', 'V', 'W', 'X', 'Y', 'Z', 'A', 'B', 'C', 'D', 'E', 'F', 'G', 'H', 'I', 'J', 'S', 'T', 'M'], ['G', 'J', 'E', 'R', 'S', 'T', 'U', 'V', 'W', 'X', 'Y', 'Z', 'A', 'B', 'C', 'D', 'E', 'F', 'G', 'H', 'I', 'J', 'K', 'L', 'M', 'N', 'O', 'P', 'Q', 'R', 'S', 'T', 'K', 'T', 'U', 'N'], ['F', 'I', 'D', 'Q', 'V', 'W', 'X', 'Y', 'Z', 'A', 'B', 'C', 'D', 'E', 'F', 'G', 'H', 'I', 'J', 'K', 'L', 'M', 'N', 'O', 'P', 'Q', 'R', 'S', 'T', 'U', 'V', 'U', 'L', 'U', 'V', 'O'], ['E', 'H', 'C', 'P', 'U', 'R', 'S', 'T', 'U', 'V', 'W', 'X', 'Y', 'Z', 'A', 'B', 'C', 'D', 'E', 'F', 'G', 'H', 'I', 'J', 'K', 'L', 'M', 'N', 'O', 'P', 'W', 'V', 'M', 'V', 'W', 'P'], ['D', 'G', 'B', 'O', 'T', 'Q', 'F', 'G', 'H', 'I', 'J', 'K', 'L', 'M', 'N', 'O', 'P', 'Q', 'R', 'S', 'T', 'U', 'V', 'W', 'X', 'Y', 'Z', 'A', 'B', 'Q', 'X', 'W', 'N', 'W', 'X', 'Q'], ['C', 'F', 'A', 'N', 'S', 'P', 'E', 'L', 'M', 'N', 'O', 'P', 'Q', 'R', 'S', 'T', 'U', 'V', 'W', 'X', 'Y', 'Z', 'A', 'B', 'C', 'D', 'E', 'F', 'C', 'R', 'Y', 'X', 'O', 'X', 'Y', 'R'], ['B', 'E', 'Z', 'M', 'R', 'O', 'D', 'K', 'J', 'K', 'L', 'M', 'N', 'O', 'P', 'Q', 'R', 'S', 'T', 'U', 'V', 'W', 'X', 'Y', 'Z', 'A', 'B', 'G', 'D', 'S', 'Z', 'Y', 'P', 'Y', 'Z', 'S'], ['A', 'D', 'Y', 'L', 'Q', 'N', 'C', 'J', 'I', 'Z', 'A', 'B', 'C', 'D', 'E', 'F', 'G', 'H', 'I', 'J', 'K', 'L', 'M', 'N', 'O', 'P', 'C', 'H', 'E', 'T', 'A', 'Z', 'Q', 'Z', 'A', 'T'], ['Z', 'C', 'X', 'K', 'P', 'M', 'B', 'I', 'H', 'Y', 'H', 'I', 'J', 'K', 'L', 'M', 'N', 'O', 'P', 'Q', 'R', 'S', 'T', 'U', 'V', 'Q', 'D', 'I', 'F', 'U', 'B', 'A', 'R', 'A', 'B', 'U'], ['Y', 'B', 'W', 'J', 'O', 'L', 'A', 'H', 'G', 'X', 'G', 'H', 'I', 'J', 'K', 'L', 'M', 'N', 'O', 'P', 'Q', 'R', 'S', 'T', 'W', 'R', 'E', 'J', 'G', 'V', 'C', 'B', 'S', 'B', 'C', 'V'], ['X', 'A', 'V', 'I', 'N', 'K', 'Z', 'G', 'F', 'W', 'F', 'G', 'Z', 'A', 'B', 'C', 'D', 'E', 'F', 'G', 'H', 'I', 'J', 'U', 'X', 'S', 'F', 'K', 'H', 'W', 'D', 'C', 'T', 'C', 'D', 'W'], ['W', 'Z', 'U', 'H', 'M', 'J', 'Y', 'F', 'E', 'V', 'E', 'F', 'Y', 'J', 'K', 'L', 'M', 'N', 'O', 'P', 'Q', 'R', 'K', 'V', 'Y', 'T', 'G', 'L', 'I', 'X', 'E', 'D', 'U', 'D', 'E', 'X'], ['V', 'Y', 'T', 'G', 'L', 'I', 'X', 'E', 'D', 'U', 'D', 'E', 'X', 'I', 'L', 'M', 'N', 'O', 'P', 'Q', 'R', 'S', 'L', 'W', 'Z', 'U', 'H', 'M', 'J', 'Y', 'F', 'E', 'V', 'E', 'F', 'Y'], ['U', 'X', 'S', 'F', 'K', 'H', 'W', 'D', 'C', 'T', 'C', 'D', 'W', 'H', 'K', 'F', 'G', 'H', 'I', 'J', 'S', 'T', 'M', 'X', 'A', 'V', 'I', 'N', 'K', 'Z', 'G', 'F', 'W', 'F', 'G', 'Z'], ['T', 'W', 'R', 'E', 'J', 'G', 'V', 'C', 'B', 'S', 'B', 'C', 'V', 'G', 'J', 'E', 'R', 'S', 'T', 'K', 'T', 'U', 'N', 'Y', 'B', 'W', 'J', 'O', 'L', 'A', 'H', 'G', 'X', 'G', 'H', 'A'], ['S', 'V', 'Q', 'D', 'I', 'F', 'U', 'B', 'A', 'R', 'A', 'B', 'U', 'F', 'I', 'D', 'Q', 'V', 'U', 'L', 'U', 'V', 'O', 'Z', 'C', 'X', 'K', 'P', 'M', 'B', 'I', 'H', 'Y', 'H', 'I', 'B'], ['R', 'U', 'P', 'C', 'H', 'E', 'T', 'A', 'Z', 'Q', 'Z', 'A', 'T', 'E', 'H', 'C', 'P', 'O', 'N', 'M', 'V', 'W', 'P', 'A', 'D', 'Y', 'L', 'Q', 'N', 'C', 'J', 'I', 'Z', 'I', 'J', 'C'], ['Q', 'T', 'O', 'B', 'G', 'D', 'S', 'Z', 'Y', 'P', 'Y', 'Z', 'S', 'D', 'G', 'B', 'A', 'Z', 'Y', 'X', 'W', 'X', 'Q', 'B', 'E', 'Z', 'M', 'R', 'O', 'D', 'K', 'J', 'A', 'J', 'K', 'D'], ['P', 'S', 'N', 'A', 'F', 'C', 'R', 'Y', 'X', 'O', 'X', 'Y', 'R', 'C', 'F', 'E', 'D', 'C', 'B', 'A', 'Z', 'Y', 'R', 'C', 'F', 'A', 'N', 'S', 'P', 'E', 'L', 'K', 'B', 'K', 'L', 'E'], ['O', 'R', 'M', 'Z', 'E', 'B', 'Q', 'X', 'W', 'N', 'W', 'X', 'Q', 'B', 'A', 'Z', 'Y', 'X', 'W', 'V', 'U', 'T', 'S', 'D', 'G', 'B', 'O', 'T', 'Q', 'F', 'M', 'L', 'C', 'L', 'M', 'F'], ['N', 'Q', 'L', 'Y', 'D', 'A', 'P', 'W', 'V', 'M', 'V', 'W', 'P', 'O', 'N', 'M', 'L', 'K', 'J', 'I', 'H', 'G', 'F', 'E', 'H', 'C', 'P', 'U', 'R', 'G', 'N', 'M', 'D', 'M', 'N', 'G'], ['M', 'P', 'K', 'X', 'C', 'Z', 'O', 'V', 'U', 'L', 'U', 'V', 'U', 'T', 'S', 'R', 'Q', 'P', 'O', 'N', 'M', 'L', 'K', 'J', 'I', 'D', 'Q', 'V', 'S', 'H', 'O', 'N', 'E', 'N', 'O', 'H'], ['L', 'O', 'J', 'W', 'B', 'Y', 'N', 'U', 'T', 'K', 'T', 'S', 'R', 'Q', 'P', 'O', 'N', 'M', 'L', 'K', 'J', 'I', 'H', 'G', 'F', 'E', 'R', 'W', 'T', 'I', 'P', 'O', 'F', 'O', 'P', 'I'], ['K', 'N', 'I', 'V', 'A', 'X', 'M', 'T', 'S', 'J', 'I', 'H', 'G', 'F', 'E', 'D', 'C', 'B', 'A', 'Z', 'Y', 'X', 'W', 'V', 'U', 'T', 'S', 'X', 'U', 'J', 'Q', 'P', 'G', 'P', 'Q', 'J'], ['J', 'M', 'H', 'U', 'Z', 'W', 'L', 'S', 'R', 'Q', 'P', 'O', 'N', 'M', 'L', 'K', 'J', 'I', 'H', 'G', 'F', 'E', 'D', 'C', 'B', 'A', 'Z', 'Y', 'V', 'K', 'R', 'Q', 'H', 'Q', 'R', 'K'], ['I', 'L', 'G', 'T', 'Y', 'V', 'K', 'R', 'Q', 'P', 'O', 'N', 'M', 'L', 'K', 'J', 'I', 'H', 'G', 'F', 'E', 'D', 'C', 'B', 'A', 'Z', 'Y', 'X', 'W', 'L', 'S', 'R', 'I', 'R', 'S', 'L'], ['H', 'K', 'F', 'S', 'X', 'U', 'J', 'I', 'H', 'G', 'F', 'E', 'D', 'C', 'B', 'A', 'Z', 'Y', 'X', 'W', 'V', 'U', 'T', 'S', 'R', 'Q', 'P', 'O', 'N', 'M', 'T', 'S', 'J', 'S', 'T', 'M'], ['G', 'J', 'E', 'R', 'W', 'T', 'S', 'R', 'Q', 'P', 'O', 'N', 'M', 'L', 'K', 'J', 'I', 'H', 'G', 'F', 'E', 'D', 'C', 'B', 'A', 'Z', 'Y', 'X', 'W', 'V', 'U', 'T', 'K', 'T', 'U', 'N'], ['F', 'I', 'D', 'Q', 'V', 'U', 'T', 'S', 'R', 'Q', 'P', 'O', 'N', 'M', 'L', 'K', 'J', 'I', 'H', 'G', 'F', 'E', 'D', 'C', 'B', 'A', 'Z', 'Y', 'X', 'W', 'V', 'U', 'L', 'U', 'V', 'O'], ['E', 'H', 'C', 'P', 'O', 'N', 'M', 'L', 'K', 'J', 'I', 'H', 'G', 'F', 'E', 'D', 'C', 'B', 'A', 'Z', 'Y', 'X', 'W', 'V', 'U', 'T', 'S', 'R', 'Q', 'P', 'O', 'N', 'M', 'V', 'W', 'P'], ['D', 'G', 'B', 'A', 'Z', 'Y', 'X', 'W', 'V', 'U', 'T', 'S', 'R', 'Q', 'P', 'O', 'N', 'M', 'L', 'K', 'J', 'I', 'H', 'G', 'F', 'E', 'D', 'C', 'B', 'A', 'Z', 'Y', 'X', 'W', 'X', 'Q'], ['C', 'F', 'E', 'D', 'C', 'B', 'A', 'Z', 'Y', 'X', 'W', 'V', 'U', 'T', 'S', 'R', 'Q', 'P', 'O', 'N', 'M', 'L', 'K', 'J', 'I', 'H', 'G', 'F', 'E', 'D', 'C', 'B', 'A', 'Z', 'Y', 'R'], ['B', 'A', 'Z', 'Y', 'X', 'W', 'V', 'U', 'T', 'S', 'R', 'Q', 'P', 'O', 'N', 'M', 'L', 'K', 'J', 'I', 'H', 'G', 'F', 'E', 'D', 'C', 'B', 'A', 'Z', 'Y', 'X', 'W', 'V', 'U', 'T', 'S']]\nAKMGSWSGMKAIIAKMGSUMWYSEIESYWMUUMWYS\n"
     ]
    }
   ],
   "source": [
    "N=36\n",
    "a=[['' for i in range(N)] for j in range(N)]\n",
    "x=0\n",
    "y=0\n",
    "d=0\n",
    "n=0\n",
    "l = list(map(chr, range(65, 91)))\n",
    "while a[y][x] == '':\n",
    "    a[y][x]=l[n]\n",
    "    n+=1\n",
    "    n%=26\n",
    "    if d==0:\n",
    "        x+=1 \n",
    "    elif d==1:\n",
    "        y+=1\n",
    "    elif d==2:\n",
    "        x-=1\n",
    "    else:\n",
    "        y-=1\n",
    "    if x<0 or x>N-1 or y<0 or y>N-1 or a[y][x] != '':\n",
    "        if d==0:\n",
    "            x-=1 \n",
    "        elif d==1:\n",
    "            y-=1\n",
    "        elif d==2:\n",
    "            x+=1\n",
    "        else:\n",
    "            y+=1\n",
    "        d+=1\n",
    "        d%=4\n",
    "        if d==0:\n",
    "            x+=1 \n",
    "        elif d==1:\n",
    "            y+=1\n",
    "        elif d==2:\n",
    "            x-=1\n",
    "        else:\n",
    "            y-=1\n",
    "\n",
    "print(a)\n",
    "print(''.join(list(a[i][i] for i in range(N))))"
   ]
  },
  {
   "cell_type": "code",
   "execution_count": 2,
   "metadata": {},
   "outputs": [
    {
     "output_type": "execute_result",
     "data": {
      "text/plain": [
       "['A',\n",
       " 'B',\n",
       " 'C',\n",
       " 'D',\n",
       " 'E',\n",
       " 'F',\n",
       " 'G',\n",
       " 'H',\n",
       " 'I',\n",
       " 'J',\n",
       " 'K',\n",
       " 'L',\n",
       " 'M',\n",
       " 'N',\n",
       " 'O',\n",
       " 'P',\n",
       " 'Q',\n",
       " 'R',\n",
       " 'S',\n",
       " 'T',\n",
       " 'U',\n",
       " 'V',\n",
       " 'W',\n",
       " 'X',\n",
       " 'Y',\n",
       " 'Z']"
      ]
     },
     "metadata": {},
     "execution_count": 2
    }
   ],
   "source": [
    "list(map(chr, range(65, 91)))"
   ]
  },
  {
   "cell_type": "code",
   "execution_count": 3,
   "metadata": {},
   "outputs": [
    {
     "output_type": "execute_result",
     "data": {
      "text/plain": [
       "['A',\n",
       " 'B',\n",
       " 'C',\n",
       " 'D',\n",
       " 'E',\n",
       " 'F',\n",
       " 'G',\n",
       " 'H',\n",
       " 'I',\n",
       " 'J',\n",
       " 'K',\n",
       " 'L',\n",
       " 'M',\n",
       " 'N',\n",
       " 'O',\n",
       " 'P',\n",
       " 'Q',\n",
       " 'R',\n",
       " 'S',\n",
       " 'T',\n",
       " 'U',\n",
       " 'V',\n",
       " 'W',\n",
       " 'X',\n",
       " 'Y',\n",
       " 'Z']"
      ]
     },
     "metadata": {},
     "execution_count": 3
    }
   ],
   "source": [
    "import string\n",
    "list(string.ascii_uppercase)"
   ]
  },
  {
   "cell_type": "code",
   "execution_count": null,
   "metadata": {},
   "outputs": [],
   "source": []
  }
 ],
 "metadata": {
  "kernelspec": {
   "name": "python3",
   "display_name": "Python 3.9.1 64-bit",
   "metadata": {
    "interpreter": {
     "hash": "c8f62aa71a7606cec86cebf285e6e755341ddce54c9f73cdc118801823064d93"
    }
   }
  },
  "language_info": {
   "codemirror_mode": {
    "name": "ipython",
    "version": 3
   },
   "file_extension": ".py",
   "mimetype": "text/x-python",
   "name": "python",
   "nbconvert_exporter": "python",
   "pygments_lexer": "ipython3",
   "version": "3.9.1-final"
  }
 },
 "nbformat": 4,
 "nbformat_minor": 2
}