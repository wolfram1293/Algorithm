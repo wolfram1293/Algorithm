{
 "cells": [
  {
   "cell_type": "code",
   "execution_count": 2,
   "metadata": {},
   "outputs": [],
   "source": [
    "import requests\n",
    "def translate(text,source=\"ja\",target=\"en\"):\n",
    "    url = 'https://script.google.com/macros/s/AKfycbwjPPfA-Br7ykp0wkujue6_STL3k9U8nYt1n_2XXOHXR_FpBmwo/exec'\n",
    "    payload = {\"text\": text,\"source\": source,\"target\": target}\n",
    "    r = requests.get(url, params=payload).json()['text']\n",
    "    print(r)"
   ]
  },
  {
   "cell_type": "code",
   "execution_count": 3,
   "metadata": {},
   "outputs": [
    {
     "name": "stdout",
     "output_type": "stream",
     "text": [
      "今日は友達の皆さんに言いますので、今日も明日も困難に直面しても、まだ夢があります。アメリカンドリームに深く根ざした夢です。いつの日かこの国が立ち上がり、その信条の真の意味を実現することを夢見ています。 「私たちはこれらの真実を自明であり、すべての人間は平等に創造されていると考えています。」いつの日か、ジョージアの赤い丘で、元奴隷の息子と元奴隷所有者の息子が、兄弟愛のテーブルに一緒に座ることができるようになることを夢見ています。\n"
     ]
    }
   ],
   "source": [
    "translate(\"I say to you today, my friends, so even though we face the difficulties of today and tomorrow, I still have a dream. It is a dream deeply rooted in the American Dream. I have a dream that one day this nation will rise up, and live out the true meaning of its creed; “We hold these truths to be self-evident, that all men are created equal.” I have a dream that one day on the red hills of Georgia, the sons of former slaves and the sons of former slave-owners, will be able to sit down together at the table of brotherhood.\",\"en\",\"ja\")"
   ]
  },
  {
   "cell_type": "code",
   "execution_count": 4,
   "metadata": {},
   "outputs": [
    {
     "name": "stdout",
     "output_type": "stream",
     "text": [
      "I have a Dream. One day, on the red hills of Georgia, the dream is that the children of former slaves and the children of former slave owners will be able to sit together at the table as close as brothers. ..\n"
     ]
    }
   ],
   "source": [
    "translate(\"私には夢があります。いつの日にかジョージア州の赤い丘の上に、かつての奴隷の子どもたちと、かつて奴隷所有者の子どもたちとが、兄弟のように親しくテーブルに一緒に座ることができるようになるという夢です。\")"
   ]
  },
  {
   "cell_type": "code",
   "execution_count": null,
   "metadata": {},
   "outputs": [],
   "source": []
  }
 ],
 "metadata": {
  "kernelspec": {
   "display_name": "Python 3",
   "language": "python",
   "name": "python3"
  },
  "language_info": {
   "codemirror_mode": {
    "name": "ipython",
    "version": 3
   },
   "file_extension": ".py",
   "mimetype": "text/x-python",
   "name": "python",
   "nbconvert_exporter": "python",
   "pygments_lexer": "ipython3",
   "version": "3.6.5"
  }
 },
 "nbformat": 4,
 "nbformat_minor": 2
}
