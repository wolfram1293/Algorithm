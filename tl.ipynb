{
 "cells": [
  {
   "cell_type": "code",
   "execution_count": 3,
   "metadata": {},
   "outputs": [
    {
     "output_type": "stream",
     "name": "stdout",
     "text": [
      "65666665\n"
     ]
    }
   ],
   "source": [
    "ans=0\r\n",
    "for i in range(50):\r\n",
    "    ans += (i+1)**4\r\n",
    "\r\n",
    "print(ans)"
   ]
  },
  {
   "cell_type": "code",
   "execution_count": 6,
   "metadata": {},
   "outputs": [
    {
     "output_type": "stream",
     "name": "stdout",
     "text": [
      "47931090\n"
     ]
    }
   ],
   "source": [
    "a=[1,0,5]\n",
    "for i in range(30):\n",
    "    a.append(a[i]+a[i+1]+a[i+2])\n",
    "\n",
    "print(a[29])"
   ]
  },
  {
   "cell_type": "code",
   "execution_count": 32,
   "metadata": {
    "tags": []
   },
   "outputs": [
    {
     "output_type": "stream",
     "name": "stdout",
     "text": [
      "1835421\n15.000000378267234\n14.999999833433106\n"
     ]
    }
   ],
   "source": [
    "ans=0\n",
    "i=0\n",
    "while(ans<15):\n",
    "    i+=1\n",
    "    ans += 1/i\n",
    "print(i)"
   ]
  },
  {
   "cell_type": "code",
   "execution_count": 47,
   "metadata": {},
   "outputs": [
    {
     "output_type": "stream",
     "name": "stdout",
     "text": [
      "110894536\n"
     ]
    }
   ],
   "source": [
    "ans=0\n",
    "for i in range(20000):\n",
    "    stri=str(i+1)\n",
    "    n=len(stri)\n",
    "\n",
    "    if (i+1)%3==0:\n",
    "        ans += i+1\n",
    "    else:\n",
    "        for j in range(n):\n",
    "            if stri[j]=='3':\n",
    "                ans += i+1\n",
    "                break\n",
    "\n",
    "print(ans)"
   ]
  },
  {
   "cell_type": "code",
   "execution_count": 65,
   "metadata": {},
   "outputs": [
    {
     "output_type": "stream",
     "name": "stdout",
     "text": [
      "7036\n"
     ]
    }
   ],
   "source": [
    "ans=0\n",
    "for i in range(10400):\n",
    "    n=i+1\n",
    "    for x in range(31):\n",
    "        for y in range(41):\n",
    "            for z in range(31):\n",
    "                total = 205*x +82*y + 30*z\n",
    "                if(total == n): \n",
    "                    ans+=1\n",
    "                    break\n",
    "            else:\n",
    "                continue\n",
    "            break\n",
    "\n",
    "        else:\n",
    "            continue\n",
    "        break\n",
    "\n",
    "print(ans)"
   ]
  },
  {
   "cell_type": "code",
   "execution_count": 67,
   "metadata": {},
   "outputs": [
    {
     "output_type": "stream",
     "name": "stdout",
     "text": [
      "41070\n"
     ]
    }
   ],
   "source": [
    "ans=0\n",
    "for i in range(999):\n",
    "    n=i+1\n",
    "    cnt=0\n",
    "    h=n//100\n",
    "    t=(n-h*100)//10\n",
    "    o=n-h*100-t*10\n",
    "    for j in range(3):\n",
    "        if j==1:\n",
    "            h=t\n",
    "        if j==2:\n",
    "            h=o\n",
    "        if h<=3:\n",
    "            cnt+= h\n",
    "        if h==4 or h==9:\n",
    "            cnt+=2\n",
    "        if h==5:\n",
    "            cnt+=1\n",
    "        if h>=6 and h<=8:\n",
    "            cnt+= h-4\n",
    "    if cnt == 9:\n",
    "        ans += n\n",
    "\n",
    "print(ans)"
   ]
  },
  {
   "cell_type": "code",
   "execution_count": 68,
   "metadata": {},
   "outputs": [
    {
     "output_type": "stream",
     "name": "stdout",
     "text": [
      "[[0, 0, 0, 0, 0, 0], [0, 0, 0, 0, 0, 0], [0, 0, 0, 0, 0, 0], [0, 0, 0, 0, 0, 0], [0, 0, 0, 0, 0, 0], [0, 0, 0, 0, 0, 0]]\n"
     ]
    }
   ],
   "source": [
    "N=6\n",
    "a=[[0 for i in range(N)] for j in range(N)]\n",
    "x=0\n",
    "y=0\n",
    "d=0\n",
    "while True:\n",
    "    if a[x][y] == 0:\n",
    "\n",
    "\n",
    "        if d==0:\n",
    "\n",
    "            \n",
    "        elif d==1:\n",
    "        elif d==2:\n",
    "        else:\n",
    "\n",
    "        d+=1\n",
    "        d%=4\n",
    "\n",
    "    \n",
    "\n",
    "\n"
   ]
  },
  {
   "cell_type": "code",
   "execution_count": null,
   "metadata": {},
   "outputs": [],
   "source": []
  }
 ],
 "metadata": {
  "kernelspec": {
   "name": "python3",
   "display_name": "Python 3.9.1 64-bit",
   "metadata": {
    "interpreter": {
     "hash": "c8f62aa71a7606cec86cebf285e6e755341ddce54c9f73cdc118801823064d93"
    }
   }
  },
  "language_info": {
   "codemirror_mode": {
    "name": "ipython",
    "version": 3
   },
   "file_extension": ".py",
   "mimetype": "text/x-python",
   "name": "python",
   "nbconvert_exporter": "python",
   "pygments_lexer": "ipython3",
   "version": "3.9.1-final"
  }
 },
 "nbformat": 4,
 "nbformat_minor": 2
}