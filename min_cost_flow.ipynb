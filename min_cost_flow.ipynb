{
 "cells": [
  {
   "cell_type": "code",
   "execution_count": 5,
   "source": [
    "# 最⼩費⽤流(min cost flow)\r\n",
    "# プライマルデュアル法 \r\n",
    "# sからtへの流量fの最小費用流を求める 流せない場合は-1を返す\r\n",
    "# 蟻本p200\r\n",
    "def PrimalDual(G,s,t,f):\r\n",
    "    V = len(G) # 頂点数\r\n",
    "    prev_v = [0 for i in range(V)]\r\n",
    "    prev_e = [0 for i in range(V)] # 直前の頂点と辺\r\n",
    "    inf = 10**9\r\n",
    "    res = 0\r\n",
    "    while f > 0:\r\n",
    "        #ベルマンフォード法で最短路を求める(負の経路が存在するため)\r\n",
    "        dist=[inf]*V; #最短距離\r\n",
    "        dist[s] = 0\r\n",
    "        update = True\r\n",
    "        while update:\r\n",
    "            update = False\r\n",
    "            for v in range(V):\r\n",
    "                if dist[v] == inf: continue\r\n",
    "                for i in range(len(G[v])):\r\n",
    "                    if G[v][i][1] > 0 and dist[G[v][i][0]] > dist[v] + G[v][i][2]: #最短距離を更新\r\n",
    "                        dist[G[v][i][0]] = dist[v] + G[v][i][2]\r\n",
    "                        prev_v[G[v][i][0]] = v #直前の頂点、辺も記録\r\n",
    "                        prev_e[G[v][i][0]] = i\r\n",
    "                        update = True\r\n",
    "\r\n",
    "        if dist[t] == inf: #これ以上流せないなら-1\r\n",
    "            return -1\r\n",
    "\r\n",
    "        d = f #流量\r\n",
    "        v = t\r\n",
    "        #最短路に沿ってできる限り流すというのを繰り返す\r\n",
    "        while  v != s:\r\n",
    "            d = min(d, G[prev_v[v]][prev_e[v]][1])\r\n",
    "            v = prev_v[v]\r\n",
    "        \r\n",
    "        f -= d\r\n",
    "        res += d*dist[t]\r\n",
    "        v = t\r\n",
    "        while  v != s:\r\n",
    "            G[prev_v[v]][prev_e[v]][1] -= d\r\n",
    "            G[v][G[prev_v[v]][prev_e[v]][3]][1] += d\r\n",
    "            v = prev_v[v]\r\n",
    "            \r\n",
    "    return res\r\n",
    "\r\n",
    "\r\n",
    "# アルゴリズム2021 \r\n",
    "# 12最小費用流の例\r\n",
    "\r\n",
    "V=4 # 頂点数\r\n",
    "G=[[] for i in range(V)] # グラフの隣接リスト表現\r\n",
    "# fからtへ向かう容量cap、コストcostの辺をグラフに追加する\r\n",
    "def add_edge(f,t,cap,cost):\r\n",
    "    G[f].append([t,cap,cost,len(G[t])]) # 辺を表す (行き先、容量、コスト、逆辺)\r\n",
    "    G[t].append([f,0,-cost,len(G[f])-1])\r\n",
    "\r\n",
    "add_edge(0, 1, 3, 6)\r\n",
    "add_edge(0, 2, 5, 2)\r\n",
    "add_edge(1, 3, 4, 3)\r\n",
    "add_edge(2, 1, 7, 3)\r\n",
    "add_edge(2, 3, 6, 9)\r\n",
    "\r\n",
    "PrimalDual(G,0,3,7)"
   ],
   "outputs": [
    {
     "output_type": "execute_result",
     "data": {
      "text/plain": [
       "67"
      ]
     },
     "metadata": {},
     "execution_count": 5
    }
   ],
   "metadata": {
    "scrolled": true
   }
  },
  {
   "cell_type": "code",
   "execution_count": 6,
   "source": [
    "#Algo 11-2\r\n",
    "#スタートから各文字列に流量a、コストiのエッジ、各文字列から各アルファベットに流量(各文字列中の各アルファベットの数)、コスト0のエッジ、\r\n",
    "#各アルファベットからゴールに流量(各アルファベットの必要数)、コスト0のエッジを引き、プライマルデュアル法により最小費用流を求める\r\n",
    "lines=[' ' for i in range(5)]\r\n",
    "lines[0]='aabcd'\r\n",
    "lines[1]='3'\r\n",
    "lines[2]='aca 2'\r\n",
    "lines[3]='bda 3'\r\n",
    "lines[4]='ab 10'\r\n",
    "\r\n",
    "T=lines[0]\r\n",
    "N=int(lines[1])\r\n",
    "INF=10**9\r\n",
    "V=1+N+26+1 #頂点数\r\n",
    "G=[[] for i in range(V)] #グラフ\r\n",
    "prev_v=[0 for i in range(V)] #直前の頂点\r\n",
    "prev_e=[0 for i in range(V)] #直前の辺\r\n",
    "for i in range(N):\r\n",
    "    s,a=[x.strip() for x in lines[i+2].split()]\r\n",
    "    add_edge(0,i+1, int(a), i+1) #スタートから各文字列に流量a、コストiのエッジを引く\r\n",
    "    for j in range(26):\r\n",
    "        if s.count(chr(ord('a')+j))!=0:\r\n",
    "            add_edge(i+1,N+1+j, s.count(chr(ord('a')+j)), 0) #各文字列から各アルファベットに流量(各文字列中の各アルファベットの数)、コスト0のエッジを引く\r\n",
    "\r\n",
    "for i in range(26):\r\n",
    "    if T.count(chr(ord('a')+i))!=0:\r\n",
    "        add_edge(N+1+i,V-1, T.count(chr(ord('a')+i)), 0) #各アルファベットからゴールに流量(各アルファベットの必要数)、コスト0のエッジを引く\r\n",
    "\r\n",
    "#print(G)\r\n",
    "print(PrimalDual(G,0,V-1,len(T)))"
   ],
   "outputs": [
    {
     "output_type": "stream",
     "name": "stdout",
     "text": [
      "8\n"
     ]
    }
   ],
   "metadata": {}
  },
  {
   "cell_type": "code",
   "execution_count": null,
   "source": [],
   "outputs": [],
   "metadata": {}
  }
 ],
 "metadata": {
  "kernelspec": {
   "name": "python3",
   "display_name": "Python 3.9.6 64-bit"
  },
  "language_info": {
   "codemirror_mode": {
    "name": "ipython",
    "version": 3
   },
   "file_extension": ".py",
   "mimetype": "text/x-python",
   "name": "python",
   "nbconvert_exporter": "python",
   "pygments_lexer": "ipython3",
   "version": "3.9.6"
  },
  "interpreter": {
   "hash": "c8f62aa71a7606cec86cebf285e6e755341ddce54c9f73cdc118801823064d93"
  }
 },
 "nbformat": 4,
 "nbformat_minor": 2
}