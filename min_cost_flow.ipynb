{
 "cells": [
  {
   "cell_type": "code",
   "execution_count": 1,
   "source": [
    "# sからtへの流量fの最小費用流を求める\r\n",
    "# 流せない場合は-1を返す\r\n",
    "# 蟻本p200\r\n",
    "def min_cost_flow(G,s,t,f):\r\n",
    "    V = len(G) # 頂点数\r\n",
    "    prev_v=[0 for i in range(V)]\r\n",
    "    prev_e=[0 for i in range(V)] # 直前の頂点と辺\r\n",
    "    INF=10**9\r\n",
    "    res = 0\r\n",
    "    while f > 0:\r\n",
    "        # ベルマンフォード法により、s-t間最短路を求める\r\n",
    "        dist=[INF]*V; # 最短距離\r\n",
    "        dist[s] = 0\r\n",
    "        update = True\r\n",
    "        while update:\r\n",
    "            update = False\r\n",
    "            for v in range(V):\r\n",
    "                if dist[v] == INF: continue\r\n",
    "                for i in range(len(G[v])):\r\n",
    "                    if G[v][i][1] > 0 and dist[G[v][i][0]] > dist[v] + G[v][i][2]:\r\n",
    "                        dist[G[v][i][0]] = dist[v] + G[v][i][2]\r\n",
    "                        prev_v[G[v][i][0]] = v\r\n",
    "                        prev_e[G[v][i][0]] = i\r\n",
    "                        update = True\r\n",
    "\r\n",
    "        if dist[t] == INF:\r\n",
    "            # これ以上流せない\r\n",
    "            return -1\r\n",
    "\r\n",
    "        # s-t間最短路に沿って目一杯流す\r\n",
    "        d = f\r\n",
    "        v = t\r\n",
    "        while  v != s:\r\n",
    "            d = min(d, G[prev_v[v]][prev_e[v]][1])\r\n",
    "            v = prev_v[v]\r\n",
    "        \r\n",
    "        f -= d\r\n",
    "        res += d*dist[t]\r\n",
    "        v = t\r\n",
    "        while  v != s:\r\n",
    "            G[prev_v[v]][prev_e[v]][1] -= d\r\n",
    "            G[v][G[prev_v[v]][prev_e[v]][3]][1] += d\r\n",
    "            v = prev_v[v]\r\n",
    "            \r\n",
    "    return res\r\n",
    "\r\n",
    "\r\n",
    "# アルゴリズム2021 \r\n",
    "# 12最小費用流の例\r\n",
    "\r\n",
    "V=4 # 頂点数\r\n",
    "G=[[] for i in range(V)] # グラフの隣接リスト表現\r\n",
    "\r\n",
    "# fからtへ向かう容量cap、コストcostの辺をグラフに追加する\r\n",
    "def add_edge(f,t,cap,cost):\r\n",
    "    G[f].append([t,cap,cost,len(G[t])]) # 辺を表す (行き先、容量、コスト、逆辺)\r\n",
    "    G[t].append([f,0,-cost,len(G[f])-1])\r\n",
    "\r\n",
    "add_edge(0, 1, 3, 6)\r\n",
    "print(G)\r\n",
    "add_edge(0, 2, 5, 2)\r\n",
    "add_edge(1, 3, 4, 3)\r\n",
    "add_edge(2, 1, 7, 3)\r\n",
    "add_edge(2, 3, 6, 9)\r\n",
    "print(G)\r\n",
    "min_cost_flow(G,0,3,7)"
   ],
   "outputs": [
    {
     "output_type": "stream",
     "name": "stdout",
     "text": [
      "[[[1, 3, 6, 0]], [[0, 0, -6, 0]], [], []]\n",
      "[[[1, 3, 6, 0], [2, 5, 2, 0]], [[0, 0, -6, 0], [3, 4, 3, 0], [2, 0, -3, 1]], [[0, 0, -2, 1], [1, 7, 3, 2], [3, 6, 9, 1]], [[1, 0, -3, 1], [2, 0, -9, 2]]]\n"
     ]
    },
    {
     "output_type": "execute_result",
     "data": {
      "text/plain": [
       "67"
      ]
     },
     "metadata": {},
     "execution_count": 1
    }
   ],
   "metadata": {
    "scrolled": true
   }
  },
  {
   "cell_type": "code",
   "execution_count": 12,
   "source": [
    "#Algo 11-2\r\n",
    "lines=[' ' for i in range(5)]\r\n",
    "lines[0]='aabcd'\r\n",
    "lines[1]='3'\r\n",
    "lines[2]='aca 2'\r\n",
    "lines[3]='bda 3'\r\n",
    "lines[4]='ab 10'\r\n",
    "\r\n",
    "T=lines[0]\r\n",
    "N=int(lines[1])\r\n",
    "INF=10**9\r\n",
    "V=1+N+26+1\r\n",
    "G=[[] for i in range(V)]\r\n",
    "prev_v=[0 for i in range(V)]\r\n",
    "prev_e=[0 for i in range(V)] # 直前の頂点と辺\r\n",
    "for i in range(N):\r\n",
    "    s,a=[x.strip() for x in lines[i+2].split()]\r\n",
    "    add_edge(0,i+1, int(a), i+1)\r\n",
    "    for j in range(26):\r\n",
    "        if s.count(chr(ord('a')+j))!=0:\r\n",
    "            add_edge(i+1,N+1+j, s.count(chr(ord('a')+j)), 0)\r\n",
    "\r\n",
    "for i in range(26):\r\n",
    "    if T.count(chr(ord('a')+i))!=0:\r\n",
    "        add_edge(V-27+i,V-1, T.count(chr(ord('a')+i)), 0)\r\n",
    "\r\n",
    "#print(G)\r\n",
    "print(min_cost_flow(G,0,30,len(T)))"
   ],
   "outputs": [
    {
     "output_type": "stream",
     "name": "stdout",
     "text": [
      "8\n"
     ]
    }
   ],
   "metadata": {}
  },
  {
   "cell_type": "code",
   "execution_count": null,
   "source": [],
   "outputs": [],
   "metadata": {}
  }
 ],
 "metadata": {
  "kernelspec": {
   "name": "python3",
   "display_name": "Python 3.9.1 64-bit"
  },
  "language_info": {
   "codemirror_mode": {
    "name": "ipython",
    "version": 3
   },
   "file_extension": ".py",
   "mimetype": "text/x-python",
   "name": "python",
   "nbconvert_exporter": "python",
   "pygments_lexer": "ipython3",
   "version": "3.9.1"
  },
  "interpreter": {
   "hash": "c8f62aa71a7606cec86cebf285e6e755341ddce54c9f73cdc118801823064d93"
  }
 },
 "nbformat": 4,
 "nbformat_minor": 2
}