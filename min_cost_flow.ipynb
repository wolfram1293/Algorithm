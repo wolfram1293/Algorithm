{
 "cells": [
  {
   "cell_type": "code",
   "execution_count": 13,
   "source": [
    "# 最⼩費⽤流(min cost flow)\r\n",
    "# プライマルデュアル法 \r\n",
    "# sからtへの流量fの最小費用流を求める 流せない場合は-1を返す\r\n",
    "# 蟻本p200参照\r\n",
    "# ノード数V，エッジ数E，設定流量をFとする 最⼩コスト経路探索のためにはベルマンフォード法を使うとO(EV)必要．（隣接リストを使う場合）\r\n",
    "# さらに，流量を1ずつしか増やせないのが最悪のケース．よって，O(FEV)\r\n",
    "# ポテンシャルと呼ばれる⼯夫をするとダイクストラ法を使うことができる．\r\n",
    "# この場合，O(FV^2)．ヒープを使うダイクストラ法を使えば， O(F(V+E)logV)に計算量を減らせる\r\n",
    "def PrimalDual(G,s,t,f):\r\n",
    "    V = len(G) # 頂点数\r\n",
    "    prev_v = [0 for i in range(V)] # 直前の頂点\r\n",
    "    prev_e = [0 for i in range(V)] # 直前の辺\r\n",
    "    inf = 10**9\r\n",
    "    res = 0 # 最⼩費⽤\r\n",
    "    while f > 0:\r\n",
    "        # ベルマンフォード法で最短路を求める(負の経路が存在するため)\r\n",
    "        dist = [inf] * V # 最短距離\r\n",
    "        dist[s] = 0\r\n",
    "        update = True\r\n",
    "        while update:\r\n",
    "            update = False\r\n",
    "            for v in range(V):\r\n",
    "                if dist[v] == inf: continue\r\n",
    "                for i in range(len(G[v])):\r\n",
    "                    edge = G[v][i] # vからの辺 (行き先、容量、コスト、逆辺)\r\n",
    "                    if edge[1] > 0 and dist[edge[0]] > dist[v] + edge[2]: # 最短距離を更新\r\n",
    "                        dist[edge[0]] = dist[v] + edge[2]\r\n",
    "                        prev_v[edge[0]] = v # 直前の頂点、辺も記録\r\n",
    "                        prev_e[edge[0]] = i\r\n",
    "                        update = True\r\n",
    "\r\n",
    "        if dist[t] == inf: # これ以上流せないなら-1\r\n",
    "            return -1\r\n",
    "\r\n",
    "        d = f # 流量\r\n",
    "        v = t\r\n",
    "        # 最短路に沿ってできる限り流すというのを繰り返す\r\n",
    "        while  v != s: # tからsまで\r\n",
    "            d = min(d, G[prev_v[v]][prev_e[v]][1]) # 最短路に沿ってprev_vをたどって流せる量が最も少ないエッジの容量を流量とする\r\n",
    "            v = prev_v[v]\r\n",
    "        \r\n",
    "        f -= d # 流したい量からdを引く\r\n",
    "        res += d * dist[t] # コストをd流す分加算\r\n",
    "        v = t\r\n",
    "        while  v != s: # tからsまで\r\n",
    "            G[prev_v[v]][prev_e[v]][1] -= d # 最短路に沿ってprev_vをたどって流した量dだけ容量を引く\r\n",
    "            G[v][G[prev_v[v]][prev_e[v]][3]][1] += d # 逆辺は流した量dだけ容量を足す\r\n",
    "            v = prev_v[v]\r\n",
    "            \r\n",
    "    return res\r\n",
    "\r\n",
    "# アルゴリズム2021 \r\n",
    "# 12最小費用流の例\r\n",
    "V=4 # 頂点数\r\n",
    "G=[[] for i in range(V)] # グラフの隣接リスト表現\r\n",
    "# fからtへ向かう容量cap、コストcostの辺をグラフに追加する\r\n",
    "def add_edge(f,t,cap,cost):\r\n",
    "    G[f].append([t,cap,cost,len(G[t])]) # 辺を表す (行き先、容量、コスト、逆辺) 逆辺(追加した時点でのlen(G[t])は下で追加する逆辺のindexを表す)\r\n",
    "    G[t].append([f,0,-cost,len(G[f])-1]) # 逆辺の逆辺のindexは上ですでにappendされているのでlen(G[f])-1\r\n",
    "\r\n",
    "add_edge(0, 1, 3, 6)\r\n",
    "add_edge(0, 2, 5, 2)\r\n",
    "add_edge(1, 3, 4, 3)\r\n",
    "add_edge(2, 1, 7, 3)\r\n",
    "add_edge(2, 3, 6, 9)\r\n",
    "#print(G)\r\n",
    "PrimalDual(G,0,3,7)"
   ],
   "outputs": [
    {
     "output_type": "execute_result",
     "data": {
      "text/plain": [
       "67"
      ]
     },
     "metadata": {},
     "execution_count": 13
    }
   ],
   "metadata": {
    "scrolled": true
   }
  },
  {
   "cell_type": "code",
   "execution_count": 15,
   "source": [
    "# Algo 11-2\r\n",
    "# スタートから各文字列に流量a、コストiのエッジ、各文字列から各アルファベットに流量(各文字列中の各アルファベットの数)、コスト0のエッジ、\r\n",
    "# 各アルファベットからゴールに流量(各アルファベットの必要数)、コスト0のエッジを引き、プライマルデュアル法により最小費用流を求める\r\n",
    "lines=[' ' for i in range(5)]\r\n",
    "lines[0]='aabcd'\r\n",
    "lines[1]='3'\r\n",
    "lines[2]='aca 2'\r\n",
    "lines[3]='bda 3'\r\n",
    "lines[4]='ab 10'\r\n",
    "\r\n",
    "T=lines[0]\r\n",
    "N=int(lines[1])\r\n",
    "V=1+N+26+1 # 頂点数\r\n",
    "G=[[] for i in range(V)] # グラフ\r\n",
    "for i in range(N):\r\n",
    "    s,a=[x.strip() for x in lines[i+2].split()]\r\n",
    "    add_edge(0,i+1, int(a), i+1) # スタートから各文字列に流量a、コストiのエッジを引く\r\n",
    "    for j in range(26):\r\n",
    "        if s.count(chr(ord('a')+j))!=0:\r\n",
    "            add_edge(i+1,N+1+j, s.count(chr(ord('a')+j)), 0) # 各文字列から各アルファベットに流量(各文字列中の各アルファベットの数)、コスト0のエッジを引く\r\n",
    "\r\n",
    "for i in range(26):\r\n",
    "    if T.count(chr(ord('a')+i))!=0:\r\n",
    "        add_edge(N+1+i,V-1, T.count(chr(ord('a')+i)), 0) # 各アルファベットからゴールに流量(各アルファベットの必要数)、コスト0のエッジを引く\r\n",
    "\r\n",
    "print(G)\r\n",
    "PrimalDual(G,0,V-1,len(T))"
   ],
   "outputs": [
    {
     "output_type": "stream",
     "name": "stdout",
     "text": [
      "[[[1, 2, 1, 0], [2, 3, 2, 0], [3, 10, 3, 0]], [[0, 0, -1, 0], [4, 2, 0, 0], [6, 1, 0, 0]], [[0, 0, -2, 1], [4, 1, 0, 1], [5, 1, 0, 0], [7, 1, 0, 0]], [[0, 0, -3, 2], [4, 1, 0, 2], [5, 1, 0, 1]], [[1, 0, 0, 1], [2, 0, 0, 1], [3, 0, 0, 1], [30, 2, 0, 0]], [[2, 0, 0, 2], [3, 0, 0, 2], [30, 1, 0, 1]], [[1, 0, 0, 2], [30, 1, 0, 2]], [[2, 0, 0, 3], [30, 1, 0, 3]], [], [], [], [], [], [], [], [], [], [], [], [], [], [], [], [], [], [], [], [], [], [], [[4, 0, 0, 3], [5, 0, 0, 2], [6, 0, 0, 1], [7, 0, 0, 1]]]\n"
     ]
    },
    {
     "output_type": "execute_result",
     "data": {
      "text/plain": [
       "8"
      ]
     },
     "metadata": {},
     "execution_count": 15
    }
   ],
   "metadata": {}
  },
  {
   "cell_type": "code",
   "execution_count": null,
   "source": [],
   "outputs": [],
   "metadata": {}
  }
 ],
 "metadata": {
  "kernelspec": {
   "name": "python3",
   "display_name": "Python 3.9.6 64-bit"
  },
  "language_info": {
   "codemirror_mode": {
    "name": "ipython",
    "version": 3
   },
   "file_extension": ".py",
   "mimetype": "text/x-python",
   "name": "python",
   "nbconvert_exporter": "python",
   "pygments_lexer": "ipython3",
   "version": "3.9.6"
  },
  "interpreter": {
   "hash": "c8f62aa71a7606cec86cebf285e6e755341ddce54c9f73cdc118801823064d93"
  }
 },
 "nbformat": 4,
 "nbformat_minor": 2
}