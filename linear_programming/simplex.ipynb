{
 "cells": [
  {
   "cell_type": "code",
   "execution_count": 1,
   "metadata": {},
   "outputs": [],
   "source": [
    "import sys\n",
    "class Simplex: #classでの実装\n",
    "    \n",
    "    def __init__(self,a): #初期化\n",
    "        self.a = a #係数行列\n",
    "        self.row = len(a) #行数\n",
    "        self.col = len(a[0]) + len(a) - 1 #列数\n",
    "        self.var = len(a[0]) - 1 #変数の数\n",
    "        \n",
    "    def exe(self): #実行\n",
    "        self.build_mat() #係数行列を作成\n",
    "        while True:\n",
    "            mn, y = self.select_col() #列を選択\n",
    "            if mn >= 0:\n",
    "                break\n",
    "            x = self.select_row(y) #行を選択\n",
    "            self.row_reduction(x, y) #掃き出し法の実行\n",
    "        \n",
    "            for i in range(self.var): #結果をプリント\n",
    "                flag = -1\n",
    "                for j in range(self.row):\n",
    "                    if self.a[j][i] == 1:\n",
    "                        flag = j\n",
    "                if flag == -1:\n",
    "                    v = 0.0\n",
    "                else:\n",
    "                    v = self.a[flag][self.col-1]\n",
    "                print(\"x{} = {}\".format(i+1, v))\n",
    "            f = self.a[self.row-1][self.col-1]\n",
    "            print(\"f  = {}\".format(f))\n",
    "        \n",
    "    def build_mat(self): #係数行列を作成\n",
    "        for i in range(len(self.a)-1):\n",
    "            temp = self.a[i].pop()\n",
    "            for j in range(len(self.a)-1):\n",
    "                if j == i:\n",
    "                    self.a[i].append(1)\n",
    "                else:\n",
    "                    self.a[i].append(0)\n",
    "            self.a[i].append(temp)\n",
    "\n",
    "        for i in range(len(self.a[len(a)-1])):\n",
    "            self.a[len(self.a)-1][i] *= -1\n",
    "\n",
    "        while len(self.a[len(self.a)-1]) < len(self.a[0]):\n",
    "            self.a[len(self.a)-1].append(0)\n",
    "        \n",
    "    def select_col(self): #列を選択\n",
    "        min_a = 10*9\n",
    "        y = 0\n",
    "        for i in range(self.col-1):\n",
    "            if self.a[self.row-1][i] < min_a:\n",
    "                min_a, y = self.a[self.row-1][i], i\n",
    "        return [min_a, y]\n",
    "\n",
    "    def select_row(self,y): #行を選択\n",
    "        min_a = 10*9\n",
    "        x = 0\n",
    "        for i in range(self.row-1):\n",
    "            if self.a[i][y] != 0:\n",
    "                p = self.a[i][self.col-1] / self.a[i][y]\n",
    "                if self.a[i][y] > 0 and p < min_a:\n",
    "                    min_a, x = p, i\n",
    "        if min_a == 10*9:\n",
    "            print(\"unbounded\")\n",
    "            sys.exit(1)\n",
    "        return x\n",
    "\n",
    "    def row_reduction(self, x, y): #掃き出し法の実行\n",
    "        p = self.a[x][y]\n",
    "        for i in range(self.col):\n",
    "            self.a[x][i] /= p\n",
    "        for i in range(self.row):\n",
    "            if i != x:\n",
    "                d = self.a[i][y]\n",
    "                for j in range(self.col):\n",
    "                    self.a[i][j] -= d * self.a[x][j]\n"
   ]
  },
  {
   "cell_type": "code",
   "execution_count": 2,
   "metadata": {},
   "outputs": [
    {
     "name": "stdout",
     "output_type": "stream",
     "text": [
      "14.0\n",
      "8.0\n",
      "18.0\n",
      "x1 = 0.0\n",
      "x2 = 7.0\n",
      "f  = 21.0\n",
      "x1 = 2.0\n",
      "x2 = 6.0\n",
      "f  = 22.0\n"
     ]
    }
   ],
   "source": [
    "a=[[ 1.0,  2.0, 14.0],\n",
    "   [ 1.0,  1.0, 8.0],\n",
    "   [ 3.0,  1.0, 18.0],\n",
    "   [ 2.0,  3.0]]\n",
    "\n",
    "obj = Simplex(a)\n",
    "obj.exe()"
   ]
  },
  {
   "cell_type": "code",
   "execution_count": 3,
   "metadata": {},
   "outputs": [
    {
     "name": "stdout",
     "output_type": "stream",
     "text": [
      "10\n",
      "8\n",
      "x1 = 0.0\n",
      "x2 = 5.0\n",
      "f  = 4500.0\n",
      "x1 = 2.0\n",
      "x2 = 4.0\n",
      "f  = 4800.0\n"
     ]
    }
   ],
   "source": [
    "a=[[1,2,10],\n",
    "   [2,1,8],\n",
    "   [600,900]]\n",
    "\n",
    "obj = Simplex(a)\n",
    "obj.exe()"
   ]
  },
  {
   "cell_type": "code",
   "execution_count": 4,
   "metadata": {},
   "outputs": [
    {
     "data": {
      "image/png": "[encoded data removed]",
      "text/plain": [
       "<Figure size 432x288 with 1 Axes>"
      ]
     },
     "metadata": {
      "needs_background": "light"
     },
     "output_type": "display_data"
    }
   ],
   "source": [
    "import numpy as np\n",
    "import matplotlib.pyplot as plt\n",
    "\n",
    "t = np.linspace(0, 10, 100)\n",
    "\n",
    "y1 = 5 - 0.5*t\n",
    "y2 =  8 - 2*t\n",
    "y3 = np.zeros_like(t)\n",
    "#y3 = np.full(100, 100)\n",
    "y4 = np.minimum(y1, y2)\n",
    "#y4 = np.maximum(y1, y2)\n",
    "y5=16/3-2/3*t\n",
    "\n",
    "plt.figure()\n",
    "#plt.axis('equal')\n",
    "\n",
    "plt.gca().set_aspect('equal', adjustable='box')\n",
    "plt.plot(t, y1, label=\"x1+2x2 <= 10\")\n",
    "plt.plot(t, y2, label=\"2x1+x2<=8\")\n",
    "#plt.plot(t, y5, label=\"f\")\n",
    "plt.fill_between(t, y3, y4, where=y4>y3, facecolor='blue', alpha=0.3)\n",
    "plt.xlim(0, 10)\n",
    "plt.ylim(0, 8.5)\n",
    "plt.scatter(0,5,c='red',s=30)\n",
    "plt.scatter(2,4,c='red',s=30)\n",
    "plt.legend(loc=0)\n",
    "\n",
    "plt.show()"
   ]
  },
  {
   "cell_type": "code",
   "execution_count": null,
   "metadata": {},
   "outputs": [],
   "source": []
  }
 ],
 "metadata": {
  "interpreter": {
   "hash": "c8f62aa71a7606cec86cebf285e6e755341ddce54c9f73cdc118801823064d93"
  },
  "kernelspec": {
   "display_name": "Python 3.9.6 64-bit",
   "language": "python",
   "name": "python3"
  },
  "language_info": {
   "codemirror_mode": {
    "name": "ipython",
    "version": 3
   },
   "file_extension": ".py",
   "mimetype": "text/x-python",
   "name": "python",
   "nbconvert_exporter": "python",
   "pygments_lexer": "ipython3",
   "version": "3.9.6"
  },
  "orig_nbformat": 4
 },
 "nbformat": 4,
 "nbformat_minor": 2
}
