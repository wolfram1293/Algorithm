{
 "cells": [
  {
   "cell_type": "code",
   "execution_count": 31,
   "metadata": {},
   "outputs": [],
   "source": [
    "import numpy as np\n",
    "import sys\n",
    "\n",
    "def Karmarkar_method(x,c,A,b,gamma,eps):\n",
    "    yield x\n",
    "    while True:\n",
    "        vk = b - A * x\n",
    "        Dv2 = np.diag(1.0 / np.square(vk.A1))\n",
    "        dvec = np.linalg.pinv(A.T * Dv2 * A) * c\n",
    "        if np.linalg.norm(dvec) < eps:\n",
    "            break\n",
    "        hvec = -A * dvec\n",
    "        if np.max(hvec) <= 0:\n",
    "            print(\"unbounded\")\n",
    "            sys.exit(1)\n",
    "        alpha = gamma * np.min(vk[hvec > 0] / hvec[hvec > 0])\n",
    "        x -= alpha * dvec\n",
    "        yield x\n"
   ]
  },
  {
   "cell_type": "code",
   "execution_count": 32,
   "metadata": {},
   "outputs": [],
   "source": [
    "# Ax <= b\n",
    "c = np.matrix([[-600],\n",
    "               [-900]]) # 目的関数の係数行列\n",
    "A = np.matrix([[1,2],\n",
    "                  [2,1]]) # 制約条件の係数行列\n",
    "b = np.matrix([[10],\n",
    "               [8]]) # 制約条件\n",
    "\n",
    "x = np.matrix([[1.0], [1.0]]) # 初期条件の内点"
   ]
  },
  {
   "cell_type": "code",
   "execution_count": 33,
   "metadata": {},
   "outputs": [
    {
     "name": "stdout",
     "output_type": "stream",
     "text": [
      "1.0 1.0\n",
      "0.4785714285714281 2.310714285714286\n",
      "0.2170732246980418 3.176463387650979\n",
      "0.15492958042148158 3.722035209789259\n",
      "0.24273175213785492 4.0382841239310725\n",
      "0.4341646542738087 4.194672672863096\n",
      "0.6831127932719055 4.246672103364047\n",
      "0.9467184151489203 4.23840074242554\n",
      "1.191772168374406 4.202345880812797\n",
      "1.3991915147051894 4.159166618147405\n",
      "1.563297610370879 4.119484857664561\n",
      "1.6872525482534355 4.087167289868282\n",
      "1.7780968352272426 4.062507077182879\n",
      "1.8434366290001085 4.044370531857496\n",
      "1.8899037666443512 4.031310309128109\n",
      "1.9227296724592255 4.022018698485587\n",
      "1.945829070207763 4.0154539391967585\n",
      "1.962047550113651 4.0108341569536226\n",
      "1.9734201381545737 4.007590483330027\n",
      "1.9813888316754142 4.005315970847413\n",
      "1.9869700747255579 4.003722233316805\n",
      "1.9908782090008568 4.00260598497528\n",
      "1.9936144089027366 4.0018243581816275\n",
      "1.9955299512556106 4.001277118215292\n",
      "1.9968709118844825 4.000894009747927\n",
      "1.9978096167204624 4.000625817622886\n",
      "1.9984667230646496 4.000438076655858\n",
      "1.9989267026893371 4.000306655387059\n",
      "1.999248690500159 4.00021465946213\n",
      "1.999474082797157 4.000150261899968\n",
      "1.9996318577368284 4.000105183440568\n",
      "1.9997423003273063 4.000073628452634\n",
      "1.9998196101937242 4.000051539934539\n"
     ]
    },
    {
     "data": {
      "image/png": "[encoded data removed]",
      "text/plain": [
       "<Figure size 432x288 with 1 Axes>"
      ]
     },
     "metadata": {
      "needs_background": "light"
     },
     "output_type": "display_data"
    }
   ],
   "source": [
    "import matplotlib.pyplot as plt\n",
    "t = np.linspace(0, 10, 100)\n",
    "y1 = 5 - 0.5 * t\n",
    "y2 =  8 - 2 * t\n",
    "y3 = np.zeros_like(t)\n",
    "y4 = np.minimum(y1, y2)\n",
    "\n",
    "y5 = 16 / 3 - 2 / 3 * t\n",
    "plt.figure()\n",
    "plt.gca().set_aspect('equal', adjustable='box')\n",
    "plt.plot(t, y1, label=\"x1+2x2 <= 10\")\n",
    "plt.plot(t, y2, label=\"2x1+x2 <= 8\")\n",
    "\n",
    "plt.fill_between(t, y3, y4, where=y4>y3, facecolor='blue', alpha=0.3)\n",
    "plt.ylim(0, 8.5)\n",
    "plt.xlim(0, 10)\n",
    "plt.legend(loc=0)\n",
    "\n",
    "for x in Karmarkar_method(x, c, A, b, gamma=0.3, eps=1.0e-5):\n",
    "    print(x[0,0], x[1,0]) \n",
    "    plt.scatter([x[0,0]], [x[1,0]],c='red',s=30)\n",
    "    plt.ylim(0, 8.5)\n",
    "\n",
    "plt.show()"
   ]
  },
  {
   "cell_type": "code",
   "execution_count": null,
   "metadata": {},
   "outputs": [],
   "source": []
  }
 ],
 "metadata": {
  "interpreter": {
   "hash": "c8f62aa71a7606cec86cebf285e6e755341ddce54c9f73cdc118801823064d93"
  },
  "kernelspec": {
   "display_name": "Python 3.9.6 64-bit",
   "language": "python",
   "name": "python3"
  },
  "language_info": {
   "codemirror_mode": {
    "name": "ipython",
    "version": 3
   },
   "file_extension": ".py",
   "mimetype": "text/x-python",
   "name": "python",
   "nbconvert_exporter": "python",
   "pygments_lexer": "ipython3",
   "version": "3.9.6"
  },
  "orig_nbformat": 4
 },
 "nbformat": 4,
 "nbformat_minor": 2
}
