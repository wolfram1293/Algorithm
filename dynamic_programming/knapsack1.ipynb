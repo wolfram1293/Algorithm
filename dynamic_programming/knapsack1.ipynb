{
 "cells": [
  {
   "cell_type": "code",
   "execution_count": 30,
   "metadata": {},
   "outputs": [],
   "source": [
    "W = 15\n",
    "N = 6\n",
    "weight = [11, 2, 3, 4, 1, 5]\n",
    "value = [15, 3, 1, 4, 2, 8]\n",
    "note = [[-1 for i in range(W+1)] for j in range(N+1)] # インデックスはアイテム番号、重さと同じ(最初の行、列は0番目のアイテム、重さ0の時を表す)\n",
    "# 「0」の⾏のセルは全部0\n",
    "for i in range(W+1): note[0][i] = 0"
   ]
  },
  {
   "cell_type": "code",
   "execution_count": 31,
   "metadata": {},
   "outputs": [],
   "source": [
    "def knapsack1(i, w): # メモ化再帰\n",
    "    if note[i][w] != -1: # ノートが空いていれば\n",
    "        return note[i][w]\n",
    "    if i <= 0: \n",
    "        return 0\n",
    "    elif w < weight[i-1]:\n",
    "        note[i][w] = knapsack1(i-1, w)\n",
    "        return note[i][w]\n",
    "    else:\n",
    "        note[i][w] = max(knapsack1(i-1, w), knapsack1(i-1, w-weight[i-1]) + value[i-1])\n",
    "        return note[i][w]"
   ]
  },
  {
   "cell_type": "code",
   "execution_count": 34,
   "metadata": {},
   "outputs": [
    {
     "name": "stdout",
     "output_type": "stream",
     "text": [
      "20\n"
     ]
    }
   ],
   "source": [
    "knapsack1(N, W)\n",
    "print(note[N][W])"
   ]
  },
  {
   "cell_type": "code",
   "execution_count": null,
   "metadata": {},
   "outputs": [],
   "source": []
  }
 ],
 "metadata": {
  "interpreter": {
   "hash": "c8f62aa71a7606cec86cebf285e6e755341ddce54c9f73cdc118801823064d93"
  },
  "kernelspec": {
   "display_name": "Python 3.9.6 64-bit",
   "language": "python",
   "name": "python3"
  },
  "language_info": {
   "codemirror_mode": {
    "name": "ipython",
    "version": 3
   },
   "file_extension": ".py",
   "mimetype": "text/x-python",
   "name": "python",
   "nbconvert_exporter": "python",
   "pygments_lexer": "ipython3",
   "version": "3.9.6"
  },
  "orig_nbformat": 4
 },
 "nbformat": 4,
 "nbformat_minor": 2
}
