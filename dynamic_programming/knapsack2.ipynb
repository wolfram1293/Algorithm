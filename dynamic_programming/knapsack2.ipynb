{
 "cells": [
  {
   "cell_type": "code",
   "execution_count": 1,
   "metadata": {},
   "outputs": [],
   "source": [
    "W = 15\n",
    "N = 6\n",
    "weight = [11, 2, 3, 4, 1, 5]\n",
    "value = [15, 3, 1, 4, 2, 8]"
   ]
  },
  {
   "cell_type": "code",
   "execution_count": 2,
   "metadata": {},
   "outputs": [],
   "source": [
    "def knapsack2(N,W): # 漸化式方式\n",
    "    note = [[-1 for i in range(W+1)] for j in range(N+1)] # インデックスはアイテム番号、重さと同じ(最初の行、列は0番目のアイテム、重さ0の時を表す)\n",
    "    for i in range(W+1): # 「0」の⾏のセルは全部0で初期化\n",
    "        note[0][i] = 0\n",
    "\n",
    "    for i in range(1,N+1): # 1からN番目のアイテムまで\n",
    "        for w in range(W+1): # 重さ0からWまで\n",
    "            if w < weight[i-1]: # 重さwがi番目のアイテムの重さより小さいとき\n",
    "                note[i][w]=note[i-1][w] # i番目のアイテムは入らないので重さwでi-1番目のアイテムまで考えたとき(note[i-1][w])をnoteに入れる\n",
    "            else: # 重さwがi番目のアイテムの重さ以上のとき\n",
    "                note[i][w]= max(note[i-1][w-weight[i-1]] + value[i-1], note[i-1][w]) # 重さwでi-1番目のアイテムまで考えたときとi番目のアイテムを考えたときを比較し、大きい方をnoteに入れる\n",
    "    \n",
    "    return note"
   ]
  },
  {
   "cell_type": "code",
   "execution_count": 3,
   "metadata": {},
   "outputs": [
    {
     "name": "stdout",
     "output_type": "stream",
     "text": [
      "20\n"
     ]
    }
   ],
   "source": [
    "print(knapsack2(N,W)[N][W])"
   ]
  },
  {
   "cell_type": "code",
   "execution_count": null,
   "metadata": {},
   "outputs": [],
   "source": []
  }
 ],
 "metadata": {
  "interpreter": {
   "hash": "c8f62aa71a7606cec86cebf285e6e755341ddce54c9f73cdc118801823064d93"
  },
  "kernelspec": {
   "display_name": "Python 3.9.6 64-bit",
   "language": "python",
   "name": "python3"
  },
  "language_info": {
   "codemirror_mode": {
    "name": "ipython",
    "version": 3
   },
   "file_extension": ".py",
   "mimetype": "text/x-python",
   "name": "python",
   "nbconvert_exporter": "python",
   "pygments_lexer": "ipython3",
   "version": "3.9.6"
  },
  "orig_nbformat": 4
 },
 "nbformat": 4,
 "nbformat_minor": 2
}
