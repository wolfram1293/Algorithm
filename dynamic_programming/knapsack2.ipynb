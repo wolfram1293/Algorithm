{
 "cells": [
  {
   "cell_type": "code",
   "execution_count": 1,
   "metadata": {},
   "outputs": [],
   "source": [
    "W = 15\n",
    "N = 6\n",
    "weight = [11, 2, 3, 4, 1, 5]\n",
    "value = [15, 3, 1, 4, 2, 8]"
   ]
  },
  {
   "cell_type": "code",
   "execution_count": 2,
   "metadata": {},
   "outputs": [],
   "source": [
    "def knapsack2(N,W):\n",
    "    note = [[-1 for i in range(W+1)] for j in range(N+1)]\n",
    "    for i in range(W+1): # 「0」の⾏のセルは全部0\n",
    "        note[0][i] = 0\n",
    "\n",
    "    for i in range(1,N+1): # 漸化式方式\n",
    "        for w in range(W+1):\n",
    "            if w < weight[i-1]:\n",
    "                note[i][w]=note[i-1][w]\n",
    "            else:\n",
    "                if note[i-1][w-weight[i-1]] + value[i-1] > note[i-1][w]:\n",
    "                    note[i][w]= note[i-1][w-weight[i-1]] + value[i-1]\n",
    "                else:\n",
    "                    note[i][w]=note[i-1][w]\n",
    "    \n",
    "    return note"
   ]
  },
  {
   "cell_type": "code",
   "execution_count": 5,
   "metadata": {},
   "outputs": [
    {
     "name": "stdout",
     "output_type": "stream",
     "text": [
      "20\n"
     ]
    }
   ],
   "source": [
    "print(knapsack2(N,W)[N][W])"
   ]
  },
  {
   "cell_type": "code",
   "execution_count": null,
   "metadata": {},
   "outputs": [],
   "source": []
  }
 ],
 "metadata": {
  "interpreter": {
   "hash": "c8f62aa71a7606cec86cebf285e6e755341ddce54c9f73cdc118801823064d93"
  },
  "kernelspec": {
   "display_name": "Python 3.9.6 64-bit",
   "language": "python",
   "name": "python3"
  },
  "language_info": {
   "codemirror_mode": {
    "name": "ipython",
    "version": 3
   },
   "file_extension": ".py",
   "mimetype": "text/x-python",
   "name": "python",
   "nbconvert_exporter": "python",
   "pygments_lexer": "ipython3",
   "version": "3.9.6"
  },
  "orig_nbformat": 4
 },
 "nbformat": 4,
 "nbformat_minor": 2
}
